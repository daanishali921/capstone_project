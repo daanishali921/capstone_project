{
 "cells": [
  {
   "cell_type": "markdown",
   "id": "20adad52",
   "metadata": {},
   "source": [
    "# Import Libraries"
   ]
  },
  {
   "cell_type": "markdown",
   "id": "3d436806",
   "metadata": {},
   "source": [
    "#### Modeling and Modeling Metrics Libraries "
   ]
  },
  {
   "cell_type": "code",
   "execution_count": 7,
   "id": "c9b92b71",
   "metadata": {
    "ExecuteTime": {
     "end_time": "2022-01-19T23:19:33.775593Z",
     "start_time": "2022-01-19T23:19:33.764603Z"
    }
   },
   "outputs": [],
   "source": [
    "# Models and Transformers\n",
    "from sklearn.preprocessing import OneHotEncoder, StandardScaler\n",
    "from sklearn.pipeline import Pipeline\n",
    "from sklearn.compose import ColumnTransformer\n",
    "from sklearn import svm\n",
    "from sklearn.ensemble import RandomForestClassifier, RandomForestRegressor\n",
    "from sklearn.linear_model import LinearRegression, LogisticRegression\n",
    "\n",
    "# Model Metrics\n",
    "from sklearn.metrics import PrecisionRecallDisplay, RocCurveDisplay, f1_score\n",
    "from sklearn import metrics\n",
    "\n",
    "# Optimization\n",
    "from sklearn.model_selection import GridSearchCV"
   ]
  },
  {
   "cell_type": "markdown",
   "id": "cfcc3482",
   "metadata": {},
   "source": [
    "#### Data Visualization"
   ]
  },
  {
   "cell_type": "code",
   "execution_count": 8,
   "id": "75f8a672",
   "metadata": {
    "ExecuteTime": {
     "end_time": "2022-01-19T23:19:35.060446Z",
     "start_time": "2022-01-19T23:19:34.410420Z"
    }
   },
   "outputs": [],
   "source": [
    "import matplotlib.pyplot as plt\n",
    "import seaborn as sns\n",
    "sns.set()"
   ]
  },
  {
   "cell_type": "markdown",
   "id": "800b46a1",
   "metadata": {},
   "source": [
    "#### File Management"
   ]
  },
  {
   "cell_type": "code",
   "execution_count": 9,
   "id": "648382b4",
   "metadata": {
    "ExecuteTime": {
     "end_time": "2022-01-19T23:19:35.152775Z",
     "start_time": "2022-01-19T23:19:35.138577Z"
    }
   },
   "outputs": [],
   "source": [
    "import os\n",
    "import subprocess\n",
    "import glob\n",
    "\n",
    "import json\n",
    "import csv"
   ]
  },
  {
   "cell_type": "markdown",
   "id": "de9fd6a8",
   "metadata": {},
   "source": [
    "#### NLP & Text Parsing"
   ]
  },
  {
   "cell_type": "code",
   "execution_count": 10,
   "id": "4712822d",
   "metadata": {
    "ExecuteTime": {
     "end_time": "2022-01-19T23:19:35.539354Z",
     "start_time": "2022-01-19T23:19:35.231664Z"
    }
   },
   "outputs": [],
   "source": [
    "import re\n",
    "from textblob import TextBlob"
   ]
  },
  {
   "cell_type": "markdown",
   "id": "4f1e778b",
   "metadata": {},
   "source": [
    "#### Pandas/NumPy/Datetime"
   ]
  },
  {
   "cell_type": "code",
   "execution_count": 11,
   "id": "6b3dbf4a",
   "metadata": {
    "ExecuteTime": {
     "end_time": "2022-01-19T23:19:35.788764Z",
     "start_time": "2022-01-19T23:19:35.770991Z"
    }
   },
   "outputs": [],
   "source": [
    "import pandas as pd\n",
    "import numpy as np\n",
    "\n",
    "from datetime import datetime, date, time"
   ]
  },
  {
   "cell_type": "markdown",
   "id": "d6d0e591",
   "metadata": {},
   "source": [
    "#### Twitter/Stock Data Scraper"
   ]
  },
  {
   "cell_type": "code",
   "execution_count": 12,
   "id": "854044a8",
   "metadata": {
    "ExecuteTime": {
     "end_time": "2022-01-19T23:19:36.675197Z",
     "start_time": "2022-01-19T23:19:36.662231Z"
    }
   },
   "outputs": [],
   "source": [
    "import snscrape.modules.twitter as sntwitter\n",
    "import yfinance as yf"
   ]
  },
  {
   "cell_type": "markdown",
   "id": "2568faf2",
   "metadata": {},
   "source": [
    "# Custom Functions"
   ]
  },
  {
   "cell_type": "code",
   "execution_count": 1,
   "id": "8293af13-b4ea-42ad-a7d0-a2fb9326be41",
   "metadata": {
    "ExecuteTime": {
     "end_time": "2022-01-21T00:43:25.810794Z",
     "start_time": "2022-01-21T00:43:25.793824Z"
    }
   },
   "outputs": [],
   "source": [
    "# Get Twitter Data (Saved as csv on local machine)\n",
    "\n",
    "def scrapeTweets(start_date, end_date, keyword, current_dir, tweet_limit=1, iteration=0):\n",
    "    if not os.path.exists(current_dir):  # Creates directory in current directory if doesn't already exist\n",
    "        os.mkdir(current_dir)\n",
    "\n",
    "    file_path = os.path.join(current_dir, f'keyword:{keyword}__start:{start_date}_end:{end_date}__iter:{iteration}.csv')\n",
    "\n",
    "    tweet_list = []\n",
    "    for i, tweet in enumerate(\n",
    "            sntwitter.TwitterSearchScraper(f'{keyword} since:{start_date} until:{end_date}').get_items()):\n",
    "        if i > tweet_limit:\n",
    "            break\n",
    "        tweet_list.append([tweet.date,  # Appending all tweet data into a list of list\n",
    "                           tweet.id,\n",
    "                           tweet.content,\n",
    "                           tweet.user.username,\n",
    "                           tweet.user.followersCount,\n",
    "                           tweet.hashtags,\n",
    "                           tweet.cashtags,\n",
    "                           tweet.lang,\n",
    "                           tweet.retweetCount,\n",
    "                           tweet.likeCount,\n",
    "                           tweet.replyCount])\n",
    "\n",
    "    df_tweets = pd.DataFrame(tweet_list, columns=['Datetime',  # Creating df of tweet data\n",
    "                                                  'Tweet Id',\n",
    "                                                  'Text',\n",
    "                                                  'Username',\n",
    "                                                  'Followers Count',\n",
    "                                                  'Hashtags',\n",
    "                                                  'Cashtags',\n",
    "                                                  'Language',\n",
    "                                                  'Retweet Count',\n",
    "                                                  'Likes Count',\n",
    "                                                  'Reply Count'])\n",
    "\n",
    "    for i in range(1001):\n",
    "        if not os.path.isfile(file_path):\n",
    "            df_tweets.to_csv(file_path, index=False)\n",
    "            break\n",
    "        else:\n",
    "            file_path = os.path.join(current_dir,\n",
    "                                     f'keyword:{keyword}__start:{start_date}_end:{end_date}__limit:{tweet_limit}__iter:{i + 1}.csv')\n",
    "\n",
    "    if os.path.isfile(file_path):\n",
    "        return print(f'Successfully saved DataFrame to {file_path}')\n",
    "    return print('DataFrame not saved -- possible error has occurred.')"
   ]
  },
  {
   "cell_type": "code",
   "execution_count": 14,
   "id": "d5dfebb5-6eb1-4b19-8686-9dcc43579714",
   "metadata": {
    "ExecuteTime": {
     "end_time": "2022-01-19T23:19:37.837011Z",
     "start_time": "2022-01-19T23:19:37.817065Z"
    }
   },
   "outputs": [],
   "source": [
    "# Wrangle Tweet Data\n",
    "\n",
    "def dataWrangle(dataframe_list):   \n",
    "    df_concat = pd.concat(dataframe_list) # Concatenate all the DataFrames from the list of DataFrames\n",
    "    df_filter = df_concat[df_concat['Language'] == 'en'][['Datetime', # Filter via Language = 'en'\n",
    "                                                           'Tweet Id', # Remove unwanted columns\n",
    "                                                           'Text', \n",
    "                                                           'Username',\n",
    "                                                           'Followers Count']] \n",
    "    df_clean = df_filter.astype({'Tweet Id':str})\\\n",
    "                        .dropna()\\\n",
    "                        .drop_duplicates()\\\n",
    "                        .reset_index(drop=True)\n",
    "    \n",
    "    df_clean['Text'] = (df_clean['Text'] # Cleans out redundant string characters within each tweet\n",
    "                       .apply(lambda x: ' '.join(re.sub(r'https\\S+', '', x)\n",
    "                                                .replace('\\n', ' ')\n",
    "                                                .split()\n",
    "                                                )\n",
    "                             )\n",
    "                       )\n",
    "    \n",
    "    df_clean['Datetime'] = pd.to_datetime(df_clean['Datetime']).dt.floor('d').dt.tz_localize(tz=None)\n",
    "    \n",
    "    return df_clean.set_index('Datetime').sort_index()\n",
    "                                               "
   ]
  },
  {
   "cell_type": "code",
   "execution_count": 15,
   "id": "98114a17",
   "metadata": {
    "ExecuteTime": {
     "end_time": "2022-01-19T23:19:38.223967Z",
     "start_time": "2022-01-19T23:19:38.210978Z"
    }
   },
   "outputs": [],
   "source": [
    "# Get Stock Data (DataFrame)\n",
    "\n",
    "def getStockData(ticker, start, end):\n",
    "    df_stock = yf.download(ticker, start, end)\n",
    "    df_stock.index = df_stock.index.tz_localize(tz=None).rename(name='Datetime')\n",
    "    df_stock['Closing Differences'] = df_stock['Adj Close'].diff()\n",
    "    df_stock['C-O/O'] = ((df_stock['Close']-df_stock['Open'])/df_stock['Open'])*100\n",
    "    \n",
    "    return df_stock    "
   ]
  },
  {
   "cell_type": "code",
   "execution_count": 16,
   "id": "e671833f",
   "metadata": {
    "ExecuteTime": {
     "end_time": "2022-01-19T23:19:38.644693Z",
     "start_time": "2022-01-19T23:19:38.624746Z"
    }
   },
   "outputs": [],
   "source": [
    "# CLASSIFICATION Model Evaluation\n",
    "\n",
    "def model_evaluation(model, X, y_true, positive_label):\n",
    "    y_pred = model.predict(X)\n",
    "    scores = {}\n",
    "    scores['accuracy'] = round(metrics.accuracy_score(y_true, y_pred), 4)\n",
    "    scores['precision'] = round(metrics.precision_score(y_true, y_pred, pos_label=positive_label), 4)\n",
    "    scores['recall'] = round(metrics.recall_score(y_true, y_pred, pos_label=positive_label), 4)\n",
    "    probs = model.predict_proba(X).T[1]\n",
    "    precisions, recalls, thresholds = metrics.precision_recall_curve(y_true, probs, pos_label=positive_label)\n",
    "    scores['area under precision-recall curve'] = round(metrics.auc(recalls, precisions), 4)\n",
    "    scores['f1 score'] = round(f1_score(y_true=y_true, y_pred=y_pred, pos_label= \"Positive_Trend\"), 4)\n",
    "    return scores\n",
    "\n",
    "def print_model_evaluation(model_name, scores):\n",
    "#     print('{} evaluation \\n'.format(model_name))\n",
    "    for metric, score in scores.items():\n",
    "        print('Test {}: {}'.format(metric, score))\n"
   ]
  },
  {
   "cell_type": "code",
   "execution_count": 75,
   "id": "2c2eb859",
   "metadata": {
    "ExecuteTime": {
     "end_time": "2022-01-20T01:34:32.665044Z",
     "start_time": "2022-01-20T01:34:32.646093Z"
    }
   },
   "outputs": [],
   "source": [
    "# 1. Polarity Score Categories as a column on DataFrame\n",
    "# 2. Creating categorical polarity column\n",
    "\n",
    "def polarityCategories(tup):\n",
    "    if tup[0] < -0.05:\n",
    "        return 'Negative'\n",
    "    elif tup[0] > 0.05:\n",
    "        return 'Positive'\n",
    "    else:\n",
    "        return 'Neutral'\n",
    "    \n",
    "def polarityColumns(df_tweets):\n",
    "    df_tweets['Polarity/Subjectivity Scores'] = df_tweets['Text'].apply(lambda text: TextBlob(text).sentiment)\n",
    "    df_tweets_filtered = df_tweets[df_tweets['Polarity/Subjectivity Scores'] != (0.0,0.0)]\n",
    "    df_tweets_filtered = df_tweets_filtered.copy()\n",
    "    df_tweets_filtered['Polarity Categories'] = df_tweets_filtered['Polarity/Subjectivity Scores'].apply(lambda x: polarityCategories(x))\n",
    "    \n",
    "    print(df_tweets_filtered.value_counts('Polarity Categories'))\n",
    "    \n",
    "    return df_tweets_filtered"
   ]
  },
  {
   "cell_type": "markdown",
   "id": "07671159",
   "metadata": {},
   "source": [
    "# Twitter Data"
   ]
  },
  {
   "cell_type": "markdown",
   "id": "e8287db1",
   "metadata": {
    "ExecuteTime": {
     "end_time": "2022-01-19T22:32:35.056723Z",
     "start_time": "2022-01-19T22:32:35.047747Z"
    }
   },
   "source": [
    "## GME Tweets"
   ]
  },
  {
   "cell_type": "code",
   "execution_count": null,
   "id": "5059c0bb",
   "metadata": {},
   "outputs": [],
   "source": [
    "start_time = date(2021, 1, 8).strftime('%Y-%m-%d')\n",
    "stop_time = date(2021, 2, 12).strftime('%Y-%m-%d')"
   ]
  },
  {
   "cell_type": "code",
   "execution_count": 171,
   "id": "8cf0313a-1ff8-4be7-9e0a-9fb3c5c289bb",
   "metadata": {
    "ExecuteTime": {
     "end_time": "2022-01-20T06:30:19.506074Z",
     "start_time": "2022-01-20T06:30:17.033088Z"
    }
   },
   "outputs": [],
   "source": [
    "# Creating a list of DataFrames using glob's list of files names\n",
    "df_tweet_gme_list = []\n",
    "for i in glob.glob('tweets_GME/*'):\n",
    "    df_tweet_gme_list.append(pd.read_csv(i))"
   ]
  },
  {
   "cell_type": "code",
   "execution_count": 172,
   "id": "83032170-f296-4f59-bfd6-80b42e4cfc08",
   "metadata": {
    "ExecuteTime": {
     "end_time": "2022-01-20T06:30:43.621485Z",
     "start_time": "2022-01-20T06:30:41.831560Z"
    }
   },
   "outputs": [],
   "source": [
    "df_tweet_gme = dataWrangle(df_tweet_gme_list)"
   ]
  },
  {
   "cell_type": "code",
   "execution_count": 186,
   "id": "326c9e1a",
   "metadata": {
    "ExecuteTime": {
     "end_time": "2022-01-20T06:34:32.334220Z",
     "start_time": "2022-01-20T06:34:32.314274Z"
    }
   },
   "outputs": [
    {
     "data": {
      "text/plain": [
       "\"#wallstreetbets JIM CRAMER ON CNBC! Dude I will explain this again because you can't understand how #gme isn't screwing stockholders(customers). I mean that sentence says it all really man. Some things are more important than money. like public perception #amc #protestbucks\""
      ]
     },
     "execution_count": 186,
     "metadata": {},
     "output_type": "execute_result"
    }
   ],
   "source": [
    "df_tweet_gme[df_tweet_gme['Tweet Id'] == str(1359867168431738887)]['Text'][0]"
   ]
  },
  {
   "cell_type": "code",
   "execution_count": 174,
   "id": "9510332b",
   "metadata": {
    "ExecuteTime": {
     "end_time": "2022-01-20T06:30:54.666708Z",
     "start_time": "2022-01-20T06:30:54.651794Z"
    }
   },
   "outputs": [
    {
     "data": {
      "text/plain": [
       "Datetime\n",
       "2021-01-01     1086\n",
       "2021-01-02     1106\n",
       "2021-01-03     1215\n",
       "2021-01-04     1212\n",
       "2021-01-05     1183\n",
       "2021-01-06     1781\n",
       "2021-01-07     2937\n",
       "2021-01-08     2142\n",
       "2021-01-09     1224\n",
       "2021-01-10     1140\n",
       "2021-01-11     2203\n",
       "2021-01-12     1470\n",
       "2021-01-13     3708\n",
       "2021-01-14     3209\n",
       "2021-01-15     1858\n",
       "2021-01-16     2341\n",
       "2021-01-17     2188\n",
       "2021-01-18     2506\n",
       "2021-01-19     2857\n",
       "2021-01-20     2934\n",
       "2021-01-21     6150\n",
       "2021-01-22     7159\n",
       "2021-01-23     3036\n",
       "2021-01-24     2072\n",
       "2021-01-25     1572\n",
       "2021-01-26     2689\n",
       "2021-01-27     9156\n",
       "2021-01-28    13598\n",
       "2021-01-29     7467\n",
       "2021-01-30     3151\n",
       "2021-01-31     2180\n",
       "2021-02-01     5938\n",
       "2021-02-02     5787\n",
       "2021-02-03     3412\n",
       "2021-02-04     2207\n",
       "2021-02-05    10187\n",
       "2021-02-06     5629\n",
       "2021-02-07     4955\n",
       "2021-02-08     6579\n",
       "2021-02-09     6395\n",
       "2021-02-10     7605\n",
       "2021-02-11     5607\n",
       "dtype: int64"
      ]
     },
     "execution_count": 174,
     "metadata": {},
     "output_type": "execute_result"
    }
   ],
   "source": [
    "df_tweet_gme.value_counts('Datetime').sort_index()"
   ]
  },
  {
   "cell_type": "markdown",
   "id": "a01ac4fb",
   "metadata": {},
   "source": [
    "# Polarity Scores"
   ]
  },
  {
   "cell_type": "markdown",
   "id": "155d2439",
   "metadata": {},
   "source": [
    "A list of goals to accomplish: \\\n",
    "    - Figure out polarity/subjectivity scores for every tweet\\\n",
    "    - For now we want to work with dates from 01/21/2021 and onwards as a test\\\n",
    "    - Mess about with distribution of negative/positive/neutral scores to have a healthy balance of samples\\\n",
    "    - Break everything up by days\\\n",
    "    - Move onto bringing in financial data"
   ]
  },
  {
   "cell_type": "code",
   "execution_count": 187,
   "id": "a4995e8e",
   "metadata": {
    "ExecuteTime": {
     "end_time": "2022-01-20T06:35:44.126965Z",
     "start_time": "2022-01-20T06:35:11.435347Z"
    },
    "scrolled": true
   },
   "outputs": [
    {
     "name": "stdout",
     "output_type": "stream",
     "text": [
      "Polarity Categories\n",
      "Positive    61931\n",
      "Negative    27257\n",
      "Neutral     22914\n",
      "dtype: int64\n"
     ]
    }
   ],
   "source": [
    "df_tweet_gme = polarityColumns(df_tweet_gme)"
   ]
  },
  {
   "cell_type": "code",
   "execution_count": 188,
   "id": "353cf5f1",
   "metadata": {
    "ExecuteTime": {
     "end_time": "2022-01-20T06:35:55.078319Z",
     "start_time": "2022-01-20T06:35:55.062350Z"
    }
   },
   "outputs": [
    {
     "data": {
      "text/html": [
       "<div>\n",
       "<style scoped>\n",
       "    .dataframe tbody tr th:only-of-type {\n",
       "        vertical-align: middle;\n",
       "    }\n",
       "\n",
       "    .dataframe tbody tr th {\n",
       "        vertical-align: top;\n",
       "    }\n",
       "\n",
       "    .dataframe thead th {\n",
       "        text-align: right;\n",
       "    }\n",
       "</style>\n",
       "<table border=\"1\" class=\"dataframe\">\n",
       "  <thead>\n",
       "    <tr style=\"text-align: right;\">\n",
       "      <th></th>\n",
       "      <th>Tweet Id</th>\n",
       "      <th>Text</th>\n",
       "      <th>Username</th>\n",
       "      <th>Followers Count</th>\n",
       "      <th>Polarity/Subjectivity Scores</th>\n",
       "      <th>Polarity Categories</th>\n",
       "    </tr>\n",
       "    <tr>\n",
       "      <th>Datetime</th>\n",
       "      <th></th>\n",
       "      <th></th>\n",
       "      <th></th>\n",
       "      <th></th>\n",
       "      <th></th>\n",
       "      <th></th>\n",
       "    </tr>\n",
       "  </thead>\n",
       "  <tbody>\n",
       "    <tr>\n",
       "      <th>2021-01-01</th>\n",
       "      <td>1345092820038770688</td>\n",
       "      <td>@toypixx @SerpentorsLair @GIJoeOfficial @Hasbr...</td>\n",
       "      <td>RedRangerChris</td>\n",
       "      <td>412</td>\n",
       "      <td>(0.0, 1.0)</td>\n",
       "      <td>Neutral</td>\n",
       "    </tr>\n",
       "    <tr>\n",
       "      <th>2021-01-01</th>\n",
       "      <td>1344798527243878400</td>\n",
       "      <td>@HennepinHC_GME @rita_hurd You know I was thin...</td>\n",
       "      <td>londyloo</td>\n",
       "      <td>24884</td>\n",
       "      <td>(0.2, 0.30000000000000004)</td>\n",
       "      <td>Positive</td>\n",
       "    </tr>\n",
       "    <tr>\n",
       "      <th>2021-01-01</th>\n",
       "      <td>1344799360463331328</td>\n",
       "      <td>@HennepinHC_GME @rita_hurd Oh my gosh! that gi...</td>\n",
       "      <td>londyloo</td>\n",
       "      <td>24884</td>\n",
       "      <td>(-0.4, 0.4)</td>\n",
       "      <td>Negative</td>\n",
       "    </tr>\n",
       "    <tr>\n",
       "      <th>2021-01-01</th>\n",
       "      <td>1344799762797703168</td>\n",
       "      <td>@rita_hurd @HennepinHC_GME For real tho the br...</td>\n",
       "      <td>londyloo</td>\n",
       "      <td>24884</td>\n",
       "      <td>(0.4, 0.6000000000000001)</td>\n",
       "      <td>Positive</td>\n",
       "    </tr>\n",
       "    <tr>\n",
       "      <th>2021-01-01</th>\n",
       "      <td>1345094263776964617</td>\n",
       "      <td>@frozenow I've fixed the checks on Gamestop, t...</td>\n",
       "      <td>stockbacklive</td>\n",
       "      <td>16901</td>\n",
       "      <td>(0.15000000000000002, 0.2)</td>\n",
       "      <td>Positive</td>\n",
       "    </tr>\n",
       "    <tr>\n",
       "      <th>...</th>\n",
       "      <td>...</td>\n",
       "      <td>...</td>\n",
       "      <td>...</td>\n",
       "      <td>...</td>\n",
       "      <td>...</td>\n",
       "      <td>...</td>\n",
       "    </tr>\n",
       "    <tr>\n",
       "      <th>2021-02-11</th>\n",
       "      <td>1359866938286092298</td>\n",
       "      <td>So SoFi uses PFOF. Below is response from them...</td>\n",
       "      <td>alokc83</td>\n",
       "      <td>47</td>\n",
       "      <td>(-0.25, 0.4166666666666667)</td>\n",
       "      <td>Negative</td>\n",
       "    </tr>\n",
       "    <tr>\n",
       "      <th>2021-02-11</th>\n",
       "      <td>1359866811907530752</td>\n",
       "      <td>@DogecoinRise This discord might be the reason...</td>\n",
       "      <td>PhilHar10408856</td>\n",
       "      <td>0</td>\n",
       "      <td>(0.034999999999999996, 0.195)</td>\n",
       "      <td>Neutral</td>\n",
       "    </tr>\n",
       "    <tr>\n",
       "      <th>2021-02-11</th>\n",
       "      <td>1359866775937122311</td>\n",
       "      <td>@CoinDesk @JRossNicoll @langer_hans @AsILayHod...</td>\n",
       "      <td>PhilHar10408856</td>\n",
       "      <td>0</td>\n",
       "      <td>(0.034999999999999996, 0.195)</td>\n",
       "      <td>Neutral</td>\n",
       "    </tr>\n",
       "    <tr>\n",
       "      <th>2021-02-11</th>\n",
       "      <td>1359867168431738887</td>\n",
       "      <td>#wallstreetbets JIM CRAMER ON CNBC! Dude I wil...</td>\n",
       "      <td>cabjacoda</td>\n",
       "      <td>76</td>\n",
       "      <td>(0.15750000000000003, 0.4908333333333334)</td>\n",
       "      <td>Positive</td>\n",
       "    </tr>\n",
       "    <tr>\n",
       "      <th>2021-02-11</th>\n",
       "      <td>1359959058942410753</td>\n",
       "      <td>How Elon Musk’s Tweets Moved GameStop (GME), B...</td>\n",
       "      <td>The220Podcast</td>\n",
       "      <td>4653</td>\n",
       "      <td>(-0.125, 0.375)</td>\n",
       "      <td>Negative</td>\n",
       "    </tr>\n",
       "  </tbody>\n",
       "</table>\n",
       "<p>112102 rows × 6 columns</p>\n",
       "</div>"
      ],
      "text/plain": [
       "                       Tweet Id  \\\n",
       "Datetime                          \n",
       "2021-01-01  1345092820038770688   \n",
       "2021-01-01  1344798527243878400   \n",
       "2021-01-01  1344799360463331328   \n",
       "2021-01-01  1344799762797703168   \n",
       "2021-01-01  1345094263776964617   \n",
       "...                         ...   \n",
       "2021-02-11  1359866938286092298   \n",
       "2021-02-11  1359866811907530752   \n",
       "2021-02-11  1359866775937122311   \n",
       "2021-02-11  1359867168431738887   \n",
       "2021-02-11  1359959058942410753   \n",
       "\n",
       "                                                         Text  \\\n",
       "Datetime                                                        \n",
       "2021-01-01  @toypixx @SerpentorsLair @GIJoeOfficial @Hasbr...   \n",
       "2021-01-01  @HennepinHC_GME @rita_hurd You know I was thin...   \n",
       "2021-01-01  @HennepinHC_GME @rita_hurd Oh my gosh! that gi...   \n",
       "2021-01-01  @rita_hurd @HennepinHC_GME For real tho the br...   \n",
       "2021-01-01  @frozenow I've fixed the checks on Gamestop, t...   \n",
       "...                                                       ...   \n",
       "2021-02-11  So SoFi uses PFOF. Below is response from them...   \n",
       "2021-02-11  @DogecoinRise This discord might be the reason...   \n",
       "2021-02-11  @CoinDesk @JRossNicoll @langer_hans @AsILayHod...   \n",
       "2021-02-11  #wallstreetbets JIM CRAMER ON CNBC! Dude I wil...   \n",
       "2021-02-11  How Elon Musk’s Tweets Moved GameStop (GME), B...   \n",
       "\n",
       "                   Username Followers Count  \\\n",
       "Datetime                                      \n",
       "2021-01-01   RedRangerChris             412   \n",
       "2021-01-01         londyloo           24884   \n",
       "2021-01-01         londyloo           24884   \n",
       "2021-01-01         londyloo           24884   \n",
       "2021-01-01    stockbacklive           16901   \n",
       "...                     ...             ...   \n",
       "2021-02-11          alokc83              47   \n",
       "2021-02-11  PhilHar10408856               0   \n",
       "2021-02-11  PhilHar10408856               0   \n",
       "2021-02-11        cabjacoda              76   \n",
       "2021-02-11    The220Podcast            4653   \n",
       "\n",
       "                         Polarity/Subjectivity Scores Polarity Categories  \n",
       "Datetime                                                                   \n",
       "2021-01-01                                 (0.0, 1.0)             Neutral  \n",
       "2021-01-01                 (0.2, 0.30000000000000004)            Positive  \n",
       "2021-01-01                                (-0.4, 0.4)            Negative  \n",
       "2021-01-01                  (0.4, 0.6000000000000001)            Positive  \n",
       "2021-01-01                 (0.15000000000000002, 0.2)            Positive  \n",
       "...                                               ...                 ...  \n",
       "2021-02-11                (-0.25, 0.4166666666666667)            Negative  \n",
       "2021-02-11              (0.034999999999999996, 0.195)             Neutral  \n",
       "2021-02-11              (0.034999999999999996, 0.195)             Neutral  \n",
       "2021-02-11  (0.15750000000000003, 0.4908333333333334)            Positive  \n",
       "2021-02-11                            (-0.125, 0.375)            Negative  \n",
       "\n",
       "[112102 rows x 6 columns]"
      ]
     },
     "execution_count": 188,
     "metadata": {},
     "output_type": "execute_result"
    }
   ],
   "source": [
    "df_tweet_gme"
   ]
  },
  {
   "cell_type": "markdown",
   "id": "fac4653e",
   "metadata": {},
   "source": [
    "# Stock Data"
   ]
  },
  {
   "cell_type": "markdown",
   "id": "72e47723",
   "metadata": {},
   "source": [
    "## GME"
   ]
  },
  {
   "cell_type": "code",
   "execution_count": 189,
   "id": "06a12fb4",
   "metadata": {
    "ExecuteTime": {
     "end_time": "2022-01-20T06:36:08.143915Z",
     "start_time": "2022-01-20T06:36:07.994196Z"
    }
   },
   "outputs": [
    {
     "name": "stdout",
     "output_type": "stream",
     "text": [
      "[*********************100%***********************]  1 of 1 completed\n"
     ]
    }
   ],
   "source": [
    "df_stock_gme = getStockData('GME','2021-01-01','2021-02-12')"
   ]
  },
  {
   "cell_type": "code",
   "execution_count": 190,
   "id": "30da646a",
   "metadata": {
    "ExecuteTime": {
     "end_time": "2022-01-20T06:36:09.656323Z",
     "start_time": "2022-01-20T06:36:09.628368Z"
    }
   },
   "outputs": [
    {
     "data": {
      "text/html": [
       "<div>\n",
       "<style scoped>\n",
       "    .dataframe tbody tr th:only-of-type {\n",
       "        vertical-align: middle;\n",
       "    }\n",
       "\n",
       "    .dataframe tbody tr th {\n",
       "        vertical-align: top;\n",
       "    }\n",
       "\n",
       "    .dataframe thead th {\n",
       "        text-align: right;\n",
       "    }\n",
       "</style>\n",
       "<table border=\"1\" class=\"dataframe\">\n",
       "  <thead>\n",
       "    <tr style=\"text-align: right;\">\n",
       "      <th></th>\n",
       "      <th>Open</th>\n",
       "      <th>High</th>\n",
       "      <th>Low</th>\n",
       "      <th>Close</th>\n",
       "      <th>Adj Close</th>\n",
       "      <th>Volume</th>\n",
       "      <th>Closing Differences</th>\n",
       "      <th>C-O/O</th>\n",
       "    </tr>\n",
       "    <tr>\n",
       "      <th>Datetime</th>\n",
       "      <th></th>\n",
       "      <th></th>\n",
       "      <th></th>\n",
       "      <th></th>\n",
       "      <th></th>\n",
       "      <th></th>\n",
       "      <th></th>\n",
       "      <th></th>\n",
       "    </tr>\n",
       "  </thead>\n",
       "  <tbody>\n",
       "    <tr>\n",
       "      <th>2021-01-04</th>\n",
       "      <td>19.000000</td>\n",
       "      <td>19.100000</td>\n",
       "      <td>17.150000</td>\n",
       "      <td>17.250000</td>\n",
       "      <td>17.250000</td>\n",
       "      <td>10022500</td>\n",
       "      <td>NaN</td>\n",
       "      <td>-9.210526</td>\n",
       "    </tr>\n",
       "    <tr>\n",
       "      <th>2021-01-05</th>\n",
       "      <td>17.350000</td>\n",
       "      <td>18.080000</td>\n",
       "      <td>17.230000</td>\n",
       "      <td>17.370001</td>\n",
       "      <td>17.370001</td>\n",
       "      <td>4961500</td>\n",
       "      <td>0.120001</td>\n",
       "      <td>0.115276</td>\n",
       "    </tr>\n",
       "    <tr>\n",
       "      <th>2021-01-06</th>\n",
       "      <td>17.340000</td>\n",
       "      <td>18.980000</td>\n",
       "      <td>17.330000</td>\n",
       "      <td>18.360001</td>\n",
       "      <td>18.360001</td>\n",
       "      <td>6056200</td>\n",
       "      <td>0.990000</td>\n",
       "      <td>5.882356</td>\n",
       "    </tr>\n",
       "    <tr>\n",
       "      <th>2021-01-07</th>\n",
       "      <td>18.469999</td>\n",
       "      <td>19.450001</td>\n",
       "      <td>18.020000</td>\n",
       "      <td>18.080000</td>\n",
       "      <td>18.080000</td>\n",
       "      <td>6129300</td>\n",
       "      <td>-0.280001</td>\n",
       "      <td>-2.111529</td>\n",
       "    </tr>\n",
       "    <tr>\n",
       "      <th>2021-01-08</th>\n",
       "      <td>18.180000</td>\n",
       "      <td>18.299999</td>\n",
       "      <td>17.080000</td>\n",
       "      <td>17.690001</td>\n",
       "      <td>17.690001</td>\n",
       "      <td>6482000</td>\n",
       "      <td>-0.389999</td>\n",
       "      <td>-2.695268</td>\n",
       "    </tr>\n",
       "    <tr>\n",
       "      <th>2021-01-11</th>\n",
       "      <td>19.410000</td>\n",
       "      <td>20.650000</td>\n",
       "      <td>19.010000</td>\n",
       "      <td>19.940001</td>\n",
       "      <td>19.940001</td>\n",
       "      <td>14908000</td>\n",
       "      <td>2.250000</td>\n",
       "      <td>2.730555</td>\n",
       "    </tr>\n",
       "    <tr>\n",
       "      <th>2021-01-12</th>\n",
       "      <td>19.959999</td>\n",
       "      <td>20.400000</td>\n",
       "      <td>19.320000</td>\n",
       "      <td>19.950001</td>\n",
       "      <td>19.950001</td>\n",
       "      <td>7060700</td>\n",
       "      <td>0.010000</td>\n",
       "      <td>-0.050092</td>\n",
       "    </tr>\n",
       "    <tr>\n",
       "      <th>2021-01-13</th>\n",
       "      <td>20.420000</td>\n",
       "      <td>38.650002</td>\n",
       "      <td>20.030001</td>\n",
       "      <td>31.400000</td>\n",
       "      <td>31.400000</td>\n",
       "      <td>144501700</td>\n",
       "      <td>11.449999</td>\n",
       "      <td>53.770810</td>\n",
       "    </tr>\n",
       "    <tr>\n",
       "      <th>2021-01-14</th>\n",
       "      <td>38.090000</td>\n",
       "      <td>43.060001</td>\n",
       "      <td>33.049999</td>\n",
       "      <td>39.910000</td>\n",
       "      <td>39.910000</td>\n",
       "      <td>93717400</td>\n",
       "      <td>8.510000</td>\n",
       "      <td>4.778156</td>\n",
       "    </tr>\n",
       "    <tr>\n",
       "      <th>2021-01-15</th>\n",
       "      <td>38.490002</td>\n",
       "      <td>40.750000</td>\n",
       "      <td>34.009998</td>\n",
       "      <td>35.500000</td>\n",
       "      <td>35.500000</td>\n",
       "      <td>46866400</td>\n",
       "      <td>-4.410000</td>\n",
       "      <td>-7.768256</td>\n",
       "    </tr>\n",
       "    <tr>\n",
       "      <th>2021-01-19</th>\n",
       "      <td>41.549999</td>\n",
       "      <td>45.520000</td>\n",
       "      <td>36.639999</td>\n",
       "      <td>39.360001</td>\n",
       "      <td>39.360001</td>\n",
       "      <td>74721900</td>\n",
       "      <td>3.860001</td>\n",
       "      <td>-5.270755</td>\n",
       "    </tr>\n",
       "    <tr>\n",
       "      <th>2021-01-20</th>\n",
       "      <td>37.369999</td>\n",
       "      <td>41.189999</td>\n",
       "      <td>36.060001</td>\n",
       "      <td>39.119999</td>\n",
       "      <td>39.119999</td>\n",
       "      <td>33471800</td>\n",
       "      <td>-0.240002</td>\n",
       "      <td>4.682901</td>\n",
       "    </tr>\n",
       "    <tr>\n",
       "      <th>2021-01-21</th>\n",
       "      <td>39.230000</td>\n",
       "      <td>44.750000</td>\n",
       "      <td>37.000000</td>\n",
       "      <td>43.029999</td>\n",
       "      <td>43.029999</td>\n",
       "      <td>56216900</td>\n",
       "      <td>3.910000</td>\n",
       "      <td>9.686463</td>\n",
       "    </tr>\n",
       "    <tr>\n",
       "      <th>2021-01-22</th>\n",
       "      <td>42.590000</td>\n",
       "      <td>76.760002</td>\n",
       "      <td>42.320000</td>\n",
       "      <td>65.010002</td>\n",
       "      <td>65.010002</td>\n",
       "      <td>197157900</td>\n",
       "      <td>21.980003</td>\n",
       "      <td>52.641470</td>\n",
       "    </tr>\n",
       "    <tr>\n",
       "      <th>2021-01-25</th>\n",
       "      <td>96.730003</td>\n",
       "      <td>159.179993</td>\n",
       "      <td>61.130001</td>\n",
       "      <td>76.790001</td>\n",
       "      <td>76.790001</td>\n",
       "      <td>177874000</td>\n",
       "      <td>11.779999</td>\n",
       "      <td>-20.614082</td>\n",
       "    </tr>\n",
       "    <tr>\n",
       "      <th>2021-01-26</th>\n",
       "      <td>88.559998</td>\n",
       "      <td>150.000000</td>\n",
       "      <td>80.199997</td>\n",
       "      <td>147.979996</td>\n",
       "      <td>147.979996</td>\n",
       "      <td>178588000</td>\n",
       "      <td>71.189995</td>\n",
       "      <td>67.095754</td>\n",
       "    </tr>\n",
       "    <tr>\n",
       "      <th>2021-01-27</th>\n",
       "      <td>354.829987</td>\n",
       "      <td>380.000000</td>\n",
       "      <td>249.000000</td>\n",
       "      <td>347.510010</td>\n",
       "      <td>347.510010</td>\n",
       "      <td>93396700</td>\n",
       "      <td>199.530014</td>\n",
       "      <td>-2.062953</td>\n",
       "    </tr>\n",
       "    <tr>\n",
       "      <th>2021-01-28</th>\n",
       "      <td>265.000000</td>\n",
       "      <td>483.000000</td>\n",
       "      <td>112.250000</td>\n",
       "      <td>193.600006</td>\n",
       "      <td>193.600006</td>\n",
       "      <td>58815800</td>\n",
       "      <td>-153.910004</td>\n",
       "      <td>-26.943394</td>\n",
       "    </tr>\n",
       "    <tr>\n",
       "      <th>2021-01-29</th>\n",
       "      <td>379.709991</td>\n",
       "      <td>413.980011</td>\n",
       "      <td>250.000000</td>\n",
       "      <td>325.000000</td>\n",
       "      <td>325.000000</td>\n",
       "      <td>50566100</td>\n",
       "      <td>131.399994</td>\n",
       "      <td>-14.408362</td>\n",
       "    </tr>\n",
       "    <tr>\n",
       "      <th>2021-02-01</th>\n",
       "      <td>316.559998</td>\n",
       "      <td>322.000000</td>\n",
       "      <td>212.000000</td>\n",
       "      <td>225.000000</td>\n",
       "      <td>225.000000</td>\n",
       "      <td>37382200</td>\n",
       "      <td>-100.000000</td>\n",
       "      <td>-28.923426</td>\n",
       "    </tr>\n",
       "    <tr>\n",
       "      <th>2021-02-02</th>\n",
       "      <td>140.759995</td>\n",
       "      <td>158.000000</td>\n",
       "      <td>74.220001</td>\n",
       "      <td>90.000000</td>\n",
       "      <td>90.000000</td>\n",
       "      <td>78183100</td>\n",
       "      <td>-135.000000</td>\n",
       "      <td>-36.061379</td>\n",
       "    </tr>\n",
       "    <tr>\n",
       "      <th>2021-02-03</th>\n",
       "      <td>112.010002</td>\n",
       "      <td>113.400002</td>\n",
       "      <td>85.250000</td>\n",
       "      <td>92.410004</td>\n",
       "      <td>92.410004</td>\n",
       "      <td>42698500</td>\n",
       "      <td>2.410004</td>\n",
       "      <td>-17.498436</td>\n",
       "    </tr>\n",
       "    <tr>\n",
       "      <th>2021-02-04</th>\n",
       "      <td>91.190002</td>\n",
       "      <td>91.500000</td>\n",
       "      <td>53.330002</td>\n",
       "      <td>53.500000</td>\n",
       "      <td>53.500000</td>\n",
       "      <td>62427300</td>\n",
       "      <td>-38.910004</td>\n",
       "      <td>-41.331288</td>\n",
       "    </tr>\n",
       "    <tr>\n",
       "      <th>2021-02-05</th>\n",
       "      <td>54.040001</td>\n",
       "      <td>95.000000</td>\n",
       "      <td>51.090000</td>\n",
       "      <td>63.770000</td>\n",
       "      <td>63.770000</td>\n",
       "      <td>81345000</td>\n",
       "      <td>10.270000</td>\n",
       "      <td>18.005180</td>\n",
       "    </tr>\n",
       "    <tr>\n",
       "      <th>2021-02-08</th>\n",
       "      <td>72.410004</td>\n",
       "      <td>72.660004</td>\n",
       "      <td>58.020000</td>\n",
       "      <td>60.000000</td>\n",
       "      <td>60.000000</td>\n",
       "      <td>25687300</td>\n",
       "      <td>-3.770000</td>\n",
       "      <td>-17.138521</td>\n",
       "    </tr>\n",
       "    <tr>\n",
       "      <th>2021-02-09</th>\n",
       "      <td>56.610001</td>\n",
       "      <td>57.000000</td>\n",
       "      <td>46.520000</td>\n",
       "      <td>50.310001</td>\n",
       "      <td>50.310001</td>\n",
       "      <td>26843100</td>\n",
       "      <td>-9.689999</td>\n",
       "      <td>-11.128774</td>\n",
       "    </tr>\n",
       "    <tr>\n",
       "      <th>2021-02-10</th>\n",
       "      <td>50.770000</td>\n",
       "      <td>62.830002</td>\n",
       "      <td>46.549999</td>\n",
       "      <td>51.200001</td>\n",
       "      <td>51.200001</td>\n",
       "      <td>36455000</td>\n",
       "      <td>0.889999</td>\n",
       "      <td>0.846957</td>\n",
       "    </tr>\n",
       "    <tr>\n",
       "      <th>2021-02-11</th>\n",
       "      <td>50.009998</td>\n",
       "      <td>55.320000</td>\n",
       "      <td>48.220001</td>\n",
       "      <td>51.099998</td>\n",
       "      <td>51.099998</td>\n",
       "      <td>13056700</td>\n",
       "      <td>-0.100002</td>\n",
       "      <td>2.179564</td>\n",
       "    </tr>\n",
       "  </tbody>\n",
       "</table>\n",
       "</div>"
      ],
      "text/plain": [
       "                  Open        High         Low       Close   Adj Close  \\\n",
       "Datetime                                                                 \n",
       "2021-01-04   19.000000   19.100000   17.150000   17.250000   17.250000   \n",
       "2021-01-05   17.350000   18.080000   17.230000   17.370001   17.370001   \n",
       "2021-01-06   17.340000   18.980000   17.330000   18.360001   18.360001   \n",
       "2021-01-07   18.469999   19.450001   18.020000   18.080000   18.080000   \n",
       "2021-01-08   18.180000   18.299999   17.080000   17.690001   17.690001   \n",
       "2021-01-11   19.410000   20.650000   19.010000   19.940001   19.940001   \n",
       "2021-01-12   19.959999   20.400000   19.320000   19.950001   19.950001   \n",
       "2021-01-13   20.420000   38.650002   20.030001   31.400000   31.400000   \n",
       "2021-01-14   38.090000   43.060001   33.049999   39.910000   39.910000   \n",
       "2021-01-15   38.490002   40.750000   34.009998   35.500000   35.500000   \n",
       "2021-01-19   41.549999   45.520000   36.639999   39.360001   39.360001   \n",
       "2021-01-20   37.369999   41.189999   36.060001   39.119999   39.119999   \n",
       "2021-01-21   39.230000   44.750000   37.000000   43.029999   43.029999   \n",
       "2021-01-22   42.590000   76.760002   42.320000   65.010002   65.010002   \n",
       "2021-01-25   96.730003  159.179993   61.130001   76.790001   76.790001   \n",
       "2021-01-26   88.559998  150.000000   80.199997  147.979996  147.979996   \n",
       "2021-01-27  354.829987  380.000000  249.000000  347.510010  347.510010   \n",
       "2021-01-28  265.000000  483.000000  112.250000  193.600006  193.600006   \n",
       "2021-01-29  379.709991  413.980011  250.000000  325.000000  325.000000   \n",
       "2021-02-01  316.559998  322.000000  212.000000  225.000000  225.000000   \n",
       "2021-02-02  140.759995  158.000000   74.220001   90.000000   90.000000   \n",
       "2021-02-03  112.010002  113.400002   85.250000   92.410004   92.410004   \n",
       "2021-02-04   91.190002   91.500000   53.330002   53.500000   53.500000   \n",
       "2021-02-05   54.040001   95.000000   51.090000   63.770000   63.770000   \n",
       "2021-02-08   72.410004   72.660004   58.020000   60.000000   60.000000   \n",
       "2021-02-09   56.610001   57.000000   46.520000   50.310001   50.310001   \n",
       "2021-02-10   50.770000   62.830002   46.549999   51.200001   51.200001   \n",
       "2021-02-11   50.009998   55.320000   48.220001   51.099998   51.099998   \n",
       "\n",
       "               Volume  Closing Differences      C-O/O  \n",
       "Datetime                                               \n",
       "2021-01-04   10022500                  NaN  -9.210526  \n",
       "2021-01-05    4961500             0.120001   0.115276  \n",
       "2021-01-06    6056200             0.990000   5.882356  \n",
       "2021-01-07    6129300            -0.280001  -2.111529  \n",
       "2021-01-08    6482000            -0.389999  -2.695268  \n",
       "2021-01-11   14908000             2.250000   2.730555  \n",
       "2021-01-12    7060700             0.010000  -0.050092  \n",
       "2021-01-13  144501700            11.449999  53.770810  \n",
       "2021-01-14   93717400             8.510000   4.778156  \n",
       "2021-01-15   46866400            -4.410000  -7.768256  \n",
       "2021-01-19   74721900             3.860001  -5.270755  \n",
       "2021-01-20   33471800            -0.240002   4.682901  \n",
       "2021-01-21   56216900             3.910000   9.686463  \n",
       "2021-01-22  197157900            21.980003  52.641470  \n",
       "2021-01-25  177874000            11.779999 -20.614082  \n",
       "2021-01-26  178588000            71.189995  67.095754  \n",
       "2021-01-27   93396700           199.530014  -2.062953  \n",
       "2021-01-28   58815800          -153.910004 -26.943394  \n",
       "2021-01-29   50566100           131.399994 -14.408362  \n",
       "2021-02-01   37382200          -100.000000 -28.923426  \n",
       "2021-02-02   78183100          -135.000000 -36.061379  \n",
       "2021-02-03   42698500             2.410004 -17.498436  \n",
       "2021-02-04   62427300           -38.910004 -41.331288  \n",
       "2021-02-05   81345000            10.270000  18.005180  \n",
       "2021-02-08   25687300            -3.770000 -17.138521  \n",
       "2021-02-09   26843100            -9.689999 -11.128774  \n",
       "2021-02-10   36455000             0.889999   0.846957  \n",
       "2021-02-11   13056700            -0.100002   2.179564  "
      ]
     },
     "execution_count": 190,
     "metadata": {},
     "output_type": "execute_result"
    }
   ],
   "source": [
    "df_stock_gme"
   ]
  },
  {
   "cell_type": "code",
   "execution_count": 191,
   "id": "86ae0a77",
   "metadata": {
    "ExecuteTime": {
     "end_time": "2022-01-20T06:36:22.731933Z",
     "start_time": "2022-01-20T06:36:22.520954Z"
    }
   },
   "outputs": [
    {
     "data": {
      "image/png": "[encoded data removed]",
      "text/plain": [
       "<Figure size 432x288 with 1 Axes>"
      ]
     },
     "metadata": {},
     "output_type": "display_data"
    }
   ],
   "source": [
    "# Plot\n",
    "\n",
    "df_stock_gme[['Closing Differences', 'C-O/O']].plot()\n",
    "\n",
    "# plt.ylim(-120, 120)\n",
    "\n",
    "plt.xlabel('Days')\n",
    "plt.ylabel('Closing Price')\n",
    "plt.title('Closing Price Plot');"
   ]
  },
  {
   "cell_type": "markdown",
   "id": "e3b681bf",
   "metadata": {
    "heading_collapsed": true
   },
   "source": [
    "## AAPL"
   ]
  },
  {
   "cell_type": "code",
   "execution_count": 89,
   "id": "5da2cc08",
   "metadata": {
    "ExecuteTime": {
     "end_time": "2022-01-19T22:58:47.362680Z",
     "start_time": "2022-01-19T22:58:47.206141Z"
    },
    "hidden": true
   },
   "outputs": [
    {
     "name": "stdout",
     "output_type": "stream",
     "text": [
      "[*********************100%***********************]  1 of 1 completed\n"
     ]
    }
   ],
   "source": [
    "df_stock_aapl = getStockData('AAPL', '2021-01-01', '2021-03-01')"
   ]
  },
  {
   "cell_type": "code",
   "execution_count": 96,
   "id": "5b1bafcf",
   "metadata": {
    "ExecuteTime": {
     "end_time": "2022-01-19T22:59:44.448890Z",
     "start_time": "2022-01-19T22:59:44.255988Z"
    },
    "hidden": true,
    "scrolled": true
   },
   "outputs": [
    {
     "data": {
      "image/png": "[encoded data removed]",
      "text/plain": [
       "<Figure size 432x288 with 1 Axes>"
      ]
     },
     "metadata": {},
     "output_type": "display_data"
    }
   ],
   "source": [
    "# Plot\n",
    "\n",
    "df_stock_aapl[['Closing Differences', 'C-O/O']].plot()\n",
    "\n",
    "plt.ylim(-10, 10)\n",
    "\n",
    "plt.xlabel('Days')\n",
    "plt.ylabel('Closing Price')\n",
    "plt.title('Closing Price Plot');"
   ]
  },
  {
   "cell_type": "markdown",
   "id": "c500c755",
   "metadata": {
    "ExecuteTime": {
     "end_time": "2022-01-19T23:03:05.049575Z",
     "start_time": "2022-01-19T23:03:05.035613Z"
    }
   },
   "source": [
    "# Merging Twitter + Stock DataFrames"
   ]
  },
  {
   "cell_type": "markdown",
   "id": "4fb46920",
   "metadata": {},
   "source": [
    "## GME"
   ]
  },
  {
   "cell_type": "code",
   "execution_count": 192,
   "id": "1ffb878f",
   "metadata": {
    "ExecuteTime": {
     "end_time": "2022-01-20T06:36:45.487318Z",
     "start_time": "2022-01-20T06:36:45.333066Z"
    }
   },
   "outputs": [],
   "source": [
    "# Why is there NaN values for Volume and closing differences?\n",
    "# Because the stock market is only opened on business days!\n",
    "# So we dropped NaN values\n",
    "\n",
    "df_merged_gme = df_stock_gme.merge(df_tweet_gme, how='right', left_index=True, right_index=True).dropna()"
   ]
  },
  {
   "cell_type": "code",
   "execution_count": 193,
   "id": "1b6a3c9b",
   "metadata": {
    "ExecuteTime": {
     "end_time": "2022-01-20T06:36:48.785861Z",
     "start_time": "2022-01-20T06:36:48.754923Z"
    }
   },
   "outputs": [],
   "source": [
    "df_merged_gme['Closing Trend'] = df_merged_gme['Closing Differences'].apply(lambda x: \"Positive_Trend\" if x>=0 else \"Negative_Trend\")"
   ]
  },
  {
   "cell_type": "code",
   "execution_count": 214,
   "id": "6b9cc5ad",
   "metadata": {
    "ExecuteTime": {
     "end_time": "2022-01-20T06:58:32.825677Z",
     "start_time": "2022-01-20T06:58:32.787778Z"
    }
   },
   "outputs": [
    {
     "data": {
      "text/html": [
       "<div>\n",
       "<style scoped>\n",
       "    .dataframe tbody tr th:only-of-type {\n",
       "        vertical-align: middle;\n",
       "    }\n",
       "\n",
       "    .dataframe tbody tr th {\n",
       "        vertical-align: top;\n",
       "    }\n",
       "\n",
       "    .dataframe thead th {\n",
       "        text-align: right;\n",
       "    }\n",
       "</style>\n",
       "<table border=\"1\" class=\"dataframe\">\n",
       "  <thead>\n",
       "    <tr style=\"text-align: right;\">\n",
       "      <th></th>\n",
       "      <th>Open</th>\n",
       "      <th>High</th>\n",
       "      <th>Low</th>\n",
       "      <th>Close</th>\n",
       "      <th>Adj Close</th>\n",
       "      <th>Volume</th>\n",
       "      <th>Closing Differences</th>\n",
       "      <th>C-O/O</th>\n",
       "      <th>Tweet Id</th>\n",
       "      <th>Text</th>\n",
       "      <th>Username</th>\n",
       "      <th>Followers Count</th>\n",
       "      <th>Polarity/Subjectivity Scores</th>\n",
       "      <th>Polarity Categories</th>\n",
       "      <th>Closing Trend</th>\n",
       "    </tr>\n",
       "    <tr>\n",
       "      <th>Datetime</th>\n",
       "      <th></th>\n",
       "      <th></th>\n",
       "      <th></th>\n",
       "      <th></th>\n",
       "      <th></th>\n",
       "      <th></th>\n",
       "      <th></th>\n",
       "      <th></th>\n",
       "      <th></th>\n",
       "      <th></th>\n",
       "      <th></th>\n",
       "      <th></th>\n",
       "      <th></th>\n",
       "      <th></th>\n",
       "      <th></th>\n",
       "    </tr>\n",
       "  </thead>\n",
       "  <tbody>\n",
       "    <tr>\n",
       "      <th>2021-01-05</th>\n",
       "      <td>17.350000</td>\n",
       "      <td>18.08</td>\n",
       "      <td>17.230000</td>\n",
       "      <td>17.370001</td>\n",
       "      <td>17.370001</td>\n",
       "      <td>4961500.0</td>\n",
       "      <td>0.120001</td>\n",
       "      <td>0.115276</td>\n",
       "      <td>1346478740461690881</td>\n",
       "      <td>@ArsalanSaleemMD This guy. Was just selected a...</td>\n",
       "      <td>UtmbRadiology</td>\n",
       "      <td>456</td>\n",
       "      <td>(0.25, 0.4375)</td>\n",
       "      <td>Positive</td>\n",
       "      <td>Positive_Trend</td>\n",
       "    </tr>\n",
       "    <tr>\n",
       "      <th>2021-01-05</th>\n",
       "      <td>17.350000</td>\n",
       "      <td>18.08</td>\n",
       "      <td>17.230000</td>\n",
       "      <td>17.370001</td>\n",
       "      <td>17.370001</td>\n",
       "      <td>4961500.0</td>\n",
       "      <td>0.120001</td>\n",
       "      <td>0.115276</td>\n",
       "      <td>1346555487345664001</td>\n",
       "      <td>@Nospherato21 @FinnFriede1 @GYXdeals GameStop ...</td>\n",
       "      <td>WhyYouOTF</td>\n",
       "      <td>554</td>\n",
       "      <td>(0.1, 0.0)</td>\n",
       "      <td>Positive</td>\n",
       "      <td>Positive_Trend</td>\n",
       "    </tr>\n",
       "    <tr>\n",
       "      <th>2021-01-05</th>\n",
       "      <td>17.350000</td>\n",
       "      <td>18.08</td>\n",
       "      <td>17.230000</td>\n",
       "      <td>17.370001</td>\n",
       "      <td>17.370001</td>\n",
       "      <td>4961500.0</td>\n",
       "      <td>0.120001</td>\n",
       "      <td>0.115276</td>\n",
       "      <td>1346555775280439299</td>\n",
       "      <td>i pre ordered my copy of super mario 3d all st...</td>\n",
       "      <td>RGONZALEZ1978</td>\n",
       "      <td>436</td>\n",
       "      <td>(0.26666666666666666, 0.4533333333333333)</td>\n",
       "      <td>Positive</td>\n",
       "      <td>Positive_Trend</td>\n",
       "    </tr>\n",
       "    <tr>\n",
       "      <th>2021-01-05</th>\n",
       "      <td>17.350000</td>\n",
       "      <td>18.08</td>\n",
       "      <td>17.230000</td>\n",
       "      <td>17.370001</td>\n",
       "      <td>17.370001</td>\n",
       "      <td>4961500.0</td>\n",
       "      <td>0.120001</td>\n",
       "      <td>0.115276</td>\n",
       "      <td>1346555803491328003</td>\n",
       "      <td>Check your @GameStop receipts for shady fees, ...</td>\n",
       "      <td>tgccustoms</td>\n",
       "      <td>2636</td>\n",
       "      <td>(-0.25, 0.625)</td>\n",
       "      <td>Negative</td>\n",
       "      <td>Positive_Trend</td>\n",
       "    </tr>\n",
       "    <tr>\n",
       "      <th>2021-01-05</th>\n",
       "      <td>17.350000</td>\n",
       "      <td>18.08</td>\n",
       "      <td>17.230000</td>\n",
       "      <td>17.370001</td>\n",
       "      <td>17.370001</td>\n",
       "      <td>4961500.0</td>\n",
       "      <td>0.120001</td>\n",
       "      <td>0.115276</td>\n",
       "      <td>1346556842093133825</td>\n",
       "      <td>New game a couple days ago #gamestop was kind ...</td>\n",
       "      <td>StratoWave5200</td>\n",
       "      <td>258</td>\n",
       "      <td>(0.20727272727272722, 0.5709090909090909)</td>\n",
       "      <td>Positive</td>\n",
       "      <td>Positive_Trend</td>\n",
       "    </tr>\n",
       "    <tr>\n",
       "      <th>...</th>\n",
       "      <td>...</td>\n",
       "      <td>...</td>\n",
       "      <td>...</td>\n",
       "      <td>...</td>\n",
       "      <td>...</td>\n",
       "      <td>...</td>\n",
       "      <td>...</td>\n",
       "      <td>...</td>\n",
       "      <td>...</td>\n",
       "      <td>...</td>\n",
       "      <td>...</td>\n",
       "      <td>...</td>\n",
       "      <td>...</td>\n",
       "      <td>...</td>\n",
       "      <td>...</td>\n",
       "    </tr>\n",
       "    <tr>\n",
       "      <th>2021-02-11</th>\n",
       "      <td>50.009998</td>\n",
       "      <td>55.32</td>\n",
       "      <td>48.220001</td>\n",
       "      <td>51.099998</td>\n",
       "      <td>51.099998</td>\n",
       "      <td>13056700.0</td>\n",
       "      <td>-0.100002</td>\n",
       "      <td>2.179564</td>\n",
       "      <td>1359866938286092298</td>\n",
       "      <td>So SoFi uses PFOF. Below is response from them...</td>\n",
       "      <td>alokc83</td>\n",
       "      <td>47</td>\n",
       "      <td>(-0.25, 0.4166666666666667)</td>\n",
       "      <td>Negative</td>\n",
       "      <td>Negative_Trend</td>\n",
       "    </tr>\n",
       "    <tr>\n",
       "      <th>2021-02-11</th>\n",
       "      <td>50.009998</td>\n",
       "      <td>55.32</td>\n",
       "      <td>48.220001</td>\n",
       "      <td>51.099998</td>\n",
       "      <td>51.099998</td>\n",
       "      <td>13056700.0</td>\n",
       "      <td>-0.100002</td>\n",
       "      <td>2.179564</td>\n",
       "      <td>1359866811907530752</td>\n",
       "      <td>@DogecoinRise This discord might be the reason...</td>\n",
       "      <td>PhilHar10408856</td>\n",
       "      <td>0</td>\n",
       "      <td>(0.034999999999999996, 0.195)</td>\n",
       "      <td>Neutral</td>\n",
       "      <td>Negative_Trend</td>\n",
       "    </tr>\n",
       "    <tr>\n",
       "      <th>2021-02-11</th>\n",
       "      <td>50.009998</td>\n",
       "      <td>55.32</td>\n",
       "      <td>48.220001</td>\n",
       "      <td>51.099998</td>\n",
       "      <td>51.099998</td>\n",
       "      <td>13056700.0</td>\n",
       "      <td>-0.100002</td>\n",
       "      <td>2.179564</td>\n",
       "      <td>1359866775937122311</td>\n",
       "      <td>@CoinDesk @JRossNicoll @langer_hans @AsILayHod...</td>\n",
       "      <td>PhilHar10408856</td>\n",
       "      <td>0</td>\n",
       "      <td>(0.034999999999999996, 0.195)</td>\n",
       "      <td>Neutral</td>\n",
       "      <td>Negative_Trend</td>\n",
       "    </tr>\n",
       "    <tr>\n",
       "      <th>2021-02-11</th>\n",
       "      <td>50.009998</td>\n",
       "      <td>55.32</td>\n",
       "      <td>48.220001</td>\n",
       "      <td>51.099998</td>\n",
       "      <td>51.099998</td>\n",
       "      <td>13056700.0</td>\n",
       "      <td>-0.100002</td>\n",
       "      <td>2.179564</td>\n",
       "      <td>1359867168431738887</td>\n",
       "      <td>#wallstreetbets JIM CRAMER ON CNBC! Dude I wil...</td>\n",
       "      <td>cabjacoda</td>\n",
       "      <td>76</td>\n",
       "      <td>(0.15750000000000003, 0.4908333333333334)</td>\n",
       "      <td>Positive</td>\n",
       "      <td>Negative_Trend</td>\n",
       "    </tr>\n",
       "    <tr>\n",
       "      <th>2021-02-11</th>\n",
       "      <td>50.009998</td>\n",
       "      <td>55.32</td>\n",
       "      <td>48.220001</td>\n",
       "      <td>51.099998</td>\n",
       "      <td>51.099998</td>\n",
       "      <td>13056700.0</td>\n",
       "      <td>-0.100002</td>\n",
       "      <td>2.179564</td>\n",
       "      <td>1359959058942410753</td>\n",
       "      <td>How Elon Musk’s Tweets Moved GameStop (GME), B...</td>\n",
       "      <td>The220Podcast</td>\n",
       "      <td>4653</td>\n",
       "      <td>(-0.125, 0.375)</td>\n",
       "      <td>Negative</td>\n",
       "      <td>Negative_Trend</td>\n",
       "    </tr>\n",
       "  </tbody>\n",
       "</table>\n",
       "<p>88022 rows × 15 columns</p>\n",
       "</div>"
      ],
      "text/plain": [
       "                 Open   High        Low      Close  Adj Close      Volume  \\\n",
       "Datetime                                                                    \n",
       "2021-01-05  17.350000  18.08  17.230000  17.370001  17.370001   4961500.0   \n",
       "2021-01-05  17.350000  18.08  17.230000  17.370001  17.370001   4961500.0   \n",
       "2021-01-05  17.350000  18.08  17.230000  17.370001  17.370001   4961500.0   \n",
       "2021-01-05  17.350000  18.08  17.230000  17.370001  17.370001   4961500.0   \n",
       "2021-01-05  17.350000  18.08  17.230000  17.370001  17.370001   4961500.0   \n",
       "...               ...    ...        ...        ...        ...         ...   \n",
       "2021-02-11  50.009998  55.32  48.220001  51.099998  51.099998  13056700.0   \n",
       "2021-02-11  50.009998  55.32  48.220001  51.099998  51.099998  13056700.0   \n",
       "2021-02-11  50.009998  55.32  48.220001  51.099998  51.099998  13056700.0   \n",
       "2021-02-11  50.009998  55.32  48.220001  51.099998  51.099998  13056700.0   \n",
       "2021-02-11  50.009998  55.32  48.220001  51.099998  51.099998  13056700.0   \n",
       "\n",
       "            Closing Differences     C-O/O             Tweet Id  \\\n",
       "Datetime                                                         \n",
       "2021-01-05             0.120001  0.115276  1346478740461690881   \n",
       "2021-01-05             0.120001  0.115276  1346555487345664001   \n",
       "2021-01-05             0.120001  0.115276  1346555775280439299   \n",
       "2021-01-05             0.120001  0.115276  1346555803491328003   \n",
       "2021-01-05             0.120001  0.115276  1346556842093133825   \n",
       "...                         ...       ...                  ...   \n",
       "2021-02-11            -0.100002  2.179564  1359866938286092298   \n",
       "2021-02-11            -0.100002  2.179564  1359866811907530752   \n",
       "2021-02-11            -0.100002  2.179564  1359866775937122311   \n",
       "2021-02-11            -0.100002  2.179564  1359867168431738887   \n",
       "2021-02-11            -0.100002  2.179564  1359959058942410753   \n",
       "\n",
       "                                                         Text  \\\n",
       "Datetime                                                        \n",
       "2021-01-05  @ArsalanSaleemMD This guy. Was just selected a...   \n",
       "2021-01-05  @Nospherato21 @FinnFriede1 @GYXdeals GameStop ...   \n",
       "2021-01-05  i pre ordered my copy of super mario 3d all st...   \n",
       "2021-01-05  Check your @GameStop receipts for shady fees, ...   \n",
       "2021-01-05  New game a couple days ago #gamestop was kind ...   \n",
       "...                                                       ...   \n",
       "2021-02-11  So SoFi uses PFOF. Below is response from them...   \n",
       "2021-02-11  @DogecoinRise This discord might be the reason...   \n",
       "2021-02-11  @CoinDesk @JRossNicoll @langer_hans @AsILayHod...   \n",
       "2021-02-11  #wallstreetbets JIM CRAMER ON CNBC! Dude I wil...   \n",
       "2021-02-11  How Elon Musk’s Tweets Moved GameStop (GME), B...   \n",
       "\n",
       "                   Username Followers Count  \\\n",
       "Datetime                                      \n",
       "2021-01-05    UtmbRadiology             456   \n",
       "2021-01-05        WhyYouOTF             554   \n",
       "2021-01-05    RGONZALEZ1978             436   \n",
       "2021-01-05       tgccustoms            2636   \n",
       "2021-01-05   StratoWave5200             258   \n",
       "...                     ...             ...   \n",
       "2021-02-11          alokc83              47   \n",
       "2021-02-11  PhilHar10408856               0   \n",
       "2021-02-11  PhilHar10408856               0   \n",
       "2021-02-11        cabjacoda              76   \n",
       "2021-02-11    The220Podcast            4653   \n",
       "\n",
       "                         Polarity/Subjectivity Scores Polarity Categories  \\\n",
       "Datetime                                                                    \n",
       "2021-01-05                             (0.25, 0.4375)            Positive   \n",
       "2021-01-05                                 (0.1, 0.0)            Positive   \n",
       "2021-01-05  (0.26666666666666666, 0.4533333333333333)            Positive   \n",
       "2021-01-05                             (-0.25, 0.625)            Negative   \n",
       "2021-01-05  (0.20727272727272722, 0.5709090909090909)            Positive   \n",
       "...                                               ...                 ...   \n",
       "2021-02-11                (-0.25, 0.4166666666666667)            Negative   \n",
       "2021-02-11              (0.034999999999999996, 0.195)             Neutral   \n",
       "2021-02-11              (0.034999999999999996, 0.195)             Neutral   \n",
       "2021-02-11  (0.15750000000000003, 0.4908333333333334)            Positive   \n",
       "2021-02-11                            (-0.125, 0.375)            Negative   \n",
       "\n",
       "             Closing Trend  \n",
       "Datetime                    \n",
       "2021-01-05  Positive_Trend  \n",
       "2021-01-05  Positive_Trend  \n",
       "2021-01-05  Positive_Trend  \n",
       "2021-01-05  Positive_Trend  \n",
       "2021-01-05  Positive_Trend  \n",
       "...                    ...  \n",
       "2021-02-11  Negative_Trend  \n",
       "2021-02-11  Negative_Trend  \n",
       "2021-02-11  Negative_Trend  \n",
       "2021-02-11  Negative_Trend  \n",
       "2021-02-11  Negative_Trend  \n",
       "\n",
       "[88022 rows x 15 columns]"
      ]
     },
     "execution_count": 214,
     "metadata": {},
     "output_type": "execute_result"
    }
   ],
   "source": [
    "df_merged_gme.sort_index()"
   ]
  },
  {
   "cell_type": "markdown",
   "id": "beb45523",
   "metadata": {
    "heading_collapsed": true
   },
   "source": [
    "## AAPL"
   ]
  },
  {
   "cell_type": "markdown",
   "id": "b1cb83d1",
   "metadata": {
    "heading_collapsed": true
   },
   "source": [
    "# Dealing with Imbalances"
   ]
  },
  {
   "cell_type": "code",
   "execution_count": 33,
   "id": "2e8cbaa7",
   "metadata": {
    "hidden": true
   },
   "outputs": [],
   "source": [
    "from imblearn.over_sampling import SMOTE"
   ]
  },
  {
   "cell_type": "code",
   "execution_count": 35,
   "id": "83c46f26",
   "metadata": {
    "hidden": true
   },
   "outputs": [],
   "source": [
    "sampler = SMOTE(random_state=42)"
   ]
  },
  {
   "cell_type": "markdown",
   "id": "1cdf55bc",
   "metadata": {},
   "source": [
    "# Modeling"
   ]
  },
  {
   "cell_type": "markdown",
   "id": "224546fc",
   "metadata": {},
   "source": [
    "## GME"
   ]
  },
  {
   "cell_type": "markdown",
   "id": "33a9bc5f",
   "metadata": {},
   "source": [
    "#### Train/Test Split"
   ]
  },
  {
   "cell_type": "code",
   "execution_count": 195,
   "id": "ea3b2110",
   "metadata": {
    "ExecuteTime": {
     "end_time": "2022-01-20T06:37:22.232945Z",
     "start_time": "2022-01-20T06:37:22.224966Z"
    }
   },
   "outputs": [],
   "source": [
    "X = df_merged_gme\n",
    "y = df_merged_gme['Closing Trend']"
   ]
  },
  {
   "cell_type": "code",
   "execution_count": 226,
   "id": "f5704cd2",
   "metadata": {
    "ExecuteTime": {
     "end_time": "2022-01-20T07:04:19.319923Z",
     "start_time": "2022-01-20T07:04:19.292024Z"
    }
   },
   "outputs": [],
   "source": [
    "from sklearn.model_selection import train_test_split\n",
    "\n",
    "X_train, X_test, y_train, y_test = train_test_split(X, y, test_size=0.2, random_state=42, shuffle=False)"
   ]
  },
  {
   "cell_type": "code",
   "execution_count": 227,
   "id": "5fe60a8f",
   "metadata": {
    "ExecuteTime": {
     "end_time": "2022-01-20T07:04:20.922798Z",
     "start_time": "2022-01-20T07:04:20.892883Z"
    },
    "scrolled": false
   },
   "outputs": [
    {
     "data": {
      "text/html": [
       "<div>\n",
       "<style scoped>\n",
       "    .dataframe tbody tr th:only-of-type {\n",
       "        vertical-align: middle;\n",
       "    }\n",
       "\n",
       "    .dataframe tbody tr th {\n",
       "        vertical-align: top;\n",
       "    }\n",
       "\n",
       "    .dataframe thead th {\n",
       "        text-align: right;\n",
       "    }\n",
       "</style>\n",
       "<table border=\"1\" class=\"dataframe\">\n",
       "  <thead>\n",
       "    <tr style=\"text-align: right;\">\n",
       "      <th></th>\n",
       "      <th>Open</th>\n",
       "      <th>High</th>\n",
       "      <th>Low</th>\n",
       "      <th>Close</th>\n",
       "      <th>Adj Close</th>\n",
       "      <th>Volume</th>\n",
       "      <th>Closing Differences</th>\n",
       "      <th>C-O/O</th>\n",
       "      <th>Tweet Id</th>\n",
       "      <th>Text</th>\n",
       "      <th>Username</th>\n",
       "      <th>Followers Count</th>\n",
       "      <th>Polarity/Subjectivity Scores</th>\n",
       "      <th>Polarity Categories</th>\n",
       "      <th>Closing Trend</th>\n",
       "    </tr>\n",
       "    <tr>\n",
       "      <th>Datetime</th>\n",
       "      <th></th>\n",
       "      <th></th>\n",
       "      <th></th>\n",
       "      <th></th>\n",
       "      <th></th>\n",
       "      <th></th>\n",
       "      <th></th>\n",
       "      <th></th>\n",
       "      <th></th>\n",
       "      <th></th>\n",
       "      <th></th>\n",
       "      <th></th>\n",
       "      <th></th>\n",
       "      <th></th>\n",
       "      <th></th>\n",
       "    </tr>\n",
       "  </thead>\n",
       "  <tbody>\n",
       "    <tr>\n",
       "      <th>2021-01-05</th>\n",
       "      <td>17.350000</td>\n",
       "      <td>18.080000</td>\n",
       "      <td>17.23</td>\n",
       "      <td>17.370001</td>\n",
       "      <td>17.370001</td>\n",
       "      <td>4961500.0</td>\n",
       "      <td>0.120001</td>\n",
       "      <td>0.115276</td>\n",
       "      <td>1346478740461690881</td>\n",
       "      <td>@ArsalanSaleemMD This guy. Was just selected a...</td>\n",
       "      <td>UtmbRadiology</td>\n",
       "      <td>456</td>\n",
       "      <td>(0.25, 0.4375)</td>\n",
       "      <td>Positive</td>\n",
       "      <td>Positive_Trend</td>\n",
       "    </tr>\n",
       "    <tr>\n",
       "      <th>2021-01-05</th>\n",
       "      <td>17.350000</td>\n",
       "      <td>18.080000</td>\n",
       "      <td>17.23</td>\n",
       "      <td>17.370001</td>\n",
       "      <td>17.370001</td>\n",
       "      <td>4961500.0</td>\n",
       "      <td>0.120001</td>\n",
       "      <td>0.115276</td>\n",
       "      <td>1346555487345664001</td>\n",
       "      <td>@Nospherato21 @FinnFriede1 @GYXdeals GameStop ...</td>\n",
       "      <td>WhyYouOTF</td>\n",
       "      <td>554</td>\n",
       "      <td>(0.1, 0.0)</td>\n",
       "      <td>Positive</td>\n",
       "      <td>Positive_Trend</td>\n",
       "    </tr>\n",
       "    <tr>\n",
       "      <th>2021-01-05</th>\n",
       "      <td>17.350000</td>\n",
       "      <td>18.080000</td>\n",
       "      <td>17.23</td>\n",
       "      <td>17.370001</td>\n",
       "      <td>17.370001</td>\n",
       "      <td>4961500.0</td>\n",
       "      <td>0.120001</td>\n",
       "      <td>0.115276</td>\n",
       "      <td>1346555775280439299</td>\n",
       "      <td>i pre ordered my copy of super mario 3d all st...</td>\n",
       "      <td>RGONZALEZ1978</td>\n",
       "      <td>436</td>\n",
       "      <td>(0.26666666666666666, 0.4533333333333333)</td>\n",
       "      <td>Positive</td>\n",
       "      <td>Positive_Trend</td>\n",
       "    </tr>\n",
       "    <tr>\n",
       "      <th>2021-01-05</th>\n",
       "      <td>17.350000</td>\n",
       "      <td>18.080000</td>\n",
       "      <td>17.23</td>\n",
       "      <td>17.370001</td>\n",
       "      <td>17.370001</td>\n",
       "      <td>4961500.0</td>\n",
       "      <td>0.120001</td>\n",
       "      <td>0.115276</td>\n",
       "      <td>1346555803491328003</td>\n",
       "      <td>Check your @GameStop receipts for shady fees, ...</td>\n",
       "      <td>tgccustoms</td>\n",
       "      <td>2636</td>\n",
       "      <td>(-0.25, 0.625)</td>\n",
       "      <td>Negative</td>\n",
       "      <td>Positive_Trend</td>\n",
       "    </tr>\n",
       "    <tr>\n",
       "      <th>2021-01-05</th>\n",
       "      <td>17.350000</td>\n",
       "      <td>18.080000</td>\n",
       "      <td>17.23</td>\n",
       "      <td>17.370001</td>\n",
       "      <td>17.370001</td>\n",
       "      <td>4961500.0</td>\n",
       "      <td>0.120001</td>\n",
       "      <td>0.115276</td>\n",
       "      <td>1346556842093133825</td>\n",
       "      <td>New game a couple days ago #gamestop was kind ...</td>\n",
       "      <td>StratoWave5200</td>\n",
       "      <td>258</td>\n",
       "      <td>(0.20727272727272722, 0.5709090909090909)</td>\n",
       "      <td>Positive</td>\n",
       "      <td>Positive_Trend</td>\n",
       "    </tr>\n",
       "    <tr>\n",
       "      <th>...</th>\n",
       "      <td>...</td>\n",
       "      <td>...</td>\n",
       "      <td>...</td>\n",
       "      <td>...</td>\n",
       "      <td>...</td>\n",
       "      <td>...</td>\n",
       "      <td>...</td>\n",
       "      <td>...</td>\n",
       "      <td>...</td>\n",
       "      <td>...</td>\n",
       "      <td>...</td>\n",
       "      <td>...</td>\n",
       "      <td>...</td>\n",
       "      <td>...</td>\n",
       "      <td>...</td>\n",
       "    </tr>\n",
       "    <tr>\n",
       "      <th>2021-02-08</th>\n",
       "      <td>72.410004</td>\n",
       "      <td>72.660004</td>\n",
       "      <td>58.02</td>\n",
       "      <td>60.000000</td>\n",
       "      <td>60.000000</td>\n",
       "      <td>25687300.0</td>\n",
       "      <td>-3.770000</td>\n",
       "      <td>-17.138521</td>\n",
       "      <td>1358689198547611649</td>\n",
       "      <td>@BakuExchange A pump is something like $GME or...</td>\n",
       "      <td>shinjisumato</td>\n",
       "      <td>69</td>\n",
       "      <td>(0.55, 0.375)</td>\n",
       "      <td>Positive</td>\n",
       "      <td>Negative_Trend</td>\n",
       "    </tr>\n",
       "    <tr>\n",
       "      <th>2021-02-08</th>\n",
       "      <td>72.410004</td>\n",
       "      <td>72.660004</td>\n",
       "      <td>58.02</td>\n",
       "      <td>60.000000</td>\n",
       "      <td>60.000000</td>\n",
       "      <td>25687300.0</td>\n",
       "      <td>-3.770000</td>\n",
       "      <td>-17.138521</td>\n",
       "      <td>1358689231770509314</td>\n",
       "      <td>@TheMightyFred @MaryL80138193 @IMPeachy1331 @C...</td>\n",
       "      <td>gme_posh_pug</td>\n",
       "      <td>2013</td>\n",
       "      <td>(-0.004166666666666674, 0.3666666666666667)</td>\n",
       "      <td>Neutral</td>\n",
       "      <td>Negative_Trend</td>\n",
       "    </tr>\n",
       "    <tr>\n",
       "      <th>2021-02-08</th>\n",
       "      <td>72.410004</td>\n",
       "      <td>72.660004</td>\n",
       "      <td>58.02</td>\n",
       "      <td>60.000000</td>\n",
       "      <td>60.000000</td>\n",
       "      <td>25687300.0</td>\n",
       "      <td>-3.770000</td>\n",
       "      <td>-17.138521</td>\n",
       "      <td>1358689438688137216</td>\n",
       "      <td>@NexusFolf I linked my account before the whol...</td>\n",
       "      <td>Glenn_der_lowe</td>\n",
       "      <td>117</td>\n",
       "      <td>(0.6, 0.35)</td>\n",
       "      <td>Positive</td>\n",
       "      <td>Negative_Trend</td>\n",
       "    </tr>\n",
       "    <tr>\n",
       "      <th>2021-02-08</th>\n",
       "      <td>72.410004</td>\n",
       "      <td>72.660004</td>\n",
       "      <td>58.02</td>\n",
       "      <td>60.000000</td>\n",
       "      <td>60.000000</td>\n",
       "      <td>25687300.0</td>\n",
       "      <td>-3.770000</td>\n",
       "      <td>-17.138521</td>\n",
       "      <td>1358689509622206465</td>\n",
       "      <td>@TheMightyFred @MaryL80138193 @IMPeachy1331 @C...</td>\n",
       "      <td>gme_posh_pug</td>\n",
       "      <td>2013</td>\n",
       "      <td>(-0.15892857142857145, 0.5928571428571429)</td>\n",
       "      <td>Negative</td>\n",
       "      <td>Negative_Trend</td>\n",
       "    </tr>\n",
       "    <tr>\n",
       "      <th>2021-02-08</th>\n",
       "      <td>72.410004</td>\n",
       "      <td>72.660004</td>\n",
       "      <td>58.02</td>\n",
       "      <td>60.000000</td>\n",
       "      <td>60.000000</td>\n",
       "      <td>25687300.0</td>\n",
       "      <td>-3.770000</td>\n",
       "      <td>-17.138521</td>\n",
       "      <td>1358690248268595200</td>\n",
       "      <td>@baantiej @BakuExchange @nytimes It had reason...</td>\n",
       "      <td>shinjisumato</td>\n",
       "      <td>69</td>\n",
       "      <td>(0.35, 0.65)</td>\n",
       "      <td>Positive</td>\n",
       "      <td>Negative_Trend</td>\n",
       "    </tr>\n",
       "  </tbody>\n",
       "</table>\n",
       "<p>70417 rows × 15 columns</p>\n",
       "</div>"
      ],
      "text/plain": [
       "                 Open       High    Low      Close  Adj Close      Volume  \\\n",
       "Datetime                                                                    \n",
       "2021-01-05  17.350000  18.080000  17.23  17.370001  17.370001   4961500.0   \n",
       "2021-01-05  17.350000  18.080000  17.23  17.370001  17.370001   4961500.0   \n",
       "2021-01-05  17.350000  18.080000  17.23  17.370001  17.370001   4961500.0   \n",
       "2021-01-05  17.350000  18.080000  17.23  17.370001  17.370001   4961500.0   \n",
       "2021-01-05  17.350000  18.080000  17.23  17.370001  17.370001   4961500.0   \n",
       "...               ...        ...    ...        ...        ...         ...   \n",
       "2021-02-08  72.410004  72.660004  58.02  60.000000  60.000000  25687300.0   \n",
       "2021-02-08  72.410004  72.660004  58.02  60.000000  60.000000  25687300.0   \n",
       "2021-02-08  72.410004  72.660004  58.02  60.000000  60.000000  25687300.0   \n",
       "2021-02-08  72.410004  72.660004  58.02  60.000000  60.000000  25687300.0   \n",
       "2021-02-08  72.410004  72.660004  58.02  60.000000  60.000000  25687300.0   \n",
       "\n",
       "            Closing Differences      C-O/O             Tweet Id  \\\n",
       "Datetime                                                          \n",
       "2021-01-05             0.120001   0.115276  1346478740461690881   \n",
       "2021-01-05             0.120001   0.115276  1346555487345664001   \n",
       "2021-01-05             0.120001   0.115276  1346555775280439299   \n",
       "2021-01-05             0.120001   0.115276  1346555803491328003   \n",
       "2021-01-05             0.120001   0.115276  1346556842093133825   \n",
       "...                         ...        ...                  ...   \n",
       "2021-02-08            -3.770000 -17.138521  1358689198547611649   \n",
       "2021-02-08            -3.770000 -17.138521  1358689231770509314   \n",
       "2021-02-08            -3.770000 -17.138521  1358689438688137216   \n",
       "2021-02-08            -3.770000 -17.138521  1358689509622206465   \n",
       "2021-02-08            -3.770000 -17.138521  1358690248268595200   \n",
       "\n",
       "                                                         Text        Username  \\\n",
       "Datetime                                                                        \n",
       "2021-01-05  @ArsalanSaleemMD This guy. Was just selected a...   UtmbRadiology   \n",
       "2021-01-05  @Nospherato21 @FinnFriede1 @GYXdeals GameStop ...       WhyYouOTF   \n",
       "2021-01-05  i pre ordered my copy of super mario 3d all st...   RGONZALEZ1978   \n",
       "2021-01-05  Check your @GameStop receipts for shady fees, ...      tgccustoms   \n",
       "2021-01-05  New game a couple days ago #gamestop was kind ...  StratoWave5200   \n",
       "...                                                       ...             ...   \n",
       "2021-02-08  @BakuExchange A pump is something like $GME or...    shinjisumato   \n",
       "2021-02-08  @TheMightyFred @MaryL80138193 @IMPeachy1331 @C...    gme_posh_pug   \n",
       "2021-02-08  @NexusFolf I linked my account before the whol...  Glenn_der_lowe   \n",
       "2021-02-08  @TheMightyFred @MaryL80138193 @IMPeachy1331 @C...    gme_posh_pug   \n",
       "2021-02-08  @baantiej @BakuExchange @nytimes It had reason...    shinjisumato   \n",
       "\n",
       "           Followers Count                 Polarity/Subjectivity Scores  \\\n",
       "Datetime                                                                  \n",
       "2021-01-05             456                               (0.25, 0.4375)   \n",
       "2021-01-05             554                                   (0.1, 0.0)   \n",
       "2021-01-05             436    (0.26666666666666666, 0.4533333333333333)   \n",
       "2021-01-05            2636                               (-0.25, 0.625)   \n",
       "2021-01-05             258    (0.20727272727272722, 0.5709090909090909)   \n",
       "...                    ...                                          ...   \n",
       "2021-02-08              69                                (0.55, 0.375)   \n",
       "2021-02-08            2013  (-0.004166666666666674, 0.3666666666666667)   \n",
       "2021-02-08             117                                  (0.6, 0.35)   \n",
       "2021-02-08            2013   (-0.15892857142857145, 0.5928571428571429)   \n",
       "2021-02-08              69                                 (0.35, 0.65)   \n",
       "\n",
       "           Polarity Categories   Closing Trend  \n",
       "Datetime                                        \n",
       "2021-01-05            Positive  Positive_Trend  \n",
       "2021-01-05            Positive  Positive_Trend  \n",
       "2021-01-05            Positive  Positive_Trend  \n",
       "2021-01-05            Negative  Positive_Trend  \n",
       "2021-01-05            Positive  Positive_Trend  \n",
       "...                        ...             ...  \n",
       "2021-02-08            Positive  Negative_Trend  \n",
       "2021-02-08             Neutral  Negative_Trend  \n",
       "2021-02-08            Positive  Negative_Trend  \n",
       "2021-02-08            Negative  Negative_Trend  \n",
       "2021-02-08            Positive  Negative_Trend  \n",
       "\n",
       "[70417 rows x 15 columns]"
      ]
     },
     "execution_count": 227,
     "metadata": {},
     "output_type": "execute_result"
    }
   ],
   "source": [
    "X_train"
   ]
  },
  {
   "cell_type": "markdown",
   "id": "18da0195",
   "metadata": {
    "heading_collapsed": true
   },
   "source": [
    "#### Support Vector Machine (Baseline)"
   ]
  },
  {
   "cell_type": "code",
   "execution_count": 39,
   "id": "9a763d56",
   "metadata": {
    "hidden": true
   },
   "outputs": [],
   "source": [
    "transformer_svm = ColumnTransformer([\n",
    "    ('ohe', OneHotEncoder(), ['Polarity Categories']),\n",
    "    ('scaler', StandardScaler(), ['Followers Count'])\n",
    "])"
   ]
  },
  {
   "cell_type": "code",
   "execution_count": 42,
   "id": "178fa5a2",
   "metadata": {
    "hidden": true
   },
   "outputs": [],
   "source": [
    "pipe_svm = Pipeline([\n",
    "    ('ohe', transformer_svm),\n",
    "    ('svm', svm.LinearSVC())\n",
    "])"
   ]
  },
  {
   "cell_type": "code",
   "execution_count": 44,
   "id": "d62bbbce",
   "metadata": {
    "hidden": true
   },
   "outputs": [
    {
     "name": "stderr",
     "output_type": "stream",
     "text": [
      "C:\\Users\\Daanish\\anaconda3\\envs\\capstone_environment\\lib\\site-packages\\sklearn\\svm\\_base.py:1206: ConvergenceWarning: Liblinear failed to converge, increase the number of iterations.\n",
      "  warnings.warn(\n"
     ]
    }
   ],
   "source": [
    "pipe_svm_fit = pipe_svm.fit(X_train, y_train)"
   ]
  },
  {
   "cell_type": "code",
   "execution_count": 45,
   "id": "d01e5e27",
   "metadata": {
    "hidden": true
   },
   "outputs": [
    {
     "data": {
      "text/plain": [
       "0.5198527057316683"
      ]
     },
     "execution_count": 45,
     "metadata": {},
     "output_type": "execute_result"
    }
   ],
   "source": [
    "pipe_svm_fit.score(X_test, y_test)"
   ]
  },
  {
   "cell_type": "markdown",
   "id": "a827ac81",
   "metadata": {},
   "source": [
    "#### Random Forest Classifier (Baseline)"
   ]
  },
  {
   "cell_type": "code",
   "execution_count": 229,
   "id": "9abda972",
   "metadata": {
    "ExecuteTime": {
     "end_time": "2022-01-20T07:05:06.971089Z",
     "start_time": "2022-01-20T07:05:06.953111Z"
    }
   },
   "outputs": [],
   "source": [
    "transformer_rfc = ColumnTransformer([\n",
    "    ('ohe', OneHotEncoder(), ['Polarity Categories']),\n",
    "    ('scaler', StandardScaler(), ['Followers Count'])\n",
    "])"
   ]
  },
  {
   "cell_type": "code",
   "execution_count": 230,
   "id": "720435dc",
   "metadata": {
    "ExecuteTime": {
     "end_time": "2022-01-20T07:05:08.544618Z",
     "start_time": "2022-01-20T07:05:08.529641Z"
    }
   },
   "outputs": [],
   "source": [
    "pipe_rfc = Pipeline([\n",
    "    ('ohe', transformer_rfc),\n",
    "    ('randomforest', GridSearchCV(RandomForestClassifier(),\n",
    "                                  param_grid={},\n",
    "                                  verbose=3,\n",
    "                                  n_jobs=4))\n",
    "])"
   ]
  },
  {
   "cell_type": "code",
   "execution_count": 231,
   "id": "776f64a6",
   "metadata": {
    "ExecuteTime": {
     "end_time": "2022-01-20T07:05:29.849507Z",
     "start_time": "2022-01-20T07:05:10.074274Z"
    }
   },
   "outputs": [
    {
     "name": "stdout",
     "output_type": "stream",
     "text": [
      "Fitting 5 folds for each of 1 candidates, totalling 5 fits\n"
     ]
    }
   ],
   "source": [
    "pipe_rfc_fit = pipe_rfc.fit(X_train.sort_index(), y_train.sort_index())"
   ]
  },
  {
   "cell_type": "code",
   "execution_count": 232,
   "id": "89a84a6b",
   "metadata": {
    "ExecuteTime": {
     "end_time": "2022-01-20T07:05:35.321655Z",
     "start_time": "2022-01-20T07:05:34.422055Z"
    }
   },
   "outputs": [
    {
     "name": "stdout",
     "output_type": "stream",
     "text": [
      "Test accuracy: 0.3848\n",
      "Test precision: 0.2985\n",
      "Test recall: 0.7962\n",
      "Test area under precision-recall curve: 0.3255\n",
      "Test f1 score: 0.4342\n"
     ]
    }
   ],
   "source": [
    "# shuffle = False\n",
    "print_model_evaluation(pipe_rfc_fit, model_evaluation(pipe_rfc_fit, X_test, y_test, positive_label='Positive_Trend'))"
   ]
  },
  {
   "cell_type": "code",
   "execution_count": 221,
   "id": "e27ff6d8",
   "metadata": {
    "ExecuteTime": {
     "end_time": "2022-01-20T07:00:25.800451Z",
     "start_time": "2022-01-20T07:00:24.873914Z"
    }
   },
   "outputs": [
    {
     "name": "stdout",
     "output_type": "stream",
     "text": [
      "Test accuracy: 0.5935\n",
      "Test precision: 0.623\n",
      "Test recall: 0.7065\n",
      "Test area under precision-recall curve: 0.6786\n",
      "Test f1 score: 0.6621\n"
     ]
    }
   ],
   "source": [
    "print_model_evaluation(pipe_rfc_fit, model_evaluation(pipe_rfc_fit, X_test, y_test, positive_label='Positive_Trend'))"
   ]
  },
  {
   "cell_type": "code",
   "execution_count": 200,
   "id": "55098dc1",
   "metadata": {
    "ExecuteTime": {
     "end_time": "2022-01-20T06:38:01.414797Z",
     "start_time": "2022-01-20T06:38:00.488433Z"
    }
   },
   "outputs": [
    {
     "name": "stdout",
     "output_type": "stream",
     "text": [
      "Test accuracy: 0.5919\n",
      "Test precision: 0.6234\n",
      "Test recall: 0.6976\n",
      "Test area under precision-recall curve: 0.6787\n",
      "Test f1 score: 0.6584\n"
     ]
    }
   ],
   "source": [
    "# model with updated data (more data)\n",
    "print_model_evaluation(pipe_rfc_fit, model_evaluation(pipe_rfc_fit, X_test, y_test, positive_label='Positive_Trend'))"
   ]
  },
  {
   "cell_type": "code",
   "execution_count": 101,
   "id": "ca831e7a",
   "metadata": {
    "ExecuteTime": {
     "end_time": "2022-01-20T02:06:19.492234Z",
     "start_time": "2022-01-20T02:06:18.865899Z"
    }
   },
   "outputs": [
    {
     "name": "stdout",
     "output_type": "stream",
     "text": [
      "Test accuracy: 0.5854\n",
      "Test precision: 0.576\n",
      "Test recall: 0.5208\n",
      "Test area under precision-recall curve: 0.5957\n",
      "Test f1 score: 0.547\n"
     ]
    }
   ],
   "source": [
    "# old before yesterdays updated data\n",
    "\n",
    "print_model_evaluation(pipe_rfc_fit, model_evaluation(pipe_rfc_fit, X_test, y_test, positive_label='Positive_Trend'))"
   ]
  },
  {
   "cell_type": "code",
   "execution_count": 240,
   "id": "a91d50e6",
   "metadata": {
    "ExecuteTime": {
     "end_time": "2022-01-20T07:15:59.499416Z",
     "start_time": "2022-01-20T07:15:59.027602Z"
    }
   },
   "outputs": [
    {
     "data": {
      "text/plain": [
       "<sklearn.metrics._plot.roc_curve.RocCurveDisplay at 0x2a06fbcb670>"
      ]
     },
     "execution_count": 240,
     "metadata": {},
     "output_type": "execute_result"
    },
    {
     "data": {
      "image/png": "[encoded data removed]",
      "text/plain": [
       "<Figure size 432x288 with 1 Axes>"
      ]
     },
     "metadata": {},
     "output_type": "display_data"
    }
   ],
   "source": [
    "RocCurveDisplay.from_estimator(pipe_rfc_fit, X_test.sort_index(), y_test.sort_index()) "
   ]
  },
  {
   "cell_type": "code",
   "execution_count": 201,
   "id": "3c5dbe77",
   "metadata": {
    "ExecuteTime": {
     "end_time": "2022-01-20T06:38:35.406486Z",
     "start_time": "2022-01-20T06:38:34.944722Z"
    }
   },
   "outputs": [
    {
     "data": {
      "text/plain": [
       "<sklearn.metrics._plot.roc_curve.RocCurveDisplay at 0x2a0509d7e50>"
      ]
     },
     "execution_count": 201,
     "metadata": {},
     "output_type": "execute_result"
    },
    {
     "data": {
      "image/png": "[encoded data removed]",
      "text/plain": [
       "<Figure size 432x288 with 1 Axes>"
      ]
     },
     "metadata": {},
     "output_type": "display_data"
    }
   ],
   "source": [
    "# model with updated data (more data)\n",
    "RocCurveDisplay.from_estimator(pipe_rfc_fit, X_test, y_test)"
   ]
  },
  {
   "cell_type": "code",
   "execution_count": 105,
   "id": "2ecdcdee",
   "metadata": {
    "ExecuteTime": {
     "end_time": "2022-01-20T02:08:53.464052Z",
     "start_time": "2022-01-20T02:08:53.093694Z"
    }
   },
   "outputs": [
    {
     "data": {
      "text/plain": [
       "<sklearn.metrics._plot.roc_curve.RocCurveDisplay at 0x2a0138e2fa0>"
      ]
     },
     "execution_count": 105,
     "metadata": {},
     "output_type": "execute_result"
    },
    {
     "data": {
      "image/png": "[encoded data removed]",
      "text/plain": [
       "<Figure size 432x288 with 1 Axes>"
      ]
     },
     "metadata": {},
     "output_type": "display_data"
    }
   ],
   "source": [
    "# old before yesterdays updated data\n",
    "RocCurveDisplay.from_estimator(pipe_rfc_fit, X_test, y_test)"
   ]
  },
  {
   "cell_type": "markdown",
   "id": "1a7cbb2d",
   "metadata": {},
   "source": [
    "#### Logistic Regression (Baseline)"
   ]
  },
  {
   "cell_type": "code",
   "execution_count": 234,
   "id": "50802564",
   "metadata": {
    "ExecuteTime": {
     "end_time": "2022-01-20T07:07:20.576883Z",
     "start_time": "2022-01-20T07:07:20.569900Z"
    }
   },
   "outputs": [],
   "source": [
    "transformer_logit = ColumnTransformer([\n",
    "    ('ohe', OneHotEncoder(), ['Polarity Categories']),\n",
    "    ('scaler', StandardScaler(), ['Followers Count'])\n",
    "])"
   ]
  },
  {
   "cell_type": "code",
   "execution_count": 235,
   "id": "e6982a10",
   "metadata": {
    "ExecuteTime": {
     "end_time": "2022-01-20T07:07:22.182409Z",
     "start_time": "2022-01-20T07:07:22.167420Z"
    }
   },
   "outputs": [],
   "source": [
    "pipe_logit = Pipeline([\n",
    "    ('ohe', transformer_logit),\n",
    "    ('logit', LogisticRegression())\n",
    "])"
   ]
  },
  {
   "cell_type": "code",
   "execution_count": 236,
   "id": "5d8468a3",
   "metadata": {
    "ExecuteTime": {
     "end_time": "2022-01-20T07:07:35.820966Z",
     "start_time": "2022-01-20T07:07:35.697298Z"
    }
   },
   "outputs": [],
   "source": [
    "pipe_logit_fit = pipe_logit.fit(X_train, y_train)"
   ]
  },
  {
   "cell_type": "code",
   "execution_count": 237,
   "id": "8e18a5e4",
   "metadata": {
    "ExecuteTime": {
     "end_time": "2022-01-20T07:07:38.336319Z",
     "start_time": "2022-01-20T07:07:38.027165Z"
    }
   },
   "outputs": [
    {
     "data": {
      "text/plain": [
       "{'accuracy': 0.2965,\n",
       " 'precision': 0.2965,\n",
       " 'recall': 1.0,\n",
       " 'area under precision-recall curve': 0.2907,\n",
       " 'f1 score': 0.4574}"
      ]
     },
     "execution_count": 237,
     "metadata": {},
     "output_type": "execute_result"
    }
   ],
   "source": [
    "model_evaluation(pipe_logit, X_test, y_test, positive_label='Positive_Trend')"
   ]
  },
  {
   "cell_type": "code",
   "execution_count": 238,
   "id": "2d8d7af8",
   "metadata": {
    "ExecuteTime": {
     "end_time": "2022-01-20T07:07:44.395599Z",
     "start_time": "2022-01-20T07:07:44.376628Z"
    }
   },
   "outputs": [
    {
     "data": {
      "text/plain": [
       "array([[0.38074866, 0.61925134],\n",
       "       [0.3807496 , 0.6192504 ],\n",
       "       [0.36836766, 0.63163234],\n",
       "       ...,\n",
       "       [0.38074986, 0.61925014],\n",
       "       [0.3683668 , 0.6316332 ],\n",
       "       [0.38778349, 0.61221651]])"
      ]
     },
     "execution_count": 238,
     "metadata": {},
     "output_type": "execute_result"
    }
   ],
   "source": [
    "pipe_logit_fit.predict_proba(X_test)"
   ]
  },
  {
   "cell_type": "code",
   "execution_count": null,
   "id": "4719858c",
   "metadata": {},
   "outputs": [],
   "source": []
  },
  {
   "cell_type": "code",
   "execution_count": null,
   "id": "c9dd7129",
   "metadata": {},
   "outputs": [],
   "source": []
  }
 ],
 "metadata": {
  "kernelspec": {
   "display_name": "capstone_kernel",
   "language": "python",
   "name": "capstone_kernel"
  },
  "language_info": {
   "codemirror_mode": {
    "name": "ipython",
    "version": 3
   },
   "file_extension": ".py",
   "mimetype": "text/x-python",
   "name": "python",
   "nbconvert_exporter": "python",
   "pygments_lexer": "ipython3",
   "version": "3.9.7"
  },
  "varInspector": {
   "cols": {
    "lenName": 16,
    "lenType": 16,
    "lenVar": 40
   },
   "kernels_config": {
    "python": {
     "delete_cmd_postfix": "",
     "delete_cmd_prefix": "del ",
     "library": "var_list.py",
     "varRefreshCmd": "print(var_dic_list())"
    },
    "r": {
     "delete_cmd_postfix": ") ",
     "delete_cmd_prefix": "rm(",
     "library": "var_list.r",
     "varRefreshCmd": "cat(var_dic_list()) "
    }
   },
   "types_to_exclude": [
    "module",
    "function",
    "builtin_function_or_method",
    "instance",
    "_Feature"
   ],
   "window_display": false
  }
 },
 "nbformat": 4,
 "nbformat_minor": 5
}
