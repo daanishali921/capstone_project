{
 "cells": [
  {
   "cell_type": "markdown",
   "id": "20adad52",
   "metadata": {},
   "source": [
    "# Import Libraries"
   ]
  },
  {
   "cell_type": "code",
   "execution_count": 1,
   "id": "854044a8",
   "metadata": {},
   "outputs": [],
   "source": [
    "import matplotlib.pyplot as plt\n",
    "import seaborn as sns\n",
    "sns.set()\n",
    "\n",
    "import os\n",
    "import subprocess\n",
    "\n",
    "import json\n",
    "import csv\n",
    "\n",
    "import pandas as pd\n",
    "import numpy as np\n",
    "\n",
    "from datetime import datetime, date, time\n",
    "\n",
    "import snscrape.modules.twitter as sntwitter\n",
    "import yfinance as yf\n",
    "\n",
    "import re\n",
    "\n",
    "import time\n",
    "\n",
    "import glob\n",
    "\n",
    "from textblob import TextBlob"
   ]
  },
  {
   "cell_type": "markdown",
   "id": "2568faf2",
   "metadata": {},
   "source": [
    "# scrapeTweets() and dataWrangle() functions"
   ]
  },
  {
   "cell_type": "code",
   "execution_count": 2,
   "id": "8293af13-b4ea-42ad-a7d0-a2fb9326be41",
   "metadata": {},
   "outputs": [],
   "source": [
    "# Keep note of directory_name -- it is based on the stock in question of the form tweets_(STOCK_NAME)\n",
    "# example: tweets_GME or tweets_TSLA\n",
    "\n",
    "def scrapeTweets(start, stop, keyword, directory, tweet_limit=1):\n",
    "    if not os.path.exists(directory): # Creates directory in current directory if doesn't already exist\n",
    "        os.mkdir(directory)\n",
    "    \n",
    "    file_path = os.path.join(directory, f'keyword:{keyword}__start:{start}_end:{stop}__limit:{tweet_limit}.csv')\n",
    "    \n",
    "    tweet_list = []\n",
    "    for i,tweet in enumerate(sntwitter.TwitterSearchScraper(f'{keyword} since:{start} until:{stop}').get_items()):\n",
    "        if i > tweet_limit:\n",
    "            break\n",
    "        tweet_list.append([tweet.date, # Appending all tweet data into a list of list\n",
    "                           tweet.id, \n",
    "                           tweet.content, \n",
    "                           tweet.user.username, \n",
    "                           tweet.user.followersCount, \n",
    "                           tweet.hashtags, \n",
    "                           tweet.cashtags, \n",
    "                           tweet.lang])\n",
    "    \n",
    "    df_tweets = pd.DataFrame(tweet_list, columns=['Datetime', # Creating df of tweet data\n",
    "                                                  'Tweet Id', \n",
    "                                                  'Text', \n",
    "                                                  'Username', \n",
    "                                                  'Followers Count', \n",
    "                                                  'Hashtags', \n",
    "                                                  'Cashtags', \n",
    "                                                  'Language'])\n",
    "    \n",
    "    df_tweets.to_csv(file_path, index=False) # Writing df_tweets into new csv file\n",
    "    \n",
    "    if os.path.isfile(file_path) == True:\n",
    "        return print(f'Successfully saved DataFrame to {file_path}')\n",
    "    else:\n",
    "        return print('DataFrame not saved -- possible error has occurred.')        "
   ]
  },
  {
   "cell_type": "code",
   "execution_count": 3,
   "id": "d5dfebb5-6eb1-4b19-8686-9dcc43579714",
   "metadata": {},
   "outputs": [],
   "source": [
    "# Creating function to clean dataframes programatically\n",
    "\n",
    "\n",
    "def dataWrangle(dataframe_list):   \n",
    "    df_concat = pd.concat(dataframe_list) # Concatenate all the DataFrames from the list of DataFrames\n",
    "    df_filter = df_concat[df_concat['Language'] == 'en'][['Datetime', # Filter via Language = 'en'\n",
    "                                                           'Tweet Id', # Remove unwanted columns\n",
    "                                                           'Text', \n",
    "                                                           'Username',\n",
    "                                                           'Followers Count']] \n",
    "    df_clean = df_filter.astype({'Tweet Id':str})\\\n",
    "                        .dropna()\\\n",
    "                        .drop_duplicates()\\\n",
    "                        .reset_index(drop=True)\n",
    "    \n",
    "    df_clean['Text'] = (df_clean['Text'] # Cleans out redundant string characters within each tweet\n",
    "                       .apply(lambda x: ' '.join(re.sub(r'https\\S+', '', x)\n",
    "                                                .replace('\\n', ' ')\n",
    "                                                .split()\n",
    "                                                )\n",
    "                             )\n",
    "                       )\n",
    "    \n",
    "    return df_clean\n",
    "                                               "
   ]
  },
  {
   "cell_type": "markdown",
   "id": "07671159",
   "metadata": {},
   "source": [
    "# Creating DataFrames of GME Tweets"
   ]
  },
  {
   "cell_type": "code",
   "execution_count": 4,
   "id": "434410a9-9c53-429f-9e88-64eae627eee2",
   "metadata": {},
   "outputs": [],
   "source": [
    "# List of file names\n",
    "\n",
    "# Files from two directories -- scraped at different time irl \n",
    "# for the same dates within the data\n",
    "\n",
    "file_path_tweets_GME = glob.glob('tweets_GME/*')\n",
    "file_path_tweets_scraped = glob.glob('tweets_scraped/*')"
   ]
  },
  {
   "cell_type": "code",
   "execution_count": 5,
   "id": "8cf0313a-1ff8-4be7-9e0a-9fb3c5c289bb",
   "metadata": {},
   "outputs": [],
   "source": [
    "# Creating a list of DataFrames using glob's list of files names\n",
    "df_list = []\n",
    "for i in file_path_tweets_GME + file_path_tweets_scraped:\n",
    "    df_list.append(pd.read_csv(i))"
   ]
  },
  {
   "cell_type": "code",
   "execution_count": 6,
   "id": "fbf82f3f-f0a5-48eb-a84e-e2fac6d89e8f",
   "metadata": {},
   "outputs": [],
   "source": [
    "start_time = date(2021, 1, 8).strftime('%Y-%m-%d')\n",
    "stop_time = date(2021, 2, 12).strftime('%Y-%m-%d')\n",
    "\n",
    "def toDateTimeIndex(df): # year-month-day\n",
    "    df['Datetime'] = pd.to_datetime(df['Datetime']).dt.floor('d').dt.tz_localize(tz=None)\n",
    "    df.index = pd.DatetimeIndex(df['Datetime']) # Can use .set_index(<column name>) instead to make function a one liner\n",
    "    df = df.drop(columns=['Datetime'])\n",
    "    return df.sort_index()"
   ]
  },
  {
   "cell_type": "code",
   "execution_count": 7,
   "id": "83032170-f296-4f59-bfd6-80b42e4cfc08",
   "metadata": {},
   "outputs": [],
   "source": [
    "df = dataWrangle(df_list)"
   ]
  },
  {
   "cell_type": "code",
   "execution_count": 524,
   "id": "6d9c8dbd",
   "metadata": {},
   "outputs": [
    {
     "data": {
      "text/html": [
       "<div>\n",
       "<style scoped>\n",
       "    .dataframe tbody tr th:only-of-type {\n",
       "        vertical-align: middle;\n",
       "    }\n",
       "\n",
       "    .dataframe tbody tr th {\n",
       "        vertical-align: top;\n",
       "    }\n",
       "\n",
       "    .dataframe thead th {\n",
       "        text-align: right;\n",
       "    }\n",
       "</style>\n",
       "<table border=\"1\" class=\"dataframe\">\n",
       "  <thead>\n",
       "    <tr style=\"text-align: right;\">\n",
       "      <th></th>\n",
       "      <th>Datetime</th>\n",
       "      <th>Tweet Id</th>\n",
       "      <th>Text</th>\n",
       "      <th>Username</th>\n",
       "      <th>Followers Count</th>\n",
       "      <th>Polarity/Subjectivity Scores</th>\n",
       "    </tr>\n",
       "  </thead>\n",
       "  <tbody>\n",
       "    <tr>\n",
       "      <th>0</th>\n",
       "      <td>2021-01-08</td>\n",
       "      <td>1347684080905814016</td>\n",
       "      <td>$GME NEW ARTICLE : GameStop Is Caught in a Vic...</td>\n",
       "      <td>StckPro</td>\n",
       "      <td>4198</td>\n",
       "      <td>(-0.09090909090909091, 0.6886363636363636)</td>\n",
       "    </tr>\n",
       "    <tr>\n",
       "      <th>1</th>\n",
       "      <td>2021-01-08</td>\n",
       "      <td>1347683977327497217</td>\n",
       "      <td>@RamBhupatiraju @richard_chu97 @saxena_puru @F...</td>\n",
       "      <td>tmyrbrgh</td>\n",
       "      <td>263</td>\n",
       "      <td>(0.0, 0.0)</td>\n",
       "    </tr>\n",
       "    <tr>\n",
       "      <th>2</th>\n",
       "      <td>2021-01-08</td>\n",
       "      <td>1347681621953159169</td>\n",
       "      <td>GameStop Is Caught in a Vicious Cycle $GME $TG...</td>\n",
       "      <td>newsfilterio</td>\n",
       "      <td>20861</td>\n",
       "      <td>(-1.0, 1.0)</td>\n",
       "    </tr>\n",
       "    <tr>\n",
       "      <th>3</th>\n",
       "      <td>2021-01-08</td>\n",
       "      <td>1347637710866030592</td>\n",
       "      <td>@michaeljburry what are your thought on what s...</td>\n",
       "      <td>JohnMOFOThomas</td>\n",
       "      <td>5</td>\n",
       "      <td>(0.225, 0.625)</td>\n",
       "    </tr>\n",
       "    <tr>\n",
       "      <th>4</th>\n",
       "      <td>2021-01-08</td>\n",
       "      <td>1347618202612760576</td>\n",
       "      <td>@ryancohen Can't stop, won't stop, GameStop! C...</td>\n",
       "      <td>AeternumLibera</td>\n",
       "      <td>36</td>\n",
       "      <td>(0.0, 0.0)</td>\n",
       "    </tr>\n",
       "    <tr>\n",
       "      <th>...</th>\n",
       "      <td>...</td>\n",
       "      <td>...</td>\n",
       "      <td>...</td>\n",
       "      <td>...</td>\n",
       "      <td>...</td>\n",
       "      <td>...</td>\n",
       "    </tr>\n",
       "    <tr>\n",
       "      <th>106623</th>\n",
       "      <td>2021-02-05</td>\n",
       "      <td>1357705012919508995</td>\n",
       "      <td>@carlquintanilla @CNBC They Stopped Us Again, ...</td>\n",
       "      <td>BleezyforSheezy</td>\n",
       "      <td>131</td>\n",
       "      <td>(0.5, 0.6)</td>\n",
       "    </tr>\n",
       "    <tr>\n",
       "      <th>106624</th>\n",
       "      <td>2021-02-05</td>\n",
       "      <td>1357705010222673923</td>\n",
       "      <td>$GME said</td>\n",
       "      <td>prodigenoir</td>\n",
       "      <td>848</td>\n",
       "      <td>(0.0, 0.0)</td>\n",
       "    </tr>\n",
       "    <tr>\n",
       "      <th>106625</th>\n",
       "      <td>2021-02-05</td>\n",
       "      <td>1357705006724620290</td>\n",
       "      <td>$GME and $AMC halted 🤨</td>\n",
       "      <td>tweek3634</td>\n",
       "      <td>24</td>\n",
       "      <td>(0.0, 0.0)</td>\n",
       "    </tr>\n",
       "    <tr>\n",
       "      <th>106626</th>\n",
       "      <td>2021-02-05</td>\n",
       "      <td>1357705004996517891</td>\n",
       "      <td>BUY #AMC and #GME 💎🙌🚀🦍🍌 (not financial advice)</td>\n",
       "      <td>YoSheenn</td>\n",
       "      <td>201</td>\n",
       "      <td>(0.0, 0.0)</td>\n",
       "    </tr>\n",
       "    <tr>\n",
       "      <th>106627</th>\n",
       "      <td>2021-02-05</td>\n",
       "      <td>1357705003385970695</td>\n",
       "      <td>$GME going crazy again 😄</td>\n",
       "      <td>momchev12</td>\n",
       "      <td>653</td>\n",
       "      <td>(-0.6, 0.9)</td>\n",
       "    </tr>\n",
       "  </tbody>\n",
       "</table>\n",
       "<p>106628 rows × 6 columns</p>\n",
       "</div>"
      ],
      "text/plain": [
       "         Datetime             Tweet Id  \\\n",
       "0      2021-01-08  1347684080905814016   \n",
       "1      2021-01-08  1347683977327497217   \n",
       "2      2021-01-08  1347681621953159169   \n",
       "3      2021-01-08  1347637710866030592   \n",
       "4      2021-01-08  1347618202612760576   \n",
       "...           ...                  ...   \n",
       "106623 2021-02-05  1357705012919508995   \n",
       "106624 2021-02-05  1357705010222673923   \n",
       "106625 2021-02-05  1357705006724620290   \n",
       "106626 2021-02-05  1357705004996517891   \n",
       "106627 2021-02-05  1357705003385970695   \n",
       "\n",
       "                                                     Text         Username  \\\n",
       "0       $GME NEW ARTICLE : GameStop Is Caught in a Vic...          StckPro   \n",
       "1       @RamBhupatiraju @richard_chu97 @saxena_puru @F...         tmyrbrgh   \n",
       "2       GameStop Is Caught in a Vicious Cycle $GME $TG...     newsfilterio   \n",
       "3       @michaeljburry what are your thought on what s...   JohnMOFOThomas   \n",
       "4       @ryancohen Can't stop, won't stop, GameStop! C...   AeternumLibera   \n",
       "...                                                   ...              ...   \n",
       "106623  @carlquintanilla @CNBC They Stopped Us Again, ...  BleezyforSheezy   \n",
       "106624                                          $GME said      prodigenoir   \n",
       "106625                             $GME and $AMC halted 🤨        tweek3634   \n",
       "106626     BUY #AMC and #GME 💎🙌🚀🦍🍌 (not financial advice)         YoSheenn   \n",
       "106627                           $GME going crazy again 😄        momchev12   \n",
       "\n",
       "       Followers Count                Polarity/Subjectivity Scores  \n",
       "0                 4198  (-0.09090909090909091, 0.6886363636363636)  \n",
       "1                  263                                  (0.0, 0.0)  \n",
       "2                20861                                 (-1.0, 1.0)  \n",
       "3                    5                              (0.225, 0.625)  \n",
       "4                   36                                  (0.0, 0.0)  \n",
       "...                ...                                         ...  \n",
       "106623             131                                  (0.5, 0.6)  \n",
       "106624             848                                  (0.0, 0.0)  \n",
       "106625              24                                  (0.0, 0.0)  \n",
       "106626             201                                  (0.0, 0.0)  \n",
       "106627             653                                 (-0.6, 0.9)  \n",
       "\n",
       "[106628 rows x 6 columns]"
      ]
     },
     "execution_count": 524,
     "metadata": {},
     "output_type": "execute_result"
    }
   ],
   "source": [
    "df"
   ]
  },
  {
   "cell_type": "code",
   "execution_count": 8,
   "id": "f1aa140e-a2df-44a4-8088-7652d13a1b25",
   "metadata": {},
   "outputs": [],
   "source": [
    "df['Datetime'] = pd.to_datetime(df['Datetime']).dt.floor('d').dt.tz_localize(tz=None)"
   ]
  },
  {
   "cell_type": "markdown",
   "id": "a01ac4fb",
   "metadata": {},
   "source": [
    "# Polarity Scores"
   ]
  },
  {
   "cell_type": "markdown",
   "id": "155d2439",
   "metadata": {},
   "source": [
    "A list of goals to accomplish: \\\n",
    "    - Figure out polarity/subjectivity scores for every tweet\\\n",
    "    - For now we want to work with dates from 01/21/2021 and onwards as a test\\\n",
    "    - Mess about with distribution of negative/positive/neutral scores to have a healthy balance of samples\\\n",
    "    - Break everything up by days\\\n",
    "    - Move onto bringing in financial data"
   ]
  },
  {
   "cell_type": "code",
   "execution_count": 9,
   "id": "3ec2cad2-4a7f-4ae5-82fd-55b262b96dcd",
   "metadata": {
    "tags": []
   },
   "outputs": [],
   "source": [
    "# Creating column of scores\n",
    "\n",
    "df['Polarity/Subjectivity Scores'] = df['Text'].apply(lambda text: TextBlob(text).sentiment)"
   ]
  },
  {
   "cell_type": "code",
   "execution_count": 10,
   "id": "b8b7047f-fc62-4c73-8215-1a2372bad726",
   "metadata": {},
   "outputs": [],
   "source": [
    "# Cleaning out scores of (0,0)\n",
    "\n",
    "df_pol_clean = df[df['Polarity/Subjectivity Scores'] != (0.0,0.0)].set_index('Datetime').sort_index()"
   ]
  },
  {
   "cell_type": "code",
   "execution_count": 525,
   "id": "b98568b8-7985-4396-aa73-fc2ef2de96fa",
   "metadata": {},
   "outputs": [],
   "source": [
    "# Filtering out dates with low tweet volume\n",
    "\n",
    "df_sorted_dates = df_pol_clean[\"2021-01-21\":]"
   ]
  },
  {
   "cell_type": "code",
   "execution_count": 526,
   "id": "fcc785fc",
   "metadata": {},
   "outputs": [
    {
     "data": {
      "text/html": [
       "<div>\n",
       "<style scoped>\n",
       "    .dataframe tbody tr th:only-of-type {\n",
       "        vertical-align: middle;\n",
       "    }\n",
       "\n",
       "    .dataframe tbody tr th {\n",
       "        vertical-align: top;\n",
       "    }\n",
       "\n",
       "    .dataframe thead th {\n",
       "        text-align: right;\n",
       "    }\n",
       "</style>\n",
       "<table border=\"1\" class=\"dataframe\">\n",
       "  <thead>\n",
       "    <tr style=\"text-align: right;\">\n",
       "      <th></th>\n",
       "      <th>Tweet Id</th>\n",
       "      <th>Text</th>\n",
       "      <th>Username</th>\n",
       "      <th>Followers Count</th>\n",
       "      <th>Polarity/Subjectivity Scores</th>\n",
       "    </tr>\n",
       "    <tr>\n",
       "      <th>Datetime</th>\n",
       "      <th></th>\n",
       "      <th></th>\n",
       "      <th></th>\n",
       "      <th></th>\n",
       "      <th></th>\n",
       "    </tr>\n",
       "  </thead>\n",
       "  <tbody>\n",
       "    <tr>\n",
       "      <th>2021-01-21</th>\n",
       "      <td>1352342019788607489</td>\n",
       "      <td>So, Dr. Burry, some free advice for a good guy...</td>\n",
       "      <td>PBRStreetGang7</td>\n",
       "      <td>896</td>\n",
       "      <td>(0.15555555555555559, 0.6611111111111111)</td>\n",
       "    </tr>\n",
       "    <tr>\n",
       "      <th>2021-01-21</th>\n",
       "      <td>1352343155224416257</td>\n",
       "      <td>@LizClaman @GameStop @ClamanCountdown Liz, And...</td>\n",
       "      <td>HiBeam65</td>\n",
       "      <td>73</td>\n",
       "      <td>(-0.18787878787878784, 0.4055555555555555)</td>\n",
       "    </tr>\n",
       "    <tr>\n",
       "      <th>2021-01-21</th>\n",
       "      <td>1352345333469077508</td>\n",
       "      <td>@FarisBakkar @Long_GME E-commerce growth for G...</td>\n",
       "      <td>MarcosMalakos</td>\n",
       "      <td>340</td>\n",
       "      <td>(0.05833333333333335, 0.4583333333333333)</td>\n",
       "    </tr>\n",
       "    <tr>\n",
       "      <th>2021-01-21</th>\n",
       "      <td>1352345709983404032</td>\n",
       "      <td>@FarisBakkar @Long_GME You are honestly recycl...</td>\n",
       "      <td>MarcosMalakos</td>\n",
       "      <td>340</td>\n",
       "      <td>(0.049999999999999975, 0.5083333333333333)</td>\n",
       "    </tr>\n",
       "    <tr>\n",
       "      <th>2021-01-21</th>\n",
       "      <td>1352346412080627723</td>\n",
       "      <td>UPDATE: Citron's Andrew Left On GameStop Short...</td>\n",
       "      <td>FuzzyLogicBrock</td>\n",
       "      <td>580</td>\n",
       "      <td>(0.075, 0.3989583333333333)</td>\n",
       "    </tr>\n",
       "    <tr>\n",
       "      <th>...</th>\n",
       "      <td>...</td>\n",
       "      <td>...</td>\n",
       "      <td>...</td>\n",
       "      <td>...</td>\n",
       "      <td>...</td>\n",
       "    </tr>\n",
       "    <tr>\n",
       "      <th>2021-02-11</th>\n",
       "      <td>1359695651165077504</td>\n",
       "      <td>@KChampbell @2009Michael1984 Just think if Blo...</td>\n",
       "      <td>kul_kan2017</td>\n",
       "      <td>99</td>\n",
       "      <td>(0.05393939393939393, 0.4242424242424243)</td>\n",
       "    </tr>\n",
       "    <tr>\n",
       "      <th>2021-02-11</th>\n",
       "      <td>1359695846695141377</td>\n",
       "      <td>@aurban22 @RocketCatchnBob Yes, you should be ...</td>\n",
       "      <td>j2_trade</td>\n",
       "      <td>65</td>\n",
       "      <td>(0.45, 0.7866666666666667)</td>\n",
       "    </tr>\n",
       "    <tr>\n",
       "      <th>2021-02-11</th>\n",
       "      <td>1359695921135538177</td>\n",
       "      <td>My retarded question is, since diamond hands a...</td>\n",
       "      <td>NPizzi</td>\n",
       "      <td>541</td>\n",
       "      <td>(-0.2, 0.45)</td>\n",
       "    </tr>\n",
       "    <tr>\n",
       "      <th>2021-02-11</th>\n",
       "      <td>1359696156247265280</td>\n",
       "      <td>Cannabis stocks lit up as the Reddit rally dro...</td>\n",
       "      <td>Reuters</td>\n",
       "      <td>24087182</td>\n",
       "      <td>(0.18181818181818182, 0.5)</td>\n",
       "    </tr>\n",
       "    <tr>\n",
       "      <th>2021-02-11</th>\n",
       "      <td>1359967315358584832</td>\n",
       "      <td>@ajeyehassan You realise it won't hit $1 right...</td>\n",
       "      <td>NonstopBepis</td>\n",
       "      <td>65</td>\n",
       "      <td>(0.2392857142857143, 0.5865079365079365)</td>\n",
       "    </tr>\n",
       "  </tbody>\n",
       "</table>\n",
       "<p>73990 rows × 5 columns</p>\n",
       "</div>"
      ],
      "text/plain": [
       "                       Tweet Id  \\\n",
       "Datetime                          \n",
       "2021-01-21  1352342019788607489   \n",
       "2021-01-21  1352343155224416257   \n",
       "2021-01-21  1352345333469077508   \n",
       "2021-01-21  1352345709983404032   \n",
       "2021-01-21  1352346412080627723   \n",
       "...                         ...   \n",
       "2021-02-11  1359695651165077504   \n",
       "2021-02-11  1359695846695141377   \n",
       "2021-02-11  1359695921135538177   \n",
       "2021-02-11  1359696156247265280   \n",
       "2021-02-11  1359967315358584832   \n",
       "\n",
       "                                                         Text  \\\n",
       "Datetime                                                        \n",
       "2021-01-21  So, Dr. Burry, some free advice for a good guy...   \n",
       "2021-01-21  @LizClaman @GameStop @ClamanCountdown Liz, And...   \n",
       "2021-01-21  @FarisBakkar @Long_GME E-commerce growth for G...   \n",
       "2021-01-21  @FarisBakkar @Long_GME You are honestly recycl...   \n",
       "2021-01-21  UPDATE: Citron's Andrew Left On GameStop Short...   \n",
       "...                                                       ...   \n",
       "2021-02-11  @KChampbell @2009Michael1984 Just think if Blo...   \n",
       "2021-02-11  @aurban22 @RocketCatchnBob Yes, you should be ...   \n",
       "2021-02-11  My retarded question is, since diamond hands a...   \n",
       "2021-02-11  Cannabis stocks lit up as the Reddit rally dro...   \n",
       "2021-02-11  @ajeyehassan You realise it won't hit $1 right...   \n",
       "\n",
       "                   Username Followers Count  \\\n",
       "Datetime                                      \n",
       "2021-01-21   PBRStreetGang7             896   \n",
       "2021-01-21         HiBeam65              73   \n",
       "2021-01-21    MarcosMalakos             340   \n",
       "2021-01-21    MarcosMalakos             340   \n",
       "2021-01-21  FuzzyLogicBrock             580   \n",
       "...                     ...             ...   \n",
       "2021-02-11      kul_kan2017              99   \n",
       "2021-02-11         j2_trade              65   \n",
       "2021-02-11           NPizzi             541   \n",
       "2021-02-11          Reuters        24087182   \n",
       "2021-02-11     NonstopBepis              65   \n",
       "\n",
       "                          Polarity/Subjectivity Scores  \n",
       "Datetime                                                \n",
       "2021-01-21   (0.15555555555555559, 0.6611111111111111)  \n",
       "2021-01-21  (-0.18787878787878784, 0.4055555555555555)  \n",
       "2021-01-21   (0.05833333333333335, 0.4583333333333333)  \n",
       "2021-01-21  (0.049999999999999975, 0.5083333333333333)  \n",
       "2021-01-21                 (0.075, 0.3989583333333333)  \n",
       "...                                                ...  \n",
       "2021-02-11   (0.05393939393939393, 0.4242424242424243)  \n",
       "2021-02-11                  (0.45, 0.7866666666666667)  \n",
       "2021-02-11                                (-0.2, 0.45)  \n",
       "2021-02-11                  (0.18181818181818182, 0.5)  \n",
       "2021-02-11    (0.2392857142857143, 0.5865079365079365)  \n",
       "\n",
       "[73990 rows x 5 columns]"
      ]
     },
     "execution_count": 526,
     "metadata": {},
     "output_type": "execute_result"
    }
   ],
   "source": [
    "df_sorted_dates"
   ]
  },
  {
   "cell_type": "code",
   "execution_count": 527,
   "id": "307b4f5b-f557-4b20-902a-96e70bfb873c",
   "metadata": {},
   "outputs": [],
   "source": [
    "# This may cause imbalances.\n",
    "# Consider first figuring out polarity scores PER DAY\n",
    "\n",
    "def polarityCategories(tup):\n",
    "    if tup[0] < -0.05:\n",
    "        return 'Negative'\n",
    "    elif tup[0] > 0.05:\n",
    "        return 'Positive'\n",
    "    else:\n",
    "        return 'Neutral'"
   ]
  },
  {
   "cell_type": "code",
   "execution_count": 528,
   "id": "3334299e-dd5d-4959-b3a9-e87b2296b52d",
   "metadata": {},
   "outputs": [
    {
     "name": "stderr",
     "output_type": "stream",
     "text": [
      "C:\\Users\\Daanish\\AppData\\Local\\Temp/ipykernel_10196/901341670.py:3: SettingWithCopyWarning: \n",
      "A value is trying to be set on a copy of a slice from a DataFrame.\n",
      "Try using .loc[row_indexer,col_indexer] = value instead\n",
      "\n",
      "See the caveats in the documentation: https://pandas.pydata.org/pandas-docs/stable/user_guide/indexing.html#returning-a-view-versus-a-copy\n",
      "  df_sorted_dates['Polarity Categories'] = df_sorted_dates['Polarity/Subjectivity Scores'].apply(lambda x: polarityCategories(x))\n"
     ]
    }
   ],
   "source": [
    "# Creating new column with polarity categories: Positive, Neutral, Negative\n",
    "\n",
    "df_sorted_dates['Polarity Categories'] = df_sorted_dates['Polarity/Subjectivity Scores'].apply(lambda x: polarityCategories(x))"
   ]
  },
  {
   "cell_type": "code",
   "execution_count": 529,
   "id": "fe23baa3",
   "metadata": {},
   "outputs": [
    {
     "data": {
      "text/plain": [
       "Polarity Categories\n",
       "Positive    40299\n",
       "Negative    17899\n",
       "Neutral     15792\n",
       "dtype: int64"
      ]
     },
     "execution_count": 529,
     "metadata": {},
     "output_type": "execute_result"
    }
   ],
   "source": [
    "# Seemingly balanced values\n",
    "\n",
    "df_sorted_dates.value_counts('Polarity Categories')"
   ]
  },
  {
   "cell_type": "code",
   "execution_count": 540,
   "id": "9e5d4386",
   "metadata": {
    "scrolled": false
   },
   "outputs": [
    {
     "data": {
      "text/html": [
       "<div>\n",
       "<style scoped>\n",
       "    .dataframe tbody tr th:only-of-type {\n",
       "        vertical-align: middle;\n",
       "    }\n",
       "\n",
       "    .dataframe tbody tr th {\n",
       "        vertical-align: top;\n",
       "    }\n",
       "\n",
       "    .dataframe thead th {\n",
       "        text-align: right;\n",
       "    }\n",
       "</style>\n",
       "<table border=\"1\" class=\"dataframe\">\n",
       "  <thead>\n",
       "    <tr style=\"text-align: right;\">\n",
       "      <th></th>\n",
       "      <th>Tweet Id</th>\n",
       "      <th>Text</th>\n",
       "      <th>Username</th>\n",
       "      <th>Followers Count</th>\n",
       "      <th>Polarity/Subjectivity Scores</th>\n",
       "      <th>Polarity Categories</th>\n",
       "    </tr>\n",
       "    <tr>\n",
       "      <th>Datetime</th>\n",
       "      <th></th>\n",
       "      <th></th>\n",
       "      <th></th>\n",
       "      <th></th>\n",
       "      <th></th>\n",
       "      <th></th>\n",
       "    </tr>\n",
       "  </thead>\n",
       "  <tbody>\n",
       "    <tr>\n",
       "      <th>2021-01-21</th>\n",
       "      <td>1352342019788607489</td>\n",
       "      <td>So, Dr. Burry, some free advice for a good guy...</td>\n",
       "      <td>PBRStreetGang7</td>\n",
       "      <td>896</td>\n",
       "      <td>(0.15555555555555559, 0.6611111111111111)</td>\n",
       "      <td>Positive</td>\n",
       "    </tr>\n",
       "    <tr>\n",
       "      <th>2021-01-21</th>\n",
       "      <td>1352343155224416257</td>\n",
       "      <td>@LizClaman @GameStop @ClamanCountdown Liz, And...</td>\n",
       "      <td>HiBeam65</td>\n",
       "      <td>73</td>\n",
       "      <td>(-0.18787878787878784, 0.4055555555555555)</td>\n",
       "      <td>Negative</td>\n",
       "    </tr>\n",
       "    <tr>\n",
       "      <th>2021-01-21</th>\n",
       "      <td>1352345333469077508</td>\n",
       "      <td>@FarisBakkar @Long_GME E-commerce growth for G...</td>\n",
       "      <td>MarcosMalakos</td>\n",
       "      <td>340</td>\n",
       "      <td>(0.05833333333333335, 0.4583333333333333)</td>\n",
       "      <td>Positive</td>\n",
       "    </tr>\n",
       "    <tr>\n",
       "      <th>2021-01-21</th>\n",
       "      <td>1352345709983404032</td>\n",
       "      <td>@FarisBakkar @Long_GME You are honestly recycl...</td>\n",
       "      <td>MarcosMalakos</td>\n",
       "      <td>340</td>\n",
       "      <td>(0.049999999999999975, 0.5083333333333333)</td>\n",
       "      <td>Neutral</td>\n",
       "    </tr>\n",
       "    <tr>\n",
       "      <th>2021-01-21</th>\n",
       "      <td>1352346412080627723</td>\n",
       "      <td>UPDATE: Citron's Andrew Left On GameStop Short...</td>\n",
       "      <td>FuzzyLogicBrock</td>\n",
       "      <td>580</td>\n",
       "      <td>(0.075, 0.3989583333333333)</td>\n",
       "      <td>Positive</td>\n",
       "    </tr>\n",
       "    <tr>\n",
       "      <th>...</th>\n",
       "      <td>...</td>\n",
       "      <td>...</td>\n",
       "      <td>...</td>\n",
       "      <td>...</td>\n",
       "      <td>...</td>\n",
       "      <td>...</td>\n",
       "    </tr>\n",
       "    <tr>\n",
       "      <th>2021-02-11</th>\n",
       "      <td>1359695651165077504</td>\n",
       "      <td>@KChampbell @2009Michael1984 Just think if Blo...</td>\n",
       "      <td>kul_kan2017</td>\n",
       "      <td>99</td>\n",
       "      <td>(0.05393939393939393, 0.4242424242424243)</td>\n",
       "      <td>Positive</td>\n",
       "    </tr>\n",
       "    <tr>\n",
       "      <th>2021-02-11</th>\n",
       "      <td>1359695846695141377</td>\n",
       "      <td>@aurban22 @RocketCatchnBob Yes, you should be ...</td>\n",
       "      <td>j2_trade</td>\n",
       "      <td>65</td>\n",
       "      <td>(0.45, 0.7866666666666667)</td>\n",
       "      <td>Positive</td>\n",
       "    </tr>\n",
       "    <tr>\n",
       "      <th>2021-02-11</th>\n",
       "      <td>1359695921135538177</td>\n",
       "      <td>My retarded question is, since diamond hands a...</td>\n",
       "      <td>NPizzi</td>\n",
       "      <td>541</td>\n",
       "      <td>(-0.2, 0.45)</td>\n",
       "      <td>Negative</td>\n",
       "    </tr>\n",
       "    <tr>\n",
       "      <th>2021-02-11</th>\n",
       "      <td>1359696156247265280</td>\n",
       "      <td>Cannabis stocks lit up as the Reddit rally dro...</td>\n",
       "      <td>Reuters</td>\n",
       "      <td>24087182</td>\n",
       "      <td>(0.18181818181818182, 0.5)</td>\n",
       "      <td>Positive</td>\n",
       "    </tr>\n",
       "    <tr>\n",
       "      <th>2021-02-11</th>\n",
       "      <td>1359967315358584832</td>\n",
       "      <td>@ajeyehassan You realise it won't hit $1 right...</td>\n",
       "      <td>NonstopBepis</td>\n",
       "      <td>65</td>\n",
       "      <td>(0.2392857142857143, 0.5865079365079365)</td>\n",
       "      <td>Positive</td>\n",
       "    </tr>\n",
       "  </tbody>\n",
       "</table>\n",
       "<p>73990 rows × 6 columns</p>\n",
       "</div>"
      ],
      "text/plain": [
       "                       Tweet Id  \\\n",
       "Datetime                          \n",
       "2021-01-21  1352342019788607489   \n",
       "2021-01-21  1352343155224416257   \n",
       "2021-01-21  1352345333469077508   \n",
       "2021-01-21  1352345709983404032   \n",
       "2021-01-21  1352346412080627723   \n",
       "...                         ...   \n",
       "2021-02-11  1359695651165077504   \n",
       "2021-02-11  1359695846695141377   \n",
       "2021-02-11  1359695921135538177   \n",
       "2021-02-11  1359696156247265280   \n",
       "2021-02-11  1359967315358584832   \n",
       "\n",
       "                                                         Text  \\\n",
       "Datetime                                                        \n",
       "2021-01-21  So, Dr. Burry, some free advice for a good guy...   \n",
       "2021-01-21  @LizClaman @GameStop @ClamanCountdown Liz, And...   \n",
       "2021-01-21  @FarisBakkar @Long_GME E-commerce growth for G...   \n",
       "2021-01-21  @FarisBakkar @Long_GME You are honestly recycl...   \n",
       "2021-01-21  UPDATE: Citron's Andrew Left On GameStop Short...   \n",
       "...                                                       ...   \n",
       "2021-02-11  @KChampbell @2009Michael1984 Just think if Blo...   \n",
       "2021-02-11  @aurban22 @RocketCatchnBob Yes, you should be ...   \n",
       "2021-02-11  My retarded question is, since diamond hands a...   \n",
       "2021-02-11  Cannabis stocks lit up as the Reddit rally dro...   \n",
       "2021-02-11  @ajeyehassan You realise it won't hit $1 right...   \n",
       "\n",
       "                   Username Followers Count  \\\n",
       "Datetime                                      \n",
       "2021-01-21   PBRStreetGang7             896   \n",
       "2021-01-21         HiBeam65              73   \n",
       "2021-01-21    MarcosMalakos             340   \n",
       "2021-01-21    MarcosMalakos             340   \n",
       "2021-01-21  FuzzyLogicBrock             580   \n",
       "...                     ...             ...   \n",
       "2021-02-11      kul_kan2017              99   \n",
       "2021-02-11         j2_trade              65   \n",
       "2021-02-11           NPizzi             541   \n",
       "2021-02-11          Reuters        24087182   \n",
       "2021-02-11     NonstopBepis              65   \n",
       "\n",
       "                          Polarity/Subjectivity Scores Polarity Categories  \n",
       "Datetime                                                                    \n",
       "2021-01-21   (0.15555555555555559, 0.6611111111111111)            Positive  \n",
       "2021-01-21  (-0.18787878787878784, 0.4055555555555555)            Negative  \n",
       "2021-01-21   (0.05833333333333335, 0.4583333333333333)            Positive  \n",
       "2021-01-21  (0.049999999999999975, 0.5083333333333333)             Neutral  \n",
       "2021-01-21                 (0.075, 0.3989583333333333)            Positive  \n",
       "...                                                ...                 ...  \n",
       "2021-02-11   (0.05393939393939393, 0.4242424242424243)            Positive  \n",
       "2021-02-11                  (0.45, 0.7866666666666667)            Positive  \n",
       "2021-02-11                                (-0.2, 0.45)            Negative  \n",
       "2021-02-11                  (0.18181818181818182, 0.5)            Positive  \n",
       "2021-02-11    (0.2392857142857143, 0.5865079365079365)            Positive  \n",
       "\n",
       "[73990 rows x 6 columns]"
      ]
     },
     "execution_count": 540,
     "metadata": {},
     "output_type": "execute_result"
    }
   ],
   "source": [
    "df_sorted_dates"
   ]
  },
  {
   "cell_type": "markdown",
   "id": "54cf0a08",
   "metadata": {},
   "source": [
    "# Categorizing polarity scores per day (Keeping this on the side for now)"
   ]
  },
  {
   "cell_type": "markdown",
   "id": "e5045696",
   "metadata": {},
   "source": [
    "Our goal here is to quantify one polarity score per day. We do this individually per day based on the distribution of the scores; if the distribution is skewed, we use the median, if it isn't we use mean."
   ]
  },
  {
   "cell_type": "code",
   "execution_count": 531,
   "id": "e1539b19",
   "metadata": {},
   "outputs": [],
   "source": [
    "# We will use this section to approach this problem at a different angle."
   ]
  },
  {
   "cell_type": "code",
   "execution_count": 127,
   "id": "42924dfe",
   "metadata": {},
   "outputs": [
    {
     "data": {
      "text/plain": [
       "<AxesSubplot:ylabel='Frequency'>"
      ]
     },
     "execution_count": 127,
     "metadata": {},
     "output_type": "execute_result"
    },
    {
     "data": {
      "image/png": "[encoded data removed]",
      "text/plain": [
       "<Figure size 432x288 with 1 Axes>"
      ]
     },
     "metadata": {},
     "output_type": "display_data"
    }
   ],
   "source": [
    "df_sorted_dates.loc['2021-01-21']['Polarity/Subjectivity Scores'].apply(lambda x: x[0]).plot.hist(bins = 10)"
   ]
  },
  {
   "cell_type": "code",
   "execution_count": 128,
   "id": "ae640442",
   "metadata": {
    "collapsed": true
   },
   "outputs": [
    {
     "data": {
      "text/plain": [
       "Datetime\n",
       "2021-01-21    0.100000\n",
       "2021-01-22    0.068725\n",
       "2021-01-23    0.083333\n",
       "2021-01-24    0.087500\n",
       "2021-01-25    0.095238\n",
       "2021-01-26    0.050000\n",
       "2021-01-27    0.100000\n",
       "2021-01-28    0.066667\n",
       "2021-01-29    0.062500\n",
       "2021-01-30    0.033333\n",
       "2021-01-31    0.085417\n",
       "2021-02-01    0.057143\n",
       "2021-02-02    0.095833\n",
       "2021-02-03    0.100000\n",
       "2021-02-04    0.033333\n",
       "2021-02-05    0.092083\n",
       "2021-02-06    0.100000\n",
       "2021-02-07    0.137500\n",
       "2021-02-08    0.116667\n",
       "2021-02-09    0.100000\n",
       "2021-02-10    0.100000\n",
       "2021-02-11    0.100000\n",
       "Name: Polarity/Subjectivity Scores, dtype: float64"
      ]
     },
     "execution_count": 128,
     "metadata": {},
     "output_type": "execute_result"
    }
   ],
   "source": [
    "df_sorted_dates['Polarity/Subjectivity Scores'].apply(lambda x:x[0]).groupby('Datetime').median()"
   ]
  },
  {
   "cell_type": "code",
   "execution_count": 129,
   "id": "56c0e016",
   "metadata": {
    "collapsed": true
   },
   "outputs": [
    {
     "name": "stdout",
     "output_type": "stream",
     "text": [
      "                                Polarity Categories\n",
      "Datetime   Polarity Categories                     \n",
      "2021-01-21 Positive                              81\n",
      "           Negative                              21\n",
      "           Neutral                               20\n",
      "2021-01-22 Positive                             278\n",
      "           Negative                             137\n",
      "           Neutral                              115\n",
      "2021-01-23 Positive                             103\n",
      "           Negative                              48\n",
      "           Neutral                               39\n",
      "2021-01-24 Positive                              80\n",
      "           Negative                              37\n",
      "           Neutral                               28\n",
      "2021-01-25 Positive                             631\n",
      "           Negative                             292\n",
      "           Neutral                              222\n",
      "2021-01-26 Positive                             949\n",
      "           Negative                             502\n",
      "           Neutral                              453\n",
      "2021-01-27 Positive                            3911\n",
      "           Negative                            1579\n",
      "           Neutral                             1399\n",
      "2021-01-28 Positive                            5059\n",
      "           Negative                            2736\n",
      "           Neutral                             1991\n",
      "2021-01-29 Positive                            2718\n",
      "           Negative                            1367\n",
      "           Neutral                             1225\n",
      "2021-01-30 Positive                            1102\n",
      "           Negative                             779\n",
      "           Neutral                              445\n",
      "2021-01-31 Positive                             868\n",
      "           Negative                             389\n",
      "           Neutral                              340\n",
      "2021-02-01 Positive                            2092\n",
      "           Negative                            1090\n",
      "           Neutral                              963\n",
      "2021-02-02 Positive                            2211\n",
      "           Negative                            1008\n",
      "           Neutral                              812\n",
      "2021-02-03 Positive                            1361\n",
      "           Negative                             578\n",
      "           Neutral                              487\n",
      "2021-02-04 Positive                             743\n",
      "           Negative                             424\n",
      "           Neutral                              414\n",
      "2021-02-05 Positive                            3608\n",
      "           Negative                            1567\n",
      "           Neutral                             1487\n",
      "2021-02-06 Positive                            2146\n",
      "           Neutral                              831\n",
      "           Negative                             797\n",
      "2021-02-07 Positive                            2113\n",
      "           Negative                             655\n",
      "           Neutral                              609\n",
      "2021-02-08 Positive                            2652\n",
      "           Negative                             924\n",
      "           Neutral                              866\n",
      "2021-02-09 Positive                            2528\n",
      "           Neutral                              979\n",
      "           Negative                             972\n",
      "2021-02-10 Positive                            2878\n",
      "           Neutral                             1207\n",
      "           Negative                            1135\n",
      "2021-02-11 Positive                            2187\n",
      "           Negative                             862\n",
      "           Neutral                              860\n"
     ]
    }
   ],
   "source": [
    "# Polarity Categories count per day\n",
    "\n",
    "print(pd.DataFrame(df_sorted_dates['Polarity Categories'].groupby('Datetime').value_counts()).to_string())"
   ]
  },
  {
   "cell_type": "markdown",
   "id": "fac4653e",
   "metadata": {},
   "source": [
    "## GME Stock Data"
   ]
  },
  {
   "cell_type": "code",
   "execution_count": 532,
   "id": "06a12fb4",
   "metadata": {},
   "outputs": [
    {
     "name": "stdout",
     "output_type": "stream",
     "text": [
      "[*********************100%***********************]  1 of 1 completed\n"
     ]
    }
   ],
   "source": [
    "# Get the data for $GME by specifying the stock ticker, start date, and end date\n",
    "data_stock_gme = yf.download('GME','2021-01-21','2021-02-12')\n",
    "data_stock_gme.index = data_stock_gme.index.tz_localize(tz=None)"
   ]
  },
  {
   "cell_type": "code",
   "execution_count": 533,
   "id": "8bd2990f",
   "metadata": {},
   "outputs": [
    {
     "data": {
      "text/html": [
       "<div>\n",
       "<style scoped>\n",
       "    .dataframe tbody tr th:only-of-type {\n",
       "        vertical-align: middle;\n",
       "    }\n",
       "\n",
       "    .dataframe tbody tr th {\n",
       "        vertical-align: top;\n",
       "    }\n",
       "\n",
       "    .dataframe thead th {\n",
       "        text-align: right;\n",
       "    }\n",
       "</style>\n",
       "<table border=\"1\" class=\"dataframe\">\n",
       "  <thead>\n",
       "    <tr style=\"text-align: right;\">\n",
       "      <th></th>\n",
       "      <th>Open</th>\n",
       "      <th>High</th>\n",
       "      <th>Low</th>\n",
       "      <th>Close</th>\n",
       "      <th>Adj Close</th>\n",
       "      <th>Volume</th>\n",
       "    </tr>\n",
       "    <tr>\n",
       "      <th>Date</th>\n",
       "      <th></th>\n",
       "      <th></th>\n",
       "      <th></th>\n",
       "      <th></th>\n",
       "      <th></th>\n",
       "      <th></th>\n",
       "    </tr>\n",
       "  </thead>\n",
       "  <tbody>\n",
       "    <tr>\n",
       "      <th>2021-01-21</th>\n",
       "      <td>39.230000</td>\n",
       "      <td>44.750000</td>\n",
       "      <td>37.000000</td>\n",
       "      <td>43.029999</td>\n",
       "      <td>43.029999</td>\n",
       "      <td>56216900</td>\n",
       "    </tr>\n",
       "    <tr>\n",
       "      <th>2021-01-22</th>\n",
       "      <td>42.590000</td>\n",
       "      <td>76.760002</td>\n",
       "      <td>42.320000</td>\n",
       "      <td>65.010002</td>\n",
       "      <td>65.010002</td>\n",
       "      <td>197157900</td>\n",
       "    </tr>\n",
       "    <tr>\n",
       "      <th>2021-01-25</th>\n",
       "      <td>96.730003</td>\n",
       "      <td>159.179993</td>\n",
       "      <td>61.130001</td>\n",
       "      <td>76.790001</td>\n",
       "      <td>76.790001</td>\n",
       "      <td>177874000</td>\n",
       "    </tr>\n",
       "    <tr>\n",
       "      <th>2021-01-26</th>\n",
       "      <td>88.559998</td>\n",
       "      <td>150.000000</td>\n",
       "      <td>80.199997</td>\n",
       "      <td>147.979996</td>\n",
       "      <td>147.979996</td>\n",
       "      <td>178588000</td>\n",
       "    </tr>\n",
       "    <tr>\n",
       "      <th>2021-01-27</th>\n",
       "      <td>354.829987</td>\n",
       "      <td>380.000000</td>\n",
       "      <td>249.000000</td>\n",
       "      <td>347.510010</td>\n",
       "      <td>347.510010</td>\n",
       "      <td>93396700</td>\n",
       "    </tr>\n",
       "    <tr>\n",
       "      <th>2021-01-28</th>\n",
       "      <td>265.000000</td>\n",
       "      <td>483.000000</td>\n",
       "      <td>112.250000</td>\n",
       "      <td>193.600006</td>\n",
       "      <td>193.600006</td>\n",
       "      <td>58815800</td>\n",
       "    </tr>\n",
       "    <tr>\n",
       "      <th>2021-01-29</th>\n",
       "      <td>379.709991</td>\n",
       "      <td>413.980011</td>\n",
       "      <td>250.000000</td>\n",
       "      <td>325.000000</td>\n",
       "      <td>325.000000</td>\n",
       "      <td>50566100</td>\n",
       "    </tr>\n",
       "    <tr>\n",
       "      <th>2021-02-01</th>\n",
       "      <td>316.559998</td>\n",
       "      <td>322.000000</td>\n",
       "      <td>212.000000</td>\n",
       "      <td>225.000000</td>\n",
       "      <td>225.000000</td>\n",
       "      <td>37382200</td>\n",
       "    </tr>\n",
       "    <tr>\n",
       "      <th>2021-02-02</th>\n",
       "      <td>140.759995</td>\n",
       "      <td>158.000000</td>\n",
       "      <td>74.220001</td>\n",
       "      <td>90.000000</td>\n",
       "      <td>90.000000</td>\n",
       "      <td>78183100</td>\n",
       "    </tr>\n",
       "    <tr>\n",
       "      <th>2021-02-03</th>\n",
       "      <td>112.010002</td>\n",
       "      <td>113.400002</td>\n",
       "      <td>85.250000</td>\n",
       "      <td>92.410004</td>\n",
       "      <td>92.410004</td>\n",
       "      <td>42698500</td>\n",
       "    </tr>\n",
       "    <tr>\n",
       "      <th>2021-02-04</th>\n",
       "      <td>91.190002</td>\n",
       "      <td>91.500000</td>\n",
       "      <td>53.330002</td>\n",
       "      <td>53.500000</td>\n",
       "      <td>53.500000</td>\n",
       "      <td>62427300</td>\n",
       "    </tr>\n",
       "    <tr>\n",
       "      <th>2021-02-05</th>\n",
       "      <td>54.040001</td>\n",
       "      <td>95.000000</td>\n",
       "      <td>51.090000</td>\n",
       "      <td>63.770000</td>\n",
       "      <td>63.770000</td>\n",
       "      <td>81345000</td>\n",
       "    </tr>\n",
       "    <tr>\n",
       "      <th>2021-02-08</th>\n",
       "      <td>72.410004</td>\n",
       "      <td>72.660004</td>\n",
       "      <td>58.020000</td>\n",
       "      <td>60.000000</td>\n",
       "      <td>60.000000</td>\n",
       "      <td>25687300</td>\n",
       "    </tr>\n",
       "    <tr>\n",
       "      <th>2021-02-09</th>\n",
       "      <td>56.610001</td>\n",
       "      <td>57.000000</td>\n",
       "      <td>46.520000</td>\n",
       "      <td>50.310001</td>\n",
       "      <td>50.310001</td>\n",
       "      <td>26843100</td>\n",
       "    </tr>\n",
       "    <tr>\n",
       "      <th>2021-02-10</th>\n",
       "      <td>50.770000</td>\n",
       "      <td>62.830002</td>\n",
       "      <td>46.549999</td>\n",
       "      <td>51.200001</td>\n",
       "      <td>51.200001</td>\n",
       "      <td>36455000</td>\n",
       "    </tr>\n",
       "    <tr>\n",
       "      <th>2021-02-11</th>\n",
       "      <td>50.009998</td>\n",
       "      <td>55.320000</td>\n",
       "      <td>48.220001</td>\n",
       "      <td>51.099998</td>\n",
       "      <td>51.099998</td>\n",
       "      <td>13056700</td>\n",
       "    </tr>\n",
       "  </tbody>\n",
       "</table>\n",
       "</div>"
      ],
      "text/plain": [
       "                  Open        High         Low       Close   Adj Close  \\\n",
       "Date                                                                     \n",
       "2021-01-21   39.230000   44.750000   37.000000   43.029999   43.029999   \n",
       "2021-01-22   42.590000   76.760002   42.320000   65.010002   65.010002   \n",
       "2021-01-25   96.730003  159.179993   61.130001   76.790001   76.790001   \n",
       "2021-01-26   88.559998  150.000000   80.199997  147.979996  147.979996   \n",
       "2021-01-27  354.829987  380.000000  249.000000  347.510010  347.510010   \n",
       "2021-01-28  265.000000  483.000000  112.250000  193.600006  193.600006   \n",
       "2021-01-29  379.709991  413.980011  250.000000  325.000000  325.000000   \n",
       "2021-02-01  316.559998  322.000000  212.000000  225.000000  225.000000   \n",
       "2021-02-02  140.759995  158.000000   74.220001   90.000000   90.000000   \n",
       "2021-02-03  112.010002  113.400002   85.250000   92.410004   92.410004   \n",
       "2021-02-04   91.190002   91.500000   53.330002   53.500000   53.500000   \n",
       "2021-02-05   54.040001   95.000000   51.090000   63.770000   63.770000   \n",
       "2021-02-08   72.410004   72.660004   58.020000   60.000000   60.000000   \n",
       "2021-02-09   56.610001   57.000000   46.520000   50.310001   50.310001   \n",
       "2021-02-10   50.770000   62.830002   46.549999   51.200001   51.200001   \n",
       "2021-02-11   50.009998   55.320000   48.220001   51.099998   51.099998   \n",
       "\n",
       "               Volume  \n",
       "Date                   \n",
       "2021-01-21   56216900  \n",
       "2021-01-22  197157900  \n",
       "2021-01-25  177874000  \n",
       "2021-01-26  178588000  \n",
       "2021-01-27   93396700  \n",
       "2021-01-28   58815800  \n",
       "2021-01-29   50566100  \n",
       "2021-02-01   37382200  \n",
       "2021-02-02   78183100  \n",
       "2021-02-03   42698500  \n",
       "2021-02-04   62427300  \n",
       "2021-02-05   81345000  \n",
       "2021-02-08   25687300  \n",
       "2021-02-09   26843100  \n",
       "2021-02-10   36455000  \n",
       "2021-02-11   13056700  "
      ]
     },
     "execution_count": 533,
     "metadata": {},
     "output_type": "execute_result"
    }
   ],
   "source": [
    "data_stock_gme"
   ]
  },
  {
   "cell_type": "code",
   "execution_count": 534,
   "id": "a0785483",
   "metadata": {},
   "outputs": [],
   "source": [
    "data_stock_gme['Closing Differences'] = data_stock_gme['Adj Close'].diff()\n",
    "data_stock_gme['C-O/O'] = ((data_stock_gme['Close']-data_stock_gme['Open'])/data_stock_gme['Open'])*100"
   ]
  },
  {
   "cell_type": "code",
   "execution_count": 535,
   "id": "86ae0a77",
   "metadata": {},
   "outputs": [
    {
     "data": {
      "image/png": "[encoded data removed]",
      "text/plain": [
       "<Figure size 432x288 with 1 Axes>"
      ]
     },
     "metadata": {},
     "output_type": "display_data"
    }
   ],
   "source": [
    "# Plot\n",
    "\n",
    "data_stock_gme[['Closing Differences', 'C-O/O']].plot()\n",
    "\n",
    "# plt.ylim(-120, 120)\n",
    "\n",
    "plt.xlabel('Days')\n",
    "plt.ylabel('Closing Price')\n",
    "plt.title('Closing Price Plot');"
   ]
  },
  {
   "cell_type": "code",
   "execution_count": 536,
   "id": "e3889291",
   "metadata": {},
   "outputs": [],
   "source": [
    "data_stock_gme.index = data_stock_gme.index.rename(name='Datetime')"
   ]
  },
  {
   "cell_type": "code",
   "execution_count": 541,
   "id": "0cd6f7e8",
   "metadata": {},
   "outputs": [],
   "source": [
    "# Why is there NaN values for Volume and closing differences?\n",
    "# Because the stock market is only opened on business days!\n",
    "# So we dropped NaN values\n",
    "\n",
    "df_merged = data_stock_gme.merge(df_sorted_dates, how='right', left_index=True, right_index=True).dropna()"
   ]
  },
  {
   "cell_type": "code",
   "execution_count": 596,
   "id": "4d3cd507",
   "metadata": {},
   "outputs": [],
   "source": [
    "df_merged['Closing Trend'] = df_merged['Closing Differences'].apply(lambda x: \"Positive_Trend\" if x>=0 else \"Negative_Trend\")"
   ]
  },
  {
   "cell_type": "code",
   "execution_count": 597,
   "id": "6d487a1a",
   "metadata": {},
   "outputs": [
    {
     "data": {
      "text/html": [
       "<div>\n",
       "<style scoped>\n",
       "    .dataframe tbody tr th:only-of-type {\n",
       "        vertical-align: middle;\n",
       "    }\n",
       "\n",
       "    .dataframe tbody tr th {\n",
       "        vertical-align: top;\n",
       "    }\n",
       "\n",
       "    .dataframe thead th {\n",
       "        text-align: right;\n",
       "    }\n",
       "</style>\n",
       "<table border=\"1\" class=\"dataframe\">\n",
       "  <thead>\n",
       "    <tr style=\"text-align: right;\">\n",
       "      <th></th>\n",
       "      <th>Open</th>\n",
       "      <th>High</th>\n",
       "      <th>Low</th>\n",
       "      <th>Close</th>\n",
       "      <th>Adj Close</th>\n",
       "      <th>Volume</th>\n",
       "      <th>Closing Differences</th>\n",
       "      <th>C-O/O</th>\n",
       "      <th>Tweet Id</th>\n",
       "      <th>Text</th>\n",
       "      <th>Username</th>\n",
       "      <th>Followers Count</th>\n",
       "      <th>Polarity/Subjectivity Scores</th>\n",
       "      <th>Polarity Categories</th>\n",
       "      <th>Closing Trend</th>\n",
       "    </tr>\n",
       "    <tr>\n",
       "      <th>Datetime</th>\n",
       "      <th></th>\n",
       "      <th></th>\n",
       "      <th></th>\n",
       "      <th></th>\n",
       "      <th></th>\n",
       "      <th></th>\n",
       "      <th></th>\n",
       "      <th></th>\n",
       "      <th></th>\n",
       "      <th></th>\n",
       "      <th></th>\n",
       "      <th></th>\n",
       "      <th></th>\n",
       "      <th></th>\n",
       "      <th></th>\n",
       "    </tr>\n",
       "  </thead>\n",
       "  <tbody>\n",
       "    <tr>\n",
       "      <th>2021-01-22</th>\n",
       "      <td>42.590000</td>\n",
       "      <td>76.760002</td>\n",
       "      <td>42.320000</td>\n",
       "      <td>65.010002</td>\n",
       "      <td>65.010002</td>\n",
       "      <td>197157900.0</td>\n",
       "      <td>21.980003</td>\n",
       "      <td>52.641470</td>\n",
       "      <td>1352694733626372096</td>\n",
       "      <td>GameStop soars after 'Big Short' investor Mich...</td>\n",
       "      <td>Tonyrose5583</td>\n",
       "      <td>348</td>\n",
       "      <td>(0.0, 0.16666666666666666)</td>\n",
       "      <td>Neutral</td>\n",
       "      <td>Positive_Trend</td>\n",
       "    </tr>\n",
       "    <tr>\n",
       "      <th>2021-01-22</th>\n",
       "      <td>42.590000</td>\n",
       "      <td>76.760002</td>\n",
       "      <td>42.320000</td>\n",
       "      <td>65.010002</td>\n",
       "      <td>65.010002</td>\n",
       "      <td>197157900.0</td>\n",
       "      <td>21.980003</td>\n",
       "      <td>52.641470</td>\n",
       "      <td>1352694823170539521</td>\n",
       "      <td>The #StockMarket is efficient. #GameStop stock...</td>\n",
       "      <td>AmericanPWealth</td>\n",
       "      <td>885</td>\n",
       "      <td>(0.4166666666666667, 0.48333333333333334)</td>\n",
       "      <td>Positive</td>\n",
       "      <td>Positive_Trend</td>\n",
       "    </tr>\n",
       "    <tr>\n",
       "      <th>2021-01-22</th>\n",
       "      <td>42.590000</td>\n",
       "      <td>76.760002</td>\n",
       "      <td>42.320000</td>\n",
       "      <td>65.010002</td>\n",
       "      <td>65.010002</td>\n",
       "      <td>197157900.0</td>\n",
       "      <td>21.980003</td>\n",
       "      <td>52.641470</td>\n",
       "      <td>1352695836837367812</td>\n",
       "      <td>RIP to the psychos who were buying game stop a...</td>\n",
       "      <td>Tylerm0101</td>\n",
       "      <td>314</td>\n",
       "      <td>(-0.4, 0.4)</td>\n",
       "      <td>Negative</td>\n",
       "      <td>Positive_Trend</td>\n",
       "    </tr>\n",
       "    <tr>\n",
       "      <th>2021-01-22</th>\n",
       "      <td>42.590000</td>\n",
       "      <td>76.760002</td>\n",
       "      <td>42.320000</td>\n",
       "      <td>65.010002</td>\n",
       "      <td>65.010002</td>\n",
       "      <td>197157900.0</td>\n",
       "      <td>21.980003</td>\n",
       "      <td>52.641470</td>\n",
       "      <td>1352695923172900866</td>\n",
       "      <td>#gamestop stock skyrockets to the moon 🚀🌝 as s...</td>\n",
       "      <td>ghostsquawk</td>\n",
       "      <td>630</td>\n",
       "      <td>(0.2, 0.55)</td>\n",
       "      <td>Positive</td>\n",
       "      <td>Positive_Trend</td>\n",
       "    </tr>\n",
       "    <tr>\n",
       "      <th>2021-01-22</th>\n",
       "      <td>42.590000</td>\n",
       "      <td>76.760002</td>\n",
       "      <td>42.320000</td>\n",
       "      <td>65.010002</td>\n",
       "      <td>65.010002</td>\n",
       "      <td>197157900.0</td>\n",
       "      <td>21.980003</td>\n",
       "      <td>52.641470</td>\n",
       "      <td>1352696539404263427</td>\n",
       "      <td>@ParikPatelCFA $GME partnered with $TSLA to bu...</td>\n",
       "      <td>financeoholic</td>\n",
       "      <td>439</td>\n",
       "      <td>(0.25, 0.3333333333333333)</td>\n",
       "      <td>Positive</td>\n",
       "      <td>Positive_Trend</td>\n",
       "    </tr>\n",
       "    <tr>\n",
       "      <th>...</th>\n",
       "      <td>...</td>\n",
       "      <td>...</td>\n",
       "      <td>...</td>\n",
       "      <td>...</td>\n",
       "      <td>...</td>\n",
       "      <td>...</td>\n",
       "      <td>...</td>\n",
       "      <td>...</td>\n",
       "      <td>...</td>\n",
       "      <td>...</td>\n",
       "      <td>...</td>\n",
       "      <td>...</td>\n",
       "      <td>...</td>\n",
       "      <td>...</td>\n",
       "      <td>...</td>\n",
       "    </tr>\n",
       "    <tr>\n",
       "      <th>2021-02-11</th>\n",
       "      <td>50.009998</td>\n",
       "      <td>55.320000</td>\n",
       "      <td>48.220001</td>\n",
       "      <td>51.099998</td>\n",
       "      <td>51.099998</td>\n",
       "      <td>13056700.0</td>\n",
       "      <td>-0.100002</td>\n",
       "      <td>2.179564</td>\n",
       "      <td>1359695651165077504</td>\n",
       "      <td>@KChampbell @2009Michael1984 Just think if Blo...</td>\n",
       "      <td>kul_kan2017</td>\n",
       "      <td>99</td>\n",
       "      <td>(0.05393939393939393, 0.4242424242424243)</td>\n",
       "      <td>Positive</td>\n",
       "      <td>Negative_Trend</td>\n",
       "    </tr>\n",
       "    <tr>\n",
       "      <th>2021-02-11</th>\n",
       "      <td>50.009998</td>\n",
       "      <td>55.320000</td>\n",
       "      <td>48.220001</td>\n",
       "      <td>51.099998</td>\n",
       "      <td>51.099998</td>\n",
       "      <td>13056700.0</td>\n",
       "      <td>-0.100002</td>\n",
       "      <td>2.179564</td>\n",
       "      <td>1359695846695141377</td>\n",
       "      <td>@aurban22 @RocketCatchnBob Yes, you should be ...</td>\n",
       "      <td>j2_trade</td>\n",
       "      <td>65</td>\n",
       "      <td>(0.45, 0.7866666666666667)</td>\n",
       "      <td>Positive</td>\n",
       "      <td>Negative_Trend</td>\n",
       "    </tr>\n",
       "    <tr>\n",
       "      <th>2021-02-11</th>\n",
       "      <td>50.009998</td>\n",
       "      <td>55.320000</td>\n",
       "      <td>48.220001</td>\n",
       "      <td>51.099998</td>\n",
       "      <td>51.099998</td>\n",
       "      <td>13056700.0</td>\n",
       "      <td>-0.100002</td>\n",
       "      <td>2.179564</td>\n",
       "      <td>1359695921135538177</td>\n",
       "      <td>My retarded question is, since diamond hands a...</td>\n",
       "      <td>NPizzi</td>\n",
       "      <td>541</td>\n",
       "      <td>(-0.2, 0.45)</td>\n",
       "      <td>Negative</td>\n",
       "      <td>Negative_Trend</td>\n",
       "    </tr>\n",
       "    <tr>\n",
       "      <th>2021-02-11</th>\n",
       "      <td>50.009998</td>\n",
       "      <td>55.320000</td>\n",
       "      <td>48.220001</td>\n",
       "      <td>51.099998</td>\n",
       "      <td>51.099998</td>\n",
       "      <td>13056700.0</td>\n",
       "      <td>-0.100002</td>\n",
       "      <td>2.179564</td>\n",
       "      <td>1359696156247265280</td>\n",
       "      <td>Cannabis stocks lit up as the Reddit rally dro...</td>\n",
       "      <td>Reuters</td>\n",
       "      <td>24087182</td>\n",
       "      <td>(0.18181818181818182, 0.5)</td>\n",
       "      <td>Positive</td>\n",
       "      <td>Negative_Trend</td>\n",
       "    </tr>\n",
       "    <tr>\n",
       "      <th>2021-02-11</th>\n",
       "      <td>50.009998</td>\n",
       "      <td>55.320000</td>\n",
       "      <td>48.220001</td>\n",
       "      <td>51.099998</td>\n",
       "      <td>51.099998</td>\n",
       "      <td>13056700.0</td>\n",
       "      <td>-0.100002</td>\n",
       "      <td>2.179564</td>\n",
       "      <td>1359967315358584832</td>\n",
       "      <td>@ajeyehassan You realise it won't hit $1 right...</td>\n",
       "      <td>NonstopBepis</td>\n",
       "      <td>65</td>\n",
       "      <td>(0.2392857142857143, 0.5865079365079365)</td>\n",
       "      <td>Positive</td>\n",
       "      <td>Negative_Trend</td>\n",
       "    </tr>\n",
       "  </tbody>\n",
       "</table>\n",
       "<p>62459 rows × 15 columns</p>\n",
       "</div>"
      ],
      "text/plain": [
       "                 Open       High        Low      Close  Adj Close  \\\n",
       "Datetime                                                            \n",
       "2021-01-22  42.590000  76.760002  42.320000  65.010002  65.010002   \n",
       "2021-01-22  42.590000  76.760002  42.320000  65.010002  65.010002   \n",
       "2021-01-22  42.590000  76.760002  42.320000  65.010002  65.010002   \n",
       "2021-01-22  42.590000  76.760002  42.320000  65.010002  65.010002   \n",
       "2021-01-22  42.590000  76.760002  42.320000  65.010002  65.010002   \n",
       "...               ...        ...        ...        ...        ...   \n",
       "2021-02-11  50.009998  55.320000  48.220001  51.099998  51.099998   \n",
       "2021-02-11  50.009998  55.320000  48.220001  51.099998  51.099998   \n",
       "2021-02-11  50.009998  55.320000  48.220001  51.099998  51.099998   \n",
       "2021-02-11  50.009998  55.320000  48.220001  51.099998  51.099998   \n",
       "2021-02-11  50.009998  55.320000  48.220001  51.099998  51.099998   \n",
       "\n",
       "                 Volume  Closing Differences      C-O/O             Tweet Id  \\\n",
       "Datetime                                                                       \n",
       "2021-01-22  197157900.0            21.980003  52.641470  1352694733626372096   \n",
       "2021-01-22  197157900.0            21.980003  52.641470  1352694823170539521   \n",
       "2021-01-22  197157900.0            21.980003  52.641470  1352695836837367812   \n",
       "2021-01-22  197157900.0            21.980003  52.641470  1352695923172900866   \n",
       "2021-01-22  197157900.0            21.980003  52.641470  1352696539404263427   \n",
       "...                 ...                  ...        ...                  ...   \n",
       "2021-02-11   13056700.0            -0.100002   2.179564  1359695651165077504   \n",
       "2021-02-11   13056700.0            -0.100002   2.179564  1359695846695141377   \n",
       "2021-02-11   13056700.0            -0.100002   2.179564  1359695921135538177   \n",
       "2021-02-11   13056700.0            -0.100002   2.179564  1359696156247265280   \n",
       "2021-02-11   13056700.0            -0.100002   2.179564  1359967315358584832   \n",
       "\n",
       "                                                         Text  \\\n",
       "Datetime                                                        \n",
       "2021-01-22  GameStop soars after 'Big Short' investor Mich...   \n",
       "2021-01-22  The #StockMarket is efficient. #GameStop stock...   \n",
       "2021-01-22  RIP to the psychos who were buying game stop a...   \n",
       "2021-01-22  #gamestop stock skyrockets to the moon 🚀🌝 as s...   \n",
       "2021-01-22  @ParikPatelCFA $GME partnered with $TSLA to bu...   \n",
       "...                                                       ...   \n",
       "2021-02-11  @KChampbell @2009Michael1984 Just think if Blo...   \n",
       "2021-02-11  @aurban22 @RocketCatchnBob Yes, you should be ...   \n",
       "2021-02-11  My retarded question is, since diamond hands a...   \n",
       "2021-02-11  Cannabis stocks lit up as the Reddit rally dro...   \n",
       "2021-02-11  @ajeyehassan You realise it won't hit $1 right...   \n",
       "\n",
       "                   Username Followers Count  \\\n",
       "Datetime                                      \n",
       "2021-01-22     Tonyrose5583             348   \n",
       "2021-01-22  AmericanPWealth             885   \n",
       "2021-01-22       Tylerm0101             314   \n",
       "2021-01-22      ghostsquawk             630   \n",
       "2021-01-22    financeoholic             439   \n",
       "...                     ...             ...   \n",
       "2021-02-11      kul_kan2017              99   \n",
       "2021-02-11         j2_trade              65   \n",
       "2021-02-11           NPizzi             541   \n",
       "2021-02-11          Reuters        24087182   \n",
       "2021-02-11     NonstopBepis              65   \n",
       "\n",
       "                         Polarity/Subjectivity Scores Polarity Categories  \\\n",
       "Datetime                                                                    \n",
       "2021-01-22                 (0.0, 0.16666666666666666)             Neutral   \n",
       "2021-01-22  (0.4166666666666667, 0.48333333333333334)            Positive   \n",
       "2021-01-22                                (-0.4, 0.4)            Negative   \n",
       "2021-01-22                                (0.2, 0.55)            Positive   \n",
       "2021-01-22                 (0.25, 0.3333333333333333)            Positive   \n",
       "...                                               ...                 ...   \n",
       "2021-02-11  (0.05393939393939393, 0.4242424242424243)            Positive   \n",
       "2021-02-11                 (0.45, 0.7866666666666667)            Positive   \n",
       "2021-02-11                               (-0.2, 0.45)            Negative   \n",
       "2021-02-11                 (0.18181818181818182, 0.5)            Positive   \n",
       "2021-02-11   (0.2392857142857143, 0.5865079365079365)            Positive   \n",
       "\n",
       "             Closing Trend  \n",
       "Datetime                    \n",
       "2021-01-22  Positive_Trend  \n",
       "2021-01-22  Positive_Trend  \n",
       "2021-01-22  Positive_Trend  \n",
       "2021-01-22  Positive_Trend  \n",
       "2021-01-22  Positive_Trend  \n",
       "...                    ...  \n",
       "2021-02-11  Negative_Trend  \n",
       "2021-02-11  Negative_Trend  \n",
       "2021-02-11  Negative_Trend  \n",
       "2021-02-11  Negative_Trend  \n",
       "2021-02-11  Negative_Trend  \n",
       "\n",
       "[62459 rows x 15 columns]"
      ]
     },
     "execution_count": 597,
     "metadata": {},
     "output_type": "execute_result"
    }
   ],
   "source": [
    "df_merged"
   ]
  },
  {
   "cell_type": "markdown",
   "id": "b1cb83d1",
   "metadata": {},
   "source": [
    "# Dealing with Imbalances"
   ]
  },
  {
   "cell_type": "code",
   "execution_count": 197,
   "id": "2e8cbaa7",
   "metadata": {},
   "outputs": [],
   "source": [
    "from imblearn.over_sampling import SMOTE"
   ]
  },
  {
   "cell_type": "code",
   "execution_count": 167,
   "id": "bfd04222",
   "metadata": {},
   "outputs": [],
   "source": [
    "from collections import Counter"
   ]
  },
  {
   "cell_type": "code",
   "execution_count": 198,
   "id": "83c46f26",
   "metadata": {},
   "outputs": [],
   "source": [
    "sampler = SMOTE(random_state=42)"
   ]
  },
  {
   "cell_type": "markdown",
   "id": "1cdf55bc",
   "metadata": {},
   "source": [
    "# Modeling"
   ]
  },
  {
   "cell_type": "markdown",
   "id": "33a9bc5f",
   "metadata": {},
   "source": [
    "### Imports and Train/Test Split"
   ]
  },
  {
   "cell_type": "code",
   "execution_count": 630,
   "id": "d8fadeaf",
   "metadata": {},
   "outputs": [],
   "source": [
    "from sklearn.preprocessing import OneHotEncoder, StandardScaler\n",
    "from sklearn.pipeline import Pipeline\n",
    "from sklearn.compose import ColumnTransformer\n",
    "from sklearn import svm\n",
    "from sklearn.ensemble import RandomForestClassifier, RandomForestRegressor\n",
    "from sklearn.linear_model import LinearRegression, LogisticRegression\n",
    "\n",
    "from sklearn.metrics import PrecisionRecallDisplay, RocCurveDisplay, f1_score\n",
    "from sklearn import metrics"
   ]
  },
  {
   "cell_type": "code",
   "execution_count": 598,
   "id": "ea3b2110",
   "metadata": {},
   "outputs": [],
   "source": [
    "X = df_merged\n",
    "y = df_merged['Closing Trend']"
   ]
  },
  {
   "cell_type": "code",
   "execution_count": 599,
   "id": "f5704cd2",
   "metadata": {},
   "outputs": [],
   "source": [
    "from sklearn.model_selection import train_test_split\n",
    "\n",
    "X_train, X_test, y_train, y_test = train_test_split(X, y, test_size=0.2, random_state=42)"
   ]
  },
  {
   "cell_type": "markdown",
   "id": "18da0195",
   "metadata": {},
   "source": [
    "#### Support Vector Machine (Baseline)"
   ]
  },
  {
   "cell_type": "code",
   "execution_count": 621,
   "id": "9a763d56",
   "metadata": {},
   "outputs": [],
   "source": [
    "transformer_svm = ColumnTransformer([\n",
    "    ('ohe', OneHotEncoder(), ['Polarity Categories']),\n",
    "    ('scaler', StandardScaler(), ['Followers Count'])\n",
    "])"
   ]
  },
  {
   "cell_type": "code",
   "execution_count": 601,
   "id": "178fa5a2",
   "metadata": {},
   "outputs": [],
   "source": [
    "pipe_svm = Pipeline([\n",
    "    ('ohe', transformer),\n",
    "    ('svm', svm.LinearSVC())\n",
    "])"
   ]
  },
  {
   "cell_type": "code",
   "execution_count": 602,
   "id": "d62bbbce",
   "metadata": {},
   "outputs": [],
   "source": [
    "pipe_svm_fit = pipe.fit(X_train, y_train)"
   ]
  },
  {
   "cell_type": "code",
   "execution_count": 603,
   "id": "d01e5e27",
   "metadata": {},
   "outputs": [
    {
     "data": {
      "text/plain": [
       "0.5193723983349343"
      ]
     },
     "execution_count": 603,
     "metadata": {},
     "output_type": "execute_result"
    }
   ],
   "source": [
    "pipe_svm_fit.score(X_test, y_test)"
   ]
  },
  {
   "cell_type": "code",
   "execution_count": 604,
   "id": "31fae273",
   "metadata": {},
   "outputs": [
    {
     "data": {
      "text/plain": [
       "<sklearn.metrics._plot.roc_curve.RocCurveDisplay at 0x20b812a2370>"
      ]
     },
     "execution_count": 604,
     "metadata": {},
     "output_type": "execute_result"
    },
    {
     "data": {
      "image/png": "[encoded data removed]",
      "text/plain": [
       "<Figure size 432x288 with 1 Axes>"
      ]
     },
     "metadata": {},
     "output_type": "display_data"
    }
   ],
   "source": [
    "RocCurveDisplay.from_estimator(pipe_svm_fit, X_test, y_test)"
   ]
  },
  {
   "cell_type": "markdown",
   "id": "a827ac81",
   "metadata": {},
   "source": [
    "#### Random Forest Classifier (Baseline)"
   ]
  },
  {
   "cell_type": "code",
   "execution_count": 605,
   "id": "720435dc",
   "metadata": {},
   "outputs": [],
   "source": [
    "pipe_rfc = Pipeline([\n",
    "    ('ohe', transformer),\n",
    "    ('randomforest', RandomForestClassifier())\n",
    "])"
   ]
  },
  {
   "cell_type": "code",
   "execution_count": 606,
   "id": "d82bd8f2",
   "metadata": {},
   "outputs": [],
   "source": [
    "pipe_rfc_fit = pipe_rfc.fit(X_train, y_train)"
   ]
  },
  {
   "cell_type": "code",
   "execution_count": 607,
   "id": "ff02f5f5",
   "metadata": {},
   "outputs": [
    {
     "data": {
      "text/plain": [
       "0.5826929234710214"
      ]
     },
     "execution_count": 607,
     "metadata": {},
     "output_type": "execute_result"
    }
   ],
   "source": [
    "pipe_rfc_fit.score(X_test, y_test)"
   ]
  },
  {
   "cell_type": "code",
   "execution_count": 608,
   "id": "0de35a25",
   "metadata": {
    "scrolled": false
   },
   "outputs": [
    {
     "data": {
      "image/png": "[encoded data removed]",
      "text/plain": [
       "<Figure size 432x288 with 1 Axes>"
      ]
     },
     "metadata": {},
     "output_type": "display_data"
    }
   ],
   "source": [
    "display_ROC_rfc = RocCurveDisplay.from_estimator(pipe_rfc, X_test, y_test)\n",
    "plt.show();"
   ]
  },
  {
   "cell_type": "code",
   "execution_count": 609,
   "id": "ca831e7a",
   "metadata": {},
   "outputs": [],
   "source": [
    "y_pred = pipe_rfc_fit.predict(X)"
   ]
  },
  {
   "cell_type": "code",
   "execution_count": 646,
   "id": "2ba821da",
   "metadata": {},
   "outputs": [
    {
     "data": {
      "text/plain": [
       "0.652039479430518"
      ]
     },
     "execution_count": 646,
     "metadata": {},
     "output_type": "execute_result"
    }
   ],
   "source": [
    "f1_score(y_true=y, y_pred=y_pred, pos_label= \"Positive_Trend\")"
   ]
  },
  {
   "cell_type": "code",
   "execution_count": 620,
   "id": "87222b84",
   "metadata": {},
   "outputs": [
    {
     "data": {
      "image/png": "[encoded data removed]",
      "text/plain": [
       "<Figure size 432x288 with 1 Axes>"
      ]
     },
     "metadata": {},
     "output_type": "display_data"
    }
   ],
   "source": [
    "pr_display = PrecisionRecallDisplay.from_estimator(pipe_rfc, X_test, y_test, name=\"Random_Forest_Classifier\")"
   ]
  },
  {
   "cell_type": "code",
   "execution_count": 647,
   "id": "cc66544c",
   "metadata": {},
   "outputs": [
    {
     "data": {
      "text/plain": [
       "{'accuracy': 0.5827,\n",
       " 'precision': 0.5737,\n",
       " 'recall': 0.5125,\n",
       " 'area under precision-recall curve': 0.5977}"
      ]
     },
     "execution_count": 647,
     "metadata": {},
     "output_type": "execute_result"
    }
   ],
   "source": [
    "model_evaluation(pipe_rfc, X_test, y_test, positive_label='Positive_Trend')"
   ]
  },
  {
   "cell_type": "code",
   "execution_count": 648,
   "id": "21ca26c3",
   "metadata": {},
   "outputs": [
    {
     "data": {
      "text/plain": [
       "array([[0.71065115, 0.28934885],\n",
       "       [0.81776515, 0.18223485],\n",
       "       [0.08636111, 0.91363889],\n",
       "       ...,\n",
       "       [0.62077246, 0.37922754],\n",
       "       [0.88      , 0.12      ],\n",
       "       [0.64663168, 0.35336832]])"
      ]
     },
     "execution_count": 648,
     "metadata": {},
     "output_type": "execute_result"
    }
   ],
   "source": [
    "pipe_rfc.predict_proba(X)"
   ]
  },
  {
   "cell_type": "markdown",
   "id": "1a7cbb2d",
   "metadata": {},
   "source": [
    "#### Logistic Regression (Baseline)"
   ]
  },
  {
   "cell_type": "code",
   "execution_count": 622,
   "id": "50802564",
   "metadata": {},
   "outputs": [],
   "source": [
    "transformer_logit = ColumnTransformer([\n",
    "    ('ohe', OneHotEncoder(), ['Polarity Categories']),\n",
    "    ('scaler', StandardScaler(), ['Followers Count'])\n",
    "])"
   ]
  },
  {
   "cell_type": "code",
   "execution_count": 628,
   "id": "e6982a10",
   "metadata": {},
   "outputs": [],
   "source": [
    "pipe_logit = Pipeline([\n",
    "    ('ohe', transformer),\n",
    "    ('logit', LogisticRegression())\n",
    "])"
   ]
  },
  {
   "cell_type": "code",
   "execution_count": 629,
   "id": "a884e60e",
   "metadata": {},
   "outputs": [
    {
     "data": {
      "text/plain": [
       "{'memory': None,\n",
       " 'steps': [('ohe',\n",
       "   ColumnTransformer(transformers=[('ohe', OneHotEncoder(),\n",
       "                                    ['Polarity Categories']),\n",
       "                                   ('scaler', StandardScaler(),\n",
       "                                    ['Followers Count'])])),\n",
       "  ('logit', LogisticRegression())],\n",
       " 'verbose': False,\n",
       " 'ohe': ColumnTransformer(transformers=[('ohe', OneHotEncoder(),\n",
       "                                  ['Polarity Categories']),\n",
       "                                 ('scaler', StandardScaler(),\n",
       "                                  ['Followers Count'])]),\n",
       " 'logit': LogisticRegression(),\n",
       " 'ohe__n_jobs': None,\n",
       " 'ohe__remainder': 'drop',\n",
       " 'ohe__sparse_threshold': 0.3,\n",
       " 'ohe__transformer_weights': None,\n",
       " 'ohe__transformers': [('ohe', OneHotEncoder(), ['Polarity Categories']),\n",
       "  ('scaler', StandardScaler(), ['Followers Count'])],\n",
       " 'ohe__verbose': False,\n",
       " 'ohe__verbose_feature_names_out': True,\n",
       " 'ohe__ohe': OneHotEncoder(),\n",
       " 'ohe__scaler': StandardScaler(),\n",
       " 'ohe__ohe__categories': 'auto',\n",
       " 'ohe__ohe__drop': None,\n",
       " 'ohe__ohe__dtype': numpy.float64,\n",
       " 'ohe__ohe__handle_unknown': 'error',\n",
       " 'ohe__ohe__sparse': True,\n",
       " 'ohe__scaler__copy': True,\n",
       " 'ohe__scaler__with_mean': True,\n",
       " 'ohe__scaler__with_std': True,\n",
       " 'logit__C': 1.0,\n",
       " 'logit__class_weight': None,\n",
       " 'logit__dual': False,\n",
       " 'logit__fit_intercept': True,\n",
       " 'logit__intercept_scaling': 1,\n",
       " 'logit__l1_ratio': None,\n",
       " 'logit__max_iter': 100,\n",
       " 'logit__multi_class': 'auto',\n",
       " 'logit__n_jobs': None,\n",
       " 'logit__penalty': 'l2',\n",
       " 'logit__random_state': None,\n",
       " 'logit__solver': 'lbfgs',\n",
       " 'logit__tol': 0.0001,\n",
       " 'logit__verbose': 0,\n",
       " 'logit__warm_start': False}"
      ]
     },
     "execution_count": 629,
     "metadata": {},
     "output_type": "execute_result"
    }
   ],
   "source": [
    "pipe_logit.get_params()"
   ]
  },
  {
   "cell_type": "code",
   "execution_count": 634,
   "id": "d82ded64",
   "metadata": {},
   "outputs": [
    {
     "data": {
      "text/plain": [
       "Pipeline(steps=[('ohe',\n",
       "                 ColumnTransformer(transformers=[('ohe', OneHotEncoder(),\n",
       "                                                  ['Polarity Categories']),\n",
       "                                                 ('scaler', StandardScaler(),\n",
       "                                                  ['Followers Count'])])),\n",
       "                ('logit', LogisticRegression())])"
      ]
     },
     "execution_count": 634,
     "metadata": {},
     "output_type": "execute_result"
    }
   ],
   "source": [
    "pipe_logit.fit(X_train, y_train)"
   ]
  },
  {
   "cell_type": "code",
   "execution_count": 644,
   "id": "3d2aa4de",
   "metadata": {},
   "outputs": [],
   "source": [
    "# Good evaluation for random forest and logistic \n",
    "\n",
    "def model_evaluation(model, X, y_true, positive_label):\n",
    "    y_pred = model.predict(X)\n",
    "    scores = {}\n",
    "    scores['accuracy'] = round(metrics.accuracy_score(y_true, y_pred), 4)\n",
    "    scores['precision'] = round(metrics.precision_score(y_true, y_pred, pos_label=positive_label), 4)\n",
    "    scores['recall'] = round(metrics.recall_score(y_true, y_pred, pos_label=positive_label), 4)\n",
    "    probs = model.predict_proba(X).T[1]\n",
    "    precisions, recalls, thresholds = metrics.precision_recall_curve(y_true, probs, pos_label=positive_label)\n",
    "    scores['area under precision-recall curve'] = round(metrics.auc(recalls, precisions), 4)\n",
    "    return scores\n",
    "\n",
    "def print_model_evaluation(model_name, scores):\n",
    "    print('{} evaluation \\n'.format(model_name))\n",
    "    for metric, score in scores.items():\n",
    "        print('Test {}: {}'.format(metric, score))"
   ]
  },
  {
   "cell_type": "code",
   "execution_count": 645,
   "id": "5a1ea2d8",
   "metadata": {},
   "outputs": [
    {
     "data": {
      "text/plain": [
       "{'accuracy': 0.5199,\n",
       " 'precision': 0.5422,\n",
       " 'recall': 0.0075,\n",
       " 'area under precision-recall curve': 0.4891}"
      ]
     },
     "execution_count": 645,
     "metadata": {},
     "output_type": "execute_result"
    }
   ],
   "source": [
    "model_evaluation(pipe_logit, X_test, y_test, positive_label='Positive_Trend')"
   ]
  },
  {
   "cell_type": "code",
   "execution_count": null,
   "id": "85fc21fd",
   "metadata": {},
   "outputs": [],
   "source": []
  }
 ],
 "metadata": {
  "kernelspec": {
   "display_name": "capstone_kernel",
   "language": "python",
   "name": "capstone_kernel"
  },
  "language_info": {
   "codemirror_mode": {
    "name": "ipython",
    "version": 3
   },
   "file_extension": ".py",
   "mimetype": "text/x-python",
   "name": "python",
   "nbconvert_exporter": "python",
   "pygments_lexer": "ipython3",
   "version": "3.9.7"
  }
 },
 "nbformat": 4,
 "nbformat_minor": 5
}
