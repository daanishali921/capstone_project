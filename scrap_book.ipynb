{
 "cells": [
  {
   "cell_type": "markdown",
   "id": "20adad52",
   "metadata": {},
   "source": [
    "# Import Libraries"
   ]
  },
  {
   "cell_type": "markdown",
   "id": "3d436806",
   "metadata": {},
   "source": [
    "#### Modeling and Modeling Metrics Libraries "
   ]
  },
  {
   "cell_type": "code",
   "execution_count": 7,
   "id": "c9b92b71",
   "metadata": {
    "ExecuteTime": {
     "end_time": "2022-01-19T23:19:33.775593Z",
     "start_time": "2022-01-19T23:19:33.764603Z"
    }
   },
   "outputs": [],
   "source": [
    "# Models and Transformers\n",
    "from sklearn.preprocessing import OneHotEncoder, StandardScaler\n",
    "from sklearn.pipeline import Pipeline\n",
    "from sklearn.compose import ColumnTransformer\n",
    "from sklearn import svm\n",
    "from sklearn.ensemble import RandomForestClassifier, RandomForestRegressor\n",
    "from sklearn.linear_model import LinearRegression, LogisticRegression\n",
    "\n",
    "# Model Metrics\n",
    "from sklearn.metrics import PrecisionRecallDisplay, RocCurveDisplay, f1_score\n",
    "from sklearn import metrics\n",
    "\n",
    "# Optimization\n",
    "from sklearn.model_selection import GridSearchCV"
   ]
  },
  {
   "cell_type": "markdown",
   "id": "cfcc3482",
   "metadata": {},
   "source": [
    "#### Data Visualization"
   ]
  },
  {
   "cell_type": "code",
   "execution_count": 8,
   "id": "75f8a672",
   "metadata": {
    "ExecuteTime": {
     "end_time": "2022-01-19T23:19:35.060446Z",
     "start_time": "2022-01-19T23:19:34.410420Z"
    }
   },
   "outputs": [],
   "source": [
    "import matplotlib.pyplot as plt\n",
    "import seaborn as sns\n",
    "sns.set()"
   ]
  },
  {
   "cell_type": "markdown",
   "id": "800b46a1",
   "metadata": {},
   "source": [
    "#### File Management"
   ]
  },
  {
   "cell_type": "code",
   "execution_count": 9,
   "id": "648382b4",
   "metadata": {
    "ExecuteTime": {
     "end_time": "2022-01-19T23:19:35.152775Z",
     "start_time": "2022-01-19T23:19:35.138577Z"
    }
   },
   "outputs": [],
   "source": [
    "import os\n",
    "import subprocess\n",
    "import glob\n",
    "\n",
    "import json\n",
    "import csv"
   ]
  },
  {
   "cell_type": "markdown",
   "id": "de9fd6a8",
   "metadata": {},
   "source": [
    "#### NLP & Text Parsing"
   ]
  },
  {
   "cell_type": "code",
   "execution_count": 10,
   "id": "4712822d",
   "metadata": {
    "ExecuteTime": {
     "end_time": "2022-01-19T23:19:35.539354Z",
     "start_time": "2022-01-19T23:19:35.231664Z"
    }
   },
   "outputs": [],
   "source": [
    "import re\n",
    "from textblob import TextBlob"
   ]
  },
  {
   "cell_type": "markdown",
   "id": "4f1e778b",
   "metadata": {},
   "source": [
    "#### Pandas/NumPy/Datetime"
   ]
  },
  {
   "cell_type": "code",
   "execution_count": 11,
   "id": "6b3dbf4a",
   "metadata": {
    "ExecuteTime": {
     "end_time": "2022-01-19T23:19:35.788764Z",
     "start_time": "2022-01-19T23:19:35.770991Z"
    }
   },
   "outputs": [],
   "source": [
    "import pandas as pd\n",
    "import numpy as np\n",
    "\n",
    "from datetime import datetime, date, time"
   ]
  },
  {
   "cell_type": "markdown",
   "id": "d6d0e591",
   "metadata": {},
   "source": [
    "#### Twitter/Stock Data Scraper"
   ]
  },
  {
   "cell_type": "code",
   "execution_count": 12,
   "id": "854044a8",
   "metadata": {
    "ExecuteTime": {
     "end_time": "2022-01-19T23:19:36.675197Z",
     "start_time": "2022-01-19T23:19:36.662231Z"
    }
   },
   "outputs": [],
   "source": [
    "import snscrape.modules.twitter as sntwitter\n",
    "import yfinance as yf"
   ]
  },
  {
   "cell_type": "markdown",
   "id": "2568faf2",
   "metadata": {},
   "source": [
    "# Custom Functions"
   ]
  },
  {
   "cell_type": "code",
   "execution_count": 13,
   "id": "8293af13-b4ea-42ad-a7d0-a2fb9326be41",
   "metadata": {
    "ExecuteTime": {
     "end_time": "2022-01-19T23:19:37.617877Z",
     "start_time": "2022-01-19T23:19:37.610875Z"
    }
   },
   "outputs": [],
   "source": [
    "# Get Twitter Data (Saved as csv on local machine)\n",
    "\n",
    "def scrapeTweets(start_date, end_date, keyword, directory_name, tweet_limit=1):\n",
    "    if not os.path.exists(directory_name): # Creates directory in current directory if doesn't already exist\n",
    "        os.mkdir(directory_name)\n",
    "    \n",
    "    file_path = os.path.join(directory_name, f'keyword:{keyword}__start:{start_date}_end:{end_date}__limit:{tweet_limit}.csv')\n",
    "    \n",
    "    tweet_list = []\n",
    "    for i,tweet in enumerate(sntwitter.TwitterSearchScraper(f'{keyword} since:{start_date} until:{end_date}').get_items()):\n",
    "        if i > tweet_limit:\n",
    "            break\n",
    "        tweet_list.append([tweet.date, # Appending all tweet data into a list of list\n",
    "                           tweet.id, \n",
    "                           tweet.content, \n",
    "                           tweet.user.username, \n",
    "                           tweet.user.followersCount, \n",
    "                           tweet.hashtags, \n",
    "                           tweet.cashtags, \n",
    "                           tweet.lang])\n",
    "    \n",
    "    df_tweets = pd.DataFrame(tweet_list, columns=['Datetime', # Creating df of tweet data\n",
    "                                                  'Tweet Id', \n",
    "                                                  'Text', \n",
    "                                                  'Username', \n",
    "                                                  'Followers Count', \n",
    "                                                  'Hashtags', \n",
    "                                                  'Cashtags', \n",
    "                                                  'Language'])\n",
    "    \n",
    "    df_tweets.to_csv(file_path, index=False) # Writing df_tweets into new csv file\n",
    "    \n",
    "    if os.path.isfile(file_path) == True:\n",
    "        return print(f'Successfully saved DataFrame to {file_path}')\n",
    "    else:\n",
    "        return print('DataFrame not saved -- possible error has occurred.')        "
   ]
  },
  {
   "cell_type": "code",
   "execution_count": 14,
   "id": "d5dfebb5-6eb1-4b19-8686-9dcc43579714",
   "metadata": {
    "ExecuteTime": {
     "end_time": "2022-01-19T23:19:37.837011Z",
     "start_time": "2022-01-19T23:19:37.817065Z"
    }
   },
   "outputs": [],
   "source": [
    "# Wrangle Tweet Data\n",
    "\n",
    "def dataWrangle(dataframe_list):   \n",
    "    df_concat = pd.concat(dataframe_list) # Concatenate all the DataFrames from the list of DataFrames\n",
    "    df_filter = df_concat[df_concat['Language'] == 'en'][['Datetime', # Filter via Language = 'en'\n",
    "                                                           'Tweet Id', # Remove unwanted columns\n",
    "                                                           'Text', \n",
    "                                                           'Username',\n",
    "                                                           'Followers Count']] \n",
    "    df_clean = df_filter.astype({'Tweet Id':str})\\\n",
    "                        .dropna()\\\n",
    "                        .drop_duplicates()\\\n",
    "                        .reset_index(drop=True)\n",
    "    \n",
    "    df_clean['Text'] = (df_clean['Text'] # Cleans out redundant string characters within each tweet\n",
    "                       .apply(lambda x: ' '.join(re.sub(r'https\\S+', '', x)\n",
    "                                                .replace('\\n', ' ')\n",
    "                                                .split()\n",
    "                                                )\n",
    "                             )\n",
    "                       )\n",
    "    \n",
    "    df_clean['Datetime'] = pd.to_datetime(df_clean['Datetime']).dt.floor('d').dt.tz_localize(tz=None)\n",
    "    \n",
    "    return df_clean.set_index('Datetime').sort_index()\n",
    "                                               "
   ]
  },
  {
   "cell_type": "code",
   "execution_count": 15,
   "id": "50e6e377",
   "metadata": {
    "ExecuteTime": {
     "end_time": "2022-01-19T23:19:38.223967Z",
     "start_time": "2022-01-19T23:19:38.210978Z"
    }
   },
   "outputs": [],
   "source": [
    "# Get Stock Data (DataFrame)\n",
    "\n",
    "def getStockData(ticker, start, end):\n",
    "    df_stock = yf.download(ticker, start, end)\n",
    "    df_stock.index = df_stock.index.tz_localize(tz=None).rename(name='Datetime')\n",
    "    df_stock['Closing Differences'] = df_stock['Adj Close'].diff()\n",
    "    df_stock['C-O/O'] = ((df_stock['Close']-df_stock['Open'])/df_stock['Open'])*100\n",
    "    \n",
    "    return df_stock    "
   ]
  },
  {
   "cell_type": "code",
   "execution_count": 16,
   "id": "37df8578",
   "metadata": {
    "ExecuteTime": {
     "end_time": "2022-01-19T23:19:38.644693Z",
     "start_time": "2022-01-19T23:19:38.624746Z"
    }
   },
   "outputs": [],
   "source": [
    "# CLASSIFICATION Model Evaluation\n",
    "\n",
    "def model_evaluation(model, X, y_true, positive_label):\n",
    "    y_pred = model.predict(X)\n",
    "    scores = {}\n",
    "    scores['accuracy'] = round(metrics.accuracy_score(y_true, y_pred), 4)\n",
    "    scores['precision'] = round(metrics.precision_score(y_true, y_pred, pos_label=positive_label), 4)\n",
    "    scores['recall'] = round(metrics.recall_score(y_true, y_pred, pos_label=positive_label), 4)\n",
    "    probs = model.predict_proba(X).T[1]\n",
    "    precisions, recalls, thresholds = metrics.precision_recall_curve(y_true, probs, pos_label=positive_label)\n",
    "    scores['area under precision-recall curve'] = round(metrics.auc(recalls, precisions), 4)\n",
    "    scores['f1 score'] = round(f1_score(y_true=y_true, y_pred=y_pred, pos_label= \"Positive_Trend\"), 4)\n",
    "    return scores\n",
    "\n",
    "def print_model_evaluation(model_name, scores):\n",
    "#     print('{} evaluation \\n'.format(model_name))\n",
    "    for metric, score in scores.items():\n",
    "        print('Test {}: {}'.format(metric, score))\n"
   ]
  },
  {
   "cell_type": "code",
   "execution_count": 75,
   "id": "10aaaeae",
   "metadata": {
    "ExecuteTime": {
     "end_time": "2022-01-20T01:34:32.665044Z",
     "start_time": "2022-01-20T01:34:32.646093Z"
    }
   },
   "outputs": [],
   "source": [
    "# 1. Polarity Score Categories as a column on DataFrame\n",
    "# 2. Creating categorical polarity column\n",
    "\n",
    "def polarityCategories(tup):\n",
    "    if tup[0] < -0.05:\n",
    "        return 'Negative'\n",
    "    elif tup[0] > 0.05:\n",
    "        return 'Positive'\n",
    "    else:\n",
    "        return 'Neutral'\n",
    "    \n",
    "def polarityColumns(df_tweets):\n",
    "    df_tweets['Polarity/Subjectivity Scores'] = df_tweets['Text'].apply(lambda text: TextBlob(text).sentiment)\n",
    "    df_tweets_filtered = df_tweets[df_tweets['Polarity/Subjectivity Scores'] != (0.0,0.0)]\n",
    "    df_tweets_filtered = df_tweets_filtered.copy()\n",
    "    df_tweets_filtered['Polarity Categories'] = df_tweets_filtered['Polarity/Subjectivity Scores'].apply(lambda x: polarityCategories(x))\n",
    "    \n",
    "    print(df_tweets_filtered.value_counts('Polarity Categories'))\n",
    "    \n",
    "    return df_tweets_filtered"
   ]
  },
  {
   "cell_type": "markdown",
   "id": "07671159",
   "metadata": {},
   "source": [
    "# Twitter Data"
   ]
  },
  {
   "cell_type": "markdown",
   "id": "dc12a7ee",
   "metadata": {
    "ExecuteTime": {
     "end_time": "2022-01-19T22:32:35.056723Z",
     "start_time": "2022-01-19T22:32:35.047747Z"
    }
   },
   "source": [
    "## GME Tweets"
   ]
  },
  {
   "cell_type": "code",
   "execution_count": null,
   "id": "d0a94d9d",
   "metadata": {},
   "outputs": [],
   "source": [
    "start_time = date(2021, 1, 8).strftime('%Y-%m-%d')\n",
    "stop_time = date(2021, 2, 12).strftime('%Y-%m-%d')"
   ]
  },
  {
   "cell_type": "code",
   "execution_count": 39,
   "id": "434410a9-9c53-429f-9e88-64eae627eee2",
   "metadata": {
    "ExecuteTime": {
     "end_time": "2022-01-19T23:46:12.315574Z",
     "start_time": "2022-01-19T23:46:12.309590Z"
    }
   },
   "outputs": [],
   "source": [
    "# List of file names\n",
    "\n",
    "# Files from two directories -- scraped at different time irl \n",
    "# for the same dates within the data\n",
    "\n",
    "file_path_tweets_GME = glob.glob('tweets_GME/*')\n",
    "file_path_tweets_scraped = glob.glob('tweets_scraped/*')"
   ]
  },
  {
   "cell_type": "code",
   "execution_count": 40,
   "id": "8cf0313a-1ff8-4be7-9e0a-9fb3c5c289bb",
   "metadata": {
    "ExecuteTime": {
     "end_time": "2022-01-19T23:46:14.045075Z",
     "start_time": "2022-01-19T23:46:12.849831Z"
    }
   },
   "outputs": [],
   "source": [
    "# Creating a list of DataFrames using glob's list of files names\n",
    "df_tweet_gme_list = []\n",
    "for i in file_path_tweets_GME + file_path_tweets_scraped:\n",
    "    df_tweet_gme_list.append(pd.read_csv(i))"
   ]
  },
  {
   "cell_type": "code",
   "execution_count": 82,
   "id": "83032170-f296-4f59-bfd6-80b42e4cfc08",
   "metadata": {
    "ExecuteTime": {
     "end_time": "2022-01-20T01:57:56.130525Z",
     "start_time": "2022-01-20T01:57:55.198989Z"
    }
   },
   "outputs": [],
   "source": [
    "df_tweet_gme = dataWrangle(df_tweet_gme_list)"
   ]
  },
  {
   "cell_type": "code",
   "execution_count": 83,
   "id": "f6d3e8d9",
   "metadata": {
    "ExecuteTime": {
     "end_time": "2022-01-20T01:57:56.423713Z",
     "start_time": "2022-01-20T01:57:56.412743Z"
    }
   },
   "outputs": [
    {
     "data": {
      "text/html": [
       "<div>\n",
       "<style scoped>\n",
       "    .dataframe tbody tr th:only-of-type {\n",
       "        vertical-align: middle;\n",
       "    }\n",
       "\n",
       "    .dataframe tbody tr th {\n",
       "        vertical-align: top;\n",
       "    }\n",
       "\n",
       "    .dataframe thead th {\n",
       "        text-align: right;\n",
       "    }\n",
       "</style>\n",
       "<table border=\"1\" class=\"dataframe\">\n",
       "  <thead>\n",
       "    <tr style=\"text-align: right;\">\n",
       "      <th></th>\n",
       "      <th>Tweet Id</th>\n",
       "      <th>Text</th>\n",
       "      <th>Username</th>\n",
       "      <th>Followers Count</th>\n",
       "    </tr>\n",
       "    <tr>\n",
       "      <th>Datetime</th>\n",
       "      <th></th>\n",
       "      <th></th>\n",
       "      <th></th>\n",
       "      <th></th>\n",
       "    </tr>\n",
       "  </thead>\n",
       "  <tbody>\n",
       "    <tr>\n",
       "      <th>2021-01-08</th>\n",
       "      <td>1347684080905814016</td>\n",
       "      <td>$GME NEW ARTICLE : GameStop Is Caught in a Vic...</td>\n",
       "      <td>StckPro</td>\n",
       "      <td>4198</td>\n",
       "    </tr>\n",
       "    <tr>\n",
       "      <th>2021-01-08</th>\n",
       "      <td>1347601307595665408</td>\n",
       "      <td>@LondonI67782602 Volume is up today as well</td>\n",
       "      <td>gh0st_GME</td>\n",
       "      <td>2004</td>\n",
       "    </tr>\n",
       "    <tr>\n",
       "      <th>2021-01-08</th>\n",
       "      <td>1347604200612573184</td>\n",
       "      <td>2 pairs to be exact</td>\n",
       "      <td>KingC_GME</td>\n",
       "      <td>1125</td>\n",
       "    </tr>\n",
       "    <tr>\n",
       "      <th>2021-01-08</th>\n",
       "      <td>1347604783113383943</td>\n",
       "      <td>@Thebandit11417 I love it!! So stoked for you!...</td>\n",
       "      <td>gh0st_GME</td>\n",
       "      <td>2004</td>\n",
       "    </tr>\n",
       "    <tr>\n",
       "      <th>2021-01-08</th>\n",
       "      <td>1347606361618702337</td>\n",
       "      <td>@Daytrad58409800 Bought more $Gme</td>\n",
       "      <td>JDR1024</td>\n",
       "      <td>396</td>\n",
       "    </tr>\n",
       "    <tr>\n",
       "      <th>...</th>\n",
       "      <td>...</td>\n",
       "      <td>...</td>\n",
       "      <td>...</td>\n",
       "      <td>...</td>\n",
       "    </tr>\n",
       "    <tr>\n",
       "      <th>2021-02-11</th>\n",
       "      <td>1359666802213715971</td>\n",
       "      <td>All #RedditArmy #investors Lets bring $SNDL to...</td>\n",
       "      <td>Ban_Robinhood</td>\n",
       "      <td>222</td>\n",
       "    </tr>\n",
       "    <tr>\n",
       "      <th>2021-02-11</th>\n",
       "      <td>1359666659968094209</td>\n",
       "      <td>👏 Let’s SPIN the #Webull Wheel 🌟 1000 SHARES O...</td>\n",
       "      <td>PaniniDream</td>\n",
       "      <td>21</td>\n",
       "    </tr>\n",
       "    <tr>\n",
       "      <th>2021-02-11</th>\n",
       "      <td>1359666341943386113</td>\n",
       "      <td>All #RedditArmy #investors Lets bring $SNDL to...</td>\n",
       "      <td>Ban_Robinhood</td>\n",
       "      <td>222</td>\n",
       "    </tr>\n",
       "    <tr>\n",
       "      <th>2021-02-11</th>\n",
       "      <td>1359667004211347458</td>\n",
       "      <td>@GME_DrDoom @HipHopDX vinyl coming soon! stay ...</td>\n",
       "      <td>MarlonCraft</td>\n",
       "      <td>17666</td>\n",
       "    </tr>\n",
       "    <tr>\n",
       "      <th>2021-02-11</th>\n",
       "      <td>1359953481839370246</td>\n",
       "      <td>Bad news if you're a developer, selling Game a...</td>\n",
       "      <td>DiscoverBlogNY</td>\n",
       "      <td>773</td>\n",
       "    </tr>\n",
       "  </tbody>\n",
       "</table>\n",
       "<p>106628 rows × 4 columns</p>\n",
       "</div>"
      ],
      "text/plain": [
       "                       Tweet Id  \\\n",
       "Datetime                          \n",
       "2021-01-08  1347684080905814016   \n",
       "2021-01-08  1347601307595665408   \n",
       "2021-01-08  1347604200612573184   \n",
       "2021-01-08  1347604783113383943   \n",
       "2021-01-08  1347606361618702337   \n",
       "...                         ...   \n",
       "2021-02-11  1359666802213715971   \n",
       "2021-02-11  1359666659968094209   \n",
       "2021-02-11  1359666341943386113   \n",
       "2021-02-11  1359667004211347458   \n",
       "2021-02-11  1359953481839370246   \n",
       "\n",
       "                                                         Text        Username  \\\n",
       "Datetime                                                                        \n",
       "2021-01-08  $GME NEW ARTICLE : GameStop Is Caught in a Vic...         StckPro   \n",
       "2021-01-08        @LondonI67782602 Volume is up today as well       gh0st_GME   \n",
       "2021-01-08                                2 pairs to be exact       KingC_GME   \n",
       "2021-01-08  @Thebandit11417 I love it!! So stoked for you!...       gh0st_GME   \n",
       "2021-01-08                  @Daytrad58409800 Bought more $Gme         JDR1024   \n",
       "...                                                       ...             ...   \n",
       "2021-02-11  All #RedditArmy #investors Lets bring $SNDL to...   Ban_Robinhood   \n",
       "2021-02-11  👏 Let’s SPIN the #Webull Wheel 🌟 1000 SHARES O...     PaniniDream   \n",
       "2021-02-11  All #RedditArmy #investors Lets bring $SNDL to...   Ban_Robinhood   \n",
       "2021-02-11  @GME_DrDoom @HipHopDX vinyl coming soon! stay ...     MarlonCraft   \n",
       "2021-02-11  Bad news if you're a developer, selling Game a...  DiscoverBlogNY   \n",
       "\n",
       "           Followers Count  \n",
       "Datetime                    \n",
       "2021-01-08            4198  \n",
       "2021-01-08            2004  \n",
       "2021-01-08            1125  \n",
       "2021-01-08            2004  \n",
       "2021-01-08             396  \n",
       "...                    ...  \n",
       "2021-02-11             222  \n",
       "2021-02-11              21  \n",
       "2021-02-11             222  \n",
       "2021-02-11           17666  \n",
       "2021-02-11             773  \n",
       "\n",
       "[106628 rows x 4 columns]"
      ]
     },
     "execution_count": 83,
     "metadata": {},
     "output_type": "execute_result"
    }
   ],
   "source": [
    "df_tweet_gme"
   ]
  },
  {
   "cell_type": "markdown",
   "id": "a01ac4fb",
   "metadata": {},
   "source": [
    "# Polarity Scores"
   ]
  },
  {
   "cell_type": "markdown",
   "id": "155d2439",
   "metadata": {},
   "source": [
    "A list of goals to accomplish: \\\n",
    "    - Figure out polarity/subjectivity scores for every tweet\\\n",
    "    - For now we want to work with dates from 01/21/2021 and onwards as a test\\\n",
    "    - Mess about with distribution of negative/positive/neutral scores to have a healthy balance of samples\\\n",
    "    - Break everything up by days\\\n",
    "    - Move onto bringing in financial data"
   ]
  },
  {
   "cell_type": "code",
   "execution_count": 84,
   "id": "9fdce517",
   "metadata": {
    "ExecuteTime": {
     "end_time": "2022-01-20T01:58:27.021990Z",
     "start_time": "2022-01-20T01:57:59.820774Z"
    },
    "scrolled": true
   },
   "outputs": [
    {
     "name": "stdout",
     "output_type": "stream",
     "text": [
      "Polarity Categories\n",
      "Positive    40804\n",
      "Negative    18058\n",
      "Neutral     15989\n",
      "dtype: int64\n"
     ]
    }
   ],
   "source": [
    "df_tweet_gme = polarityColumns(df_tweet_gme)"
   ]
  },
  {
   "cell_type": "code",
   "execution_count": 85,
   "id": "eb64b22b",
   "metadata": {
    "ExecuteTime": {
     "end_time": "2022-01-20T01:58:27.283214Z",
     "start_time": "2022-01-20T01:58:27.269251Z"
    }
   },
   "outputs": [
    {
     "data": {
      "text/html": [
       "<div>\n",
       "<style scoped>\n",
       "    .dataframe tbody tr th:only-of-type {\n",
       "        vertical-align: middle;\n",
       "    }\n",
       "\n",
       "    .dataframe tbody tr th {\n",
       "        vertical-align: top;\n",
       "    }\n",
       "\n",
       "    .dataframe thead th {\n",
       "        text-align: right;\n",
       "    }\n",
       "</style>\n",
       "<table border=\"1\" class=\"dataframe\">\n",
       "  <thead>\n",
       "    <tr style=\"text-align: right;\">\n",
       "      <th></th>\n",
       "      <th>Tweet Id</th>\n",
       "      <th>Text</th>\n",
       "      <th>Username</th>\n",
       "      <th>Followers Count</th>\n",
       "      <th>Polarity/Subjectivity Scores</th>\n",
       "      <th>Polarity Categories</th>\n",
       "    </tr>\n",
       "    <tr>\n",
       "      <th>Datetime</th>\n",
       "      <th></th>\n",
       "      <th></th>\n",
       "      <th></th>\n",
       "      <th></th>\n",
       "      <th></th>\n",
       "      <th></th>\n",
       "    </tr>\n",
       "  </thead>\n",
       "  <tbody>\n",
       "    <tr>\n",
       "      <th>2021-01-08</th>\n",
       "      <td>1347684080905814016</td>\n",
       "      <td>$GME NEW ARTICLE : GameStop Is Caught in a Vic...</td>\n",
       "      <td>StckPro</td>\n",
       "      <td>4198</td>\n",
       "      <td>(-0.09090909090909091, 0.6886363636363636)</td>\n",
       "      <td>Negative</td>\n",
       "    </tr>\n",
       "    <tr>\n",
       "      <th>2021-01-08</th>\n",
       "      <td>1347604200612573184</td>\n",
       "      <td>2 pairs to be exact</td>\n",
       "      <td>KingC_GME</td>\n",
       "      <td>1125</td>\n",
       "      <td>(0.25, 0.25)</td>\n",
       "      <td>Positive</td>\n",
       "    </tr>\n",
       "    <tr>\n",
       "      <th>2021-01-08</th>\n",
       "      <td>1347604783113383943</td>\n",
       "      <td>@Thebandit11417 I love it!! So stoked for you!...</td>\n",
       "      <td>gh0st_GME</td>\n",
       "      <td>2004</td>\n",
       "      <td>(0.75, 0.8)</td>\n",
       "      <td>Positive</td>\n",
       "    </tr>\n",
       "    <tr>\n",
       "      <th>2021-01-08</th>\n",
       "      <td>1347606361618702337</td>\n",
       "      <td>@Daytrad58409800 Bought more $Gme</td>\n",
       "      <td>JDR1024</td>\n",
       "      <td>396</td>\n",
       "      <td>(0.5, 0.5)</td>\n",
       "      <td>Positive</td>\n",
       "    </tr>\n",
       "    <tr>\n",
       "      <th>2021-01-08</th>\n",
       "      <td>1347606659766644744</td>\n",
       "      <td>@alphaverve Long $GME.</td>\n",
       "      <td>JDR1024</td>\n",
       "      <td>396</td>\n",
       "      <td>(-0.05, 0.4)</td>\n",
       "      <td>Neutral</td>\n",
       "    </tr>\n",
       "    <tr>\n",
       "      <th>...</th>\n",
       "      <td>...</td>\n",
       "      <td>...</td>\n",
       "      <td>...</td>\n",
       "      <td>...</td>\n",
       "      <td>...</td>\n",
       "      <td>...</td>\n",
       "    </tr>\n",
       "    <tr>\n",
       "      <th>2021-02-11</th>\n",
       "      <td>1359666976965222402</td>\n",
       "      <td>@Shav457 Hey, Shav! I wanted to get into inves...</td>\n",
       "      <td>ashfakuztweets</td>\n",
       "      <td>95</td>\n",
       "      <td>(0.0, 0.25)</td>\n",
       "      <td>Neutral</td>\n",
       "    </tr>\n",
       "    <tr>\n",
       "      <th>2021-02-11</th>\n",
       "      <td>1359666863156920320</td>\n",
       "      <td>@Investingcom I hope @TheRoaringKitty will be ...</td>\n",
       "      <td>bleachain</td>\n",
       "      <td>36</td>\n",
       "      <td>(0.5, 0.5)</td>\n",
       "      <td>Positive</td>\n",
       "    </tr>\n",
       "    <tr>\n",
       "      <th>2021-02-11</th>\n",
       "      <td>1359666802213715971</td>\n",
       "      <td>All #RedditArmy #investors Lets bring $SNDL to...</td>\n",
       "      <td>Ban_Robinhood</td>\n",
       "      <td>222</td>\n",
       "      <td>(-0.16666666666666666, 0.44166666666666665)</td>\n",
       "      <td>Negative</td>\n",
       "    </tr>\n",
       "    <tr>\n",
       "      <th>2021-02-11</th>\n",
       "      <td>1359666341943386113</td>\n",
       "      <td>All #RedditArmy #investors Lets bring $SNDL to...</td>\n",
       "      <td>Ban_Robinhood</td>\n",
       "      <td>222</td>\n",
       "      <td>(-0.05, 0.37)</td>\n",
       "      <td>Neutral</td>\n",
       "    </tr>\n",
       "    <tr>\n",
       "      <th>2021-02-11</th>\n",
       "      <td>1359953481839370246</td>\n",
       "      <td>Bad news if you're a developer, selling Game a...</td>\n",
       "      <td>DiscoverBlogNY</td>\n",
       "      <td>773</td>\n",
       "      <td>(-0.14999999999999997, 0.6416666666666666)</td>\n",
       "      <td>Negative</td>\n",
       "    </tr>\n",
       "  </tbody>\n",
       "</table>\n",
       "<p>74851 rows × 6 columns</p>\n",
       "</div>"
      ],
      "text/plain": [
       "                       Tweet Id  \\\n",
       "Datetime                          \n",
       "2021-01-08  1347684080905814016   \n",
       "2021-01-08  1347604200612573184   \n",
       "2021-01-08  1347604783113383943   \n",
       "2021-01-08  1347606361618702337   \n",
       "2021-01-08  1347606659766644744   \n",
       "...                         ...   \n",
       "2021-02-11  1359666976965222402   \n",
       "2021-02-11  1359666863156920320   \n",
       "2021-02-11  1359666802213715971   \n",
       "2021-02-11  1359666341943386113   \n",
       "2021-02-11  1359953481839370246   \n",
       "\n",
       "                                                         Text        Username  \\\n",
       "Datetime                                                                        \n",
       "2021-01-08  $GME NEW ARTICLE : GameStop Is Caught in a Vic...         StckPro   \n",
       "2021-01-08                                2 pairs to be exact       KingC_GME   \n",
       "2021-01-08  @Thebandit11417 I love it!! So stoked for you!...       gh0st_GME   \n",
       "2021-01-08                  @Daytrad58409800 Bought more $Gme         JDR1024   \n",
       "2021-01-08                             @alphaverve Long $GME.         JDR1024   \n",
       "...                                                       ...             ...   \n",
       "2021-02-11  @Shav457 Hey, Shav! I wanted to get into inves...  ashfakuztweets   \n",
       "2021-02-11  @Investingcom I hope @TheRoaringKitty will be ...       bleachain   \n",
       "2021-02-11  All #RedditArmy #investors Lets bring $SNDL to...   Ban_Robinhood   \n",
       "2021-02-11  All #RedditArmy #investors Lets bring $SNDL to...   Ban_Robinhood   \n",
       "2021-02-11  Bad news if you're a developer, selling Game a...  DiscoverBlogNY   \n",
       "\n",
       "           Followers Count                 Polarity/Subjectivity Scores  \\\n",
       "Datetime                                                                  \n",
       "2021-01-08            4198   (-0.09090909090909091, 0.6886363636363636)   \n",
       "2021-01-08            1125                                 (0.25, 0.25)   \n",
       "2021-01-08            2004                                  (0.75, 0.8)   \n",
       "2021-01-08             396                                   (0.5, 0.5)   \n",
       "2021-01-08             396                                 (-0.05, 0.4)   \n",
       "...                    ...                                          ...   \n",
       "2021-02-11              95                                  (0.0, 0.25)   \n",
       "2021-02-11              36                                   (0.5, 0.5)   \n",
       "2021-02-11             222  (-0.16666666666666666, 0.44166666666666665)   \n",
       "2021-02-11             222                                (-0.05, 0.37)   \n",
       "2021-02-11             773   (-0.14999999999999997, 0.6416666666666666)   \n",
       "\n",
       "           Polarity Categories  \n",
       "Datetime                        \n",
       "2021-01-08            Negative  \n",
       "2021-01-08            Positive  \n",
       "2021-01-08            Positive  \n",
       "2021-01-08            Positive  \n",
       "2021-01-08             Neutral  \n",
       "...                        ...  \n",
       "2021-02-11             Neutral  \n",
       "2021-02-11            Positive  \n",
       "2021-02-11            Negative  \n",
       "2021-02-11             Neutral  \n",
       "2021-02-11            Negative  \n",
       "\n",
       "[74851 rows x 6 columns]"
      ]
     },
     "execution_count": 85,
     "metadata": {},
     "output_type": "execute_result"
    }
   ],
   "source": [
    "df_tweet_gme"
   ]
  },
  {
   "cell_type": "markdown",
   "id": "fac4653e",
   "metadata": {},
   "source": [
    "# Stock Data"
   ]
  },
  {
   "cell_type": "markdown",
   "id": "e5420501",
   "metadata": {},
   "source": [
    "## GME"
   ]
  },
  {
   "cell_type": "code",
   "execution_count": 86,
   "id": "06a12fb4",
   "metadata": {
    "ExecuteTime": {
     "end_time": "2022-01-20T01:58:52.856460Z",
     "start_time": "2022-01-20T01:58:52.577293Z"
    }
   },
   "outputs": [
    {
     "name": "stdout",
     "output_type": "stream",
     "text": [
      "[*********************100%***********************]  1 of 1 completed\n"
     ]
    }
   ],
   "source": [
    "df_stock_gme = getStockData('GME','2021-01-21','2021-02-12')"
   ]
  },
  {
   "cell_type": "code",
   "execution_count": 88,
   "id": "f6d53426",
   "metadata": {
    "ExecuteTime": {
     "end_time": "2022-01-20T01:59:06.269972Z",
     "start_time": "2022-01-20T01:59:06.247033Z"
    }
   },
   "outputs": [
    {
     "data": {
      "text/html": [
       "<div>\n",
       "<style scoped>\n",
       "    .dataframe tbody tr th:only-of-type {\n",
       "        vertical-align: middle;\n",
       "    }\n",
       "\n",
       "    .dataframe tbody tr th {\n",
       "        vertical-align: top;\n",
       "    }\n",
       "\n",
       "    .dataframe thead th {\n",
       "        text-align: right;\n",
       "    }\n",
       "</style>\n",
       "<table border=\"1\" class=\"dataframe\">\n",
       "  <thead>\n",
       "    <tr style=\"text-align: right;\">\n",
       "      <th></th>\n",
       "      <th>Open</th>\n",
       "      <th>High</th>\n",
       "      <th>Low</th>\n",
       "      <th>Close</th>\n",
       "      <th>Adj Close</th>\n",
       "      <th>Volume</th>\n",
       "      <th>Closing Differences</th>\n",
       "      <th>C-O/O</th>\n",
       "    </tr>\n",
       "    <tr>\n",
       "      <th>Datetime</th>\n",
       "      <th></th>\n",
       "      <th></th>\n",
       "      <th></th>\n",
       "      <th></th>\n",
       "      <th></th>\n",
       "      <th></th>\n",
       "      <th></th>\n",
       "      <th></th>\n",
       "    </tr>\n",
       "  </thead>\n",
       "  <tbody>\n",
       "    <tr>\n",
       "      <th>2021-01-21</th>\n",
       "      <td>39.230000</td>\n",
       "      <td>44.750000</td>\n",
       "      <td>37.000000</td>\n",
       "      <td>43.029999</td>\n",
       "      <td>43.029999</td>\n",
       "      <td>56216900</td>\n",
       "      <td>NaN</td>\n",
       "      <td>9.686463</td>\n",
       "    </tr>\n",
       "    <tr>\n",
       "      <th>2021-01-22</th>\n",
       "      <td>42.590000</td>\n",
       "      <td>76.760002</td>\n",
       "      <td>42.320000</td>\n",
       "      <td>65.010002</td>\n",
       "      <td>65.010002</td>\n",
       "      <td>197157900</td>\n",
       "      <td>21.980003</td>\n",
       "      <td>52.641470</td>\n",
       "    </tr>\n",
       "    <tr>\n",
       "      <th>2021-01-25</th>\n",
       "      <td>96.730003</td>\n",
       "      <td>159.179993</td>\n",
       "      <td>61.130001</td>\n",
       "      <td>76.790001</td>\n",
       "      <td>76.790001</td>\n",
       "      <td>177874000</td>\n",
       "      <td>11.779999</td>\n",
       "      <td>-20.614082</td>\n",
       "    </tr>\n",
       "    <tr>\n",
       "      <th>2021-01-26</th>\n",
       "      <td>88.559998</td>\n",
       "      <td>150.000000</td>\n",
       "      <td>80.199997</td>\n",
       "      <td>147.979996</td>\n",
       "      <td>147.979996</td>\n",
       "      <td>178588000</td>\n",
       "      <td>71.189995</td>\n",
       "      <td>67.095754</td>\n",
       "    </tr>\n",
       "    <tr>\n",
       "      <th>2021-01-27</th>\n",
       "      <td>354.829987</td>\n",
       "      <td>380.000000</td>\n",
       "      <td>249.000000</td>\n",
       "      <td>347.510010</td>\n",
       "      <td>347.510010</td>\n",
       "      <td>93396700</td>\n",
       "      <td>199.530014</td>\n",
       "      <td>-2.062953</td>\n",
       "    </tr>\n",
       "    <tr>\n",
       "      <th>2021-01-28</th>\n",
       "      <td>265.000000</td>\n",
       "      <td>483.000000</td>\n",
       "      <td>112.250000</td>\n",
       "      <td>193.600006</td>\n",
       "      <td>193.600006</td>\n",
       "      <td>58815800</td>\n",
       "      <td>-153.910004</td>\n",
       "      <td>-26.943394</td>\n",
       "    </tr>\n",
       "    <tr>\n",
       "      <th>2021-01-29</th>\n",
       "      <td>379.709991</td>\n",
       "      <td>413.980011</td>\n",
       "      <td>250.000000</td>\n",
       "      <td>325.000000</td>\n",
       "      <td>325.000000</td>\n",
       "      <td>50566100</td>\n",
       "      <td>131.399994</td>\n",
       "      <td>-14.408362</td>\n",
       "    </tr>\n",
       "    <tr>\n",
       "      <th>2021-02-01</th>\n",
       "      <td>316.559998</td>\n",
       "      <td>322.000000</td>\n",
       "      <td>212.000000</td>\n",
       "      <td>225.000000</td>\n",
       "      <td>225.000000</td>\n",
       "      <td>37382200</td>\n",
       "      <td>-100.000000</td>\n",
       "      <td>-28.923426</td>\n",
       "    </tr>\n",
       "    <tr>\n",
       "      <th>2021-02-02</th>\n",
       "      <td>140.759995</td>\n",
       "      <td>158.000000</td>\n",
       "      <td>74.220001</td>\n",
       "      <td>90.000000</td>\n",
       "      <td>90.000000</td>\n",
       "      <td>78183100</td>\n",
       "      <td>-135.000000</td>\n",
       "      <td>-36.061379</td>\n",
       "    </tr>\n",
       "    <tr>\n",
       "      <th>2021-02-03</th>\n",
       "      <td>112.010002</td>\n",
       "      <td>113.400002</td>\n",
       "      <td>85.250000</td>\n",
       "      <td>92.410004</td>\n",
       "      <td>92.410004</td>\n",
       "      <td>42698500</td>\n",
       "      <td>2.410004</td>\n",
       "      <td>-17.498436</td>\n",
       "    </tr>\n",
       "    <tr>\n",
       "      <th>2021-02-04</th>\n",
       "      <td>91.190002</td>\n",
       "      <td>91.500000</td>\n",
       "      <td>53.330002</td>\n",
       "      <td>53.500000</td>\n",
       "      <td>53.500000</td>\n",
       "      <td>62427300</td>\n",
       "      <td>-38.910004</td>\n",
       "      <td>-41.331288</td>\n",
       "    </tr>\n",
       "    <tr>\n",
       "      <th>2021-02-05</th>\n",
       "      <td>54.040001</td>\n",
       "      <td>95.000000</td>\n",
       "      <td>51.090000</td>\n",
       "      <td>63.770000</td>\n",
       "      <td>63.770000</td>\n",
       "      <td>81345000</td>\n",
       "      <td>10.270000</td>\n",
       "      <td>18.005180</td>\n",
       "    </tr>\n",
       "    <tr>\n",
       "      <th>2021-02-08</th>\n",
       "      <td>72.410004</td>\n",
       "      <td>72.660004</td>\n",
       "      <td>58.020000</td>\n",
       "      <td>60.000000</td>\n",
       "      <td>60.000000</td>\n",
       "      <td>25687300</td>\n",
       "      <td>-3.770000</td>\n",
       "      <td>-17.138521</td>\n",
       "    </tr>\n",
       "    <tr>\n",
       "      <th>2021-02-09</th>\n",
       "      <td>56.610001</td>\n",
       "      <td>57.000000</td>\n",
       "      <td>46.520000</td>\n",
       "      <td>50.310001</td>\n",
       "      <td>50.310001</td>\n",
       "      <td>26843100</td>\n",
       "      <td>-9.689999</td>\n",
       "      <td>-11.128774</td>\n",
       "    </tr>\n",
       "    <tr>\n",
       "      <th>2021-02-10</th>\n",
       "      <td>50.770000</td>\n",
       "      <td>62.830002</td>\n",
       "      <td>46.549999</td>\n",
       "      <td>51.200001</td>\n",
       "      <td>51.200001</td>\n",
       "      <td>36455000</td>\n",
       "      <td>0.889999</td>\n",
       "      <td>0.846957</td>\n",
       "    </tr>\n",
       "    <tr>\n",
       "      <th>2021-02-11</th>\n",
       "      <td>50.009998</td>\n",
       "      <td>55.320000</td>\n",
       "      <td>48.220001</td>\n",
       "      <td>51.099998</td>\n",
       "      <td>51.099998</td>\n",
       "      <td>13056700</td>\n",
       "      <td>-0.100002</td>\n",
       "      <td>2.179564</td>\n",
       "    </tr>\n",
       "  </tbody>\n",
       "</table>\n",
       "</div>"
      ],
      "text/plain": [
       "                  Open        High         Low       Close   Adj Close  \\\n",
       "Datetime                                                                 \n",
       "2021-01-21   39.230000   44.750000   37.000000   43.029999   43.029999   \n",
       "2021-01-22   42.590000   76.760002   42.320000   65.010002   65.010002   \n",
       "2021-01-25   96.730003  159.179993   61.130001   76.790001   76.790001   \n",
       "2021-01-26   88.559998  150.000000   80.199997  147.979996  147.979996   \n",
       "2021-01-27  354.829987  380.000000  249.000000  347.510010  347.510010   \n",
       "2021-01-28  265.000000  483.000000  112.250000  193.600006  193.600006   \n",
       "2021-01-29  379.709991  413.980011  250.000000  325.000000  325.000000   \n",
       "2021-02-01  316.559998  322.000000  212.000000  225.000000  225.000000   \n",
       "2021-02-02  140.759995  158.000000   74.220001   90.000000   90.000000   \n",
       "2021-02-03  112.010002  113.400002   85.250000   92.410004   92.410004   \n",
       "2021-02-04   91.190002   91.500000   53.330002   53.500000   53.500000   \n",
       "2021-02-05   54.040001   95.000000   51.090000   63.770000   63.770000   \n",
       "2021-02-08   72.410004   72.660004   58.020000   60.000000   60.000000   \n",
       "2021-02-09   56.610001   57.000000   46.520000   50.310001   50.310001   \n",
       "2021-02-10   50.770000   62.830002   46.549999   51.200001   51.200001   \n",
       "2021-02-11   50.009998   55.320000   48.220001   51.099998   51.099998   \n",
       "\n",
       "               Volume  Closing Differences      C-O/O  \n",
       "Datetime                                               \n",
       "2021-01-21   56216900                  NaN   9.686463  \n",
       "2021-01-22  197157900            21.980003  52.641470  \n",
       "2021-01-25  177874000            11.779999 -20.614082  \n",
       "2021-01-26  178588000            71.189995  67.095754  \n",
       "2021-01-27   93396700           199.530014  -2.062953  \n",
       "2021-01-28   58815800          -153.910004 -26.943394  \n",
       "2021-01-29   50566100           131.399994 -14.408362  \n",
       "2021-02-01   37382200          -100.000000 -28.923426  \n",
       "2021-02-02   78183100          -135.000000 -36.061379  \n",
       "2021-02-03   42698500             2.410004 -17.498436  \n",
       "2021-02-04   62427300           -38.910004 -41.331288  \n",
       "2021-02-05   81345000            10.270000  18.005180  \n",
       "2021-02-08   25687300            -3.770000 -17.138521  \n",
       "2021-02-09   26843100            -9.689999 -11.128774  \n",
       "2021-02-10   36455000             0.889999   0.846957  \n",
       "2021-02-11   13056700            -0.100002   2.179564  "
      ]
     },
     "execution_count": 88,
     "metadata": {},
     "output_type": "execute_result"
    }
   ],
   "source": [
    "df_stock_gme"
   ]
  },
  {
   "cell_type": "code",
   "execution_count": 87,
   "id": "86ae0a77",
   "metadata": {
    "ExecuteTime": {
     "end_time": "2022-01-20T01:58:53.600978Z",
     "start_time": "2022-01-20T01:58:53.385600Z"
    }
   },
   "outputs": [
    {
     "data": {
      "image/png": "[encoded data removed]",
      "text/plain": [
       "<Figure size 432x288 with 1 Axes>"
      ]
     },
     "metadata": {},
     "output_type": "display_data"
    }
   ],
   "source": [
    "# Plot\n",
    "\n",
    "df_stock_gme[['Closing Differences', 'C-O/O']].plot()\n",
    "\n",
    "# plt.ylim(-120, 120)\n",
    "\n",
    "plt.xlabel('Days')\n",
    "plt.ylabel('Closing Price')\n",
    "plt.title('Closing Price Plot');"
   ]
  },
  {
   "cell_type": "markdown",
   "id": "d3421b56",
   "metadata": {
    "heading_collapsed": true
   },
   "source": [
    "## AAPL"
   ]
  },
  {
   "cell_type": "code",
   "execution_count": 89,
   "id": "21e068a0",
   "metadata": {
    "ExecuteTime": {
     "end_time": "2022-01-19T22:58:47.362680Z",
     "start_time": "2022-01-19T22:58:47.206141Z"
    },
    "hidden": true
   },
   "outputs": [
    {
     "name": "stdout",
     "output_type": "stream",
     "text": [
      "[*********************100%***********************]  1 of 1 completed\n"
     ]
    }
   ],
   "source": [
    "df_stock_aapl = getStockData('AAPL', '2021-01-01', '2021-03-01')"
   ]
  },
  {
   "cell_type": "code",
   "execution_count": 96,
   "id": "772da3ab",
   "metadata": {
    "ExecuteTime": {
     "end_time": "2022-01-19T22:59:44.448890Z",
     "start_time": "2022-01-19T22:59:44.255988Z"
    },
    "hidden": true,
    "scrolled": true
   },
   "outputs": [
    {
     "data": {
      "image/png": "[encoded data removed]",
      "text/plain": [
       "<Figure size 432x288 with 1 Axes>"
      ]
     },
     "metadata": {},
     "output_type": "display_data"
    }
   ],
   "source": [
    "# Plot\n",
    "\n",
    "df_stock_aapl[['Closing Differences', 'C-O/O']].plot()\n",
    "\n",
    "plt.ylim(-10, 10)\n",
    "\n",
    "plt.xlabel('Days')\n",
    "plt.ylabel('Closing Price')\n",
    "plt.title('Closing Price Plot');"
   ]
  },
  {
   "cell_type": "markdown",
   "id": "c020dc8a",
   "metadata": {
    "ExecuteTime": {
     "end_time": "2022-01-19T23:03:05.049575Z",
     "start_time": "2022-01-19T23:03:05.035613Z"
    }
   },
   "source": [
    "# Merging Twitter + Stock DataFrames"
   ]
  },
  {
   "cell_type": "markdown",
   "id": "fc793a08",
   "metadata": {},
   "source": [
    "## GME"
   ]
  },
  {
   "cell_type": "code",
   "execution_count": 89,
   "id": "681b985a",
   "metadata": {
    "ExecuteTime": {
     "end_time": "2022-01-20T02:00:28.554504Z",
     "start_time": "2022-01-20T02:00:28.441311Z"
    }
   },
   "outputs": [],
   "source": [
    "# Why is there NaN values for Volume and closing differences?\n",
    "# Because the stock market is only opened on business days!\n",
    "# So we dropped NaN values\n",
    "\n",
    "df_merged_gme = df_stock_gme.merge(df_tweet_gme, how='right', left_index=True, right_index=True).dropna()"
   ]
  },
  {
   "cell_type": "code",
   "execution_count": 91,
   "id": "cc7ce372",
   "metadata": {
    "ExecuteTime": {
     "end_time": "2022-01-20T02:00:49.130424Z",
     "start_time": "2022-01-20T02:00:49.114467Z"
    }
   },
   "outputs": [],
   "source": [
    "df_merged_gme['Closing Trend'] = df_merged_gme['Closing Differences'].apply(lambda x: \"Positive_Trend\" if x>=0 else \"Negative_Trend\")"
   ]
  },
  {
   "cell_type": "markdown",
   "id": "db757221",
   "metadata": {
    "heading_collapsed": true
   },
   "source": [
    "## AAPL"
   ]
  },
  {
   "cell_type": "markdown",
   "id": "b1cb83d1",
   "metadata": {
    "heading_collapsed": true
   },
   "source": [
    "# Dealing with Imbalances"
   ]
  },
  {
   "cell_type": "code",
   "execution_count": 33,
   "id": "2e8cbaa7",
   "metadata": {
    "hidden": true
   },
   "outputs": [],
   "source": [
    "from imblearn.over_sampling import SMOTE"
   ]
  },
  {
   "cell_type": "code",
   "execution_count": 35,
   "id": "83c46f26",
   "metadata": {
    "hidden": true
   },
   "outputs": [],
   "source": [
    "sampler = SMOTE(random_state=42)"
   ]
  },
  {
   "cell_type": "markdown",
   "id": "1cdf55bc",
   "metadata": {},
   "source": [
    "# Modeling"
   ]
  },
  {
   "cell_type": "markdown",
   "id": "cb0446f8",
   "metadata": {},
   "source": [
    "## GME"
   ]
  },
  {
   "cell_type": "markdown",
   "id": "33a9bc5f",
   "metadata": {},
   "source": [
    "#### Train/Test Split"
   ]
  },
  {
   "cell_type": "code",
   "execution_count": 92,
   "id": "ea3b2110",
   "metadata": {
    "ExecuteTime": {
     "end_time": "2022-01-20T02:03:27.727935Z",
     "start_time": "2022-01-20T02:03:27.719934Z"
    }
   },
   "outputs": [],
   "source": [
    "X = df_merged_gme\n",
    "y = df_merged_gme['Closing Trend']"
   ]
  },
  {
   "cell_type": "code",
   "execution_count": 93,
   "id": "f5704cd2",
   "metadata": {
    "ExecuteTime": {
     "end_time": "2022-01-20T02:03:36.476836Z",
     "start_time": "2022-01-20T02:03:36.420700Z"
    }
   },
   "outputs": [],
   "source": [
    "from sklearn.model_selection import train_test_split\n",
    "\n",
    "X_train, X_test, y_train, y_test = train_test_split(X, y, test_size=0.2, random_state=42)"
   ]
  },
  {
   "cell_type": "markdown",
   "id": "18da0195",
   "metadata": {
    "heading_collapsed": true
   },
   "source": [
    "#### Support Vector Machine (Baseline)"
   ]
  },
  {
   "cell_type": "code",
   "execution_count": 39,
   "id": "9a763d56",
   "metadata": {
    "hidden": true
   },
   "outputs": [],
   "source": [
    "transformer_svm = ColumnTransformer([\n",
    "    ('ohe', OneHotEncoder(), ['Polarity Categories']),\n",
    "    ('scaler', StandardScaler(), ['Followers Count'])\n",
    "])"
   ]
  },
  {
   "cell_type": "code",
   "execution_count": 42,
   "id": "178fa5a2",
   "metadata": {
    "hidden": true
   },
   "outputs": [],
   "source": [
    "pipe_svm = Pipeline([\n",
    "    ('ohe', transformer_svm),\n",
    "    ('svm', svm.LinearSVC())\n",
    "])"
   ]
  },
  {
   "cell_type": "code",
   "execution_count": 44,
   "id": "d62bbbce",
   "metadata": {
    "hidden": true
   },
   "outputs": [
    {
     "name": "stderr",
     "output_type": "stream",
     "text": [
      "C:\\Users\\Daanish\\anaconda3\\envs\\capstone_environment\\lib\\site-packages\\sklearn\\svm\\_base.py:1206: ConvergenceWarning: Liblinear failed to converge, increase the number of iterations.\n",
      "  warnings.warn(\n"
     ]
    }
   ],
   "source": [
    "pipe_svm_fit = pipe_svm.fit(X_train, y_train)"
   ]
  },
  {
   "cell_type": "code",
   "execution_count": 45,
   "id": "d01e5e27",
   "metadata": {
    "hidden": true
   },
   "outputs": [
    {
     "data": {
      "text/plain": [
       "0.5198527057316683"
      ]
     },
     "execution_count": 45,
     "metadata": {},
     "output_type": "execute_result"
    }
   ],
   "source": [
    "pipe_svm_fit.score(X_test, y_test)"
   ]
  },
  {
   "cell_type": "markdown",
   "id": "a827ac81",
   "metadata": {},
   "source": [
    "#### Random Forest Classifier (Baseline)"
   ]
  },
  {
   "cell_type": "code",
   "execution_count": 94,
   "id": "9abda972",
   "metadata": {
    "ExecuteTime": {
     "end_time": "2022-01-20T02:03:46.647071Z",
     "start_time": "2022-01-20T02:03:46.637098Z"
    }
   },
   "outputs": [],
   "source": [
    "transformer_rfc = ColumnTransformer([\n",
    "    ('ohe', OneHotEncoder(), ['Polarity Categories']),\n",
    "    ('scaler', StandardScaler(), ['Followers Count'])\n",
    "])"
   ]
  },
  {
   "cell_type": "code",
   "execution_count": 95,
   "id": "720435dc",
   "metadata": {
    "ExecuteTime": {
     "end_time": "2022-01-20T02:03:47.390607Z",
     "start_time": "2022-01-20T02:03:47.382632Z"
    }
   },
   "outputs": [],
   "source": [
    "pipe_rfc = Pipeline([\n",
    "    ('ohe', transformer_rfc),\n",
    "    ('randomforest', GridSearchCV(RandomForestClassifier(),\n",
    "                                  param_grid={},\n",
    "                                  verbose=3,\n",
    "                                  n_jobs=4))\n",
    "])"
   ]
  },
  {
   "cell_type": "code",
   "execution_count": 100,
   "id": "1ee03041",
   "metadata": {
    "ExecuteTime": {
     "end_time": "2022-01-20T02:04:59.146265Z",
     "start_time": "2022-01-20T02:04:46.374029Z"
    }
   },
   "outputs": [
    {
     "name": "stdout",
     "output_type": "stream",
     "text": [
      "Fitting 5 folds for each of 1 candidates, totalling 5 fits\n"
     ]
    }
   ],
   "source": [
    "pipe_rfc_fit = pipe_rfc.fit(X_train, y_train)"
   ]
  },
  {
   "cell_type": "code",
   "execution_count": 101,
   "id": "ca831e7a",
   "metadata": {
    "ExecuteTime": {
     "end_time": "2022-01-20T02:06:19.492234Z",
     "start_time": "2022-01-20T02:06:18.865899Z"
    }
   },
   "outputs": [
    {
     "name": "stdout",
     "output_type": "stream",
     "text": [
      "Test accuracy: 0.5854\n",
      "Test precision: 0.576\n",
      "Test recall: 0.5208\n",
      "Test area under precision-recall curve: 0.5957\n",
      "Test f1 score: 0.547\n"
     ]
    }
   ],
   "source": [
    "print_model_evaluation(pipe_rfc_fit, model_evaluation(pipe_rfc_fit, X_test, y_test, positive_label='Positive_Trend'))"
   ]
  },
  {
   "cell_type": "code",
   "execution_count": 105,
   "id": "d04d6fb0",
   "metadata": {
    "ExecuteTime": {
     "end_time": "2022-01-20T02:08:53.464052Z",
     "start_time": "2022-01-20T02:08:53.093694Z"
    }
   },
   "outputs": [
    {
     "data": {
      "text/plain": [
       "<sklearn.metrics._plot.roc_curve.RocCurveDisplay at 0x2a0138e2fa0>"
      ]
     },
     "execution_count": 105,
     "metadata": {},
     "output_type": "execute_result"
    },
    {
     "data": {
      "image/png": "[encoded data removed]",
      "text/plain": [
       "<Figure size 432x288 with 1 Axes>"
      ]
     },
     "metadata": {},
     "output_type": "display_data"
    }
   ],
   "source": [
    "RocCurveDisplay.from_estimator(pipe_rfc_fit, X_test, y_test)"
   ]
  },
  {
   "cell_type": "markdown",
   "id": "1a7cbb2d",
   "metadata": {
    "heading_collapsed": true
   },
   "source": [
    "#### Logistic Regression (Baseline)"
   ]
  },
  {
   "cell_type": "code",
   "execution_count": 65,
   "id": "50802564",
   "metadata": {
    "hidden": true
   },
   "outputs": [],
   "source": [
    "transformer_logit = ColumnTransformer([\n",
    "    ('ohe', OneHotEncoder(), ['Polarity Categories']),\n",
    "    ('scaler', StandardScaler(), ['Followers Count'])\n",
    "])"
   ]
  },
  {
   "cell_type": "code",
   "execution_count": 66,
   "id": "e6982a10",
   "metadata": {
    "hidden": true
   },
   "outputs": [],
   "source": [
    "pipe_logit = Pipeline([\n",
    "    ('ohe', transformer_logit),\n",
    "    ('logit', LogisticRegression())\n",
    "])"
   ]
  },
  {
   "cell_type": "code",
   "execution_count": 69,
   "id": "5a1ea2d8",
   "metadata": {
    "hidden": true
   },
   "outputs": [
    {
     "data": {
      "text/plain": [
       "{'accuracy': 0.5199,\n",
       " 'precision': 0.5422,\n",
       " 'recall': 0.0075,\n",
       " 'area under precision-recall curve': 0.4891,\n",
       " 'f1 score': 0.0148}"
      ]
     },
     "execution_count": 69,
     "metadata": {},
     "output_type": "execute_result"
    }
   ],
   "source": [
    "model_evaluation(pipe_logit, X_test, y_test, positive_label='Positive_Trend')"
   ]
  }
 ],
 "metadata": {
  "kernelspec": {
   "display_name": "capstone_kernel",
   "language": "python",
   "name": "capstone_kernel"
  },
  "language_info": {
   "codemirror_mode": {
    "name": "ipython",
    "version": 3
   },
   "file_extension": ".py",
   "mimetype": "text/x-python",
   "name": "python",
   "nbconvert_exporter": "python",
   "pygments_lexer": "ipython3",
   "version": "3.9.7"
  },
  "varInspector": {
   "cols": {
    "lenName": 16,
    "lenType": 16,
    "lenVar": 40
   },
   "kernels_config": {
    "python": {
     "delete_cmd_postfix": "",
     "delete_cmd_prefix": "del ",
     "library": "var_list.py",
     "varRefreshCmd": "print(var_dic_list())"
    },
    "r": {
     "delete_cmd_postfix": ") ",
     "delete_cmd_prefix": "rm(",
     "library": "var_list.r",
     "varRefreshCmd": "cat(var_dic_list()) "
    }
   },
   "types_to_exclude": [
    "module",
    "function",
    "builtin_function_or_method",
    "instance",
    "_Feature"
   ],
   "window_display": false
  }
 },
 "nbformat": 4,
 "nbformat_minor": 5
}
