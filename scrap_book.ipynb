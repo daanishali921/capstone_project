{
 "cells": [
  {
   "cell_type": "markdown",
   "id": "20adad52",
   "metadata": {},
   "source": [
    "# Import Libraries"
   ]
  },
  {
   "cell_type": "markdown",
   "id": "3d436806",
   "metadata": {},
   "source": [
    "#### Modeling and Modeling Metrics Libraries "
   ]
  },
  {
   "cell_type": "code",
   "execution_count": 1,
   "id": "c9b92b71",
   "metadata": {
    "ExecuteTime": {
     "end_time": "2022-01-25T18:43:56.499254Z",
     "start_time": "2022-01-25T18:43:55.900536Z"
    }
   },
   "outputs": [],
   "source": [
    "# Models and Transformers\n",
    "from sklearn.preprocessing import OneHotEncoder, StandardScaler\n",
    "from sklearn.pipeline import Pipeline\n",
    "from sklearn.compose import ColumnTransformer\n",
    "from sklearn import svm\n",
    "from sklearn.ensemble import RandomForestClassifier, RandomForestRegressor\n",
    "from sklearn.linear_model import LinearRegression, LogisticRegression\n",
    "\n",
    "# Model Metrics\n",
    "from sklearn.metrics import PrecisionRecallDisplay, RocCurveDisplay, f1_score\n",
    "from sklearn import metrics\n",
    "\n",
    "# Optimization\n",
    "from sklearn.model_selection import GridSearchCV"
   ]
  },
  {
   "cell_type": "markdown",
   "id": "cfcc3482",
   "metadata": {},
   "source": [
    "#### Data Visualization"
   ]
  },
  {
   "cell_type": "code",
   "execution_count": 35,
   "id": "75f8a672",
   "metadata": {
    "ExecuteTime": {
     "end_time": "2022-01-25T18:46:22.237096Z",
     "start_time": "2022-01-25T18:46:22.147401Z"
    }
   },
   "outputs": [],
   "source": [
    "import matplotlib.pyplot as plt\n",
    "import seaborn as sns\n",
    "sns.set()"
   ]
  },
  {
   "cell_type": "markdown",
   "id": "800b46a1",
   "metadata": {},
   "source": [
    "#### File Management"
   ]
  },
  {
   "cell_type": "code",
   "execution_count": 2,
   "id": "648382b4",
   "metadata": {
    "ExecuteTime": {
     "end_time": "2022-01-25T18:43:57.071373Z",
     "start_time": "2022-01-25T18:43:57.056384Z"
    }
   },
   "outputs": [],
   "source": [
    "import os\n",
    "import subprocess\n",
    "import glob\n",
    "\n",
    "import json\n",
    "import csv"
   ]
  },
  {
   "cell_type": "markdown",
   "id": "de9fd6a8",
   "metadata": {},
   "source": [
    "#### NLP & Text Parsing"
   ]
  },
  {
   "cell_type": "code",
   "execution_count": 3,
   "id": "4712822d",
   "metadata": {
    "ExecuteTime": {
     "end_time": "2022-01-25T18:43:57.770479Z",
     "start_time": "2022-01-25T18:43:57.485787Z"
    }
   },
   "outputs": [],
   "source": [
    "import re\n",
    "from textblob import TextBlob"
   ]
  },
  {
   "cell_type": "code",
   "execution_count": 5,
   "id": "1899f615",
   "metadata": {
    "ExecuteTime": {
     "end_time": "2022-01-25T18:43:59.981204Z",
     "start_time": "2022-01-25T18:43:59.966250Z"
    }
   },
   "outputs": [],
   "source": [
    "from vaderSentiment.vaderSentiment import SentimentIntensityAnalyzer"
   ]
  },
  {
   "cell_type": "markdown",
   "id": "4f1e778b",
   "metadata": {},
   "source": [
    "#### Pandas/NumPy/Datetime"
   ]
  },
  {
   "cell_type": "code",
   "execution_count": 6,
   "id": "6b3dbf4a",
   "metadata": {
    "ExecuteTime": {
     "end_time": "2022-01-25T18:44:00.400519Z",
     "start_time": "2022-01-25T18:44:00.044115Z"
    }
   },
   "outputs": [],
   "source": [
    "import pandas as pd\n",
    "import numpy as np\n",
    "\n",
    "from datetime import datetime, date, time"
   ]
  },
  {
   "cell_type": "markdown",
   "id": "d6d0e591",
   "metadata": {},
   "source": [
    "#### Twitter/Stock Data Scraper"
   ]
  },
  {
   "cell_type": "code",
   "execution_count": 7,
   "id": "854044a8",
   "metadata": {
    "ExecuteTime": {
     "end_time": "2022-01-25T18:44:00.680784Z",
     "start_time": "2022-01-25T18:44:00.464068Z"
    }
   },
   "outputs": [],
   "source": [
    "import snscrape.modules.twitter as sntwitter\n",
    "import yfinance as yf"
   ]
  },
  {
   "cell_type": "markdown",
   "id": "2568faf2",
   "metadata": {},
   "source": [
    "# Custom Functions"
   ]
  },
  {
   "cell_type": "code",
   "execution_count": 8,
   "id": "8293af13-b4ea-42ad-a7d0-a2fb9326be41",
   "metadata": {
    "ExecuteTime": {
     "end_time": "2022-01-25T18:44:00.759651Z",
     "start_time": "2022-01-25T18:44:00.744693Z"
    }
   },
   "outputs": [],
   "source": [
    "# Get Twitter Data (Saved as csv on local machine)\n",
    "\n",
    "def scrapeTweets(start_date, end_date, keyword, current_dir, tweet_limit=1, iteration=0):\n",
    "    if not os.path.exists(current_dir):  # Creates directory in current directory if doesn't already exist\n",
    "        os.mkdir(current_dir)\n",
    "\n",
    "    file_path = os.path.join(current_dir, f'keyword:{keyword}__start:{start_date}_end:{end_date}__iter:{iteration}.csv')\n",
    "\n",
    "    tweet_list = []\n",
    "    for i, tweet in enumerate(\n",
    "            sntwitter.TwitterSearchScraper(f'{keyword} since:{start_date} until:{end_date}').get_items()):\n",
    "        if i > tweet_limit:\n",
    "            break\n",
    "        tweet_list.append([tweet.date,  # Appending all tweet data into a list of list\n",
    "                           tweet.id,\n",
    "                           tweet.content,\n",
    "                           tweet.user.username,\n",
    "                           tweet.user.followersCount,\n",
    "                           tweet.lang,\n",
    "                           tweet.retweetCount,\n",
    "                           tweet.likeCount,\n",
    "                           tweet.replyCount])\n",
    "\n",
    "    df_tweets = pd.DataFrame(tweet_list, columns=['Datetime',  # Creating df of tweet data\n",
    "                                                  'Tweet Id',\n",
    "                                                  'Text',\n",
    "                                                  'Username',\n",
    "                                                  'Followers Count',\n",
    "                                                  'Language',\n",
    "                                                  'Retweet Count',\n",
    "                                                  'Likes Count',\n",
    "                                                  'Reply Count'])\n",
    "\n",
    "    for i in range(1001):\n",
    "        if not os.path.isfile(file_path):\n",
    "            df_tweets.to_csv(file_path, index=False)\n",
    "            break\n",
    "        else:\n",
    "            file_path = os.path.join(current_dir,\n",
    "                                     f'keyword:{keyword}__start:{start_date}_end:{end_date}__limit:{tweet_limit}__iter:{i + 1}.csv')\n",
    "\n",
    "    if os.path.isfile(file_path):\n",
    "        return print(f'Successfully saved DataFrame to {file_path}')\n",
    "    return print('DataFrame not saved -- possible error has occurred.')"
   ]
  },
  {
   "cell_type": "code",
   "execution_count": 9,
   "id": "af1a1f12",
   "metadata": {
    "ExecuteTime": {
     "end_time": "2022-01-25T18:44:00.837789Z",
     "start_time": "2022-01-25T18:44:00.822601Z"
    }
   },
   "outputs": [],
   "source": [
    "def dataWrangle_single(dataframe):   \n",
    "    df_filter = dataframe[dataframe['Language'] == 'en'][['Datetime', # Filter via Language = 'en'\n",
    "                                                           'Tweet Id', # Remove unwanted columns\n",
    "                                                           'Text', \n",
    "                                                           'Username',\n",
    "                                                           'Followers Count',\n",
    "                                                           'Retweet Count',\n",
    "                                                           'Likes Count',\n",
    "                                                           'Reply Count']] \n",
    "    df_clean = df_filter.astype({'Tweet Id':str})\\\n",
    "                        .dropna()\\\n",
    "                        .drop_duplicates()\\\n",
    "                        .reset_index(drop=True)\n",
    "    \n",
    "    df_clean['Text'] = (df_clean['Text'] # Cleans out redundant string characters within each tweet\n",
    "                       .apply(lambda x: ' '.join(re.sub(r'https\\S+', '', x)\n",
    "                                                .replace('\\n', ' ')\n",
    "                                                .split()\n",
    "                                                )\n",
    "                             )\n",
    "                       )\n",
    "    \n",
    "    df_clean['Datetime'] = pd.to_datetime(df_clean['Datetime']).dt.floor('d').dt.tz_localize(tz=None)\n",
    "    \n",
    "    return df_clean.set_index('Datetime').sort_index()"
   ]
  },
  {
   "cell_type": "code",
   "execution_count": 10,
   "id": "d5dfebb5-6eb1-4b19-8686-9dcc43579714",
   "metadata": {
    "ExecuteTime": {
     "end_time": "2022-01-25T18:44:00.915576Z",
     "start_time": "2022-01-25T18:44:00.901582Z"
    }
   },
   "outputs": [],
   "source": [
    "# Wrangle Tweet Data\n",
    "\n",
    "def dataWrangle_multiple(dataframe_list):   \n",
    "    df_concat = pd.concat(dataframe_list) # Concatenate all the DataFrames from the list of DataFrames\n",
    "    df_filter = df_concat[df_concat['Language'] == 'en'][['Datetime', # Filter via Language = 'en'\n",
    "                                                           'Tweet Id', # Remove unwanted columns\n",
    "                                                           'Text', \n",
    "                                                           'Username',\n",
    "                                                           'Followers Count',\n",
    "                                                           'Retweet Count',\n",
    "                                                           'Likes Count',\n",
    "                                                           'Reply Count']] \n",
    "    df_clean = df_filter.astype({'Tweet Id':str})\\\n",
    "                        .dropna()\\\n",
    "                        .drop_duplicates()\\\n",
    "                        .reset_index(drop=True)\n",
    "    \n",
    "    df_clean['Text'] = (df_clean['Text'] # Cleans out redundant string characters within each tweet\n",
    "                       .apply(lambda x: ' '.join(re.sub(r'https\\S+', '', x)\n",
    "                                                .replace('\\n', ' ')\n",
    "                                                .split()\n",
    "                                                )\n",
    "                             )\n",
    "                       )\n",
    "    \n",
    "    df_clean['Datetime'] = pd.to_datetime(df_clean['Datetime']).dt.floor('d').dt.tz_localize(tz=None)\n",
    "    \n",
    "    return df_clean.set_index('Datetime').sort_index()\n",
    "                                               "
   ]
  },
  {
   "cell_type": "code",
   "execution_count": 11,
   "id": "98114a17",
   "metadata": {
    "ExecuteTime": {
     "end_time": "2022-01-25T18:44:00.993440Z",
     "start_time": "2022-01-25T18:44:00.978464Z"
    }
   },
   "outputs": [],
   "source": [
    "# Get Stock Data (DataFrame)\n",
    "\n",
    "def getStockData(ticker, start, end):\n",
    "    df_stock = yf.download(ticker, start, end)\n",
    "    df_stock.index = df_stock.index.tz_localize(tz=None).rename(name='Datetime')\n",
    "    df_stock['Closing Differences'] = df_stock['Adj Close'].diff()\n",
    "    df_stock['Percent Change'] = ((df_stock['Close']-df_stock['Open'])/df_stock['Open'])*100\n",
    "    \n",
    "    return df_stock    "
   ]
  },
  {
   "cell_type": "code",
   "execution_count": 12,
   "id": "e671833f",
   "metadata": {
    "ExecuteTime": {
     "end_time": "2022-01-25T18:44:01.072087Z",
     "start_time": "2022-01-25T18:44:01.058008Z"
    }
   },
   "outputs": [],
   "source": [
    "# CLASSIFICATION Model Evaluation\n",
    "\n",
    "def model_evaluation(model, X, y_true, positive_label):\n",
    "    y_pred = model.predict(X)\n",
    "    scores = {}\n",
    "    scores['accuracy'] = round(metrics.accuracy_score(y_true, y_pred), 4)\n",
    "    scores['precision'] = round(metrics.precision_score(y_true, y_pred, pos_label=positive_label), 4)\n",
    "    scores['recall'] = round(metrics.recall_score(y_true, y_pred, pos_label=positive_label), 4)\n",
    "    probs = model.predict_proba(X).T[1]\n",
    "    precisions, recalls, thresholds = metrics.precision_recall_curve(y_true, probs, pos_label=positive_label)\n",
    "    scores['area under precision-recall curve'] = round(metrics.auc(recalls, precisions), 4)\n",
    "    scores['f1 score'] = round(f1_score(y_true=y_true, y_pred=y_pred, pos_label= \"Positive_Trend\"), 4)\n",
    "    return scores\n",
    "\n",
    "def print_model_evaluation(model_name, scores):\n",
    "#     print('{} evaluation \\n'.format(model_name))\n",
    "    for metric, score in scores.items():\n",
    "        print('Test {}: {}'.format(metric, score))\n"
   ]
  },
  {
   "cell_type": "code",
   "execution_count": 13,
   "id": "2c2eb859",
   "metadata": {
    "ExecuteTime": {
     "end_time": "2022-01-25T18:44:01.151085Z",
     "start_time": "2022-01-25T18:44:01.136041Z"
    }
   },
   "outputs": [],
   "source": [
    "# 1. Polarity Score Categories as a column on DataFrame\n",
    "# 2. Creating categorical polarity column\n",
    "\n",
    "def polarityCategories_textblob(tup):\n",
    "    if tup[0] < -0.05:\n",
    "        return 'Negative'\n",
    "    elif tup[0] > 0.05:\n",
    "        return 'Positive'\n",
    "    else:\n",
    "        return 'Neutral'\n",
    "    \n",
    "def polarityColumns_textblob(df_tweets):\n",
    "    df_tweets['Polarity/Subjectivity Scores'] = df_tweets['Text'].apply(lambda text: TextBlob(text).sentiment)\n",
    "    df_tweets_filtered = df_tweets[df_tweets['Polarity/Subjectivity Scores'] != (0.0,0.0)]\n",
    "    df_tweets_filtered = df_tweets_filtered.copy()\n",
    "    df_tweets_filtered['Polarity Categories'] = df_tweets_filtered['Polarity/Subjectivity Scores'].apply(lambda x: polarityCategories(x))\n",
    "    \n",
    "    print(df_tweets_filtered.value_counts('Polarity Categories'))\n",
    "    \n",
    "    return df_tweets_filtered"
   ]
  },
  {
   "cell_type": "code",
   "execution_count": 14,
   "id": "8c6917ec",
   "metadata": {
    "ExecuteTime": {
     "end_time": "2022-01-25T18:44:01.229057Z",
     "start_time": "2022-01-25T18:44:01.214101Z"
    }
   },
   "outputs": [],
   "source": [
    "def polarityCategories_vader(tup):\n",
    "    if tup[0] < -0.05:\n",
    "        return 'Negative'\n",
    "    elif tup[0] > 0.05:\n",
    "        return 'Positive'\n",
    "    else:\n",
    "        return 'Neutral'\n",
    "    \n",
    "def polarityColumns_vader(df_tweets):\n",
    "    df_tweets['Sentiment'] = df_tweets['Text'].apply(lambda text: SentimentIntensityAnalyzer().polarity_scores(text))\n",
    "#     df_tweets_filtered = df_tweets_filtered.copy()\n",
    "#     df_tweets_filtered['Polarity Categories'] = df_tweets_filtered['Polarity/Subjectivity Scores'].apply(lambda x: polarityCategories_vader(x))\n",
    "    \n",
    "#     print(df_tweets_filtered.value_counts('Polarity Categories'))\n",
    "    \n",
    "    return df_tweets"
   ]
  },
  {
   "cell_type": "code",
   "execution_count": 15,
   "id": "95b05d36",
   "metadata": {
    "ExecuteTime": {
     "end_time": "2022-01-25T18:44:01.305848Z",
     "start_time": "2022-01-25T18:44:01.291880Z"
    }
   },
   "outputs": [],
   "source": [
    "def assign_score_columns(df):\n",
    "    df['Positive Tweet Score'] = df['Sentiment_todict'].apply(lambda scores: scores['pos'])\n",
    "    df['Negative Tweet Score'] = df['Sentiment_todict'].apply(lambda scores: scores['neg'])\n",
    "    df['Neutral Tweet Score'] = df['Sentiment_todict'].apply(lambda scores: scores['neu'])\n",
    "    df['Compound Tweet Score'] = df['Sentiment_todict'].apply(lambda scores: scores['compound'])\n",
    "    \n",
    "    df = df[df['Compound Tweet Score'] != 0.0]\n",
    "    return df"
   ]
  },
  {
   "cell_type": "markdown",
   "id": "07671159",
   "metadata": {},
   "source": [
    "# Twitter Data"
   ]
  },
  {
   "cell_type": "markdown",
   "id": "e8287db1",
   "metadata": {
    "ExecuteTime": {
     "end_time": "2022-01-19T22:32:35.056723Z",
     "start_time": "2022-01-19T22:32:35.047747Z"
    }
   },
   "source": [
    "## GME Tweets"
   ]
  },
  {
   "cell_type": "code",
   "execution_count": null,
   "id": "5059c0bb",
   "metadata": {},
   "outputs": [],
   "source": [
    "start_time = date(2021, 1, 8).strftime('%Y-%m-%d')\n",
    "stop_time = date(2021, 2, 12).strftime('%Y-%m-%d')"
   ]
  },
  {
   "cell_type": "code",
   "execution_count": 13,
   "id": "8cf0313a-1ff8-4be7-9e0a-9fb3c5c289bb",
   "metadata": {
    "ExecuteTime": {
     "end_time": "2022-01-23T18:52:10.598530Z",
     "start_time": "2022-01-23T18:51:41.833941Z"
    }
   },
   "outputs": [],
   "source": [
    "# Creating a list of DataFrames using glob's list of files names\n",
    "df_tweet_gme_list = []\n",
    "for i in glob.glob('01-23_tweet/*'):\n",
    "    df_tweet_gme_list.append(pd.read_csv(i))"
   ]
  },
  {
   "cell_type": "code",
   "execution_count": 24,
   "id": "e5c0fe06",
   "metadata": {
    "ExecuteTime": {
     "end_time": "2022-01-25T04:28:11.126557Z",
     "start_time": "2022-01-25T04:27:52.401298Z"
    }
   },
   "outputs": [],
   "source": [
    "df_tweet_GME = pd.read_csv('tweets_GME_01-01--06-30\\\\df_GME_incomplete.csv')"
   ]
  },
  {
   "cell_type": "code",
   "execution_count": null,
   "id": "6a6795ec",
   "metadata": {},
   "outputs": [],
   "source": [
    "df_tweet_gme = pd.read_csv()"
   ]
  },
  {
   "cell_type": "code",
   "execution_count": 25,
   "id": "83032170-f296-4f59-bfd6-80b42e4cfc08",
   "metadata": {
    "ExecuteTime": {
     "end_time": "2022-01-25T04:28:24.189818Z",
     "start_time": "2022-01-25T04:28:11.175321Z"
    }
   },
   "outputs": [],
   "source": [
    "df_tweet_gme = dataWrangle_single(df_tweet_GME)"
   ]
  },
  {
   "cell_type": "markdown",
   "id": "a01ac4fb",
   "metadata": {},
   "source": [
    "# Polarity Scores"
   ]
  },
  {
   "cell_type": "code",
   "execution_count": 16,
   "id": "b17d7632",
   "metadata": {
    "ExecuteTime": {
     "end_time": "2022-01-25T18:44:06.252210Z",
     "start_time": "2022-01-25T18:44:06.248221Z"
    }
   },
   "outputs": [],
   "source": [
    "from ast import literal_eval"
   ]
  },
  {
   "cell_type": "code",
   "execution_count": 61,
   "id": "cf453834",
   "metadata": {
    "ExecuteTime": {
     "end_time": "2022-01-25T18:54:00.109935Z",
     "start_time": "2022-01-25T18:53:58.601122Z"
    }
   },
   "outputs": [],
   "source": [
    "df_tweet_gme = pd.read_csv('df_tweet_gme_VADER_SENTIMENT.csv')"
   ]
  },
  {
   "cell_type": "code",
   "execution_count": 62,
   "id": "c4e95683",
   "metadata": {
    "ExecuteTime": {
     "end_time": "2022-01-25T18:54:00.312848Z",
     "start_time": "2022-01-25T18:54:00.235900Z"
    }
   },
   "outputs": [],
   "source": [
    "df_tweet_gme['Datetime'] = pd.to_datetime(df_tweet_gme['Datetime']).dt.floor('d').dt.tz_localize(tz=None)"
   ]
  },
  {
   "cell_type": "code",
   "execution_count": 63,
   "id": "1bc13036",
   "metadata": {
    "ExecuteTime": {
     "end_time": "2022-01-25T18:54:04.053526Z",
     "start_time": "2022-01-25T18:54:04.013648Z"
    }
   },
   "outputs": [],
   "source": [
    "df_tweet_gme = df_tweet_gme.set_index('Datetime')"
   ]
  },
  {
   "cell_type": "code",
   "execution_count": 64,
   "id": "bcf53810",
   "metadata": {
    "ExecuteTime": {
     "end_time": "2022-01-25T18:54:11.786482Z",
     "start_time": "2022-01-25T18:54:04.531613Z"
    }
   },
   "outputs": [],
   "source": [
    "df_tweet_gme['Sentiment_todict'] = df_tweet_gme['Sentiment'].apply(lambda string: literal_eval(string))"
   ]
  },
  {
   "cell_type": "code",
   "execution_count": 65,
   "id": "411f0a27",
   "metadata": {
    "ExecuteTime": {
     "end_time": "2022-01-25T18:54:12.513470Z",
     "start_time": "2022-01-25T18:54:11.911774Z"
    }
   },
   "outputs": [],
   "source": [
    "df_tweet_gme = assign_score_columns(df_tweet_gme)"
   ]
  },
  {
   "cell_type": "code",
   "execution_count": 66,
   "id": "7647f0ec",
   "metadata": {
    "ExecuteTime": {
     "end_time": "2022-01-25T18:54:12.700094Z",
     "start_time": "2022-01-25T18:54:12.639251Z"
    }
   },
   "outputs": [],
   "source": [
    "df_tweet_gme = df_tweet_gme[df_tweet_gme['Compound Tweet Score'] != 0.0]"
   ]
  },
  {
   "cell_type": "code",
   "execution_count": 67,
   "id": "aa1ae616",
   "metadata": {
    "ExecuteTime": {
     "end_time": "2022-01-25T18:54:12.884828Z",
     "start_time": "2022-01-25T18:54:12.824970Z"
    }
   },
   "outputs": [],
   "source": [
    "df_tweet_gme = df_tweet_gme.copy()\n",
    "df_tweet_gme['Compound Followers'] = df_tweet_gme['Compound Tweet Score'] * df_tweet_gme['Followers Count']"
   ]
  },
  {
   "cell_type": "code",
   "execution_count": 180,
   "id": "57bb0469",
   "metadata": {
    "ExecuteTime": {
     "end_time": "2022-01-25T18:09:47.177091Z",
     "start_time": "2022-01-25T18:09:47.134179Z"
    },
    "collapsed": true
   },
   "outputs": [
    {
     "data": {
      "text/html": [
       "<div>\n",
       "<style scoped>\n",
       "    .dataframe tbody tr th:only-of-type {\n",
       "        vertical-align: middle;\n",
       "    }\n",
       "\n",
       "    .dataframe tbody tr th {\n",
       "        vertical-align: top;\n",
       "    }\n",
       "\n",
       "    .dataframe thead th {\n",
       "        text-align: right;\n",
       "    }\n",
       "</style>\n",
       "<table border=\"1\" class=\"dataframe\">\n",
       "  <thead>\n",
       "    <tr style=\"text-align: right;\">\n",
       "      <th></th>\n",
       "      <th>Tweet Id</th>\n",
       "      <th>Text</th>\n",
       "      <th>Username</th>\n",
       "      <th>Followers Count</th>\n",
       "      <th>Retweet Count</th>\n",
       "      <th>Likes Count</th>\n",
       "      <th>Reply Count</th>\n",
       "      <th>Sentiment</th>\n",
       "      <th>Sentiment_todict</th>\n",
       "      <th>Positive Tweet Score</th>\n",
       "      <th>Negative Tweet Score</th>\n",
       "      <th>Neutral Tweet Score</th>\n",
       "      <th>Compound Tweet Score</th>\n",
       "      <th>Compound Followers</th>\n",
       "    </tr>\n",
       "    <tr>\n",
       "      <th>Datetime</th>\n",
       "      <th></th>\n",
       "      <th></th>\n",
       "      <th></th>\n",
       "      <th></th>\n",
       "      <th></th>\n",
       "      <th></th>\n",
       "      <th></th>\n",
       "      <th></th>\n",
       "      <th></th>\n",
       "      <th></th>\n",
       "      <th></th>\n",
       "      <th></th>\n",
       "      <th></th>\n",
       "      <th></th>\n",
       "    </tr>\n",
       "  </thead>\n",
       "  <tbody>\n",
       "    <tr>\n",
       "      <th>2021-01-01</th>\n",
       "      <td>1345072021772914691</td>\n",
       "      <td>@Flyin111 @potatolord312 @AustinJohnPlays That...</td>\n",
       "      <td>DrnknSailr</td>\n",
       "      <td>0</td>\n",
       "      <td>0</td>\n",
       "      <td>1</td>\n",
       "      <td>0</td>\n",
       "      <td>{'neg': 0.177, 'neu': 0.738, 'pos': 0.085, 'co...</td>\n",
       "      <td>{'neg': 0.177, 'neu': 0.738, 'pos': 0.085, 'co...</td>\n",
       "      <td>0.085</td>\n",
       "      <td>0.177</td>\n",
       "      <td>0.738</td>\n",
       "      <td>-0.7579</td>\n",
       "      <td>-0.0</td>\n",
       "    </tr>\n",
       "    <tr>\n",
       "      <th>2021-01-01</th>\n",
       "      <td>1344839675161292800</td>\n",
       "      <td>@PS5StockUpdates My GameStop order from the 18...</td>\n",
       "      <td>HarleyN63118083</td>\n",
       "      <td>0</td>\n",
       "      <td>0</td>\n",
       "      <td>0</td>\n",
       "      <td>0</td>\n",
       "      <td>{'neg': 0.182, 'neu': 0.818, 'pos': 0.0, 'comp...</td>\n",
       "      <td>{'neg': 0.182, 'neu': 0.818, 'pos': 0.0, 'comp...</td>\n",
       "      <td>0.000</td>\n",
       "      <td>0.182</td>\n",
       "      <td>0.818</td>\n",
       "      <td>-0.2500</td>\n",
       "      <td>-0.0</td>\n",
       "    </tr>\n",
       "    <tr>\n",
       "      <th>2021-01-01</th>\n",
       "      <td>1345049260543389701</td>\n",
       "      <td>@GameStop yo what kind of bullshit r u guys pr...</td>\n",
       "      <td>Boinkbonk2</td>\n",
       "      <td>0</td>\n",
       "      <td>0</td>\n",
       "      <td>0</td>\n",
       "      <td>0</td>\n",
       "      <td>{'neg': 0.252, 'neu': 0.665, 'pos': 0.083, 'co...</td>\n",
       "      <td>{'neg': 0.252, 'neu': 0.665, 'pos': 0.083, 'co...</td>\n",
       "      <td>0.083</td>\n",
       "      <td>0.252</td>\n",
       "      <td>0.665</td>\n",
       "      <td>-0.7264</td>\n",
       "      <td>-0.0</td>\n",
       "    </tr>\n",
       "    <tr>\n",
       "      <th>2021-01-01</th>\n",
       "      <td>1345094349168771077</td>\n",
       "      <td>@PopFindr Just snagged one from GameStop thank...</td>\n",
       "      <td>lyon9211</td>\n",
       "      <td>0</td>\n",
       "      <td>0</td>\n",
       "      <td>0</td>\n",
       "      <td>0</td>\n",
       "      <td>{'neg': 0.0, 'neu': 0.697, 'pos': 0.303, 'comp...</td>\n",
       "      <td>{'neg': 0.0, 'neu': 0.697, 'pos': 0.303, 'comp...</td>\n",
       "      <td>0.303</td>\n",
       "      <td>0.000</td>\n",
       "      <td>0.697</td>\n",
       "      <td>0.5399</td>\n",
       "      <td>0.0</td>\n",
       "    </tr>\n",
       "    <tr>\n",
       "      <th>2021-01-01</th>\n",
       "      <td>1345107323040264192</td>\n",
       "      <td>@LindseySzakacs @spieltimes @GameStop @spielti...</td>\n",
       "      <td>OmgItsLexieDee</td>\n",
       "      <td>0</td>\n",
       "      <td>0</td>\n",
       "      <td>0</td>\n",
       "      <td>0</td>\n",
       "      <td>{'neg': 0.096, 'neu': 0.777, 'pos': 0.128, 'co...</td>\n",
       "      <td>{'neg': 0.096, 'neu': 0.777, 'pos': 0.128, 'co...</td>\n",
       "      <td>0.128</td>\n",
       "      <td>0.096</td>\n",
       "      <td>0.777</td>\n",
       "      <td>0.1759</td>\n",
       "      <td>0.0</td>\n",
       "    </tr>\n",
       "    <tr>\n",
       "      <th>...</th>\n",
       "      <td>...</td>\n",
       "      <td>...</td>\n",
       "      <td>...</td>\n",
       "      <td>...</td>\n",
       "      <td>...</td>\n",
       "      <td>...</td>\n",
       "      <td>...</td>\n",
       "      <td>...</td>\n",
       "      <td>...</td>\n",
       "      <td>...</td>\n",
       "      <td>...</td>\n",
       "      <td>...</td>\n",
       "      <td>...</td>\n",
       "      <td>...</td>\n",
       "    </tr>\n",
       "    <tr>\n",
       "      <th>2021-06-30</th>\n",
       "      <td>1410349911627997187</td>\n",
       "      <td>@GameStop can you please bring “pogs” back??🙏🏼...</td>\n",
       "      <td>brendon22971491</td>\n",
       "      <td>0</td>\n",
       "      <td>0</td>\n",
       "      <td>0</td>\n",
       "      <td>0</td>\n",
       "      <td>{'neg': 0.0, 'neu': 0.794, 'pos': 0.206, 'comp...</td>\n",
       "      <td>{'neg': 0.0, 'neu': 0.794, 'pos': 0.206, 'comp...</td>\n",
       "      <td>0.206</td>\n",
       "      <td>0.000</td>\n",
       "      <td>0.794</td>\n",
       "      <td>0.7932</td>\n",
       "      <td>0.0</td>\n",
       "    </tr>\n",
       "    <tr>\n",
       "      <th>2021-06-30</th>\n",
       "      <td>1410380631909928960</td>\n",
       "      <td>@mattswider My friend has had his ps5 for 6 mo...</td>\n",
       "      <td>JosephN18372375</td>\n",
       "      <td>0</td>\n",
       "      <td>0</td>\n",
       "      <td>0</td>\n",
       "      <td>0</td>\n",
       "      <td>{'neg': 0.0, 'neu': 0.831, 'pos': 0.169, 'comp...</td>\n",
       "      <td>{'neg': 0.0, 'neu': 0.831, 'pos': 0.169, 'comp...</td>\n",
       "      <td>0.169</td>\n",
       "      <td>0.000</td>\n",
       "      <td>0.831</td>\n",
       "      <td>0.7096</td>\n",
       "      <td>0.0</td>\n",
       "    </tr>\n",
       "    <tr>\n",
       "      <th>2021-06-30</th>\n",
       "      <td>1410383823217463297</td>\n",
       "      <td>@GameStopHelp I’m using Chrome on iPhone XS an...</td>\n",
       "      <td>tuhoang07</td>\n",
       "      <td>0</td>\n",
       "      <td>0</td>\n",
       "      <td>0</td>\n",
       "      <td>1</td>\n",
       "      <td>{'neg': 0.067, 'neu': 0.933, 'pos': 0.0, 'comp...</td>\n",
       "      <td>{'neg': 0.067, 'neu': 0.933, 'pos': 0.0, 'comp...</td>\n",
       "      <td>0.000</td>\n",
       "      <td>0.067</td>\n",
       "      <td>0.933</td>\n",
       "      <td>-0.2500</td>\n",
       "      <td>-0.0</td>\n",
       "    </tr>\n",
       "    <tr>\n",
       "      <th>2021-06-30</th>\n",
       "      <td>1410322784488550400</td>\n",
       "      <td>@GameStopEsports @GameStop it would be awesome...</td>\n",
       "      <td>PodcastDp</td>\n",
       "      <td>0</td>\n",
       "      <td>0</td>\n",
       "      <td>3</td>\n",
       "      <td>0</td>\n",
       "      <td>{'neg': 0.0, 'neu': 0.771, 'pos': 0.229, 'comp...</td>\n",
       "      <td>{'neg': 0.0, 'neu': 0.771, 'pos': 0.229, 'comp...</td>\n",
       "      <td>0.229</td>\n",
       "      <td>0.000</td>\n",
       "      <td>0.771</td>\n",
       "      <td>0.8750</td>\n",
       "      <td>0.0</td>\n",
       "    </tr>\n",
       "    <tr>\n",
       "      <th>2021-06-30</th>\n",
       "      <td>1410344083491594240</td>\n",
       "      <td>@GameStop Any word on if these will be restock...</td>\n",
       "      <td>THOMASD13545906</td>\n",
       "      <td>0</td>\n",
       "      <td>0</td>\n",
       "      <td>0</td>\n",
       "      <td>0</td>\n",
       "      <td>{'neg': 0.045, 'neu': 0.836, 'pos': 0.119, 'co...</td>\n",
       "      <td>{'neg': 0.045, 'neu': 0.836, 'pos': 0.119, 'co...</td>\n",
       "      <td>0.119</td>\n",
       "      <td>0.045</td>\n",
       "      <td>0.836</td>\n",
       "      <td>0.6471</td>\n",
       "      <td>0.0</td>\n",
       "    </tr>\n",
       "  </tbody>\n",
       "</table>\n",
       "<p>2900 rows × 14 columns</p>\n",
       "</div>"
      ],
      "text/plain": [
       "                       Tweet Id  \\\n",
       "Datetime                          \n",
       "2021-01-01  1345072021772914691   \n",
       "2021-01-01  1344839675161292800   \n",
       "2021-01-01  1345049260543389701   \n",
       "2021-01-01  1345094349168771077   \n",
       "2021-01-01  1345107323040264192   \n",
       "...                         ...   \n",
       "2021-06-30  1410349911627997187   \n",
       "2021-06-30  1410380631909928960   \n",
       "2021-06-30  1410383823217463297   \n",
       "2021-06-30  1410322784488550400   \n",
       "2021-06-30  1410344083491594240   \n",
       "\n",
       "                                                         Text  \\\n",
       "Datetime                                                        \n",
       "2021-01-01  @Flyin111 @potatolord312 @AustinJohnPlays That...   \n",
       "2021-01-01  @PS5StockUpdates My GameStop order from the 18...   \n",
       "2021-01-01  @GameStop yo what kind of bullshit r u guys pr...   \n",
       "2021-01-01  @PopFindr Just snagged one from GameStop thank...   \n",
       "2021-01-01  @LindseySzakacs @spieltimes @GameStop @spielti...   \n",
       "...                                                       ...   \n",
       "2021-06-30  @GameStop can you please bring “pogs” back??🙏🏼...   \n",
       "2021-06-30  @mattswider My friend has had his ps5 for 6 mo...   \n",
       "2021-06-30  @GameStopHelp I’m using Chrome on iPhone XS an...   \n",
       "2021-06-30  @GameStopEsports @GameStop it would be awesome...   \n",
       "2021-06-30  @GameStop Any word on if these will be restock...   \n",
       "\n",
       "                   Username  Followers Count  Retweet Count  Likes Count  \\\n",
       "Datetime                                                                   \n",
       "2021-01-01       DrnknSailr                0              0            1   \n",
       "2021-01-01  HarleyN63118083                0              0            0   \n",
       "2021-01-01       Boinkbonk2                0              0            0   \n",
       "2021-01-01         lyon9211                0              0            0   \n",
       "2021-01-01   OmgItsLexieDee                0              0            0   \n",
       "...                     ...              ...            ...          ...   \n",
       "2021-06-30  brendon22971491                0              0            0   \n",
       "2021-06-30  JosephN18372375                0              0            0   \n",
       "2021-06-30        tuhoang07                0              0            0   \n",
       "2021-06-30        PodcastDp                0              0            3   \n",
       "2021-06-30  THOMASD13545906                0              0            0   \n",
       "\n",
       "            Reply Count                                          Sentiment  \\\n",
       "Datetime                                                                     \n",
       "2021-01-01            0  {'neg': 0.177, 'neu': 0.738, 'pos': 0.085, 'co...   \n",
       "2021-01-01            0  {'neg': 0.182, 'neu': 0.818, 'pos': 0.0, 'comp...   \n",
       "2021-01-01            0  {'neg': 0.252, 'neu': 0.665, 'pos': 0.083, 'co...   \n",
       "2021-01-01            0  {'neg': 0.0, 'neu': 0.697, 'pos': 0.303, 'comp...   \n",
       "2021-01-01            0  {'neg': 0.096, 'neu': 0.777, 'pos': 0.128, 'co...   \n",
       "...                 ...                                                ...   \n",
       "2021-06-30            0  {'neg': 0.0, 'neu': 0.794, 'pos': 0.206, 'comp...   \n",
       "2021-06-30            0  {'neg': 0.0, 'neu': 0.831, 'pos': 0.169, 'comp...   \n",
       "2021-06-30            1  {'neg': 0.067, 'neu': 0.933, 'pos': 0.0, 'comp...   \n",
       "2021-06-30            0  {'neg': 0.0, 'neu': 0.771, 'pos': 0.229, 'comp...   \n",
       "2021-06-30            0  {'neg': 0.045, 'neu': 0.836, 'pos': 0.119, 'co...   \n",
       "\n",
       "                                             Sentiment_todict  \\\n",
       "Datetime                                                        \n",
       "2021-01-01  {'neg': 0.177, 'neu': 0.738, 'pos': 0.085, 'co...   \n",
       "2021-01-01  {'neg': 0.182, 'neu': 0.818, 'pos': 0.0, 'comp...   \n",
       "2021-01-01  {'neg': 0.252, 'neu': 0.665, 'pos': 0.083, 'co...   \n",
       "2021-01-01  {'neg': 0.0, 'neu': 0.697, 'pos': 0.303, 'comp...   \n",
       "2021-01-01  {'neg': 0.096, 'neu': 0.777, 'pos': 0.128, 'co...   \n",
       "...                                                       ...   \n",
       "2021-06-30  {'neg': 0.0, 'neu': 0.794, 'pos': 0.206, 'comp...   \n",
       "2021-06-30  {'neg': 0.0, 'neu': 0.831, 'pos': 0.169, 'comp...   \n",
       "2021-06-30  {'neg': 0.067, 'neu': 0.933, 'pos': 0.0, 'comp...   \n",
       "2021-06-30  {'neg': 0.0, 'neu': 0.771, 'pos': 0.229, 'comp...   \n",
       "2021-06-30  {'neg': 0.045, 'neu': 0.836, 'pos': 0.119, 'co...   \n",
       "\n",
       "            Positive Tweet Score  Negative Tweet Score  Neutral Tweet Score  \\\n",
       "Datetime                                                                      \n",
       "2021-01-01                 0.085                 0.177                0.738   \n",
       "2021-01-01                 0.000                 0.182                0.818   \n",
       "2021-01-01                 0.083                 0.252                0.665   \n",
       "2021-01-01                 0.303                 0.000                0.697   \n",
       "2021-01-01                 0.128                 0.096                0.777   \n",
       "...                          ...                   ...                  ...   \n",
       "2021-06-30                 0.206                 0.000                0.794   \n",
       "2021-06-30                 0.169                 0.000                0.831   \n",
       "2021-06-30                 0.000                 0.067                0.933   \n",
       "2021-06-30                 0.229                 0.000                0.771   \n",
       "2021-06-30                 0.119                 0.045                0.836   \n",
       "\n",
       "            Compound Tweet Score  Compound Followers  \n",
       "Datetime                                              \n",
       "2021-01-01               -0.7579                -0.0  \n",
       "2021-01-01               -0.2500                -0.0  \n",
       "2021-01-01               -0.7264                -0.0  \n",
       "2021-01-01                0.5399                 0.0  \n",
       "2021-01-01                0.1759                 0.0  \n",
       "...                          ...                 ...  \n",
       "2021-06-30                0.7932                 0.0  \n",
       "2021-06-30                0.7096                 0.0  \n",
       "2021-06-30               -0.2500                -0.0  \n",
       "2021-06-30                0.8750                 0.0  \n",
       "2021-06-30                0.6471                 0.0  \n",
       "\n",
       "[2900 rows x 14 columns]"
      ]
     },
     "execution_count": 180,
     "metadata": {},
     "output_type": "execute_result"
    }
   ],
   "source": [
    "# Consider removing these rows to improve model\n",
    "\n",
    "df_tweet_gme[df_tweet_gme['Compound Followers'] == 0.0]"
   ]
  },
  {
   "cell_type": "code",
   "execution_count": null,
   "id": "fd7f0886",
   "metadata": {},
   "outputs": [],
   "source": [
    "# Try using SMOTE on Polarity scores"
   ]
  },
  {
   "cell_type": "markdown",
   "id": "f943f1fd",
   "metadata": {},
   "source": [
    "# Aggregation"
   ]
  },
  {
   "cell_type": "code",
   "execution_count": 69,
   "id": "da5ee32a",
   "metadata": {
    "ExecuteTime": {
     "end_time": "2022-01-25T18:54:22.545017Z",
     "start_time": "2022-01-25T18:54:22.513103Z"
    }
   },
   "outputs": [],
   "source": [
    "df_tweet_gme_dailymean = df_tweet_gme.groupby('Datetime').mean()"
   ]
  },
  {
   "cell_type": "code",
   "execution_count": 70,
   "id": "7ba6a2c0",
   "metadata": {
    "ExecuteTime": {
     "end_time": "2022-01-25T18:54:23.257389Z",
     "start_time": "2022-01-25T18:54:23.247415Z"
    }
   },
   "outputs": [],
   "source": [
    "pd.set_option(\"display.max_rows\", 90)"
   ]
  },
  {
   "cell_type": "code",
   "execution_count": 71,
   "id": "c51f6424",
   "metadata": {
    "ExecuteTime": {
     "end_time": "2022-01-25T18:54:23.832087Z",
     "start_time": "2022-01-25T18:54:23.809149Z"
    },
    "scrolled": true
   },
   "outputs": [
    {
     "data": {
      "text/html": [
       "<div>\n",
       "<style scoped>\n",
       "    .dataframe tbody tr th:only-of-type {\n",
       "        vertical-align: middle;\n",
       "    }\n",
       "\n",
       "    .dataframe tbody tr th {\n",
       "        vertical-align: top;\n",
       "    }\n",
       "\n",
       "    .dataframe thead th {\n",
       "        text-align: right;\n",
       "    }\n",
       "</style>\n",
       "<table border=\"1\" class=\"dataframe\">\n",
       "  <thead>\n",
       "    <tr style=\"text-align: right;\">\n",
       "      <th></th>\n",
       "      <th>Tweet Id</th>\n",
       "      <th>Followers Count</th>\n",
       "      <th>Retweet Count</th>\n",
       "      <th>Likes Count</th>\n",
       "      <th>Reply Count</th>\n",
       "      <th>Positive Tweet Score</th>\n",
       "      <th>Negative Tweet Score</th>\n",
       "      <th>Neutral Tweet Score</th>\n",
       "      <th>Compound Tweet Score</th>\n",
       "      <th>Compound Followers</th>\n",
       "    </tr>\n",
       "    <tr>\n",
       "      <th>Datetime</th>\n",
       "      <th></th>\n",
       "      <th></th>\n",
       "      <th></th>\n",
       "      <th></th>\n",
       "      <th></th>\n",
       "      <th></th>\n",
       "      <th></th>\n",
       "      <th></th>\n",
       "      <th></th>\n",
       "      <th></th>\n",
       "    </tr>\n",
       "  </thead>\n",
       "  <tbody>\n",
       "    <tr>\n",
       "      <th>2021-01-01</th>\n",
       "      <td>1.344979e+18</td>\n",
       "      <td>62086.130963</td>\n",
       "      <td>0.949696</td>\n",
       "      <td>10.635733</td>\n",
       "      <td>1.125759</td>\n",
       "      <td>0.160056</td>\n",
       "      <td>0.062647</td>\n",
       "      <td>0.777298</td>\n",
       "      <td>0.269853</td>\n",
       "      <td>34364.360617</td>\n",
       "    </tr>\n",
       "    <tr>\n",
       "      <th>2021-01-02</th>\n",
       "      <td>1.345359e+18</td>\n",
       "      <td>101770.186290</td>\n",
       "      <td>68.192742</td>\n",
       "      <td>57.750000</td>\n",
       "      <td>3.098387</td>\n",
       "      <td>0.161263</td>\n",
       "      <td>0.052595</td>\n",
       "      <td>0.786141</td>\n",
       "      <td>0.327639</td>\n",
       "      <td>44249.406987</td>\n",
       "    </tr>\n",
       "    <tr>\n",
       "      <th>2021-01-03</th>\n",
       "      <td>1.345734e+18</td>\n",
       "      <td>101301.291471</td>\n",
       "      <td>1.685695</td>\n",
       "      <td>25.027535</td>\n",
       "      <td>2.658831</td>\n",
       "      <td>0.156467</td>\n",
       "      <td>0.064760</td>\n",
       "      <td>0.778779</td>\n",
       "      <td>0.273965</td>\n",
       "      <td>25993.188582</td>\n",
       "    </tr>\n",
       "    <tr>\n",
       "      <th>2021-01-04</th>\n",
       "      <td>1.346104e+18</td>\n",
       "      <td>93561.129870</td>\n",
       "      <td>1.246163</td>\n",
       "      <td>15.107438</td>\n",
       "      <td>2.065525</td>\n",
       "      <td>0.149979</td>\n",
       "      <td>0.058672</td>\n",
       "      <td>0.791347</td>\n",
       "      <td>0.258476</td>\n",
       "      <td>40531.963996</td>\n",
       "    </tr>\n",
       "    <tr>\n",
       "      <th>2021-01-05</th>\n",
       "      <td>1.346466e+18</td>\n",
       "      <td>29511.414783</td>\n",
       "      <td>0.873913</td>\n",
       "      <td>9.100870</td>\n",
       "      <td>0.984348</td>\n",
       "      <td>0.162212</td>\n",
       "      <td>0.057242</td>\n",
       "      <td>0.780561</td>\n",
       "      <td>0.313195</td>\n",
       "      <td>8266.200468</td>\n",
       "    </tr>\n",
       "    <tr>\n",
       "      <th>...</th>\n",
       "      <td>...</td>\n",
       "      <td>...</td>\n",
       "      <td>...</td>\n",
       "      <td>...</td>\n",
       "      <td>...</td>\n",
       "      <td>...</td>\n",
       "      <td>...</td>\n",
       "      <td>...</td>\n",
       "      <td>...</td>\n",
       "      <td>...</td>\n",
       "    </tr>\n",
       "    <tr>\n",
       "      <th>2021-06-26</th>\n",
       "      <td>1.408885e+18</td>\n",
       "      <td>243348.953474</td>\n",
       "      <td>4.097281</td>\n",
       "      <td>45.287009</td>\n",
       "      <td>3.056193</td>\n",
       "      <td>0.162093</td>\n",
       "      <td>0.072709</td>\n",
       "      <td>0.765185</td>\n",
       "      <td>0.295099</td>\n",
       "      <td>143663.299006</td>\n",
       "    </tr>\n",
       "    <tr>\n",
       "      <th>2021-06-27</th>\n",
       "      <td>1.409257e+18</td>\n",
       "      <td>233403.859638</td>\n",
       "      <td>28.293200</td>\n",
       "      <td>299.946974</td>\n",
       "      <td>7.606363</td>\n",
       "      <td>0.152480</td>\n",
       "      <td>0.071153</td>\n",
       "      <td>0.776387</td>\n",
       "      <td>0.225888</td>\n",
       "      <td>73539.994403</td>\n",
       "    </tr>\n",
       "    <tr>\n",
       "      <th>2021-06-28</th>\n",
       "      <td>1.409620e+18</td>\n",
       "      <td>405717.609408</td>\n",
       "      <td>2.689218</td>\n",
       "      <td>23.022199</td>\n",
       "      <td>1.616808</td>\n",
       "      <td>0.177967</td>\n",
       "      <td>0.069434</td>\n",
       "      <td>0.752597</td>\n",
       "      <td>0.320421</td>\n",
       "      <td>193374.560155</td>\n",
       "    </tr>\n",
       "    <tr>\n",
       "      <th>2021-06-29</th>\n",
       "      <td>1.409985e+18</td>\n",
       "      <td>267410.108974</td>\n",
       "      <td>1.845513</td>\n",
       "      <td>19.755769</td>\n",
       "      <td>1.815385</td>\n",
       "      <td>0.180515</td>\n",
       "      <td>0.062731</td>\n",
       "      <td>0.756756</td>\n",
       "      <td>0.309301</td>\n",
       "      <td>160100.785055</td>\n",
       "    </tr>\n",
       "    <tr>\n",
       "      <th>2021-06-30</th>\n",
       "      <td>1.410350e+18</td>\n",
       "      <td>140600.300000</td>\n",
       "      <td>4.328571</td>\n",
       "      <td>57.445833</td>\n",
       "      <td>2.525000</td>\n",
       "      <td>0.165699</td>\n",
       "      <td>0.066091</td>\n",
       "      <td>0.768208</td>\n",
       "      <td>0.294115</td>\n",
       "      <td>17035.705541</td>\n",
       "    </tr>\n",
       "  </tbody>\n",
       "</table>\n",
       "<p>181 rows × 10 columns</p>\n",
       "</div>"
      ],
      "text/plain": [
       "                Tweet Id  Followers Count  Retweet Count  Likes Count  \\\n",
       "Datetime                                                                \n",
       "2021-01-01  1.344979e+18     62086.130963       0.949696    10.635733   \n",
       "2021-01-02  1.345359e+18    101770.186290      68.192742    57.750000   \n",
       "2021-01-03  1.345734e+18    101301.291471       1.685695    25.027535   \n",
       "2021-01-04  1.346104e+18     93561.129870       1.246163    15.107438   \n",
       "2021-01-05  1.346466e+18     29511.414783       0.873913     9.100870   \n",
       "...                  ...              ...            ...          ...   \n",
       "2021-06-26  1.408885e+18    243348.953474       4.097281    45.287009   \n",
       "2021-06-27  1.409257e+18    233403.859638      28.293200   299.946974   \n",
       "2021-06-28  1.409620e+18    405717.609408       2.689218    23.022199   \n",
       "2021-06-29  1.409985e+18    267410.108974       1.845513    19.755769   \n",
       "2021-06-30  1.410350e+18    140600.300000       4.328571    57.445833   \n",
       "\n",
       "            Reply Count  Positive Tweet Score  Negative Tweet Score  \\\n",
       "Datetime                                                              \n",
       "2021-01-01     1.125759              0.160056              0.062647   \n",
       "2021-01-02     3.098387              0.161263              0.052595   \n",
       "2021-01-03     2.658831              0.156467              0.064760   \n",
       "2021-01-04     2.065525              0.149979              0.058672   \n",
       "2021-01-05     0.984348              0.162212              0.057242   \n",
       "...                 ...                   ...                   ...   \n",
       "2021-06-26     3.056193              0.162093              0.072709   \n",
       "2021-06-27     7.606363              0.152480              0.071153   \n",
       "2021-06-28     1.616808              0.177967              0.069434   \n",
       "2021-06-29     1.815385              0.180515              0.062731   \n",
       "2021-06-30     2.525000              0.165699              0.066091   \n",
       "\n",
       "            Neutral Tweet Score  Compound Tweet Score  Compound Followers  \n",
       "Datetime                                                                   \n",
       "2021-01-01             0.777298              0.269853        34364.360617  \n",
       "2021-01-02             0.786141              0.327639        44249.406987  \n",
       "2021-01-03             0.778779              0.273965        25993.188582  \n",
       "2021-01-04             0.791347              0.258476        40531.963996  \n",
       "2021-01-05             0.780561              0.313195         8266.200468  \n",
       "...                         ...                   ...                 ...  \n",
       "2021-06-26             0.765185              0.295099       143663.299006  \n",
       "2021-06-27             0.776387              0.225888        73539.994403  \n",
       "2021-06-28             0.752597              0.320421       193374.560155  \n",
       "2021-06-29             0.756756              0.309301       160100.785055  \n",
       "2021-06-30             0.768208              0.294115        17035.705541  \n",
       "\n",
       "[181 rows x 10 columns]"
      ]
     },
     "execution_count": 71,
     "metadata": {},
     "output_type": "execute_result"
    }
   ],
   "source": [
    "df_tweet_gme_dailymean"
   ]
  },
  {
   "cell_type": "code",
   "execution_count": 1,
   "id": "70a21246",
   "metadata": {
    "ExecuteTime": {
     "end_time": "2022-01-27T01:49:44.164841Z",
     "start_time": "2022-01-27T01:49:43.111732Z"
    }
   },
   "outputs": [
    {
     "ename": "NameError",
     "evalue": "name 'df_tweet_gme_dailymean' is not defined",
     "output_type": "error",
     "traceback": [
      "\u001b[1;31m---------------------------------------------------------------------------\u001b[0m",
      "\u001b[1;31mNameError\u001b[0m                                 Traceback (most recent call last)",
      "\u001b[1;32m~\\AppData\\Local\\Temp/ipykernel_4672/3338578324.py\u001b[0m in \u001b[0;36m<module>\u001b[1;34m\u001b[0m\n\u001b[0;32m      1\u001b[0m \u001b[1;32mfrom\u001b[0m \u001b[0mpandas\u001b[0m\u001b[1;33m.\u001b[0m\u001b[0mplotting\u001b[0m \u001b[1;32mimport\u001b[0m \u001b[0mautocorrelation_plot\u001b[0m\u001b[1;33m\u001b[0m\u001b[1;33m\u001b[0m\u001b[0m\n\u001b[0;32m      2\u001b[0m \u001b[1;33m\u001b[0m\u001b[0m\n\u001b[1;32m----> 3\u001b[1;33m \u001b[0mautocorrelation_plot\u001b[0m\u001b[1;33m(\u001b[0m\u001b[0mdf_tweet_gme_dailymean\u001b[0m\u001b[1;33m[\u001b[0m\u001b[1;34m'Positive Tweet Score'\u001b[0m\u001b[1;33m]\u001b[0m\u001b[1;33m)\u001b[0m\u001b[1;33m\u001b[0m\u001b[1;33m\u001b[0m\u001b[0m\n\u001b[0m\u001b[0;32m      4\u001b[0m \u001b[0mplt\u001b[0m\u001b[1;33m.\u001b[0m\u001b[0mxlabel\u001b[0m\u001b[1;33m(\u001b[0m\u001b[1;34m'Lag (days)'\u001b[0m\u001b[1;33m)\u001b[0m\u001b[1;33m;\u001b[0m\u001b[1;33m\u001b[0m\u001b[1;33m\u001b[0m\u001b[0m\n\u001b[0;32m      5\u001b[0m \u001b[0mplt\u001b[0m\u001b[1;33m.\u001b[0m\u001b[0maxvline\u001b[0m\u001b[1;33m(\u001b[0m\u001b[1;36m31\u001b[0m\u001b[1;33m,\u001b[0m \u001b[0mcolor\u001b[0m \u001b[1;33m=\u001b[0m \u001b[1;34m'green'\u001b[0m\u001b[1;33m)\u001b[0m\u001b[1;33m\u001b[0m\u001b[1;33m\u001b[0m\u001b[0m\n",
      "\u001b[1;31mNameError\u001b[0m: name 'df_tweet_gme_dailymean' is not defined"
     ]
    }
   ],
   "source": [
    "from pandas.plotting import autocorrelation_plot\n",
    "\n",
    "autocorrelation_plot(df_tweet_gme_dailymean['Positive Tweet Score'])\n",
    "plt.xlabel('Lag (days)');\n",
    "plt.axvline(31, color = 'green')"
   ]
  },
  {
   "cell_type": "code",
   "execution_count": 37,
   "id": "28261bd1",
   "metadata": {
    "ExecuteTime": {
     "end_time": "2022-01-25T18:46:34.535798Z",
     "start_time": "2022-01-25T18:46:34.398162Z"
    }
   },
   "outputs": [
    {
     "data": {
      "image/png": "[encoded data removed]",
      "text/plain": [
       "<Figure size 432x288 with 1 Axes>"
      ]
     },
     "metadata": {},
     "output_type": "display_data"
    }
   ],
   "source": [
    "autocorrelation_plot(df_tweet_gme_dailymean['Negative Tweet Score'])\n",
    "plt.xlabel('Lag (days)');"
   ]
  },
  {
   "cell_type": "code",
   "execution_count": 38,
   "id": "622063f2",
   "metadata": {
    "ExecuteTime": {
     "end_time": "2022-01-25T18:46:35.855054Z",
     "start_time": "2022-01-25T18:46:35.718419Z"
    }
   },
   "outputs": [
    {
     "data": {
      "image/png": "[encoded data removed]",
      "text/plain": [
       "<Figure size 432x288 with 1 Axes>"
      ]
     },
     "metadata": {},
     "output_type": "display_data"
    }
   ],
   "source": [
    "autocorrelation_plot(df_tweet_gme_dailymean['Neutral Tweet Score'])\n",
    "plt.xlabel('Lag (days)');"
   ]
  },
  {
   "cell_type": "code",
   "execution_count": 39,
   "id": "51b9de4d",
   "metadata": {
    "ExecuteTime": {
     "end_time": "2022-01-25T18:46:37.603483Z",
     "start_time": "2022-01-25T18:46:37.474457Z"
    }
   },
   "outputs": [
    {
     "data": {
      "image/png": "[encoded data removed]",
      "text/plain": [
       "<Figure size 432x288 with 1 Axes>"
      ]
     },
     "metadata": {},
     "output_type": "display_data"
    }
   ],
   "source": [
    "autocorrelation_plot(df_tweet_gme_dailymean['Compound Tweet Score'])\n",
    "plt.xlabel('Lag (days)');"
   ]
  },
  {
   "cell_type": "code",
   "execution_count": 40,
   "id": "2ba9b27f",
   "metadata": {
    "ExecuteTime": {
     "end_time": "2022-01-25T18:46:40.335975Z",
     "start_time": "2022-01-25T18:46:40.196198Z"
    }
   },
   "outputs": [
    {
     "data": {
      "image/png": "[encoded data removed]",
      "text/plain": [
       "<Figure size 432x288 with 1 Axes>"
      ]
     },
     "metadata": {},
     "output_type": "display_data"
    }
   ],
   "source": [
    "autocorrelation_plot(df_tweet_gme_dailymean['Compound Followers'])\n",
    "plt.xlabel('Lag (days)');"
   ]
  },
  {
   "cell_type": "code",
   "execution_count": 41,
   "id": "14295811",
   "metadata": {
    "ExecuteTime": {
     "end_time": "2022-01-25T18:46:43.761887Z",
     "start_time": "2022-01-25T18:46:43.626124Z"
    }
   },
   "outputs": [
    {
     "data": {
      "image/png": "[encoded data removed]",
      "text/plain": [
       "<Figure size 432x288 with 1 Axes>"
      ]
     },
     "metadata": {},
     "output_type": "display_data"
    }
   ],
   "source": [
    "autocorrelation_plot(df_tweet_gme_dailymean['Followers Count'])\n",
    "plt.xlabel('Lag (days)');"
   ]
  },
  {
   "cell_type": "code",
   "execution_count": 42,
   "id": "b34e00aa",
   "metadata": {
    "ExecuteTime": {
     "end_time": "2022-01-25T18:46:46.384299Z",
     "start_time": "2022-01-25T18:46:46.256643Z"
    }
   },
   "outputs": [
    {
     "data": {
      "image/png": "[encoded data removed]",
      "text/plain": [
       "<Figure size 432x288 with 1 Axes>"
      ]
     },
     "metadata": {},
     "output_type": "display_data"
    }
   ],
   "source": [
    "autocorrelation_plot(df_tweet_gme_dailymean['Reply Count'])\n",
    "plt.xlabel('Lag (days)');"
   ]
  },
  {
   "cell_type": "code",
   "execution_count": 43,
   "id": "1eb98408",
   "metadata": {
    "ExecuteTime": {
     "end_time": "2022-01-25T18:46:51.880629Z",
     "start_time": "2022-01-25T18:46:51.750947Z"
    }
   },
   "outputs": [
    {
     "data": {
      "image/png": "[encoded data removed]",
      "text/plain": [
       "<Figure size 432x288 with 1 Axes>"
      ]
     },
     "metadata": {},
     "output_type": "display_data"
    }
   ],
   "source": [
    "autocorrelation_plot(df_tweet_gme_dailymean['Likes Count'])\n",
    "plt.xlabel('Lag (days)');"
   ]
  },
  {
   "cell_type": "code",
   "execution_count": 44,
   "id": "f0c37d3b",
   "metadata": {
    "ExecuteTime": {
     "end_time": "2022-01-25T18:46:52.113434Z",
     "start_time": "2022-01-25T18:46:51.990762Z"
    }
   },
   "outputs": [
    {
     "data": {
      "image/png": "[encoded data removed]",
      "text/plain": [
       "<Figure size 432x288 with 1 Axes>"
      ]
     },
     "metadata": {},
     "output_type": "display_data"
    }
   ],
   "source": [
    "autocorrelation_plot(df_tweet_gme_dailymean['Retweet Count'])\n",
    "plt.xlabel('Lag (days)');"
   ]
  },
  {
   "cell_type": "markdown",
   "id": "fac4653e",
   "metadata": {},
   "source": [
    "# Stock Data"
   ]
  },
  {
   "cell_type": "markdown",
   "id": "72e47723",
   "metadata": {},
   "source": [
    "## GME"
   ]
  },
  {
   "cell_type": "code",
   "execution_count": 72,
   "id": "06a12fb4",
   "metadata": {
    "ExecuteTime": {
     "end_time": "2022-01-25T18:54:30.240890Z",
     "start_time": "2022-01-25T18:54:30.120916Z"
    }
   },
   "outputs": [
    {
     "name": "stdout",
     "output_type": "stream",
     "text": [
      "[*********************100%***********************]  1 of 1 completed\n"
     ]
    }
   ],
   "source": [
    "df_stock_gme = getStockData('GME','2021-01-01','2021-06-30')"
   ]
  },
  {
   "cell_type": "code",
   "execution_count": 73,
   "id": "30da646a",
   "metadata": {
    "ExecuteTime": {
     "end_time": "2022-01-25T18:54:30.381075Z",
     "start_time": "2022-01-25T18:54:30.366088Z"
    }
   },
   "outputs": [
    {
     "data": {
      "text/html": [
       "<div>\n",
       "<style scoped>\n",
       "    .dataframe tbody tr th:only-of-type {\n",
       "        vertical-align: middle;\n",
       "    }\n",
       "\n",
       "    .dataframe tbody tr th {\n",
       "        vertical-align: top;\n",
       "    }\n",
       "\n",
       "    .dataframe thead th {\n",
       "        text-align: right;\n",
       "    }\n",
       "</style>\n",
       "<table border=\"1\" class=\"dataframe\">\n",
       "  <thead>\n",
       "    <tr style=\"text-align: right;\">\n",
       "      <th></th>\n",
       "      <th>Open</th>\n",
       "      <th>High</th>\n",
       "      <th>Low</th>\n",
       "      <th>Close</th>\n",
       "      <th>Adj Close</th>\n",
       "      <th>Volume</th>\n",
       "      <th>Closing Differences</th>\n",
       "      <th>Percent Change</th>\n",
       "    </tr>\n",
       "    <tr>\n",
       "      <th>Datetime</th>\n",
       "      <th></th>\n",
       "      <th></th>\n",
       "      <th></th>\n",
       "      <th></th>\n",
       "      <th></th>\n",
       "      <th></th>\n",
       "      <th></th>\n",
       "      <th></th>\n",
       "    </tr>\n",
       "  </thead>\n",
       "  <tbody>\n",
       "    <tr>\n",
       "      <th>2021-01-04</th>\n",
       "      <td>19.000000</td>\n",
       "      <td>19.100000</td>\n",
       "      <td>17.150000</td>\n",
       "      <td>17.250000</td>\n",
       "      <td>17.250000</td>\n",
       "      <td>10022500</td>\n",
       "      <td>NaN</td>\n",
       "      <td>-9.210526</td>\n",
       "    </tr>\n",
       "    <tr>\n",
       "      <th>2021-01-05</th>\n",
       "      <td>17.350000</td>\n",
       "      <td>18.080000</td>\n",
       "      <td>17.230000</td>\n",
       "      <td>17.370001</td>\n",
       "      <td>17.370001</td>\n",
       "      <td>4961500</td>\n",
       "      <td>0.120001</td>\n",
       "      <td>0.115276</td>\n",
       "    </tr>\n",
       "    <tr>\n",
       "      <th>2021-01-06</th>\n",
       "      <td>17.340000</td>\n",
       "      <td>18.980000</td>\n",
       "      <td>17.330000</td>\n",
       "      <td>18.360001</td>\n",
       "      <td>18.360001</td>\n",
       "      <td>6056200</td>\n",
       "      <td>0.990000</td>\n",
       "      <td>5.882356</td>\n",
       "    </tr>\n",
       "    <tr>\n",
       "      <th>2021-01-07</th>\n",
       "      <td>18.469999</td>\n",
       "      <td>19.450001</td>\n",
       "      <td>18.020000</td>\n",
       "      <td>18.080000</td>\n",
       "      <td>18.080000</td>\n",
       "      <td>6129300</td>\n",
       "      <td>-0.280001</td>\n",
       "      <td>-2.111529</td>\n",
       "    </tr>\n",
       "    <tr>\n",
       "      <th>2021-01-08</th>\n",
       "      <td>18.180000</td>\n",
       "      <td>18.299999</td>\n",
       "      <td>17.080000</td>\n",
       "      <td>17.690001</td>\n",
       "      <td>17.690001</td>\n",
       "      <td>6482000</td>\n",
       "      <td>-0.389999</td>\n",
       "      <td>-2.695268</td>\n",
       "    </tr>\n",
       "    <tr>\n",
       "      <th>...</th>\n",
       "      <td>...</td>\n",
       "      <td>...</td>\n",
       "      <td>...</td>\n",
       "      <td>...</td>\n",
       "      <td>...</td>\n",
       "      <td>...</td>\n",
       "      <td>...</td>\n",
       "      <td>...</td>\n",
       "    </tr>\n",
       "    <tr>\n",
       "      <th>2021-06-23</th>\n",
       "      <td>221.449997</td>\n",
       "      <td>222.570007</td>\n",
       "      <td>214.119995</td>\n",
       "      <td>219.339996</td>\n",
       "      <td>219.339996</td>\n",
       "      <td>3555100</td>\n",
       "      <td>-1.059998</td>\n",
       "      <td>-0.952811</td>\n",
       "    </tr>\n",
       "    <tr>\n",
       "      <th>2021-06-24</th>\n",
       "      <td>221.160004</td>\n",
       "      <td>227.449997</td>\n",
       "      <td>211.600006</td>\n",
       "      <td>212.309998</td>\n",
       "      <td>212.309998</td>\n",
       "      <td>3863300</td>\n",
       "      <td>-7.029999</td>\n",
       "      <td>-4.001630</td>\n",
       "    </tr>\n",
       "    <tr>\n",
       "      <th>2021-06-25</th>\n",
       "      <td>214.000000</td>\n",
       "      <td>214.199997</td>\n",
       "      <td>198.500000</td>\n",
       "      <td>209.509995</td>\n",
       "      <td>209.509995</td>\n",
       "      <td>12692700</td>\n",
       "      <td>-2.800003</td>\n",
       "      <td>-2.098133</td>\n",
       "    </tr>\n",
       "    <tr>\n",
       "      <th>2021-06-28</th>\n",
       "      <td>211.250000</td>\n",
       "      <td>224.449997</td>\n",
       "      <td>210.199997</td>\n",
       "      <td>213.250000</td>\n",
       "      <td>213.250000</td>\n",
       "      <td>4879400</td>\n",
       "      <td>3.740005</td>\n",
       "      <td>0.946746</td>\n",
       "    </tr>\n",
       "    <tr>\n",
       "      <th>2021-06-29</th>\n",
       "      <td>213.589996</td>\n",
       "      <td>215.220001</td>\n",
       "      <td>208.009995</td>\n",
       "      <td>210.880005</td>\n",
       "      <td>210.880005</td>\n",
       "      <td>2480000</td>\n",
       "      <td>-2.369995</td>\n",
       "      <td>-1.268782</td>\n",
       "    </tr>\n",
       "  </tbody>\n",
       "</table>\n",
       "<p>123 rows × 8 columns</p>\n",
       "</div>"
      ],
      "text/plain": [
       "                  Open        High         Low       Close   Adj Close  \\\n",
       "Datetime                                                                 \n",
       "2021-01-04   19.000000   19.100000   17.150000   17.250000   17.250000   \n",
       "2021-01-05   17.350000   18.080000   17.230000   17.370001   17.370001   \n",
       "2021-01-06   17.340000   18.980000   17.330000   18.360001   18.360001   \n",
       "2021-01-07   18.469999   19.450001   18.020000   18.080000   18.080000   \n",
       "2021-01-08   18.180000   18.299999   17.080000   17.690001   17.690001   \n",
       "...                ...         ...         ...         ...         ...   \n",
       "2021-06-23  221.449997  222.570007  214.119995  219.339996  219.339996   \n",
       "2021-06-24  221.160004  227.449997  211.600006  212.309998  212.309998   \n",
       "2021-06-25  214.000000  214.199997  198.500000  209.509995  209.509995   \n",
       "2021-06-28  211.250000  224.449997  210.199997  213.250000  213.250000   \n",
       "2021-06-29  213.589996  215.220001  208.009995  210.880005  210.880005   \n",
       "\n",
       "              Volume  Closing Differences  Percent Change  \n",
       "Datetime                                                   \n",
       "2021-01-04  10022500                  NaN       -9.210526  \n",
       "2021-01-05   4961500             0.120001        0.115276  \n",
       "2021-01-06   6056200             0.990000        5.882356  \n",
       "2021-01-07   6129300            -0.280001       -2.111529  \n",
       "2021-01-08   6482000            -0.389999       -2.695268  \n",
       "...              ...                  ...             ...  \n",
       "2021-06-23   3555100            -1.059998       -0.952811  \n",
       "2021-06-24   3863300            -7.029999       -4.001630  \n",
       "2021-06-25  12692700            -2.800003       -2.098133  \n",
       "2021-06-28   4879400             3.740005        0.946746  \n",
       "2021-06-29   2480000            -2.369995       -1.268782  \n",
       "\n",
       "[123 rows x 8 columns]"
      ]
     },
     "execution_count": 73,
     "metadata": {},
     "output_type": "execute_result"
    }
   ],
   "source": [
    "df_stock_gme"
   ]
  },
  {
   "cell_type": "code",
   "execution_count": 74,
   "id": "86ae0a77",
   "metadata": {
    "ExecuteTime": {
     "end_time": "2022-01-25T18:54:33.148358Z",
     "start_time": "2022-01-25T18:54:32.944870Z"
    }
   },
   "outputs": [
    {
     "data": {
      "image/png": "[encoded data removed]",
      "text/plain": [
       "<Figure size 432x288 with 1 Axes>"
      ]
     },
     "metadata": {},
     "output_type": "display_data"
    }
   ],
   "source": [
    "# Plot\n",
    "\n",
    "df_stock_gme[['Closing Differences', 'Percent Change']].plot()\n",
    "\n",
    "# plt.ylim(-120, 120)\n",
    "\n",
    "plt.xlabel('Days')\n",
    "plt.ylabel('Closing Price')\n",
    "plt.title('Closing Price Plot');"
   ]
  },
  {
   "cell_type": "markdown",
   "id": "e3b681bf",
   "metadata": {
    "heading_collapsed": true
   },
   "source": [
    "## AAPL"
   ]
  },
  {
   "cell_type": "code",
   "execution_count": 89,
   "id": "5da2cc08",
   "metadata": {
    "ExecuteTime": {
     "end_time": "2022-01-19T22:58:47.362680Z",
     "start_time": "2022-01-19T22:58:47.206141Z"
    },
    "hidden": true
   },
   "outputs": [
    {
     "name": "stdout",
     "output_type": "stream",
     "text": [
      "[*********************100%***********************]  1 of 1 completed\n"
     ]
    }
   ],
   "source": [
    "df_stock_aapl = getStockData('AAPL', '2021-01-01', '2021-03-01')"
   ]
  },
  {
   "cell_type": "code",
   "execution_count": 96,
   "id": "5b1bafcf",
   "metadata": {
    "ExecuteTime": {
     "end_time": "2022-01-19T22:59:44.448890Z",
     "start_time": "2022-01-19T22:59:44.255988Z"
    },
    "hidden": true,
    "scrolled": true
   },
   "outputs": [
    {
     "data": {
      "image/png": "[encoded data removed]",
      "text/plain": [
       "<Figure size 432x288 with 1 Axes>"
      ]
     },
     "metadata": {},
     "output_type": "display_data"
    }
   ],
   "source": [
    "# Plot\n",
    "\n",
    "df_stock_aapl[['Closing Differences', 'C-O/O']].plot()\n",
    "\n",
    "plt.ylim(-10, 10)\n",
    "\n",
    "plt.xlabel('Days')\n",
    "plt.ylabel('Closing Price')\n",
    "plt.title('Closing Price Plot');"
   ]
  },
  {
   "cell_type": "markdown",
   "id": "c500c755",
   "metadata": {
    "ExecuteTime": {
     "end_time": "2022-01-19T23:03:05.049575Z",
     "start_time": "2022-01-19T23:03:05.035613Z"
    }
   },
   "source": [
    "# Merging Twitter + Stock DataFrames"
   ]
  },
  {
   "cell_type": "markdown",
   "id": "4fb46920",
   "metadata": {},
   "source": [
    "## GME"
   ]
  },
  {
   "cell_type": "code",
   "execution_count": 131,
   "id": "1ffb878f",
   "metadata": {
    "ExecuteTime": {
     "end_time": "2022-01-25T19:17:05.803272Z",
     "start_time": "2022-01-25T19:17:05.785319Z"
    }
   },
   "outputs": [],
   "source": [
    "# Why is there NaN values for Volume and closing differences?\n",
    "# Because the stock market is only opened on business days!\n",
    "# So we dropped NaN values\n",
    "\n",
    "df_merged_gme = df_stock_gme.merge(df_tweet_gme_dailymean, how='right', left_index=True, right_index=True)"
   ]
  },
  {
   "cell_type": "code",
   "execution_count": 140,
   "id": "1b6a3c9b",
   "metadata": {
    "ExecuteTime": {
     "end_time": "2022-01-25T19:18:06.529034Z",
     "start_time": "2022-01-25T19:18:06.512085Z"
    }
   },
   "outputs": [
    {
     "name": "stderr",
     "output_type": "stream",
     "text": [
      "C:\\Users\\Daanish\\AppData\\Local\\Temp/ipykernel_4764/1505532162.py:1: SettingWithCopyWarning: \n",
      "A value is trying to be set on a copy of a slice from a DataFrame.\n",
      "Try using .loc[row_indexer,col_indexer] = value instead\n",
      "\n",
      "See the caveats in the documentation: https://pandas.pydata.org/pandas-docs/stable/user_guide/indexing.html#returning-a-view-versus-a-copy\n",
      "  df_merged_gme['Percent Change Trend'] = df_merged_gme['Percent Change'].apply(lambda x: \"Positive_Trend\" if x>=0 else \"Negative_Trend\")\n",
      "C:\\Users\\Daanish\\AppData\\Local\\Temp/ipykernel_4764/1505532162.py:2: SettingWithCopyWarning: \n",
      "A value is trying to be set on a copy of a slice from a DataFrame.\n",
      "Try using .loc[row_indexer,col_indexer] = value instead\n",
      "\n",
      "See the caveats in the documentation: https://pandas.pydata.org/pandas-docs/stable/user_guide/indexing.html#returning-a-view-versus-a-copy\n",
      "  df_merged_gme['Closing Price Trend'] = df_merged_gme['Closing Differences'].apply(lambda x: \"Positive_Trend\" if x>=0 else \"Negative_Trend\")\n"
     ]
    }
   ],
   "source": [
    "df_merged_gme['Percent Change Trend'] = df_merged_gme['Percent Change'].apply(lambda x: \"Positive_Trend\" if x>=0 else \"Negative_Trend\")\n",
    "df_merged_gme['Closing Price Trend'] = df_merged_gme['Closing Differences'].apply(lambda x: \"Positive_Trend\" if x>=0 else \"Negative_Trend\")"
   ]
  },
  {
   "cell_type": "code",
   "execution_count": 134,
   "id": "80982528",
   "metadata": {
    "ExecuteTime": {
     "end_time": "2022-01-25T19:17:14.744182Z",
     "start_time": "2022-01-25T19:17:14.739223Z"
    }
   },
   "outputs": [],
   "source": [
    "df_merged_gme = df_merged_gme[['Volume', 'Closing Differences', 'Percent Change', 'Tweet Id', 'Followers Count', 'Retweet Count',\n",
    "                 'Likes Count', 'Reply Count', 'Positive Tweet Score', 'Neutral Tweet Score','Negative Tweet Score', 'Compound Tweet Score',\n",
    "                  'Compound Followers', 'Percent Change Trend', 'Closing Price Trend']]"
   ]
  },
  {
   "cell_type": "code",
   "execution_count": 83,
   "id": "aa33f105",
   "metadata": {
    "ExecuteTime": {
     "end_time": "2022-01-25T19:01:08.795168Z",
     "start_time": "2022-01-25T19:01:08.788218Z"
    }
   },
   "outputs": [],
   "source": [
    "# fill NA with mean\n",
    "\n",
    "df_merged_gme['Volume'].fillna(df_merged_gme['Volume'].mean(), inplace=True)\n",
    "df_merged_gme['Closing Differences'].fillna(df_merged_gme['Closing Differences'].mean(), inplace=True)\n",
    "df_merged_gme['Percent Change'].fillna(df_merged_gme['Percent Change'].mean(), inplace=True)"
   ]
  },
  {
   "cell_type": "code",
   "execution_count": 139,
   "id": "aab94891",
   "metadata": {
    "ExecuteTime": {
     "end_time": "2022-01-25T19:17:57.286549Z",
     "start_time": "2022-01-25T19:17:57.263583Z"
    }
   },
   "outputs": [
    {
     "data": {
      "text/html": [
       "<div>\n",
       "<style scoped>\n",
       "    .dataframe tbody tr th:only-of-type {\n",
       "        vertical-align: middle;\n",
       "    }\n",
       "\n",
       "    .dataframe tbody tr th {\n",
       "        vertical-align: top;\n",
       "    }\n",
       "\n",
       "    .dataframe thead th {\n",
       "        text-align: right;\n",
       "    }\n",
       "</style>\n",
       "<table border=\"1\" class=\"dataframe\">\n",
       "  <thead>\n",
       "    <tr style=\"text-align: right;\">\n",
       "      <th></th>\n",
       "      <th>Volume</th>\n",
       "      <th>Closing Differences</th>\n",
       "      <th>Percent Change</th>\n",
       "      <th>Tweet Id</th>\n",
       "      <th>Followers Count</th>\n",
       "      <th>Retweet Count</th>\n",
       "      <th>Likes Count</th>\n",
       "      <th>Reply Count</th>\n",
       "      <th>Positive Tweet Score</th>\n",
       "      <th>Neutral Tweet Score</th>\n",
       "      <th>Negative Tweet Score</th>\n",
       "      <th>Compound Tweet Score</th>\n",
       "      <th>Compound Followers</th>\n",
       "      <th>Percent Change Trend</th>\n",
       "      <th>Closing Price Trend</th>\n",
       "    </tr>\n",
       "    <tr>\n",
       "      <th>Datetime</th>\n",
       "      <th></th>\n",
       "      <th></th>\n",
       "      <th></th>\n",
       "      <th></th>\n",
       "      <th></th>\n",
       "      <th></th>\n",
       "      <th></th>\n",
       "      <th></th>\n",
       "      <th></th>\n",
       "      <th></th>\n",
       "      <th></th>\n",
       "      <th></th>\n",
       "      <th></th>\n",
       "      <th></th>\n",
       "      <th></th>\n",
       "    </tr>\n",
       "  </thead>\n",
       "  <tbody>\n",
       "    <tr>\n",
       "      <th>2021-01-01</th>\n",
       "      <td>1.002250e+07</td>\n",
       "      <td>0.120001</td>\n",
       "      <td>-9.210526</td>\n",
       "      <td>1.344979e+18</td>\n",
       "      <td>62086.130963</td>\n",
       "      <td>0.949696</td>\n",
       "      <td>10.635733</td>\n",
       "      <td>1.125759</td>\n",
       "      <td>0.160056</td>\n",
       "      <td>0.777298</td>\n",
       "      <td>0.062647</td>\n",
       "      <td>0.269853</td>\n",
       "      <td>34364.360617</td>\n",
       "      <td>Negative_Trend</td>\n",
       "      <td>Negative_Trend</td>\n",
       "    </tr>\n",
       "    <tr>\n",
       "      <th>2021-01-02</th>\n",
       "      <td>1.002250e+07</td>\n",
       "      <td>0.120001</td>\n",
       "      <td>-9.210526</td>\n",
       "      <td>1.345359e+18</td>\n",
       "      <td>101770.186290</td>\n",
       "      <td>68.192742</td>\n",
       "      <td>57.750000</td>\n",
       "      <td>3.098387</td>\n",
       "      <td>0.161263</td>\n",
       "      <td>0.786141</td>\n",
       "      <td>0.052595</td>\n",
       "      <td>0.327639</td>\n",
       "      <td>44249.406987</td>\n",
       "      <td>Negative_Trend</td>\n",
       "      <td>Negative_Trend</td>\n",
       "    </tr>\n",
       "    <tr>\n",
       "      <th>2021-01-03</th>\n",
       "      <td>1.002250e+07</td>\n",
       "      <td>0.120001</td>\n",
       "      <td>-9.210526</td>\n",
       "      <td>1.345734e+18</td>\n",
       "      <td>101301.291471</td>\n",
       "      <td>1.685695</td>\n",
       "      <td>25.027535</td>\n",
       "      <td>2.658831</td>\n",
       "      <td>0.156467</td>\n",
       "      <td>0.778779</td>\n",
       "      <td>0.064760</td>\n",
       "      <td>0.273965</td>\n",
       "      <td>25993.188582</td>\n",
       "      <td>Negative_Trend</td>\n",
       "      <td>Negative_Trend</td>\n",
       "    </tr>\n",
       "    <tr>\n",
       "      <th>2021-01-04</th>\n",
       "      <td>1.002250e+07</td>\n",
       "      <td>0.120001</td>\n",
       "      <td>-9.210526</td>\n",
       "      <td>1.346104e+18</td>\n",
       "      <td>93561.129870</td>\n",
       "      <td>1.246163</td>\n",
       "      <td>15.107438</td>\n",
       "      <td>2.065525</td>\n",
       "      <td>0.149979</td>\n",
       "      <td>0.791347</td>\n",
       "      <td>0.058672</td>\n",
       "      <td>0.258476</td>\n",
       "      <td>40531.963996</td>\n",
       "      <td>Negative_Trend</td>\n",
       "      <td>Negative_Trend</td>\n",
       "    </tr>\n",
       "    <tr>\n",
       "      <th>2021-01-05</th>\n",
       "      <td>4.961500e+06</td>\n",
       "      <td>0.120001</td>\n",
       "      <td>0.115276</td>\n",
       "      <td>1.346466e+18</td>\n",
       "      <td>29511.414783</td>\n",
       "      <td>0.873913</td>\n",
       "      <td>9.100870</td>\n",
       "      <td>0.984348</td>\n",
       "      <td>0.162212</td>\n",
       "      <td>0.780561</td>\n",
       "      <td>0.057242</td>\n",
       "      <td>0.313195</td>\n",
       "      <td>8266.200468</td>\n",
       "      <td>Positive_Trend</td>\n",
       "      <td>Positive_Trend</td>\n",
       "    </tr>\n",
       "    <tr>\n",
       "      <th>...</th>\n",
       "      <td>...</td>\n",
       "      <td>...</td>\n",
       "      <td>...</td>\n",
       "      <td>...</td>\n",
       "      <td>...</td>\n",
       "      <td>...</td>\n",
       "      <td>...</td>\n",
       "      <td>...</td>\n",
       "      <td>...</td>\n",
       "      <td>...</td>\n",
       "      <td>...</td>\n",
       "      <td>...</td>\n",
       "      <td>...</td>\n",
       "      <td>...</td>\n",
       "      <td>...</td>\n",
       "    </tr>\n",
       "    <tr>\n",
       "      <th>2021-06-26</th>\n",
       "      <td>1.008827e+07</td>\n",
       "      <td>-0.620000</td>\n",
       "      <td>-1.083174</td>\n",
       "      <td>1.408885e+18</td>\n",
       "      <td>243348.953474</td>\n",
       "      <td>4.097281</td>\n",
       "      <td>45.287009</td>\n",
       "      <td>3.056193</td>\n",
       "      <td>0.162093</td>\n",
       "      <td>0.765185</td>\n",
       "      <td>0.072709</td>\n",
       "      <td>0.295099</td>\n",
       "      <td>143663.299006</td>\n",
       "      <td>Negative_Trend</td>\n",
       "      <td>Negative_Trend</td>\n",
       "    </tr>\n",
       "    <tr>\n",
       "      <th>2021-06-27</th>\n",
       "      <td>7.483833e+06</td>\n",
       "      <td>1.560003</td>\n",
       "      <td>-0.068214</td>\n",
       "      <td>1.409257e+18</td>\n",
       "      <td>233403.859638</td>\n",
       "      <td>28.293200</td>\n",
       "      <td>299.946974</td>\n",
       "      <td>7.606363</td>\n",
       "      <td>0.152480</td>\n",
       "      <td>0.776387</td>\n",
       "      <td>0.071153</td>\n",
       "      <td>0.225888</td>\n",
       "      <td>73539.994403</td>\n",
       "      <td>Negative_Trend</td>\n",
       "      <td>Negative_Trend</td>\n",
       "    </tr>\n",
       "    <tr>\n",
       "      <th>2021-06-28</th>\n",
       "      <td>4.879400e+06</td>\n",
       "      <td>3.740005</td>\n",
       "      <td>0.946746</td>\n",
       "      <td>1.409620e+18</td>\n",
       "      <td>405717.609408</td>\n",
       "      <td>2.689218</td>\n",
       "      <td>23.022199</td>\n",
       "      <td>1.616808</td>\n",
       "      <td>0.177967</td>\n",
       "      <td>0.752597</td>\n",
       "      <td>0.069434</td>\n",
       "      <td>0.320421</td>\n",
       "      <td>193374.560155</td>\n",
       "      <td>Positive_Trend</td>\n",
       "      <td>Positive_Trend</td>\n",
       "    </tr>\n",
       "    <tr>\n",
       "      <th>2021-06-29</th>\n",
       "      <td>2.480000e+06</td>\n",
       "      <td>-2.369995</td>\n",
       "      <td>-1.268782</td>\n",
       "      <td>1.409985e+18</td>\n",
       "      <td>267410.108974</td>\n",
       "      <td>1.845513</td>\n",
       "      <td>19.755769</td>\n",
       "      <td>1.815385</td>\n",
       "      <td>0.180515</td>\n",
       "      <td>0.756756</td>\n",
       "      <td>0.062731</td>\n",
       "      <td>0.309301</td>\n",
       "      <td>160100.785055</td>\n",
       "      <td>Negative_Trend</td>\n",
       "      <td>Negative_Trend</td>\n",
       "    </tr>\n",
       "    <tr>\n",
       "      <th>2021-06-30</th>\n",
       "      <td>2.480000e+06</td>\n",
       "      <td>-2.369995</td>\n",
       "      <td>-1.268782</td>\n",
       "      <td>1.410350e+18</td>\n",
       "      <td>140600.300000</td>\n",
       "      <td>4.328571</td>\n",
       "      <td>57.445833</td>\n",
       "      <td>2.525000</td>\n",
       "      <td>0.165699</td>\n",
       "      <td>0.768208</td>\n",
       "      <td>0.066091</td>\n",
       "      <td>0.294115</td>\n",
       "      <td>17035.705541</td>\n",
       "      <td>Negative_Trend</td>\n",
       "      <td>Negative_Trend</td>\n",
       "    </tr>\n",
       "  </tbody>\n",
       "</table>\n",
       "<p>181 rows × 15 columns</p>\n",
       "</div>"
      ],
      "text/plain": [
       "                  Volume  Closing Differences  Percent Change      Tweet Id  \\\n",
       "Datetime                                                                      \n",
       "2021-01-01  1.002250e+07             0.120001       -9.210526  1.344979e+18   \n",
       "2021-01-02  1.002250e+07             0.120001       -9.210526  1.345359e+18   \n",
       "2021-01-03  1.002250e+07             0.120001       -9.210526  1.345734e+18   \n",
       "2021-01-04  1.002250e+07             0.120001       -9.210526  1.346104e+18   \n",
       "2021-01-05  4.961500e+06             0.120001        0.115276  1.346466e+18   \n",
       "...                  ...                  ...             ...           ...   \n",
       "2021-06-26  1.008827e+07            -0.620000       -1.083174  1.408885e+18   \n",
       "2021-06-27  7.483833e+06             1.560003       -0.068214  1.409257e+18   \n",
       "2021-06-28  4.879400e+06             3.740005        0.946746  1.409620e+18   \n",
       "2021-06-29  2.480000e+06            -2.369995       -1.268782  1.409985e+18   \n",
       "2021-06-30  2.480000e+06            -2.369995       -1.268782  1.410350e+18   \n",
       "\n",
       "            Followers Count  Retweet Count  Likes Count  Reply Count  \\\n",
       "Datetime                                                               \n",
       "2021-01-01     62086.130963       0.949696    10.635733     1.125759   \n",
       "2021-01-02    101770.186290      68.192742    57.750000     3.098387   \n",
       "2021-01-03    101301.291471       1.685695    25.027535     2.658831   \n",
       "2021-01-04     93561.129870       1.246163    15.107438     2.065525   \n",
       "2021-01-05     29511.414783       0.873913     9.100870     0.984348   \n",
       "...                     ...            ...          ...          ...   \n",
       "2021-06-26    243348.953474       4.097281    45.287009     3.056193   \n",
       "2021-06-27    233403.859638      28.293200   299.946974     7.606363   \n",
       "2021-06-28    405717.609408       2.689218    23.022199     1.616808   \n",
       "2021-06-29    267410.108974       1.845513    19.755769     1.815385   \n",
       "2021-06-30    140600.300000       4.328571    57.445833     2.525000   \n",
       "\n",
       "            Positive Tweet Score  Neutral Tweet Score  Negative Tweet Score  \\\n",
       "Datetime                                                                      \n",
       "2021-01-01              0.160056             0.777298              0.062647   \n",
       "2021-01-02              0.161263             0.786141              0.052595   \n",
       "2021-01-03              0.156467             0.778779              0.064760   \n",
       "2021-01-04              0.149979             0.791347              0.058672   \n",
       "2021-01-05              0.162212             0.780561              0.057242   \n",
       "...                          ...                  ...                   ...   \n",
       "2021-06-26              0.162093             0.765185              0.072709   \n",
       "2021-06-27              0.152480             0.776387              0.071153   \n",
       "2021-06-28              0.177967             0.752597              0.069434   \n",
       "2021-06-29              0.180515             0.756756              0.062731   \n",
       "2021-06-30              0.165699             0.768208              0.066091   \n",
       "\n",
       "            Compound Tweet Score  Compound Followers Percent Change Trend  \\\n",
       "Datetime                                                                    \n",
       "2021-01-01              0.269853        34364.360617       Negative_Trend   \n",
       "2021-01-02              0.327639        44249.406987       Negative_Trend   \n",
       "2021-01-03              0.273965        25993.188582       Negative_Trend   \n",
       "2021-01-04              0.258476        40531.963996       Negative_Trend   \n",
       "2021-01-05              0.313195         8266.200468       Positive_Trend   \n",
       "...                          ...                 ...                  ...   \n",
       "2021-06-26              0.295099       143663.299006       Negative_Trend   \n",
       "2021-06-27              0.225888        73539.994403       Negative_Trend   \n",
       "2021-06-28              0.320421       193374.560155       Positive_Trend   \n",
       "2021-06-29              0.309301       160100.785055       Negative_Trend   \n",
       "2021-06-30              0.294115        17035.705541       Negative_Trend   \n",
       "\n",
       "           Closing Price Trend  \n",
       "Datetime                        \n",
       "2021-01-01      Negative_Trend  \n",
       "2021-01-02      Negative_Trend  \n",
       "2021-01-03      Negative_Trend  \n",
       "2021-01-04      Negative_Trend  \n",
       "2021-01-05      Positive_Trend  \n",
       "...                        ...  \n",
       "2021-06-26      Negative_Trend  \n",
       "2021-06-27      Negative_Trend  \n",
       "2021-06-28      Positive_Trend  \n",
       "2021-06-29      Negative_Trend  \n",
       "2021-06-30      Negative_Trend  \n",
       "\n",
       "[181 rows x 15 columns]"
      ]
     },
     "execution_count": 139,
     "metadata": {},
     "output_type": "execute_result"
    }
   ],
   "source": [
    "df_merged_gme"
   ]
  },
  {
   "cell_type": "code",
   "execution_count": 138,
   "id": "d641dd53",
   "metadata": {
    "ExecuteTime": {
     "end_time": "2022-01-25T19:17:48.616044Z",
     "start_time": "2022-01-25T19:17:48.600055Z"
    }
   },
   "outputs": [
    {
     "name": "stderr",
     "output_type": "stream",
     "text": [
      "C:\\Users\\Daanish\\anaconda3\\envs\\capstone_environment\\lib\\site-packages\\pandas\\core\\frame.py:3641: SettingWithCopyWarning: \n",
      "A value is trying to be set on a copy of a slice from a DataFrame.\n",
      "Try using .loc[row_indexer,col_indexer] = value instead\n",
      "\n",
      "See the caveats in the documentation: https://pandas.pydata.org/pandas-docs/stable/user_guide/indexing.html#returning-a-view-versus-a-copy\n",
      "  self[k1] = value[k2]\n"
     ]
    }
   ],
   "source": [
    "# Interpolate NaN values (weekend values)\n",
    "df_merged_gme[['Volume', 'Closing Differences', 'Percent Change']] = df_merged_gme[['Volume',\n",
    "                                                                                    'Closing Differences',\n",
    "                                                                                    'Percent Change']].interpolate(method='linear',\n",
    "                                                                                                                   limit_direction='both',\n",
    "                                                                                                                   axis=0)"
   ]
  },
  {
   "cell_type": "code",
   "execution_count": 141,
   "id": "c5557a87",
   "metadata": {
    "ExecuteTime": {
     "end_time": "2022-01-25T19:18:13.822112Z",
     "start_time": "2022-01-25T19:18:13.816129Z"
    }
   },
   "outputs": [
    {
     "data": {
      "text/plain": [
       "Closing Price Trend\n",
       "Positive_Trend    95\n",
       "Negative_Trend    86\n",
       "dtype: int64"
      ]
     },
     "execution_count": 141,
     "metadata": {},
     "output_type": "execute_result"
    }
   ],
   "source": [
    "df_merged_gme.value_counts('Closing Price Trend')"
   ]
  },
  {
   "cell_type": "code",
   "execution_count": 142,
   "id": "25a97805",
   "metadata": {
    "ExecuteTime": {
     "end_time": "2022-01-25T19:18:15.406336Z",
     "start_time": "2022-01-25T19:18:15.386389Z"
    }
   },
   "outputs": [
    {
     "data": {
      "text/plain": [
       "Percent Change Trend\n",
       "Negative_Trend    106\n",
       "Positive_Trend     75\n",
       "dtype: int64"
      ]
     },
     "execution_count": 142,
     "metadata": {},
     "output_type": "execute_result"
    }
   ],
   "source": [
    "# print(df_merged_gme.value_counts('Polarity Categories'))\n",
    "df_merged_gme.value_counts('Percent Change Trend')"
   ]
  },
  {
   "cell_type": "code",
   "execution_count": 109,
   "id": "422bb519",
   "metadata": {
    "ExecuteTime": {
     "end_time": "2022-01-25T17:07:28.249171Z",
     "start_time": "2022-01-25T17:07:28.242190Z"
    }
   },
   "outputs": [],
   "source": [
    "heatmap, xedges, yedges = np.histogram2d(df_merged_gme['Positive Tweet Score'], df_merged_gme['Negative Tweet Score'], bins=50)\n",
    "extent = [xedges[0], xedges[-1], yedges[0], yedges[-1]]"
   ]
  },
  {
   "cell_type": "code",
   "execution_count": 121,
   "id": "c1dc4e9d",
   "metadata": {
    "ExecuteTime": {
     "end_time": "2022-01-25T19:14:45.296649Z",
     "start_time": "2022-01-25T19:14:45.169037Z"
    }
   },
   "outputs": [
    {
     "data": {
      "image/png": "[encoded data removed]",
      "text/plain": [
       "<Figure size 432x288 with 1 Axes>"
      ]
     },
     "metadata": {},
     "output_type": "display_data"
    }
   ],
   "source": [
    "plt.scatter(df_merged_gme['Compound Tweet Score'], df_merged_gme['Compound Followers'])\n",
    "plt.title('scores')\n",
    "plt.xlabel('Compound Tweet Score')\n",
    "plt.ylabel('Compound Followers')\n",
    "plt.show();"
   ]
  },
  {
   "cell_type": "code",
   "execution_count": 122,
   "id": "0d173653",
   "metadata": {
    "ExecuteTime": {
     "end_time": "2022-01-25T19:15:26.585860Z",
     "start_time": "2022-01-25T19:15:26.563930Z"
    }
   },
   "outputs": [
    {
     "data": {
      "text/html": [
       "<div>\n",
       "<style scoped>\n",
       "    .dataframe tbody tr th:only-of-type {\n",
       "        vertical-align: middle;\n",
       "    }\n",
       "\n",
       "    .dataframe tbody tr th {\n",
       "        vertical-align: top;\n",
       "    }\n",
       "\n",
       "    .dataframe thead th {\n",
       "        text-align: right;\n",
       "    }\n",
       "</style>\n",
       "<table border=\"1\" class=\"dataframe\">\n",
       "  <thead>\n",
       "    <tr style=\"text-align: right;\">\n",
       "      <th></th>\n",
       "      <th>Volume</th>\n",
       "      <th>Closing Differences</th>\n",
       "      <th>Percent Change</th>\n",
       "      <th>Tweet Id</th>\n",
       "      <th>Followers Count</th>\n",
       "      <th>Retweet Count</th>\n",
       "      <th>Likes Count</th>\n",
       "      <th>Reply Count</th>\n",
       "      <th>Positive Tweet Score</th>\n",
       "      <th>Negative Tweet Score</th>\n",
       "      <th>Compound Tweet Score</th>\n",
       "      <th>Compound Followers</th>\n",
       "      <th>Percent Change Trend</th>\n",
       "      <th>Closing Price Trend</th>\n",
       "    </tr>\n",
       "    <tr>\n",
       "      <th>Datetime</th>\n",
       "      <th></th>\n",
       "      <th></th>\n",
       "      <th></th>\n",
       "      <th></th>\n",
       "      <th></th>\n",
       "      <th></th>\n",
       "      <th></th>\n",
       "      <th></th>\n",
       "      <th></th>\n",
       "      <th></th>\n",
       "      <th></th>\n",
       "      <th></th>\n",
       "      <th></th>\n",
       "      <th></th>\n",
       "    </tr>\n",
       "  </thead>\n",
       "  <tbody>\n",
       "    <tr>\n",
       "      <th>2021-01-01</th>\n",
       "      <td>1.002250e+07</td>\n",
       "      <td>0.120001</td>\n",
       "      <td>-9.210526</td>\n",
       "      <td>1.344979e+18</td>\n",
       "      <td>62086.130963</td>\n",
       "      <td>0.949696</td>\n",
       "      <td>10.635733</td>\n",
       "      <td>1.125759</td>\n",
       "      <td>0.160056</td>\n",
       "      <td>0.062647</td>\n",
       "      <td>0.269853</td>\n",
       "      <td>34364.360617</td>\n",
       "      <td>Negative_Trend</td>\n",
       "      <td>Positive_Trend</td>\n",
       "    </tr>\n",
       "    <tr>\n",
       "      <th>2021-01-02</th>\n",
       "      <td>1.002250e+07</td>\n",
       "      <td>0.120001</td>\n",
       "      <td>-9.210526</td>\n",
       "      <td>1.345359e+18</td>\n",
       "      <td>101770.186290</td>\n",
       "      <td>68.192742</td>\n",
       "      <td>57.750000</td>\n",
       "      <td>3.098387</td>\n",
       "      <td>0.161263</td>\n",
       "      <td>0.052595</td>\n",
       "      <td>0.327639</td>\n",
       "      <td>44249.406987</td>\n",
       "      <td>Negative_Trend</td>\n",
       "      <td>Positive_Trend</td>\n",
       "    </tr>\n",
       "    <tr>\n",
       "      <th>2021-01-03</th>\n",
       "      <td>1.002250e+07</td>\n",
       "      <td>0.120001</td>\n",
       "      <td>-9.210526</td>\n",
       "      <td>1.345734e+18</td>\n",
       "      <td>101301.291471</td>\n",
       "      <td>1.685695</td>\n",
       "      <td>25.027535</td>\n",
       "      <td>2.658831</td>\n",
       "      <td>0.156467</td>\n",
       "      <td>0.064760</td>\n",
       "      <td>0.273965</td>\n",
       "      <td>25993.188582</td>\n",
       "      <td>Negative_Trend</td>\n",
       "      <td>Positive_Trend</td>\n",
       "    </tr>\n",
       "    <tr>\n",
       "      <th>2021-01-04</th>\n",
       "      <td>1.002250e+07</td>\n",
       "      <td>0.120001</td>\n",
       "      <td>-9.210526</td>\n",
       "      <td>1.346104e+18</td>\n",
       "      <td>93561.129870</td>\n",
       "      <td>1.246163</td>\n",
       "      <td>15.107438</td>\n",
       "      <td>2.065525</td>\n",
       "      <td>0.149979</td>\n",
       "      <td>0.058672</td>\n",
       "      <td>0.258476</td>\n",
       "      <td>40531.963996</td>\n",
       "      <td>Negative_Trend</td>\n",
       "      <td>Positive_Trend</td>\n",
       "    </tr>\n",
       "    <tr>\n",
       "      <th>2021-01-05</th>\n",
       "      <td>4.961500e+06</td>\n",
       "      <td>0.120001</td>\n",
       "      <td>0.115276</td>\n",
       "      <td>1.346466e+18</td>\n",
       "      <td>29511.414783</td>\n",
       "      <td>0.873913</td>\n",
       "      <td>9.100870</td>\n",
       "      <td>0.984348</td>\n",
       "      <td>0.162212</td>\n",
       "      <td>0.057242</td>\n",
       "      <td>0.313195</td>\n",
       "      <td>8266.200468</td>\n",
       "      <td>Positive_Trend</td>\n",
       "      <td>Positive_Trend</td>\n",
       "    </tr>\n",
       "    <tr>\n",
       "      <th>...</th>\n",
       "      <td>...</td>\n",
       "      <td>...</td>\n",
       "      <td>...</td>\n",
       "      <td>...</td>\n",
       "      <td>...</td>\n",
       "      <td>...</td>\n",
       "      <td>...</td>\n",
       "      <td>...</td>\n",
       "      <td>...</td>\n",
       "      <td>...</td>\n",
       "      <td>...</td>\n",
       "      <td>...</td>\n",
       "      <td>...</td>\n",
       "      <td>...</td>\n",
       "    </tr>\n",
       "    <tr>\n",
       "      <th>2021-06-26</th>\n",
       "      <td>1.008827e+07</td>\n",
       "      <td>-0.620000</td>\n",
       "      <td>-1.083174</td>\n",
       "      <td>1.408885e+18</td>\n",
       "      <td>243348.953474</td>\n",
       "      <td>4.097281</td>\n",
       "      <td>45.287009</td>\n",
       "      <td>3.056193</td>\n",
       "      <td>0.162093</td>\n",
       "      <td>0.072709</td>\n",
       "      <td>0.295099</td>\n",
       "      <td>143663.299006</td>\n",
       "      <td>Negative_Trend</td>\n",
       "      <td>Negative_Trend</td>\n",
       "    </tr>\n",
       "    <tr>\n",
       "      <th>2021-06-27</th>\n",
       "      <td>7.483833e+06</td>\n",
       "      <td>1.560003</td>\n",
       "      <td>-0.068214</td>\n",
       "      <td>1.409257e+18</td>\n",
       "      <td>233403.859638</td>\n",
       "      <td>28.293200</td>\n",
       "      <td>299.946974</td>\n",
       "      <td>7.606363</td>\n",
       "      <td>0.152480</td>\n",
       "      <td>0.071153</td>\n",
       "      <td>0.225888</td>\n",
       "      <td>73539.994403</td>\n",
       "      <td>Negative_Trend</td>\n",
       "      <td>Positive_Trend</td>\n",
       "    </tr>\n",
       "    <tr>\n",
       "      <th>2021-06-28</th>\n",
       "      <td>4.879400e+06</td>\n",
       "      <td>3.740005</td>\n",
       "      <td>0.946746</td>\n",
       "      <td>1.409620e+18</td>\n",
       "      <td>405717.609408</td>\n",
       "      <td>2.689218</td>\n",
       "      <td>23.022199</td>\n",
       "      <td>1.616808</td>\n",
       "      <td>0.177967</td>\n",
       "      <td>0.069434</td>\n",
       "      <td>0.320421</td>\n",
       "      <td>193374.560155</td>\n",
       "      <td>Positive_Trend</td>\n",
       "      <td>Positive_Trend</td>\n",
       "    </tr>\n",
       "    <tr>\n",
       "      <th>2021-06-29</th>\n",
       "      <td>2.480000e+06</td>\n",
       "      <td>-2.369995</td>\n",
       "      <td>-1.268782</td>\n",
       "      <td>1.409985e+18</td>\n",
       "      <td>267410.108974</td>\n",
       "      <td>1.845513</td>\n",
       "      <td>19.755769</td>\n",
       "      <td>1.815385</td>\n",
       "      <td>0.180515</td>\n",
       "      <td>0.062731</td>\n",
       "      <td>0.309301</td>\n",
       "      <td>160100.785055</td>\n",
       "      <td>Negative_Trend</td>\n",
       "      <td>Negative_Trend</td>\n",
       "    </tr>\n",
       "    <tr>\n",
       "      <th>2021-06-30</th>\n",
       "      <td>2.480000e+06</td>\n",
       "      <td>-2.369995</td>\n",
       "      <td>-1.268782</td>\n",
       "      <td>1.410350e+18</td>\n",
       "      <td>140600.300000</td>\n",
       "      <td>4.328571</td>\n",
       "      <td>57.445833</td>\n",
       "      <td>2.525000</td>\n",
       "      <td>0.165699</td>\n",
       "      <td>0.066091</td>\n",
       "      <td>0.294115</td>\n",
       "      <td>17035.705541</td>\n",
       "      <td>Negative_Trend</td>\n",
       "      <td>Negative_Trend</td>\n",
       "    </tr>\n",
       "  </tbody>\n",
       "</table>\n",
       "<p>181 rows × 14 columns</p>\n",
       "</div>"
      ],
      "text/plain": [
       "                  Volume  Closing Differences  Percent Change      Tweet Id  \\\n",
       "Datetime                                                                      \n",
       "2021-01-01  1.002250e+07             0.120001       -9.210526  1.344979e+18   \n",
       "2021-01-02  1.002250e+07             0.120001       -9.210526  1.345359e+18   \n",
       "2021-01-03  1.002250e+07             0.120001       -9.210526  1.345734e+18   \n",
       "2021-01-04  1.002250e+07             0.120001       -9.210526  1.346104e+18   \n",
       "2021-01-05  4.961500e+06             0.120001        0.115276  1.346466e+18   \n",
       "...                  ...                  ...             ...           ...   \n",
       "2021-06-26  1.008827e+07            -0.620000       -1.083174  1.408885e+18   \n",
       "2021-06-27  7.483833e+06             1.560003       -0.068214  1.409257e+18   \n",
       "2021-06-28  4.879400e+06             3.740005        0.946746  1.409620e+18   \n",
       "2021-06-29  2.480000e+06            -2.369995       -1.268782  1.409985e+18   \n",
       "2021-06-30  2.480000e+06            -2.369995       -1.268782  1.410350e+18   \n",
       "\n",
       "            Followers Count  Retweet Count  Likes Count  Reply Count  \\\n",
       "Datetime                                                               \n",
       "2021-01-01     62086.130963       0.949696    10.635733     1.125759   \n",
       "2021-01-02    101770.186290      68.192742    57.750000     3.098387   \n",
       "2021-01-03    101301.291471       1.685695    25.027535     2.658831   \n",
       "2021-01-04     93561.129870       1.246163    15.107438     2.065525   \n",
       "2021-01-05     29511.414783       0.873913     9.100870     0.984348   \n",
       "...                     ...            ...          ...          ...   \n",
       "2021-06-26    243348.953474       4.097281    45.287009     3.056193   \n",
       "2021-06-27    233403.859638      28.293200   299.946974     7.606363   \n",
       "2021-06-28    405717.609408       2.689218    23.022199     1.616808   \n",
       "2021-06-29    267410.108974       1.845513    19.755769     1.815385   \n",
       "2021-06-30    140600.300000       4.328571    57.445833     2.525000   \n",
       "\n",
       "            Positive Tweet Score  Negative Tweet Score  Compound Tweet Score  \\\n",
       "Datetime                                                                       \n",
       "2021-01-01              0.160056              0.062647              0.269853   \n",
       "2021-01-02              0.161263              0.052595              0.327639   \n",
       "2021-01-03              0.156467              0.064760              0.273965   \n",
       "2021-01-04              0.149979              0.058672              0.258476   \n",
       "2021-01-05              0.162212              0.057242              0.313195   \n",
       "...                          ...                   ...                   ...   \n",
       "2021-06-26              0.162093              0.072709              0.295099   \n",
       "2021-06-27              0.152480              0.071153              0.225888   \n",
       "2021-06-28              0.177967              0.069434              0.320421   \n",
       "2021-06-29              0.180515              0.062731              0.309301   \n",
       "2021-06-30              0.165699              0.066091              0.294115   \n",
       "\n",
       "            Compound Followers Percent Change Trend Closing Price Trend  \n",
       "Datetime                                                                 \n",
       "2021-01-01        34364.360617       Negative_Trend      Positive_Trend  \n",
       "2021-01-02        44249.406987       Negative_Trend      Positive_Trend  \n",
       "2021-01-03        25993.188582       Negative_Trend      Positive_Trend  \n",
       "2021-01-04        40531.963996       Negative_Trend      Positive_Trend  \n",
       "2021-01-05         8266.200468       Positive_Trend      Positive_Trend  \n",
       "...                        ...                  ...                 ...  \n",
       "2021-06-26       143663.299006       Negative_Trend      Negative_Trend  \n",
       "2021-06-27        73539.994403       Negative_Trend      Positive_Trend  \n",
       "2021-06-28       193374.560155       Positive_Trend      Positive_Trend  \n",
       "2021-06-29       160100.785055       Negative_Trend      Negative_Trend  \n",
       "2021-06-30        17035.705541       Negative_Trend      Negative_Trend  \n",
       "\n",
       "[181 rows x 14 columns]"
      ]
     },
     "execution_count": 122,
     "metadata": {},
     "output_type": "execute_result"
    }
   ],
   "source": [
    "df_merged_gme"
   ]
  },
  {
   "cell_type": "code",
   "execution_count": 55,
   "id": "44eb0ea3",
   "metadata": {
    "ExecuteTime": {
     "end_time": "2022-01-25T03:16:11.918340Z",
     "start_time": "2022-01-25T03:16:11.898395Z"
    }
   },
   "outputs": [],
   "source": [
    "from collections import Counter\n",
    "\n",
    "def conditional_entropy(x,y):\n",
    "    # entropy of x given y\n",
    "    y_counter = Counter(y)\n",
    "    xy_counter = Counter(list(zip(x,y)))\n",
    "    total_occurrences = sum(y_counter.values())\n",
    "    entropy = 0\n",
    "    for xy in xy_counter.keys():\n",
    "        p_xy = xy_counter[xy] / total_occurrences\n",
    "        p_y = y_counter[xy[1]] / total_occurrences\n",
    "        entropy += p_xy * math.log(p_y/p_xy)\n",
    "    return entropy\n",
    "\n",
    "def theil_u(x,y):\n",
    "    s_xy = conditional_entropy(x,y)\n",
    "    x_counter = Counter(x)\n",
    "    total_occurrences = sum(x_counter.values())\n",
    "    p_x = list(map(lambda n: n/total_occurrences, x_counter.values()))\n",
    "    s_x = ss.entropy(p_x)\n",
    "    if s_x == 0:\n",
    "        return 1\n",
    "    else:\n",
    "        return (s_x - s_xy) / s_x"
   ]
  },
  {
   "cell_type": "markdown",
   "id": "beb45523",
   "metadata": {
    "heading_collapsed": true
   },
   "source": [
    "## AAPL"
   ]
  },
  {
   "cell_type": "markdown",
   "id": "b1cb83d1",
   "metadata": {},
   "source": [
    "# Dealing with Imbalances"
   ]
  },
  {
   "cell_type": "code",
   "execution_count": 34,
   "id": "2e8cbaa7",
   "metadata": {
    "ExecuteTime": {
     "end_time": "2022-01-23T19:24:11.705101Z",
     "start_time": "2022-01-23T19:24:11.541024Z"
    }
   },
   "outputs": [],
   "source": [
    "from imblearn.over_sampling import SMOTE"
   ]
  },
  {
   "cell_type": "code",
   "execution_count": 35,
   "id": "83c46f26",
   "metadata": {},
   "outputs": [],
   "source": [
    "sampler = SMOTE(random_state=42)"
   ]
  },
  {
   "cell_type": "markdown",
   "id": "1cdf55bc",
   "metadata": {},
   "source": [
    "# Modeling"
   ]
  },
  {
   "cell_type": "markdown",
   "id": "224546fc",
   "metadata": {},
   "source": [
    "## GME"
   ]
  },
  {
   "cell_type": "markdown",
   "id": "33a9bc5f",
   "metadata": {},
   "source": [
    "#### Train/Test Split"
   ]
  },
  {
   "cell_type": "code",
   "execution_count": 277,
   "id": "ea3b2110",
   "metadata": {
    "ExecuteTime": {
     "end_time": "2022-01-25T20:51:56.689705Z",
     "start_time": "2022-01-25T20:51:56.681729Z"
    }
   },
   "outputs": [],
   "source": [
    "X = df_merged_gme.loc[:'2021-4-6']\n",
    "y = df_merged_gme['Percent Change Trend'].loc[:'2021-4-6']"
   ]
  },
  {
   "cell_type": "code",
   "execution_count": 258,
   "id": "19d6528a",
   "metadata": {
    "ExecuteTime": {
     "end_time": "2022-01-25T20:24:20.889383Z",
     "start_time": "2022-01-25T20:24:20.874237Z"
    }
   },
   "outputs": [
    {
     "name": "stderr",
     "output_type": "stream",
     "text": [
      "C:\\Users\\Daanish\\AppData\\Local\\Temp/ipykernel_4764/3046459647.py:1: SettingWithCopyWarning: \n",
      "A value is trying to be set on a copy of a slice from a DataFrame.\n",
      "Try using .loc[row_indexer,col_indexer] = value instead\n",
      "\n",
      "See the caveats in the documentation: https://pandas.pydata.org/pandas-docs/stable/user_guide/indexing.html#returning-a-view-versus-a-copy\n",
      "  X['PCT Label'] = X['Percent Change Trend'].shift(-6)\n",
      "C:\\Users\\Daanish\\AppData\\Local\\Temp/ipykernel_4764/3046459647.py:2: SettingWithCopyWarning: \n",
      "A value is trying to be set on a copy of a slice from a DataFrame.\n",
      "Try using .loc[row_indexer,col_indexer] = value instead\n",
      "\n",
      "See the caveats in the documentation: https://pandas.pydata.org/pandas-docs/stable/user_guide/indexing.html#returning-a-view-versus-a-copy\n",
      "  X['CPT Label'] = X['Closing Price Trend'].shift(-6)\n"
     ]
    }
   ],
   "source": [
    "X['PCT Label'] = X['Percent Change Trend'].shift(-6)\n",
    "X['CPT Label'] = X['Closing Price Trend'].shift(-6)"
   ]
  },
  {
   "cell_type": "code",
   "execution_count": 250,
   "id": "def6c292",
   "metadata": {
    "ExecuteTime": {
     "end_time": "2022-01-25T20:24:00.720320Z",
     "start_time": "2022-01-25T20:24:00.713339Z"
    }
   },
   "outputs": [
    {
     "name": "stderr",
     "output_type": "stream",
     "text": [
      "C:\\Users\\Daanish\\AppData\\Local\\Temp/ipykernel_4764/1319375174.py:1: SettingWithCopyWarning: \n",
      "A value is trying to be set on a copy of a slice from a DataFrame.\n",
      "Try using .loc[row_indexer,col_indexer] = value instead\n",
      "\n",
      "See the caveats in the documentation: https://pandas.pydata.org/pandas-docs/stable/user_guide/indexing.html#returning-a-view-versus-a-copy\n",
      "  X['PCT Label'] = X['Percent Change Trend'].shift(-5)\n",
      "C:\\Users\\Daanish\\AppData\\Local\\Temp/ipykernel_4764/1319375174.py:2: SettingWithCopyWarning: \n",
      "A value is trying to be set on a copy of a slice from a DataFrame.\n",
      "Try using .loc[row_indexer,col_indexer] = value instead\n",
      "\n",
      "See the caveats in the documentation: https://pandas.pydata.org/pandas-docs/stable/user_guide/indexing.html#returning-a-view-versus-a-copy\n",
      "  X['CPT Label'] = X['Closing Price Trend'].shift(-5)\n"
     ]
    }
   ],
   "source": [
    "X['PCT Label'] = X['Percent Change Trend'].shift(-5)\n",
    "X['CPT Label'] = X['Closing Price Trend'].shift(-5)"
   ]
  },
  {
   "cell_type": "code",
   "execution_count": 243,
   "id": "6ae68609",
   "metadata": {
    "ExecuteTime": {
     "end_time": "2022-01-25T20:23:26.564154Z",
     "start_time": "2022-01-25T20:23:26.559168Z"
    },
    "scrolled": false
   },
   "outputs": [
    {
     "name": "stderr",
     "output_type": "stream",
     "text": [
      "C:\\Users\\Daanish\\AppData\\Local\\Temp/ipykernel_4764/91027942.py:1: SettingWithCopyWarning: \n",
      "A value is trying to be set on a copy of a slice from a DataFrame.\n",
      "Try using .loc[row_indexer,col_indexer] = value instead\n",
      "\n",
      "See the caveats in the documentation: https://pandas.pydata.org/pandas-docs/stable/user_guide/indexing.html#returning-a-view-versus-a-copy\n",
      "  X['PCT Label'] = X['Percent Change Trend'].shift(-4)\n",
      "C:\\Users\\Daanish\\AppData\\Local\\Temp/ipykernel_4764/91027942.py:2: SettingWithCopyWarning: \n",
      "A value is trying to be set on a copy of a slice from a DataFrame.\n",
      "Try using .loc[row_indexer,col_indexer] = value instead\n",
      "\n",
      "See the caveats in the documentation: https://pandas.pydata.org/pandas-docs/stable/user_guide/indexing.html#returning-a-view-versus-a-copy\n",
      "  X['CPT Label'] = X['Closing Price Trend'].shift(-4)\n"
     ]
    }
   ],
   "source": [
    "X['PCT Label'] = X['Percent Change Trend'].shift(-4)\n",
    "X['CPT Label'] = X['Closing Price Trend'].shift(-4)"
   ]
  },
  {
   "cell_type": "code",
   "execution_count": 278,
   "id": "2223d591",
   "metadata": {
    "ExecuteTime": {
     "end_time": "2022-01-25T20:52:01.403589Z",
     "start_time": "2022-01-25T20:52:01.388627Z"
    }
   },
   "outputs": [
    {
     "name": "stderr",
     "output_type": "stream",
     "text": [
      "C:\\Users\\Daanish\\AppData\\Local\\Temp/ipykernel_4764/797088856.py:1: SettingWithCopyWarning: \n",
      "A value is trying to be set on a copy of a slice from a DataFrame.\n",
      "Try using .loc[row_indexer,col_indexer] = value instead\n",
      "\n",
      "See the caveats in the documentation: https://pandas.pydata.org/pandas-docs/stable/user_guide/indexing.html#returning-a-view-versus-a-copy\n",
      "  X['PCT Label'] = X['Percent Change Trend'].shift(-3)\n",
      "C:\\Users\\Daanish\\AppData\\Local\\Temp/ipykernel_4764/797088856.py:2: SettingWithCopyWarning: \n",
      "A value is trying to be set on a copy of a slice from a DataFrame.\n",
      "Try using .loc[row_indexer,col_indexer] = value instead\n",
      "\n",
      "See the caveats in the documentation: https://pandas.pydata.org/pandas-docs/stable/user_guide/indexing.html#returning-a-view-versus-a-copy\n",
      "  X['CPT Label'] = X['Closing Price Trend'].shift(-3)\n"
     ]
    }
   ],
   "source": [
    "X['PCT Label'] = X['Percent Change Trend'].shift(-3)\n",
    "X['CPT Label'] = X['Closing Price Trend'].shift(-3)"
   ]
  },
  {
   "cell_type": "code",
   "execution_count": 227,
   "id": "b18317d1",
   "metadata": {
    "ExecuteTime": {
     "end_time": "2022-01-25T20:20:47.942341Z",
     "start_time": "2022-01-25T20:20:47.924389Z"
    },
    "collapsed": true
   },
   "outputs": [
    {
     "name": "stderr",
     "output_type": "stream",
     "text": [
      "C:\\Users\\Daanish\\AppData\\Local\\Temp/ipykernel_4764/70159314.py:1: SettingWithCopyWarning: \n",
      "A value is trying to be set on a copy of a slice from a DataFrame.\n",
      "Try using .loc[row_indexer,col_indexer] = value instead\n",
      "\n",
      "See the caveats in the documentation: https://pandas.pydata.org/pandas-docs/stable/user_guide/indexing.html#returning-a-view-versus-a-copy\n",
      "  X['PCT Label'] = X['Percent Change Trend'].shift(-2)\n",
      "C:\\Users\\Daanish\\AppData\\Local\\Temp/ipykernel_4764/70159314.py:2: SettingWithCopyWarning: \n",
      "A value is trying to be set on a copy of a slice from a DataFrame.\n",
      "Try using .loc[row_indexer,col_indexer] = value instead\n",
      "\n",
      "See the caveats in the documentation: https://pandas.pydata.org/pandas-docs/stable/user_guide/indexing.html#returning-a-view-versus-a-copy\n",
      "  X['CPT Label'] = X['Closing Price Trend'].shift(-2)\n"
     ]
    }
   ],
   "source": [
    "X['PCT Label'] = X['Percent Change Trend'].shift(-2)\n",
    "X['CPT Label'] = X['Closing Price Trend'].shift(-2)"
   ]
  },
  {
   "cell_type": "code",
   "execution_count": 218,
   "id": "7efa973d",
   "metadata": {
    "ExecuteTime": {
     "end_time": "2022-01-25T20:20:10.030039Z",
     "start_time": "2022-01-25T20:20:10.015081Z"
    },
    "collapsed": true
   },
   "outputs": [
    {
     "name": "stderr",
     "output_type": "stream",
     "text": [
      "C:\\Users\\Daanish\\AppData\\Local\\Temp/ipykernel_4764/3742446581.py:1: SettingWithCopyWarning: \n",
      "A value is trying to be set on a copy of a slice from a DataFrame.\n",
      "Try using .loc[row_indexer,col_indexer] = value instead\n",
      "\n",
      "See the caveats in the documentation: https://pandas.pydata.org/pandas-docs/stable/user_guide/indexing.html#returning-a-view-versus-a-copy\n",
      "  X['PCT Label'] = X['Percent Change Trend'].shift(-1)\n",
      "C:\\Users\\Daanish\\AppData\\Local\\Temp/ipykernel_4764/3742446581.py:2: SettingWithCopyWarning: \n",
      "A value is trying to be set on a copy of a slice from a DataFrame.\n",
      "Try using .loc[row_indexer,col_indexer] = value instead\n",
      "\n",
      "See the caveats in the documentation: https://pandas.pydata.org/pandas-docs/stable/user_guide/indexing.html#returning-a-view-versus-a-copy\n",
      "  X['CPT Label'] = X['Closing Price Trend'].shift(-1)\n"
     ]
    }
   ],
   "source": [
    "X['PCT Label'] = X['Percent Change Trend'].shift(-1)\n",
    "X['CPT Label'] = X['Closing Price Trend'].shift(-1)"
   ]
  },
  {
   "cell_type": "code",
   "execution_count": 279,
   "id": "aca0828b",
   "metadata": {
    "ExecuteTime": {
     "end_time": "2022-01-25T20:52:04.000594Z",
     "start_time": "2022-01-25T20:52:03.983641Z"
    }
   },
   "outputs": [],
   "source": [
    "y = X['PCT Label'].dropna()"
   ]
  },
  {
   "cell_type": "code",
   "execution_count": null,
   "id": "b3dd10ff",
   "metadata": {},
   "outputs": [],
   "source": []
  },
  {
   "cell_type": "code",
   "execution_count": 260,
   "id": "f5704cd2",
   "metadata": {
    "ExecuteTime": {
     "end_time": "2022-01-25T20:24:24.556674Z",
     "start_time": "2022-01-25T20:24:24.541686Z"
    }
   },
   "outputs": [],
   "source": [
    "from sklearn.model_selection import train_test_split\n",
    "\n",
    "X_train, X_test, y_train, y_test = train_test_split(X.dropna(), y, test_size=0.2, random_state=42)"
   ]
  },
  {
   "cell_type": "code",
   "execution_count": 198,
   "id": "25b7ecf1",
   "metadata": {
    "ExecuteTime": {
     "end_time": "2022-01-25T20:17:05.586762Z",
     "start_time": "2022-01-25T20:17:05.579781Z"
    }
   },
   "outputs": [],
   "source": [
    "# from imblearn.over_sampling import SMOTE\n",
    "# sm = SMOTE(random_state=42)\n",
    "# X_res, y_res = sm.fit_resample(X_train, y_train)"
   ]
  },
  {
   "cell_type": "markdown",
   "id": "18da0195",
   "metadata": {},
   "source": [
    "#### Support Vector Machine (Baseline)"
   ]
  },
  {
   "cell_type": "code",
   "execution_count": 380,
   "id": "9a763d56",
   "metadata": {
    "ExecuteTime": {
     "end_time": "2022-01-25T21:50:56.703873Z",
     "start_time": "2022-01-25T21:50:56.690909Z"
    }
   },
   "outputs": [],
   "source": [
    "transformer_svm = ColumnTransformer([\n",
    "    ('scaler', StandardScaler(), ['Followers Count', 'Retweet Count', 'Likes Count', 'Reply Count',\n",
    "                                  'Positive Tweet Score', 'Negative Tweet Score', 'Neutral Tweet Score',\n",
    "                                  'Compound Followers'])\n",
    "])"
   ]
  },
  {
   "cell_type": "code",
   "execution_count": 381,
   "id": "178fa5a2",
   "metadata": {
    "ExecuteTime": {
     "end_time": "2022-01-25T21:50:57.150444Z",
     "start_time": "2022-01-25T21:50:57.137479Z"
    }
   },
   "outputs": [],
   "source": [
    "pipe_svm = Pipeline([\n",
    "    ('ohe', transformer_svm),\n",
    "    ('svm', svm.SVC(kernel='poly'))\n",
    "])"
   ]
  },
  {
   "cell_type": "code",
   "execution_count": 384,
   "id": "d62bbbce",
   "metadata": {
    "ExecuteTime": {
     "end_time": "2022-01-25T21:51:08.654460Z",
     "start_time": "2022-01-25T21:51:08.643489Z"
    }
   },
   "outputs": [],
   "source": [
    "pipe_svm_fit = pipe_svm.fit(X[['Followers Count', 'Retweet Count', 'Likes Count', 'Reply Count',\n",
    "                                  'Positive Tweet Score', 'Negative Tweet Score', 'Neutral Tweet Score',\n",
    "                                  'Compound Followers']].loc[:'2021-4-3'], y)"
   ]
  },
  {
   "cell_type": "code",
   "execution_count": 385,
   "id": "d01e5e27",
   "metadata": {
    "ExecuteTime": {
     "end_time": "2022-01-25T21:51:09.196700Z",
     "start_time": "2022-01-25T21:51:09.177751Z"
    }
   },
   "outputs": [
    {
     "data": {
      "text/plain": [
       "0.6129032258064516"
      ]
     },
     "execution_count": 385,
     "metadata": {},
     "output_type": "execute_result"
    }
   ],
   "source": [
    "pipe_svm_fit.score(X_testo, y_testo)"
   ]
  },
  {
   "cell_type": "code",
   "execution_count": 378,
   "id": "2f8c05b4",
   "metadata": {
    "ExecuteTime": {
     "end_time": "2022-01-25T21:50:45.734657Z",
     "start_time": "2022-01-25T21:50:45.715707Z"
    }
   },
   "outputs": [
    {
     "data": {
      "text/plain": [
       "array(['Negative_Trend', 'Positive_Trend'], dtype=object)"
      ]
     },
     "execution_count": 378,
     "metadata": {},
     "output_type": "execute_result"
    }
   ],
   "source": [
    "pipe_svm_fit.classes_"
   ]
  },
  {
   "cell_type": "code",
   "execution_count": 379,
   "id": "ad4de335",
   "metadata": {
    "ExecuteTime": {
     "end_time": "2022-01-25T21:50:46.168232Z",
     "start_time": "2022-01-25T21:50:46.153269Z"
    }
   },
   "outputs": [
    {
     "data": {
      "text/plain": [
       "array(['Followers Count', 'Retweet Count', 'Likes Count', 'Reply Count',\n",
       "       'Positive Tweet Score', 'Negative Tweet Score',\n",
       "       'Neutral Tweet Score', 'Compound Followers', 'Volume'],\n",
       "      dtype=object)"
      ]
     },
     "execution_count": 379,
     "metadata": {},
     "output_type": "execute_result"
    }
   ],
   "source": [
    "pipe_svm_fit.feature_names_in_"
   ]
  },
  {
   "cell_type": "markdown",
   "id": "a827ac81",
   "metadata": {
    "heading_collapsed": true
   },
   "source": [
    "#### Random Forest Classifier (Baseline)"
   ]
  },
  {
   "cell_type": "code",
   "execution_count": 290,
   "id": "0dd429bf",
   "metadata": {
    "ExecuteTime": {
     "end_time": "2022-01-25T21:00:46.951183Z",
     "start_time": "2022-01-25T21:00:46.936193Z"
    },
    "hidden": true
   },
   "outputs": [],
   "source": [
    "y_testo = df_merged_gme.loc[\"2021-4-6\":\"2021-5-9\"]['PCT Label'].shift(-3).dropna()"
   ]
  },
  {
   "cell_type": "code",
   "execution_count": 296,
   "id": "e4cbbc87",
   "metadata": {
    "ExecuteTime": {
     "end_time": "2022-01-25T21:02:36.955424Z",
     "start_time": "2022-01-25T21:02:36.941461Z"
    },
    "hidden": true
   },
   "outputs": [],
   "source": [
    "X_testo = df_merged_gme.loc[\"2021-4-6\":\"2021-5-6\"].drop(['PCT Label', 'CPT Label'], axis=1)"
   ]
  },
  {
   "cell_type": "code",
   "execution_count": 297,
   "id": "a5ff7222",
   "metadata": {
    "ExecuteTime": {
     "end_time": "2022-01-25T21:02:38.083202Z",
     "start_time": "2022-01-25T21:02:38.057289Z"
    },
    "hidden": true
   },
   "outputs": [
    {
     "data": {
      "text/html": [
       "<div>\n",
       "<style scoped>\n",
       "    .dataframe tbody tr th:only-of-type {\n",
       "        vertical-align: middle;\n",
       "    }\n",
       "\n",
       "    .dataframe tbody tr th {\n",
       "        vertical-align: top;\n",
       "    }\n",
       "\n",
       "    .dataframe thead th {\n",
       "        text-align: right;\n",
       "    }\n",
       "</style>\n",
       "<table border=\"1\" class=\"dataframe\">\n",
       "  <thead>\n",
       "    <tr style=\"text-align: right;\">\n",
       "      <th></th>\n",
       "      <th>Volume</th>\n",
       "      <th>Closing Differences</th>\n",
       "      <th>Percent Change</th>\n",
       "      <th>Tweet Id</th>\n",
       "      <th>Followers Count</th>\n",
       "      <th>Retweet Count</th>\n",
       "      <th>Likes Count</th>\n",
       "      <th>Reply Count</th>\n",
       "      <th>Positive Tweet Score</th>\n",
       "      <th>Neutral Tweet Score</th>\n",
       "      <th>Negative Tweet Score</th>\n",
       "      <th>Compound Tweet Score</th>\n",
       "      <th>Compound Followers</th>\n",
       "      <th>Percent Change Trend</th>\n",
       "      <th>Closing Price Trend</th>\n",
       "    </tr>\n",
       "    <tr>\n",
       "      <th>Datetime</th>\n",
       "      <th></th>\n",
       "      <th></th>\n",
       "      <th></th>\n",
       "      <th></th>\n",
       "      <th></th>\n",
       "      <th></th>\n",
       "      <th></th>\n",
       "      <th></th>\n",
       "      <th></th>\n",
       "      <th></th>\n",
       "      <th></th>\n",
       "      <th></th>\n",
       "      <th></th>\n",
       "      <th></th>\n",
       "      <th></th>\n",
       "    </tr>\n",
       "  </thead>\n",
       "  <tbody>\n",
       "    <tr>\n",
       "      <th>2021-04-06</th>\n",
       "      <td>6.218300e+06</td>\n",
       "      <td>-2.449997</td>\n",
       "      <td>-0.383352</td>\n",
       "      <td>1.379546e+18</td>\n",
       "      <td>4.606260e+04</td>\n",
       "      <td>1.435742</td>\n",
       "      <td>12.407612</td>\n",
       "      <td>1.309983</td>\n",
       "      <td>0.135548</td>\n",
       "      <td>0.792430</td>\n",
       "      <td>0.072039</td>\n",
       "      <td>0.249122</td>\n",
       "      <td>7252.298951</td>\n",
       "      <td>Negative_Trend</td>\n",
       "      <td>Negative_Trend</td>\n",
       "    </tr>\n",
       "    <tr>\n",
       "      <th>2021-04-07</th>\n",
       "      <td>4.768300e+06</td>\n",
       "      <td>-6.529999</td>\n",
       "      <td>-2.865408</td>\n",
       "      <td>1.379904e+18</td>\n",
       "      <td>1.749696e+05</td>\n",
       "      <td>3.107615</td>\n",
       "      <td>35.748746</td>\n",
       "      <td>2.208390</td>\n",
       "      <td>0.165514</td>\n",
       "      <td>0.770521</td>\n",
       "      <td>0.063975</td>\n",
       "      <td>0.293148</td>\n",
       "      <td>77247.872900</td>\n",
       "      <td>Negative_Trend</td>\n",
       "      <td>Negative_Trend</td>\n",
       "    </tr>\n",
       "    <tr>\n",
       "      <th>2021-04-08</th>\n",
       "      <td>1.004740e+07</td>\n",
       "      <td>-7.710007</td>\n",
       "      <td>-8.403276</td>\n",
       "      <td>1.380276e+18</td>\n",
       "      <td>7.986348e+05</td>\n",
       "      <td>3.537443</td>\n",
       "      <td>50.720548</td>\n",
       "      <td>6.566667</td>\n",
       "      <td>0.173219</td>\n",
       "      <td>0.761284</td>\n",
       "      <td>0.065450</td>\n",
       "      <td>0.286585</td>\n",
       "      <td>460692.027239</td>\n",
       "      <td>Negative_Trend</td>\n",
       "      <td>Negative_Trend</td>\n",
       "    </tr>\n",
       "    <tr>\n",
       "      <th>2021-04-09</th>\n",
       "      <td>9.462400e+06</td>\n",
       "      <td>-11.899994</td>\n",
       "      <td>-6.682379</td>\n",
       "      <td>1.380633e+18</td>\n",
       "      <td>4.094352e+05</td>\n",
       "      <td>4.622445</td>\n",
       "      <td>46.001115</td>\n",
       "      <td>4.793757</td>\n",
       "      <td>0.143979</td>\n",
       "      <td>0.771456</td>\n",
       "      <td>0.084568</td>\n",
       "      <td>0.166755</td>\n",
       "      <td>104136.467043</td>\n",
       "      <td>Negative_Trend</td>\n",
       "      <td>Negative_Trend</td>\n",
       "    </tr>\n",
       "    <tr>\n",
       "      <th>2021-04-10</th>\n",
       "      <td>1.186947e+07</td>\n",
       "      <td>-13.689997</td>\n",
       "      <td>-8.043139</td>\n",
       "      <td>1.380958e+18</td>\n",
       "      <td>1.707890e+05</td>\n",
       "      <td>2.297376</td>\n",
       "      <td>20.102527</td>\n",
       "      <td>2.086978</td>\n",
       "      <td>0.135708</td>\n",
       "      <td>0.800628</td>\n",
       "      <td>0.063683</td>\n",
       "      <td>0.240049</td>\n",
       "      <td>38576.458571</td>\n",
       "      <td>Negative_Trend</td>\n",
       "      <td>Negative_Trend</td>\n",
       "    </tr>\n",
       "    <tr>\n",
       "      <th>2021-04-11</th>\n",
       "      <td>1.427653e+07</td>\n",
       "      <td>-15.480001</td>\n",
       "      <td>-9.403900</td>\n",
       "      <td>1.381332e+18</td>\n",
       "      <td>2.284892e+04</td>\n",
       "      <td>3.083829</td>\n",
       "      <td>48.101677</td>\n",
       "      <td>2.062196</td>\n",
       "      <td>0.160271</td>\n",
       "      <td>0.779225</td>\n",
       "      <td>0.060501</td>\n",
       "      <td>0.318485</td>\n",
       "      <td>8768.075056</td>\n",
       "      <td>Negative_Trend</td>\n",
       "      <td>Negative_Trend</td>\n",
       "    </tr>\n",
       "    <tr>\n",
       "      <th>2021-04-12</th>\n",
       "      <td>1.668360e+07</td>\n",
       "      <td>-17.270004</td>\n",
       "      <td>-10.764660</td>\n",
       "      <td>1.381724e+18</td>\n",
       "      <td>1.014666e+06</td>\n",
       "      <td>16.721827</td>\n",
       "      <td>73.409645</td>\n",
       "      <td>4.025381</td>\n",
       "      <td>0.145604</td>\n",
       "      <td>0.782375</td>\n",
       "      <td>0.072025</td>\n",
       "      <td>0.209973</td>\n",
       "      <td>126763.857919</td>\n",
       "      <td>Negative_Trend</td>\n",
       "      <td>Negative_Trend</td>\n",
       "    </tr>\n",
       "    <tr>\n",
       "      <th>2021-04-13</th>\n",
       "      <td>6.806900e+06</td>\n",
       "      <td>-0.099991</td>\n",
       "      <td>-0.627290</td>\n",
       "      <td>1.382082e+18</td>\n",
       "      <td>7.249978e+04</td>\n",
       "      <td>4.128680</td>\n",
       "      <td>34.629226</td>\n",
       "      <td>2.191385</td>\n",
       "      <td>0.152661</td>\n",
       "      <td>0.777448</td>\n",
       "      <td>0.069901</td>\n",
       "      <td>0.247932</td>\n",
       "      <td>28645.620404</td>\n",
       "      <td>Negative_Trend</td>\n",
       "      <td>Negative_Trend</td>\n",
       "    </tr>\n",
       "    <tr>\n",
       "      <th>2021-04-14</th>\n",
       "      <td>2.113810e+07</td>\n",
       "      <td>25.539993</td>\n",
       "      <td>15.992192</td>\n",
       "      <td>1.382454e+18</td>\n",
       "      <td>5.534159e+05</td>\n",
       "      <td>5.952555</td>\n",
       "      <td>52.105839</td>\n",
       "      <td>1.906934</td>\n",
       "      <td>0.163355</td>\n",
       "      <td>0.771861</td>\n",
       "      <td>0.064788</td>\n",
       "      <td>0.257537</td>\n",
       "      <td>231979.366698</td>\n",
       "      <td>Positive_Trend</td>\n",
       "      <td>Positive_Trend</td>\n",
       "    </tr>\n",
       "    <tr>\n",
       "      <th>2021-04-15</th>\n",
       "      <td>7.856800e+06</td>\n",
       "      <td>-10.089996</td>\n",
       "      <td>-4.024538</td>\n",
       "      <td>1.382812e+18</td>\n",
       "      <td>4.628523e+05</td>\n",
       "      <td>1.847230</td>\n",
       "      <td>18.741797</td>\n",
       "      <td>2.192577</td>\n",
       "      <td>0.136856</td>\n",
       "      <td>0.784787</td>\n",
       "      <td>0.078388</td>\n",
       "      <td>0.156381</td>\n",
       "      <td>-119603.513979</td>\n",
       "      <td>Negative_Trend</td>\n",
       "      <td>Negative_Trend</td>\n",
       "    </tr>\n",
       "    <tr>\n",
       "      <th>2021-04-16</th>\n",
       "      <td>5.214700e+06</td>\n",
       "      <td>-1.750000</td>\n",
       "      <td>-0.839742</td>\n",
       "      <td>1.383180e+18</td>\n",
       "      <td>2.132753e+05</td>\n",
       "      <td>4.352089</td>\n",
       "      <td>36.388301</td>\n",
       "      <td>2.617270</td>\n",
       "      <td>0.161041</td>\n",
       "      <td>0.768184</td>\n",
       "      <td>0.070772</td>\n",
       "      <td>0.275712</td>\n",
       "      <td>24904.761687</td>\n",
       "      <td>Negative_Trend</td>\n",
       "      <td>Negative_Trend</td>\n",
       "    </tr>\n",
       "    <tr>\n",
       "      <th>2021-04-17</th>\n",
       "      <td>6.983200e+06</td>\n",
       "      <td>2.059998</td>\n",
       "      <td>-2.001428</td>\n",
       "      <td>1.383521e+18</td>\n",
       "      <td>1.329361e+05</td>\n",
       "      <td>4.574057</td>\n",
       "      <td>48.295283</td>\n",
       "      <td>3.734906</td>\n",
       "      <td>0.158035</td>\n",
       "      <td>0.773922</td>\n",
       "      <td>0.068060</td>\n",
       "      <td>0.269819</td>\n",
       "      <td>40540.254603</td>\n",
       "      <td>Negative_Trend</td>\n",
       "      <td>Positive_Trend</td>\n",
       "    </tr>\n",
       "    <tr>\n",
       "      <th>2021-04-18</th>\n",
       "      <td>8.751700e+06</td>\n",
       "      <td>5.869995</td>\n",
       "      <td>-3.163115</td>\n",
       "      <td>1.383879e+18</td>\n",
       "      <td>4.157434e+04</td>\n",
       "      <td>2.843089</td>\n",
       "      <td>28.800295</td>\n",
       "      <td>1.549926</td>\n",
       "      <td>0.142699</td>\n",
       "      <td>0.786109</td>\n",
       "      <td>0.071199</td>\n",
       "      <td>0.223783</td>\n",
       "      <td>5994.461518</td>\n",
       "      <td>Negative_Trend</td>\n",
       "      <td>Positive_Trend</td>\n",
       "    </tr>\n",
       "    <tr>\n",
       "      <th>2021-04-19</th>\n",
       "      <td>1.052020e+07</td>\n",
       "      <td>9.679993</td>\n",
       "      <td>-4.324801</td>\n",
       "      <td>1.384267e+18</td>\n",
       "      <td>5.600219e+05</td>\n",
       "      <td>8.819593</td>\n",
       "      <td>54.991756</td>\n",
       "      <td>8.664888</td>\n",
       "      <td>0.126561</td>\n",
       "      <td>0.800015</td>\n",
       "      <td>0.073421</td>\n",
       "      <td>0.187605</td>\n",
       "      <td>-152336.696295</td>\n",
       "      <td>Negative_Trend</td>\n",
       "      <td>Positive_Trend</td>\n",
       "    </tr>\n",
       "    <tr>\n",
       "      <th>2021-04-20</th>\n",
       "      <td>4.658600e+06</td>\n",
       "      <td>-5.839996</td>\n",
       "      <td>-3.417814</td>\n",
       "      <td>1.384615e+18</td>\n",
       "      <td>9.252228e+04</td>\n",
       "      <td>12.516358</td>\n",
       "      <td>58.221919</td>\n",
       "      <td>3.346238</td>\n",
       "      <td>0.139778</td>\n",
       "      <td>0.784210</td>\n",
       "      <td>0.076022</td>\n",
       "      <td>0.226071</td>\n",
       "      <td>15977.452585</td>\n",
       "      <td>Negative_Trend</td>\n",
       "      <td>Negative_Trend</td>\n",
       "    </tr>\n",
       "    <tr>\n",
       "      <th>2021-04-21</th>\n",
       "      <td>3.812800e+06</td>\n",
       "      <td>-0.020004</td>\n",
       "      <td>0.069445</td>\n",
       "      <td>1.384979e+18</td>\n",
       "      <td>1.146065e+05</td>\n",
       "      <td>4.613595</td>\n",
       "      <td>39.623631</td>\n",
       "      <td>3.266880</td>\n",
       "      <td>0.152679</td>\n",
       "      <td>0.786363</td>\n",
       "      <td>0.060969</td>\n",
       "      <td>0.261916</td>\n",
       "      <td>61923.863002</td>\n",
       "      <td>Positive_Trend</td>\n",
       "      <td>Negative_Trend</td>\n",
       "    </tr>\n",
       "    <tr>\n",
       "      <th>2021-04-22</th>\n",
       "      <td>4.345800e+06</td>\n",
       "      <td>-7.339996</td>\n",
       "      <td>-4.984291</td>\n",
       "      <td>1.385338e+18</td>\n",
       "      <td>1.720769e+05</td>\n",
       "      <td>4.233212</td>\n",
       "      <td>32.123894</td>\n",
       "      <td>1.989068</td>\n",
       "      <td>0.159474</td>\n",
       "      <td>0.773061</td>\n",
       "      <td>0.067462</td>\n",
       "      <td>0.273367</td>\n",
       "      <td>110843.020998</td>\n",
       "      <td>Negative_Trend</td>\n",
       "      <td>Negative_Trend</td>\n",
       "    </tr>\n",
       "    <tr>\n",
       "      <th>2021-04-23</th>\n",
       "      <td>4.029100e+06</td>\n",
       "      <td>0.009995</td>\n",
       "      <td>1.463082</td>\n",
       "      <td>1.385704e+18</td>\n",
       "      <td>4.571157e+04</td>\n",
       "      <td>3.785115</td>\n",
       "      <td>30.544488</td>\n",
       "      <td>2.177952</td>\n",
       "      <td>0.162006</td>\n",
       "      <td>0.779434</td>\n",
       "      <td>0.058553</td>\n",
       "      <td>0.338833</td>\n",
       "      <td>34899.259439</td>\n",
       "      <td>Positive_Trend</td>\n",
       "      <td>Positive_Trend</td>\n",
       "    </tr>\n",
       "    <tr>\n",
       "      <th>2021-04-24</th>\n",
       "      <td>6.196767e+06</td>\n",
       "      <td>5.923330</td>\n",
       "      <td>4.938385</td>\n",
       "      <td>1.386041e+18</td>\n",
       "      <td>7.516770e+05</td>\n",
       "      <td>3.914742</td>\n",
       "      <td>40.567940</td>\n",
       "      <td>4.153197</td>\n",
       "      <td>0.155885</td>\n",
       "      <td>0.782416</td>\n",
       "      <td>0.061699</td>\n",
       "      <td>0.275385</td>\n",
       "      <td>38426.815083</td>\n",
       "      <td>Positive_Trend</td>\n",
       "      <td>Positive_Trend</td>\n",
       "    </tr>\n",
       "    <tr>\n",
       "      <th>2021-04-25</th>\n",
       "      <td>8.364433e+06</td>\n",
       "      <td>11.836665</td>\n",
       "      <td>8.413688</td>\n",
       "      <td>1.386404e+18</td>\n",
       "      <td>4.039376e+05</td>\n",
       "      <td>5.861146</td>\n",
       "      <td>45.304893</td>\n",
       "      <td>3.070263</td>\n",
       "      <td>0.139577</td>\n",
       "      <td>0.807943</td>\n",
       "      <td>0.052469</td>\n",
       "      <td>0.304390</td>\n",
       "      <td>104050.051857</td>\n",
       "      <td>Positive_Trend</td>\n",
       "      <td>Positive_Trend</td>\n",
       "    </tr>\n",
       "    <tr>\n",
       "      <th>2021-04-26</th>\n",
       "      <td>1.053210e+07</td>\n",
       "      <td>17.750000</td>\n",
       "      <td>11.888990</td>\n",
       "      <td>1.386809e+18</td>\n",
       "      <td>1.714779e+05</td>\n",
       "      <td>3.668058</td>\n",
       "      <td>29.913361</td>\n",
       "      <td>2.236952</td>\n",
       "      <td>0.157735</td>\n",
       "      <td>0.774627</td>\n",
       "      <td>0.067642</td>\n",
       "      <td>0.259875</td>\n",
       "      <td>98080.215227</td>\n",
       "      <td>Positive_Trend</td>\n",
       "      <td>Positive_Trend</td>\n",
       "    </tr>\n",
       "    <tr>\n",
       "      <th>2021-04-27</th>\n",
       "      <td>8.932700e+06</td>\n",
       "      <td>8.840012</td>\n",
       "      <td>-3.149005</td>\n",
       "      <td>1.387154e+18</td>\n",
       "      <td>3.221689e+05</td>\n",
       "      <td>4.490613</td>\n",
       "      <td>45.714427</td>\n",
       "      <td>3.156126</td>\n",
       "      <td>0.164916</td>\n",
       "      <td>0.760759</td>\n",
       "      <td>0.074333</td>\n",
       "      <td>0.263164</td>\n",
       "      <td>77885.756117</td>\n",
       "      <td>Negative_Trend</td>\n",
       "      <td>Positive_Trend</td>\n",
       "    </tr>\n",
       "    <tr>\n",
       "      <th>2021-04-28</th>\n",
       "      <td>5.788900e+06</td>\n",
       "      <td>0.809998</td>\n",
       "      <td>3.765250</td>\n",
       "      <td>1.387516e+18</td>\n",
       "      <td>2.007978e+04</td>\n",
       "      <td>1.691594</td>\n",
       "      <td>16.098551</td>\n",
       "      <td>1.200000</td>\n",
       "      <td>0.147379</td>\n",
       "      <td>0.792042</td>\n",
       "      <td>0.060569</td>\n",
       "      <td>0.298469</td>\n",
       "      <td>9872.455582</td>\n",
       "      <td>Positive_Trend</td>\n",
       "      <td>Positive_Trend</td>\n",
       "    </tr>\n",
       "    <tr>\n",
       "      <th>2021-04-29</th>\n",
       "      <td>3.760300e+06</td>\n",
       "      <td>-2.389999</td>\n",
       "      <td>-0.209558</td>\n",
       "      <td>1.387877e+18</td>\n",
       "      <td>1.295724e+05</td>\n",
       "      <td>5.237897</td>\n",
       "      <td>47.575742</td>\n",
       "      <td>3.051015</td>\n",
       "      <td>0.155607</td>\n",
       "      <td>0.779777</td>\n",
       "      <td>0.064615</td>\n",
       "      <td>0.253364</td>\n",
       "      <td>67668.720759</td>\n",
       "      <td>Negative_Trend</td>\n",
       "      <td>Negative_Trend</td>\n",
       "    </tr>\n",
       "    <tr>\n",
       "      <th>2021-04-30</th>\n",
       "      <td>4.433600e+06</td>\n",
       "      <td>-2.600006</td>\n",
       "      <td>-0.805716</td>\n",
       "      <td>1.388236e+18</td>\n",
       "      <td>1.274694e+05</td>\n",
       "      <td>1.791908</td>\n",
       "      <td>22.332049</td>\n",
       "      <td>1.615286</td>\n",
       "      <td>0.134400</td>\n",
       "      <td>0.778308</td>\n",
       "      <td>0.087300</td>\n",
       "      <td>0.143363</td>\n",
       "      <td>-23979.338256</td>\n",
       "      <td>Negative_Trend</td>\n",
       "      <td>Negative_Trend</td>\n",
       "    </tr>\n",
       "    <tr>\n",
       "      <th>2021-05-01</th>\n",
       "      <td>4.709400e+06</td>\n",
       "      <td>-5.530004</td>\n",
       "      <td>-3.408669</td>\n",
       "      <td>1.388579e+18</td>\n",
       "      <td>4.997622e+04</td>\n",
       "      <td>3.613436</td>\n",
       "      <td>31.667401</td>\n",
       "      <td>2.216410</td>\n",
       "      <td>0.155880</td>\n",
       "      <td>0.774097</td>\n",
       "      <td>0.070034</td>\n",
       "      <td>0.266293</td>\n",
       "      <td>22766.414299</td>\n",
       "      <td>Negative_Trend</td>\n",
       "      <td>Negative_Trend</td>\n",
       "    </tr>\n",
       "    <tr>\n",
       "      <th>2021-05-02</th>\n",
       "      <td>4.985200e+06</td>\n",
       "      <td>-8.460002</td>\n",
       "      <td>-6.011622</td>\n",
       "      <td>1.388935e+18</td>\n",
       "      <td>1.709345e+05</td>\n",
       "      <td>5.056021</td>\n",
       "      <td>28.508161</td>\n",
       "      <td>1.696074</td>\n",
       "      <td>0.156154</td>\n",
       "      <td>0.773100</td>\n",
       "      <td>0.070725</td>\n",
       "      <td>0.271118</td>\n",
       "      <td>57731.971099</td>\n",
       "      <td>Negative_Trend</td>\n",
       "      <td>Negative_Trend</td>\n",
       "    </tr>\n",
       "    <tr>\n",
       "      <th>2021-05-03</th>\n",
       "      <td>5.261000e+06</td>\n",
       "      <td>-11.389999</td>\n",
       "      <td>-8.614574</td>\n",
       "      <td>1.389332e+18</td>\n",
       "      <td>8.000966e+04</td>\n",
       "      <td>16.854787</td>\n",
       "      <td>73.403723</td>\n",
       "      <td>4.542553</td>\n",
       "      <td>0.152322</td>\n",
       "      <td>0.792322</td>\n",
       "      <td>0.055353</td>\n",
       "      <td>0.248049</td>\n",
       "      <td>34863.439462</td>\n",
       "      <td>Negative_Trend</td>\n",
       "      <td>Negative_Trend</td>\n",
       "    </tr>\n",
       "    <tr>\n",
       "      <th>2021-05-04</th>\n",
       "      <td>4.007500e+06</td>\n",
       "      <td>-1.470001</td>\n",
       "      <td>1.088048</td>\n",
       "      <td>1.389696e+18</td>\n",
       "      <td>1.111083e+05</td>\n",
       "      <td>127.428880</td>\n",
       "      <td>101.572742</td>\n",
       "      <td>8.641428</td>\n",
       "      <td>0.152882</td>\n",
       "      <td>0.773908</td>\n",
       "      <td>0.073189</td>\n",
       "      <td>0.217368</td>\n",
       "      <td>67029.637682</td>\n",
       "      <td>Positive_Trend</td>\n",
       "      <td>Negative_Trend</td>\n",
       "    </tr>\n",
       "    <tr>\n",
       "      <th>2021-05-05</th>\n",
       "      <td>2.805400e+06</td>\n",
       "      <td>-1.250000</td>\n",
       "      <td>-1.452145</td>\n",
       "      <td>1.390065e+18</td>\n",
       "      <td>5.722961e+05</td>\n",
       "      <td>4.890063</td>\n",
       "      <td>31.549154</td>\n",
       "      <td>4.308140</td>\n",
       "      <td>0.151701</td>\n",
       "      <td>0.781043</td>\n",
       "      <td>0.067263</td>\n",
       "      <td>0.238233</td>\n",
       "      <td>298726.681225</td>\n",
       "      <td>Negative_Trend</td>\n",
       "      <td>Negative_Trend</td>\n",
       "    </tr>\n",
       "    <tr>\n",
       "      <th>2021-05-06</th>\n",
       "      <td>2.942800e+06</td>\n",
       "      <td>1.529999</td>\n",
       "      <td>0.093245</td>\n",
       "      <td>1.390422e+18</td>\n",
       "      <td>9.547655e+04</td>\n",
       "      <td>2.811893</td>\n",
       "      <td>22.409949</td>\n",
       "      <td>1.798170</td>\n",
       "      <td>0.144985</td>\n",
       "      <td>0.775855</td>\n",
       "      <td>0.079130</td>\n",
       "      <td>0.183827</td>\n",
       "      <td>43404.830529</td>\n",
       "      <td>Positive_Trend</td>\n",
       "      <td>Positive_Trend</td>\n",
       "    </tr>\n",
       "  </tbody>\n",
       "</table>\n",
       "</div>"
      ],
      "text/plain": [
       "                  Volume  Closing Differences  Percent Change      Tweet Id  \\\n",
       "Datetime                                                                      \n",
       "2021-04-06  6.218300e+06            -2.449997       -0.383352  1.379546e+18   \n",
       "2021-04-07  4.768300e+06            -6.529999       -2.865408  1.379904e+18   \n",
       "2021-04-08  1.004740e+07            -7.710007       -8.403276  1.380276e+18   \n",
       "2021-04-09  9.462400e+06           -11.899994       -6.682379  1.380633e+18   \n",
       "2021-04-10  1.186947e+07           -13.689997       -8.043139  1.380958e+18   \n",
       "2021-04-11  1.427653e+07           -15.480001       -9.403900  1.381332e+18   \n",
       "2021-04-12  1.668360e+07           -17.270004      -10.764660  1.381724e+18   \n",
       "2021-04-13  6.806900e+06            -0.099991       -0.627290  1.382082e+18   \n",
       "2021-04-14  2.113810e+07            25.539993       15.992192  1.382454e+18   \n",
       "2021-04-15  7.856800e+06           -10.089996       -4.024538  1.382812e+18   \n",
       "2021-04-16  5.214700e+06            -1.750000       -0.839742  1.383180e+18   \n",
       "2021-04-17  6.983200e+06             2.059998       -2.001428  1.383521e+18   \n",
       "2021-04-18  8.751700e+06             5.869995       -3.163115  1.383879e+18   \n",
       "2021-04-19  1.052020e+07             9.679993       -4.324801  1.384267e+18   \n",
       "2021-04-20  4.658600e+06            -5.839996       -3.417814  1.384615e+18   \n",
       "2021-04-21  3.812800e+06            -0.020004        0.069445  1.384979e+18   \n",
       "2021-04-22  4.345800e+06            -7.339996       -4.984291  1.385338e+18   \n",
       "2021-04-23  4.029100e+06             0.009995        1.463082  1.385704e+18   \n",
       "2021-04-24  6.196767e+06             5.923330        4.938385  1.386041e+18   \n",
       "2021-04-25  8.364433e+06            11.836665        8.413688  1.386404e+18   \n",
       "2021-04-26  1.053210e+07            17.750000       11.888990  1.386809e+18   \n",
       "2021-04-27  8.932700e+06             8.840012       -3.149005  1.387154e+18   \n",
       "2021-04-28  5.788900e+06             0.809998        3.765250  1.387516e+18   \n",
       "2021-04-29  3.760300e+06            -2.389999       -0.209558  1.387877e+18   \n",
       "2021-04-30  4.433600e+06            -2.600006       -0.805716  1.388236e+18   \n",
       "2021-05-01  4.709400e+06            -5.530004       -3.408669  1.388579e+18   \n",
       "2021-05-02  4.985200e+06            -8.460002       -6.011622  1.388935e+18   \n",
       "2021-05-03  5.261000e+06           -11.389999       -8.614574  1.389332e+18   \n",
       "2021-05-04  4.007500e+06            -1.470001        1.088048  1.389696e+18   \n",
       "2021-05-05  2.805400e+06            -1.250000       -1.452145  1.390065e+18   \n",
       "2021-05-06  2.942800e+06             1.529999        0.093245  1.390422e+18   \n",
       "\n",
       "            Followers Count  Retweet Count  Likes Count  Reply Count  \\\n",
       "Datetime                                                               \n",
       "2021-04-06     4.606260e+04       1.435742    12.407612     1.309983   \n",
       "2021-04-07     1.749696e+05       3.107615    35.748746     2.208390   \n",
       "2021-04-08     7.986348e+05       3.537443    50.720548     6.566667   \n",
       "2021-04-09     4.094352e+05       4.622445    46.001115     4.793757   \n",
       "2021-04-10     1.707890e+05       2.297376    20.102527     2.086978   \n",
       "2021-04-11     2.284892e+04       3.083829    48.101677     2.062196   \n",
       "2021-04-12     1.014666e+06      16.721827    73.409645     4.025381   \n",
       "2021-04-13     7.249978e+04       4.128680    34.629226     2.191385   \n",
       "2021-04-14     5.534159e+05       5.952555    52.105839     1.906934   \n",
       "2021-04-15     4.628523e+05       1.847230    18.741797     2.192577   \n",
       "2021-04-16     2.132753e+05       4.352089    36.388301     2.617270   \n",
       "2021-04-17     1.329361e+05       4.574057    48.295283     3.734906   \n",
       "2021-04-18     4.157434e+04       2.843089    28.800295     1.549926   \n",
       "2021-04-19     5.600219e+05       8.819593    54.991756     8.664888   \n",
       "2021-04-20     9.252228e+04      12.516358    58.221919     3.346238   \n",
       "2021-04-21     1.146065e+05       4.613595    39.623631     3.266880   \n",
       "2021-04-22     1.720769e+05       4.233212    32.123894     1.989068   \n",
       "2021-04-23     4.571157e+04       3.785115    30.544488     2.177952   \n",
       "2021-04-24     7.516770e+05       3.914742    40.567940     4.153197   \n",
       "2021-04-25     4.039376e+05       5.861146    45.304893     3.070263   \n",
       "2021-04-26     1.714779e+05       3.668058    29.913361     2.236952   \n",
       "2021-04-27     3.221689e+05       4.490613    45.714427     3.156126   \n",
       "2021-04-28     2.007978e+04       1.691594    16.098551     1.200000   \n",
       "2021-04-29     1.295724e+05       5.237897    47.575742     3.051015   \n",
       "2021-04-30     1.274694e+05       1.791908    22.332049     1.615286   \n",
       "2021-05-01     4.997622e+04       3.613436    31.667401     2.216410   \n",
       "2021-05-02     1.709345e+05       5.056021    28.508161     1.696074   \n",
       "2021-05-03     8.000966e+04      16.854787    73.403723     4.542553   \n",
       "2021-05-04     1.111083e+05     127.428880   101.572742     8.641428   \n",
       "2021-05-05     5.722961e+05       4.890063    31.549154     4.308140   \n",
       "2021-05-06     9.547655e+04       2.811893    22.409949     1.798170   \n",
       "\n",
       "            Positive Tweet Score  Neutral Tweet Score  Negative Tweet Score  \\\n",
       "Datetime                                                                      \n",
       "2021-04-06              0.135548             0.792430              0.072039   \n",
       "2021-04-07              0.165514             0.770521              0.063975   \n",
       "2021-04-08              0.173219             0.761284              0.065450   \n",
       "2021-04-09              0.143979             0.771456              0.084568   \n",
       "2021-04-10              0.135708             0.800628              0.063683   \n",
       "2021-04-11              0.160271             0.779225              0.060501   \n",
       "2021-04-12              0.145604             0.782375              0.072025   \n",
       "2021-04-13              0.152661             0.777448              0.069901   \n",
       "2021-04-14              0.163355             0.771861              0.064788   \n",
       "2021-04-15              0.136856             0.784787              0.078388   \n",
       "2021-04-16              0.161041             0.768184              0.070772   \n",
       "2021-04-17              0.158035             0.773922              0.068060   \n",
       "2021-04-18              0.142699             0.786109              0.071199   \n",
       "2021-04-19              0.126561             0.800015              0.073421   \n",
       "2021-04-20              0.139778             0.784210              0.076022   \n",
       "2021-04-21              0.152679             0.786363              0.060969   \n",
       "2021-04-22              0.159474             0.773061              0.067462   \n",
       "2021-04-23              0.162006             0.779434              0.058553   \n",
       "2021-04-24              0.155885             0.782416              0.061699   \n",
       "2021-04-25              0.139577             0.807943              0.052469   \n",
       "2021-04-26              0.157735             0.774627              0.067642   \n",
       "2021-04-27              0.164916             0.760759              0.074333   \n",
       "2021-04-28              0.147379             0.792042              0.060569   \n",
       "2021-04-29              0.155607             0.779777              0.064615   \n",
       "2021-04-30              0.134400             0.778308              0.087300   \n",
       "2021-05-01              0.155880             0.774097              0.070034   \n",
       "2021-05-02              0.156154             0.773100              0.070725   \n",
       "2021-05-03              0.152322             0.792322              0.055353   \n",
       "2021-05-04              0.152882             0.773908              0.073189   \n",
       "2021-05-05              0.151701             0.781043              0.067263   \n",
       "2021-05-06              0.144985             0.775855              0.079130   \n",
       "\n",
       "            Compound Tweet Score  Compound Followers Percent Change Trend  \\\n",
       "Datetime                                                                    \n",
       "2021-04-06              0.249122         7252.298951       Negative_Trend   \n",
       "2021-04-07              0.293148        77247.872900       Negative_Trend   \n",
       "2021-04-08              0.286585       460692.027239       Negative_Trend   \n",
       "2021-04-09              0.166755       104136.467043       Negative_Trend   \n",
       "2021-04-10              0.240049        38576.458571       Negative_Trend   \n",
       "2021-04-11              0.318485         8768.075056       Negative_Trend   \n",
       "2021-04-12              0.209973       126763.857919       Negative_Trend   \n",
       "2021-04-13              0.247932        28645.620404       Negative_Trend   \n",
       "2021-04-14              0.257537       231979.366698       Positive_Trend   \n",
       "2021-04-15              0.156381      -119603.513979       Negative_Trend   \n",
       "2021-04-16              0.275712        24904.761687       Negative_Trend   \n",
       "2021-04-17              0.269819        40540.254603       Negative_Trend   \n",
       "2021-04-18              0.223783         5994.461518       Negative_Trend   \n",
       "2021-04-19              0.187605      -152336.696295       Negative_Trend   \n",
       "2021-04-20              0.226071        15977.452585       Negative_Trend   \n",
       "2021-04-21              0.261916        61923.863002       Positive_Trend   \n",
       "2021-04-22              0.273367       110843.020998       Negative_Trend   \n",
       "2021-04-23              0.338833        34899.259439       Positive_Trend   \n",
       "2021-04-24              0.275385        38426.815083       Positive_Trend   \n",
       "2021-04-25              0.304390       104050.051857       Positive_Trend   \n",
       "2021-04-26              0.259875        98080.215227       Positive_Trend   \n",
       "2021-04-27              0.263164        77885.756117       Negative_Trend   \n",
       "2021-04-28              0.298469         9872.455582       Positive_Trend   \n",
       "2021-04-29              0.253364        67668.720759       Negative_Trend   \n",
       "2021-04-30              0.143363       -23979.338256       Negative_Trend   \n",
       "2021-05-01              0.266293        22766.414299       Negative_Trend   \n",
       "2021-05-02              0.271118        57731.971099       Negative_Trend   \n",
       "2021-05-03              0.248049        34863.439462       Negative_Trend   \n",
       "2021-05-04              0.217368        67029.637682       Positive_Trend   \n",
       "2021-05-05              0.238233       298726.681225       Negative_Trend   \n",
       "2021-05-06              0.183827        43404.830529       Positive_Trend   \n",
       "\n",
       "           Closing Price Trend  \n",
       "Datetime                        \n",
       "2021-04-06      Negative_Trend  \n",
       "2021-04-07      Negative_Trend  \n",
       "2021-04-08      Negative_Trend  \n",
       "2021-04-09      Negative_Trend  \n",
       "2021-04-10      Negative_Trend  \n",
       "2021-04-11      Negative_Trend  \n",
       "2021-04-12      Negative_Trend  \n",
       "2021-04-13      Negative_Trend  \n",
       "2021-04-14      Positive_Trend  \n",
       "2021-04-15      Negative_Trend  \n",
       "2021-04-16      Negative_Trend  \n",
       "2021-04-17      Positive_Trend  \n",
       "2021-04-18      Positive_Trend  \n",
       "2021-04-19      Positive_Trend  \n",
       "2021-04-20      Negative_Trend  \n",
       "2021-04-21      Negative_Trend  \n",
       "2021-04-22      Negative_Trend  \n",
       "2021-04-23      Positive_Trend  \n",
       "2021-04-24      Positive_Trend  \n",
       "2021-04-25      Positive_Trend  \n",
       "2021-04-26      Positive_Trend  \n",
       "2021-04-27      Positive_Trend  \n",
       "2021-04-28      Positive_Trend  \n",
       "2021-04-29      Negative_Trend  \n",
       "2021-04-30      Negative_Trend  \n",
       "2021-05-01      Negative_Trend  \n",
       "2021-05-02      Negative_Trend  \n",
       "2021-05-03      Negative_Trend  \n",
       "2021-05-04      Negative_Trend  \n",
       "2021-05-05      Negative_Trend  \n",
       "2021-05-06      Positive_Trend  "
      ]
     },
     "execution_count": 297,
     "metadata": {},
     "output_type": "execute_result"
    }
   ],
   "source": [
    "X_testo"
   ]
  },
  {
   "cell_type": "code",
   "execution_count": 280,
   "id": "9abda972",
   "metadata": {
    "ExecuteTime": {
     "end_time": "2022-01-25T20:52:39.423149Z",
     "start_time": "2022-01-25T20:52:39.411201Z"
    },
    "hidden": true
   },
   "outputs": [],
   "source": [
    "transformer_rfc = ColumnTransformer([\n",
    "    ('scaler', StandardScaler(), ['Followers Count', 'Retweet Count', 'Likes Count', 'Reply Count',\n",
    "                                  'Positive Tweet Score', 'Negative Tweet Score', 'Neutral Tweet Score',\n",
    "                                  'Compound Followers', 'Volume'])\n",
    "])"
   ]
  },
  {
   "cell_type": "code",
   "execution_count": 281,
   "id": "720435dc",
   "metadata": {
    "ExecuteTime": {
     "end_time": "2022-01-25T20:52:39.794090Z",
     "start_time": "2022-01-25T20:52:39.782123Z"
    },
    "hidden": true
   },
   "outputs": [],
   "source": [
    "pipe_rfc = Pipeline([\n",
    "    ('ohe scaler', transformer_rfc),\n",
    "    ('randomforest', GridSearchCV(RandomForestClassifier(),\n",
    "                                  param_grid={},\n",
    "                                  verbose=3,\n",
    "                                  n_jobs=4))\n",
    "])"
   ]
  },
  {
   "cell_type": "code",
   "execution_count": 282,
   "id": "776f64a6",
   "metadata": {
    "ExecuteTime": {
     "end_time": "2022-01-25T20:52:46.348876Z",
     "start_time": "2022-01-25T20:52:46.064926Z"
    },
    "hidden": true
   },
   "outputs": [
    {
     "name": "stdout",
     "output_type": "stream",
     "text": [
      "Fitting 5 folds for each of 1 candidates, totalling 5 fits\n"
     ]
    }
   ],
   "source": [
    "pipe_rfc_fit = pipe_rfc.fit(X.dropna(), y)"
   ]
  },
  {
   "cell_type": "code",
   "execution_count": 275,
   "id": "68511db4",
   "metadata": {
    "ExecuteTime": {
     "end_time": "2022-01-25T20:50:42.952302Z",
     "start_time": "2022-01-25T20:50:42.919390Z"
    },
    "collapsed": true,
    "hidden": true
   },
   "outputs": [
    {
     "data": {
      "text/html": [
       "<div>\n",
       "<style scoped>\n",
       "    .dataframe tbody tr th:only-of-type {\n",
       "        vertical-align: middle;\n",
       "    }\n",
       "\n",
       "    .dataframe tbody tr th {\n",
       "        vertical-align: top;\n",
       "    }\n",
       "\n",
       "    .dataframe thead th {\n",
       "        text-align: right;\n",
       "    }\n",
       "</style>\n",
       "<table border=\"1\" class=\"dataframe\">\n",
       "  <thead>\n",
       "    <tr style=\"text-align: right;\">\n",
       "      <th></th>\n",
       "      <th>Volume</th>\n",
       "      <th>Closing Differences</th>\n",
       "      <th>Percent Change</th>\n",
       "      <th>Tweet Id</th>\n",
       "      <th>Followers Count</th>\n",
       "      <th>Retweet Count</th>\n",
       "      <th>Likes Count</th>\n",
       "      <th>Reply Count</th>\n",
       "      <th>Positive Tweet Score</th>\n",
       "      <th>Neutral Tweet Score</th>\n",
       "      <th>Negative Tweet Score</th>\n",
       "      <th>Compound Tweet Score</th>\n",
       "      <th>Compound Followers</th>\n",
       "      <th>Percent Change Trend</th>\n",
       "      <th>Closing Price Trend</th>\n",
       "      <th>PCT Label</th>\n",
       "      <th>CPT Label</th>\n",
       "    </tr>\n",
       "    <tr>\n",
       "      <th>Datetime</th>\n",
       "      <th></th>\n",
       "      <th></th>\n",
       "      <th></th>\n",
       "      <th></th>\n",
       "      <th></th>\n",
       "      <th></th>\n",
       "      <th></th>\n",
       "      <th></th>\n",
       "      <th></th>\n",
       "      <th></th>\n",
       "      <th></th>\n",
       "      <th></th>\n",
       "      <th></th>\n",
       "      <th></th>\n",
       "      <th></th>\n",
       "      <th></th>\n",
       "      <th></th>\n",
       "    </tr>\n",
       "  </thead>\n",
       "  <tbody>\n",
       "    <tr>\n",
       "      <th>2021-04-06</th>\n",
       "      <td>6.218300e+06</td>\n",
       "      <td>-2.449997</td>\n",
       "      <td>-0.383352</td>\n",
       "      <td>1.379546e+18</td>\n",
       "      <td>4.606260e+04</td>\n",
       "      <td>1.435742</td>\n",
       "      <td>12.407612</td>\n",
       "      <td>1.309983</td>\n",
       "      <td>0.135548</td>\n",
       "      <td>0.792430</td>\n",
       "      <td>0.072039</td>\n",
       "      <td>0.249122</td>\n",
       "      <td>7252.298951</td>\n",
       "      <td>Negative_Trend</td>\n",
       "      <td>Negative_Trend</td>\n",
       "      <td>NaN</td>\n",
       "      <td>NaN</td>\n",
       "    </tr>\n",
       "    <tr>\n",
       "      <th>2021-04-07</th>\n",
       "      <td>4.768300e+06</td>\n",
       "      <td>-6.529999</td>\n",
       "      <td>-2.865408</td>\n",
       "      <td>1.379904e+18</td>\n",
       "      <td>1.749696e+05</td>\n",
       "      <td>3.107615</td>\n",
       "      <td>35.748746</td>\n",
       "      <td>2.208390</td>\n",
       "      <td>0.165514</td>\n",
       "      <td>0.770521</td>\n",
       "      <td>0.063975</td>\n",
       "      <td>0.293148</td>\n",
       "      <td>77247.872900</td>\n",
       "      <td>Negative_Trend</td>\n",
       "      <td>Negative_Trend</td>\n",
       "      <td>Negative_Trend</td>\n",
       "      <td>Negative_Trend</td>\n",
       "    </tr>\n",
       "    <tr>\n",
       "      <th>2021-04-08</th>\n",
       "      <td>1.004740e+07</td>\n",
       "      <td>-7.710007</td>\n",
       "      <td>-8.403276</td>\n",
       "      <td>1.380276e+18</td>\n",
       "      <td>7.986348e+05</td>\n",
       "      <td>3.537443</td>\n",
       "      <td>50.720548</td>\n",
       "      <td>6.566667</td>\n",
       "      <td>0.173219</td>\n",
       "      <td>0.761284</td>\n",
       "      <td>0.065450</td>\n",
       "      <td>0.286585</td>\n",
       "      <td>460692.027239</td>\n",
       "      <td>Negative_Trend</td>\n",
       "      <td>Negative_Trend</td>\n",
       "      <td>Positive_Trend</td>\n",
       "      <td>Positive_Trend</td>\n",
       "    </tr>\n",
       "    <tr>\n",
       "      <th>2021-04-09</th>\n",
       "      <td>9.462400e+06</td>\n",
       "      <td>-11.899994</td>\n",
       "      <td>-6.682379</td>\n",
       "      <td>1.380633e+18</td>\n",
       "      <td>4.094352e+05</td>\n",
       "      <td>4.622445</td>\n",
       "      <td>46.001115</td>\n",
       "      <td>4.793757</td>\n",
       "      <td>0.143979</td>\n",
       "      <td>0.771456</td>\n",
       "      <td>0.084568</td>\n",
       "      <td>0.166755</td>\n",
       "      <td>104136.467043</td>\n",
       "      <td>Negative_Trend</td>\n",
       "      <td>Negative_Trend</td>\n",
       "      <td>Negative_Trend</td>\n",
       "      <td>Negative_Trend</td>\n",
       "    </tr>\n",
       "    <tr>\n",
       "      <th>2021-04-10</th>\n",
       "      <td>1.186947e+07</td>\n",
       "      <td>-13.689997</td>\n",
       "      <td>-8.043139</td>\n",
       "      <td>1.380958e+18</td>\n",
       "      <td>1.707890e+05</td>\n",
       "      <td>2.297376</td>\n",
       "      <td>20.102527</td>\n",
       "      <td>2.086978</td>\n",
       "      <td>0.135708</td>\n",
       "      <td>0.800628</td>\n",
       "      <td>0.063683</td>\n",
       "      <td>0.240049</td>\n",
       "      <td>38576.458571</td>\n",
       "      <td>Negative_Trend</td>\n",
       "      <td>Negative_Trend</td>\n",
       "      <td>Negative_Trend</td>\n",
       "      <td>Negative_Trend</td>\n",
       "    </tr>\n",
       "    <tr>\n",
       "      <th>2021-04-11</th>\n",
       "      <td>1.427653e+07</td>\n",
       "      <td>-15.480001</td>\n",
       "      <td>-9.403900</td>\n",
       "      <td>1.381332e+18</td>\n",
       "      <td>2.284892e+04</td>\n",
       "      <td>3.083829</td>\n",
       "      <td>48.101677</td>\n",
       "      <td>2.062196</td>\n",
       "      <td>0.160271</td>\n",
       "      <td>0.779225</td>\n",
       "      <td>0.060501</td>\n",
       "      <td>0.318485</td>\n",
       "      <td>8768.075056</td>\n",
       "      <td>Negative_Trend</td>\n",
       "      <td>Negative_Trend</td>\n",
       "      <td>Negative_Trend</td>\n",
       "      <td>Positive_Trend</td>\n",
       "    </tr>\n",
       "    <tr>\n",
       "      <th>2021-04-12</th>\n",
       "      <td>1.668360e+07</td>\n",
       "      <td>-17.270004</td>\n",
       "      <td>-10.764660</td>\n",
       "      <td>1.381724e+18</td>\n",
       "      <td>1.014666e+06</td>\n",
       "      <td>16.721827</td>\n",
       "      <td>73.409645</td>\n",
       "      <td>4.025381</td>\n",
       "      <td>0.145604</td>\n",
       "      <td>0.782375</td>\n",
       "      <td>0.072025</td>\n",
       "      <td>0.209973</td>\n",
       "      <td>126763.857919</td>\n",
       "      <td>Negative_Trend</td>\n",
       "      <td>Negative_Trend</td>\n",
       "      <td>Negative_Trend</td>\n",
       "      <td>Positive_Trend</td>\n",
       "    </tr>\n",
       "    <tr>\n",
       "      <th>2021-04-13</th>\n",
       "      <td>6.806900e+06</td>\n",
       "      <td>-0.099991</td>\n",
       "      <td>-0.627290</td>\n",
       "      <td>1.382082e+18</td>\n",
       "      <td>7.249978e+04</td>\n",
       "      <td>4.128680</td>\n",
       "      <td>34.629226</td>\n",
       "      <td>2.191385</td>\n",
       "      <td>0.152661</td>\n",
       "      <td>0.777448</td>\n",
       "      <td>0.069901</td>\n",
       "      <td>0.247932</td>\n",
       "      <td>28645.620404</td>\n",
       "      <td>Negative_Trend</td>\n",
       "      <td>Negative_Trend</td>\n",
       "      <td>Negative_Trend</td>\n",
       "      <td>Positive_Trend</td>\n",
       "    </tr>\n",
       "    <tr>\n",
       "      <th>2021-04-14</th>\n",
       "      <td>2.113810e+07</td>\n",
       "      <td>25.539993</td>\n",
       "      <td>15.992192</td>\n",
       "      <td>1.382454e+18</td>\n",
       "      <td>5.534159e+05</td>\n",
       "      <td>5.952555</td>\n",
       "      <td>52.105839</td>\n",
       "      <td>1.906934</td>\n",
       "      <td>0.163355</td>\n",
       "      <td>0.771861</td>\n",
       "      <td>0.064788</td>\n",
       "      <td>0.257537</td>\n",
       "      <td>231979.366698</td>\n",
       "      <td>Positive_Trend</td>\n",
       "      <td>Positive_Trend</td>\n",
       "      <td>Negative_Trend</td>\n",
       "      <td>Negative_Trend</td>\n",
       "    </tr>\n",
       "    <tr>\n",
       "      <th>2021-04-15</th>\n",
       "      <td>7.856800e+06</td>\n",
       "      <td>-10.089996</td>\n",
       "      <td>-4.024538</td>\n",
       "      <td>1.382812e+18</td>\n",
       "      <td>4.628523e+05</td>\n",
       "      <td>1.847230</td>\n",
       "      <td>18.741797</td>\n",
       "      <td>2.192577</td>\n",
       "      <td>0.136856</td>\n",
       "      <td>0.784787</td>\n",
       "      <td>0.078388</td>\n",
       "      <td>0.156381</td>\n",
       "      <td>-119603.513979</td>\n",
       "      <td>Negative_Trend</td>\n",
       "      <td>Negative_Trend</td>\n",
       "      <td>Positive_Trend</td>\n",
       "      <td>Negative_Trend</td>\n",
       "    </tr>\n",
       "    <tr>\n",
       "      <th>2021-04-16</th>\n",
       "      <td>5.214700e+06</td>\n",
       "      <td>-1.750000</td>\n",
       "      <td>-0.839742</td>\n",
       "      <td>1.383180e+18</td>\n",
       "      <td>2.132753e+05</td>\n",
       "      <td>4.352089</td>\n",
       "      <td>36.388301</td>\n",
       "      <td>2.617270</td>\n",
       "      <td>0.161041</td>\n",
       "      <td>0.768184</td>\n",
       "      <td>0.070772</td>\n",
       "      <td>0.275712</td>\n",
       "      <td>24904.761687</td>\n",
       "      <td>Negative_Trend</td>\n",
       "      <td>Negative_Trend</td>\n",
       "      <td>Negative_Trend</td>\n",
       "      <td>Negative_Trend</td>\n",
       "    </tr>\n",
       "    <tr>\n",
       "      <th>2021-04-17</th>\n",
       "      <td>6.983200e+06</td>\n",
       "      <td>2.059998</td>\n",
       "      <td>-2.001428</td>\n",
       "      <td>1.383521e+18</td>\n",
       "      <td>1.329361e+05</td>\n",
       "      <td>4.574057</td>\n",
       "      <td>48.295283</td>\n",
       "      <td>3.734906</td>\n",
       "      <td>0.158035</td>\n",
       "      <td>0.773922</td>\n",
       "      <td>0.068060</td>\n",
       "      <td>0.269819</td>\n",
       "      <td>40540.254603</td>\n",
       "      <td>Negative_Trend</td>\n",
       "      <td>Positive_Trend</td>\n",
       "      <td>Positive_Trend</td>\n",
       "      <td>Positive_Trend</td>\n",
       "    </tr>\n",
       "    <tr>\n",
       "      <th>2021-04-18</th>\n",
       "      <td>8.751700e+06</td>\n",
       "      <td>5.869995</td>\n",
       "      <td>-3.163115</td>\n",
       "      <td>1.383879e+18</td>\n",
       "      <td>4.157434e+04</td>\n",
       "      <td>2.843089</td>\n",
       "      <td>28.800295</td>\n",
       "      <td>1.549926</td>\n",
       "      <td>0.142699</td>\n",
       "      <td>0.786109</td>\n",
       "      <td>0.071199</td>\n",
       "      <td>0.223783</td>\n",
       "      <td>5994.461518</td>\n",
       "      <td>Negative_Trend</td>\n",
       "      <td>Positive_Trend</td>\n",
       "      <td>Positive_Trend</td>\n",
       "      <td>Positive_Trend</td>\n",
       "    </tr>\n",
       "    <tr>\n",
       "      <th>2021-04-19</th>\n",
       "      <td>1.052020e+07</td>\n",
       "      <td>9.679993</td>\n",
       "      <td>-4.324801</td>\n",
       "      <td>1.384267e+18</td>\n",
       "      <td>5.600219e+05</td>\n",
       "      <td>8.819593</td>\n",
       "      <td>54.991756</td>\n",
       "      <td>8.664888</td>\n",
       "      <td>0.126561</td>\n",
       "      <td>0.800015</td>\n",
       "      <td>0.073421</td>\n",
       "      <td>0.187605</td>\n",
       "      <td>-152336.696295</td>\n",
       "      <td>Negative_Trend</td>\n",
       "      <td>Positive_Trend</td>\n",
       "      <td>Positive_Trend</td>\n",
       "      <td>Positive_Trend</td>\n",
       "    </tr>\n",
       "    <tr>\n",
       "      <th>2021-04-20</th>\n",
       "      <td>4.658600e+06</td>\n",
       "      <td>-5.839996</td>\n",
       "      <td>-3.417814</td>\n",
       "      <td>1.384615e+18</td>\n",
       "      <td>9.252228e+04</td>\n",
       "      <td>12.516358</td>\n",
       "      <td>58.221919</td>\n",
       "      <td>3.346238</td>\n",
       "      <td>0.139778</td>\n",
       "      <td>0.784210</td>\n",
       "      <td>0.076022</td>\n",
       "      <td>0.226071</td>\n",
       "      <td>15977.452585</td>\n",
       "      <td>Negative_Trend</td>\n",
       "      <td>Negative_Trend</td>\n",
       "      <td>Positive_Trend</td>\n",
       "      <td>Positive_Trend</td>\n",
       "    </tr>\n",
       "    <tr>\n",
       "      <th>2021-04-21</th>\n",
       "      <td>3.812800e+06</td>\n",
       "      <td>-0.020004</td>\n",
       "      <td>0.069445</td>\n",
       "      <td>1.384979e+18</td>\n",
       "      <td>1.146065e+05</td>\n",
       "      <td>4.613595</td>\n",
       "      <td>39.623631</td>\n",
       "      <td>3.266880</td>\n",
       "      <td>0.152679</td>\n",
       "      <td>0.786363</td>\n",
       "      <td>0.060969</td>\n",
       "      <td>0.261916</td>\n",
       "      <td>61923.863002</td>\n",
       "      <td>Positive_Trend</td>\n",
       "      <td>Negative_Trend</td>\n",
       "      <td>Negative_Trend</td>\n",
       "      <td>Positive_Trend</td>\n",
       "    </tr>\n",
       "    <tr>\n",
       "      <th>2021-04-22</th>\n",
       "      <td>4.345800e+06</td>\n",
       "      <td>-7.339996</td>\n",
       "      <td>-4.984291</td>\n",
       "      <td>1.385338e+18</td>\n",
       "      <td>1.720769e+05</td>\n",
       "      <td>4.233212</td>\n",
       "      <td>32.123894</td>\n",
       "      <td>1.989068</td>\n",
       "      <td>0.159474</td>\n",
       "      <td>0.773061</td>\n",
       "      <td>0.067462</td>\n",
       "      <td>0.273367</td>\n",
       "      <td>110843.020998</td>\n",
       "      <td>Negative_Trend</td>\n",
       "      <td>Negative_Trend</td>\n",
       "      <td>Positive_Trend</td>\n",
       "      <td>Positive_Trend</td>\n",
       "    </tr>\n",
       "    <tr>\n",
       "      <th>2021-04-23</th>\n",
       "      <td>4.029100e+06</td>\n",
       "      <td>0.009995</td>\n",
       "      <td>1.463082</td>\n",
       "      <td>1.385704e+18</td>\n",
       "      <td>4.571157e+04</td>\n",
       "      <td>3.785115</td>\n",
       "      <td>30.544488</td>\n",
       "      <td>2.177952</td>\n",
       "      <td>0.162006</td>\n",
       "      <td>0.779434</td>\n",
       "      <td>0.058553</td>\n",
       "      <td>0.338833</td>\n",
       "      <td>34899.259439</td>\n",
       "      <td>Positive_Trend</td>\n",
       "      <td>Positive_Trend</td>\n",
       "      <td>Negative_Trend</td>\n",
       "      <td>Negative_Trend</td>\n",
       "    </tr>\n",
       "    <tr>\n",
       "      <th>2021-04-24</th>\n",
       "      <td>6.196767e+06</td>\n",
       "      <td>5.923330</td>\n",
       "      <td>4.938385</td>\n",
       "      <td>1.386041e+18</td>\n",
       "      <td>7.516770e+05</td>\n",
       "      <td>3.914742</td>\n",
       "      <td>40.567940</td>\n",
       "      <td>4.153197</td>\n",
       "      <td>0.155885</td>\n",
       "      <td>0.782416</td>\n",
       "      <td>0.061699</td>\n",
       "      <td>0.275385</td>\n",
       "      <td>38426.815083</td>\n",
       "      <td>Positive_Trend</td>\n",
       "      <td>Positive_Trend</td>\n",
       "      <td>Negative_Trend</td>\n",
       "      <td>Negative_Trend</td>\n",
       "    </tr>\n",
       "    <tr>\n",
       "      <th>2021-04-25</th>\n",
       "      <td>8.364433e+06</td>\n",
       "      <td>11.836665</td>\n",
       "      <td>8.413688</td>\n",
       "      <td>1.386404e+18</td>\n",
       "      <td>4.039376e+05</td>\n",
       "      <td>5.861146</td>\n",
       "      <td>45.304893</td>\n",
       "      <td>3.070263</td>\n",
       "      <td>0.139577</td>\n",
       "      <td>0.807943</td>\n",
       "      <td>0.052469</td>\n",
       "      <td>0.304390</td>\n",
       "      <td>104050.051857</td>\n",
       "      <td>Positive_Trend</td>\n",
       "      <td>Positive_Trend</td>\n",
       "      <td>Negative_Trend</td>\n",
       "      <td>Negative_Trend</td>\n",
       "    </tr>\n",
       "    <tr>\n",
       "      <th>2021-04-26</th>\n",
       "      <td>1.053210e+07</td>\n",
       "      <td>17.750000</td>\n",
       "      <td>11.888990</td>\n",
       "      <td>1.386809e+18</td>\n",
       "      <td>1.714779e+05</td>\n",
       "      <td>3.668058</td>\n",
       "      <td>29.913361</td>\n",
       "      <td>2.236952</td>\n",
       "      <td>0.157735</td>\n",
       "      <td>0.774627</td>\n",
       "      <td>0.067642</td>\n",
       "      <td>0.259875</td>\n",
       "      <td>98080.215227</td>\n",
       "      <td>Positive_Trend</td>\n",
       "      <td>Positive_Trend</td>\n",
       "      <td>Negative_Trend</td>\n",
       "      <td>Negative_Trend</td>\n",
       "    </tr>\n",
       "    <tr>\n",
       "      <th>2021-04-27</th>\n",
       "      <td>8.932700e+06</td>\n",
       "      <td>8.840012</td>\n",
       "      <td>-3.149005</td>\n",
       "      <td>1.387154e+18</td>\n",
       "      <td>3.221689e+05</td>\n",
       "      <td>4.490613</td>\n",
       "      <td>45.714427</td>\n",
       "      <td>3.156126</td>\n",
       "      <td>0.164916</td>\n",
       "      <td>0.760759</td>\n",
       "      <td>0.074333</td>\n",
       "      <td>0.263164</td>\n",
       "      <td>77885.756117</td>\n",
       "      <td>Negative_Trend</td>\n",
       "      <td>Positive_Trend</td>\n",
       "      <td>Negative_Trend</td>\n",
       "      <td>Negative_Trend</td>\n",
       "    </tr>\n",
       "    <tr>\n",
       "      <th>2021-04-28</th>\n",
       "      <td>5.788900e+06</td>\n",
       "      <td>0.809998</td>\n",
       "      <td>3.765250</td>\n",
       "      <td>1.387516e+18</td>\n",
       "      <td>2.007978e+04</td>\n",
       "      <td>1.691594</td>\n",
       "      <td>16.098551</td>\n",
       "      <td>1.200000</td>\n",
       "      <td>0.147379</td>\n",
       "      <td>0.792042</td>\n",
       "      <td>0.060569</td>\n",
       "      <td>0.298469</td>\n",
       "      <td>9872.455582</td>\n",
       "      <td>Positive_Trend</td>\n",
       "      <td>Positive_Trend</td>\n",
       "      <td>Positive_Trend</td>\n",
       "      <td>Negative_Trend</td>\n",
       "    </tr>\n",
       "    <tr>\n",
       "      <th>2021-04-29</th>\n",
       "      <td>3.760300e+06</td>\n",
       "      <td>-2.389999</td>\n",
       "      <td>-0.209558</td>\n",
       "      <td>1.387877e+18</td>\n",
       "      <td>1.295724e+05</td>\n",
       "      <td>5.237897</td>\n",
       "      <td>47.575742</td>\n",
       "      <td>3.051015</td>\n",
       "      <td>0.155607</td>\n",
       "      <td>0.779777</td>\n",
       "      <td>0.064615</td>\n",
       "      <td>0.253364</td>\n",
       "      <td>67668.720759</td>\n",
       "      <td>Negative_Trend</td>\n",
       "      <td>Negative_Trend</td>\n",
       "      <td>Negative_Trend</td>\n",
       "      <td>Negative_Trend</td>\n",
       "    </tr>\n",
       "    <tr>\n",
       "      <th>2021-04-30</th>\n",
       "      <td>4.433600e+06</td>\n",
       "      <td>-2.600006</td>\n",
       "      <td>-0.805716</td>\n",
       "      <td>1.388236e+18</td>\n",
       "      <td>1.274694e+05</td>\n",
       "      <td>1.791908</td>\n",
       "      <td>22.332049</td>\n",
       "      <td>1.615286</td>\n",
       "      <td>0.134400</td>\n",
       "      <td>0.778308</td>\n",
       "      <td>0.087300</td>\n",
       "      <td>0.143363</td>\n",
       "      <td>-23979.338256</td>\n",
       "      <td>Negative_Trend</td>\n",
       "      <td>Negative_Trend</td>\n",
       "      <td>Positive_Trend</td>\n",
       "      <td>Positive_Trend</td>\n",
       "    </tr>\n",
       "    <tr>\n",
       "      <th>2021-05-01</th>\n",
       "      <td>4.709400e+06</td>\n",
       "      <td>-5.530004</td>\n",
       "      <td>-3.408669</td>\n",
       "      <td>1.388579e+18</td>\n",
       "      <td>4.997622e+04</td>\n",
       "      <td>3.613436</td>\n",
       "      <td>31.667401</td>\n",
       "      <td>2.216410</td>\n",
       "      <td>0.155880</td>\n",
       "      <td>0.774097</td>\n",
       "      <td>0.070034</td>\n",
       "      <td>0.266293</td>\n",
       "      <td>22766.414299</td>\n",
       "      <td>Negative_Trend</td>\n",
       "      <td>Negative_Trend</td>\n",
       "      <td>Positive_Trend</td>\n",
       "      <td>Positive_Trend</td>\n",
       "    </tr>\n",
       "    <tr>\n",
       "      <th>2021-05-02</th>\n",
       "      <td>4.985200e+06</td>\n",
       "      <td>-8.460002</td>\n",
       "      <td>-6.011622</td>\n",
       "      <td>1.388935e+18</td>\n",
       "      <td>1.709345e+05</td>\n",
       "      <td>5.056021</td>\n",
       "      <td>28.508161</td>\n",
       "      <td>1.696074</td>\n",
       "      <td>0.156154</td>\n",
       "      <td>0.773100</td>\n",
       "      <td>0.070725</td>\n",
       "      <td>0.271118</td>\n",
       "      <td>57731.971099</td>\n",
       "      <td>Negative_Trend</td>\n",
       "      <td>Negative_Trend</td>\n",
       "      <td>Negative_Trend</td>\n",
       "      <td>Negative_Trend</td>\n",
       "    </tr>\n",
       "    <tr>\n",
       "      <th>2021-05-03</th>\n",
       "      <td>5.261000e+06</td>\n",
       "      <td>-11.389999</td>\n",
       "      <td>-8.614574</td>\n",
       "      <td>1.389332e+18</td>\n",
       "      <td>8.000966e+04</td>\n",
       "      <td>16.854787</td>\n",
       "      <td>73.403723</td>\n",
       "      <td>4.542553</td>\n",
       "      <td>0.152322</td>\n",
       "      <td>0.792322</td>\n",
       "      <td>0.055353</td>\n",
       "      <td>0.248049</td>\n",
       "      <td>34863.439462</td>\n",
       "      <td>Negative_Trend</td>\n",
       "      <td>Negative_Trend</td>\n",
       "      <td>Negative_Trend</td>\n",
       "      <td>Negative_Trend</td>\n",
       "    </tr>\n",
       "    <tr>\n",
       "      <th>2021-05-04</th>\n",
       "      <td>4.007500e+06</td>\n",
       "      <td>-1.470001</td>\n",
       "      <td>1.088048</td>\n",
       "      <td>1.389696e+18</td>\n",
       "      <td>1.111083e+05</td>\n",
       "      <td>127.428880</td>\n",
       "      <td>101.572742</td>\n",
       "      <td>8.641428</td>\n",
       "      <td>0.152882</td>\n",
       "      <td>0.773908</td>\n",
       "      <td>0.073189</td>\n",
       "      <td>0.217368</td>\n",
       "      <td>67029.637682</td>\n",
       "      <td>Positive_Trend</td>\n",
       "      <td>Negative_Trend</td>\n",
       "      <td>Negative_Trend</td>\n",
       "      <td>Negative_Trend</td>\n",
       "    </tr>\n",
       "    <tr>\n",
       "      <th>2021-05-05</th>\n",
       "      <td>2.805400e+06</td>\n",
       "      <td>-1.250000</td>\n",
       "      <td>-1.452145</td>\n",
       "      <td>1.390065e+18</td>\n",
       "      <td>5.722961e+05</td>\n",
       "      <td>4.890063</td>\n",
       "      <td>31.549154</td>\n",
       "      <td>4.308140</td>\n",
       "      <td>0.151701</td>\n",
       "      <td>0.781043</td>\n",
       "      <td>0.067263</td>\n",
       "      <td>0.238233</td>\n",
       "      <td>298726.681225</td>\n",
       "      <td>Negative_Trend</td>\n",
       "      <td>Negative_Trend</td>\n",
       "      <td>Positive_Trend</td>\n",
       "      <td>Positive_Trend</td>\n",
       "    </tr>\n",
       "    <tr>\n",
       "      <th>2021-05-06</th>\n",
       "      <td>2.942800e+06</td>\n",
       "      <td>1.529999</td>\n",
       "      <td>0.093245</td>\n",
       "      <td>1.390422e+18</td>\n",
       "      <td>9.547655e+04</td>\n",
       "      <td>2.811893</td>\n",
       "      <td>22.409949</td>\n",
       "      <td>1.798170</td>\n",
       "      <td>0.144985</td>\n",
       "      <td>0.775855</td>\n",
       "      <td>0.079130</td>\n",
       "      <td>0.183827</td>\n",
       "      <td>43404.830529</td>\n",
       "      <td>Positive_Trend</td>\n",
       "      <td>Positive_Trend</td>\n",
       "      <td>Negative_Trend</td>\n",
       "      <td>Negative_Trend</td>\n",
       "    </tr>\n",
       "  </tbody>\n",
       "</table>\n",
       "</div>"
      ],
      "text/plain": [
       "                  Volume  Closing Differences  Percent Change      Tweet Id  \\\n",
       "Datetime                                                                      \n",
       "2021-04-06  6.218300e+06            -2.449997       -0.383352  1.379546e+18   \n",
       "2021-04-07  4.768300e+06            -6.529999       -2.865408  1.379904e+18   \n",
       "2021-04-08  1.004740e+07            -7.710007       -8.403276  1.380276e+18   \n",
       "2021-04-09  9.462400e+06           -11.899994       -6.682379  1.380633e+18   \n",
       "2021-04-10  1.186947e+07           -13.689997       -8.043139  1.380958e+18   \n",
       "2021-04-11  1.427653e+07           -15.480001       -9.403900  1.381332e+18   \n",
       "2021-04-12  1.668360e+07           -17.270004      -10.764660  1.381724e+18   \n",
       "2021-04-13  6.806900e+06            -0.099991       -0.627290  1.382082e+18   \n",
       "2021-04-14  2.113810e+07            25.539993       15.992192  1.382454e+18   \n",
       "2021-04-15  7.856800e+06           -10.089996       -4.024538  1.382812e+18   \n",
       "2021-04-16  5.214700e+06            -1.750000       -0.839742  1.383180e+18   \n",
       "2021-04-17  6.983200e+06             2.059998       -2.001428  1.383521e+18   \n",
       "2021-04-18  8.751700e+06             5.869995       -3.163115  1.383879e+18   \n",
       "2021-04-19  1.052020e+07             9.679993       -4.324801  1.384267e+18   \n",
       "2021-04-20  4.658600e+06            -5.839996       -3.417814  1.384615e+18   \n",
       "2021-04-21  3.812800e+06            -0.020004        0.069445  1.384979e+18   \n",
       "2021-04-22  4.345800e+06            -7.339996       -4.984291  1.385338e+18   \n",
       "2021-04-23  4.029100e+06             0.009995        1.463082  1.385704e+18   \n",
       "2021-04-24  6.196767e+06             5.923330        4.938385  1.386041e+18   \n",
       "2021-04-25  8.364433e+06            11.836665        8.413688  1.386404e+18   \n",
       "2021-04-26  1.053210e+07            17.750000       11.888990  1.386809e+18   \n",
       "2021-04-27  8.932700e+06             8.840012       -3.149005  1.387154e+18   \n",
       "2021-04-28  5.788900e+06             0.809998        3.765250  1.387516e+18   \n",
       "2021-04-29  3.760300e+06            -2.389999       -0.209558  1.387877e+18   \n",
       "2021-04-30  4.433600e+06            -2.600006       -0.805716  1.388236e+18   \n",
       "2021-05-01  4.709400e+06            -5.530004       -3.408669  1.388579e+18   \n",
       "2021-05-02  4.985200e+06            -8.460002       -6.011622  1.388935e+18   \n",
       "2021-05-03  5.261000e+06           -11.389999       -8.614574  1.389332e+18   \n",
       "2021-05-04  4.007500e+06            -1.470001        1.088048  1.389696e+18   \n",
       "2021-05-05  2.805400e+06            -1.250000       -1.452145  1.390065e+18   \n",
       "2021-05-06  2.942800e+06             1.529999        0.093245  1.390422e+18   \n",
       "\n",
       "            Followers Count  Retweet Count  Likes Count  Reply Count  \\\n",
       "Datetime                                                               \n",
       "2021-04-06     4.606260e+04       1.435742    12.407612     1.309983   \n",
       "2021-04-07     1.749696e+05       3.107615    35.748746     2.208390   \n",
       "2021-04-08     7.986348e+05       3.537443    50.720548     6.566667   \n",
       "2021-04-09     4.094352e+05       4.622445    46.001115     4.793757   \n",
       "2021-04-10     1.707890e+05       2.297376    20.102527     2.086978   \n",
       "2021-04-11     2.284892e+04       3.083829    48.101677     2.062196   \n",
       "2021-04-12     1.014666e+06      16.721827    73.409645     4.025381   \n",
       "2021-04-13     7.249978e+04       4.128680    34.629226     2.191385   \n",
       "2021-04-14     5.534159e+05       5.952555    52.105839     1.906934   \n",
       "2021-04-15     4.628523e+05       1.847230    18.741797     2.192577   \n",
       "2021-04-16     2.132753e+05       4.352089    36.388301     2.617270   \n",
       "2021-04-17     1.329361e+05       4.574057    48.295283     3.734906   \n",
       "2021-04-18     4.157434e+04       2.843089    28.800295     1.549926   \n",
       "2021-04-19     5.600219e+05       8.819593    54.991756     8.664888   \n",
       "2021-04-20     9.252228e+04      12.516358    58.221919     3.346238   \n",
       "2021-04-21     1.146065e+05       4.613595    39.623631     3.266880   \n",
       "2021-04-22     1.720769e+05       4.233212    32.123894     1.989068   \n",
       "2021-04-23     4.571157e+04       3.785115    30.544488     2.177952   \n",
       "2021-04-24     7.516770e+05       3.914742    40.567940     4.153197   \n",
       "2021-04-25     4.039376e+05       5.861146    45.304893     3.070263   \n",
       "2021-04-26     1.714779e+05       3.668058    29.913361     2.236952   \n",
       "2021-04-27     3.221689e+05       4.490613    45.714427     3.156126   \n",
       "2021-04-28     2.007978e+04       1.691594    16.098551     1.200000   \n",
       "2021-04-29     1.295724e+05       5.237897    47.575742     3.051015   \n",
       "2021-04-30     1.274694e+05       1.791908    22.332049     1.615286   \n",
       "2021-05-01     4.997622e+04       3.613436    31.667401     2.216410   \n",
       "2021-05-02     1.709345e+05       5.056021    28.508161     1.696074   \n",
       "2021-05-03     8.000966e+04      16.854787    73.403723     4.542553   \n",
       "2021-05-04     1.111083e+05     127.428880   101.572742     8.641428   \n",
       "2021-05-05     5.722961e+05       4.890063    31.549154     4.308140   \n",
       "2021-05-06     9.547655e+04       2.811893    22.409949     1.798170   \n",
       "\n",
       "            Positive Tweet Score  Neutral Tweet Score  Negative Tweet Score  \\\n",
       "Datetime                                                                      \n",
       "2021-04-06              0.135548             0.792430              0.072039   \n",
       "2021-04-07              0.165514             0.770521              0.063975   \n",
       "2021-04-08              0.173219             0.761284              0.065450   \n",
       "2021-04-09              0.143979             0.771456              0.084568   \n",
       "2021-04-10              0.135708             0.800628              0.063683   \n",
       "2021-04-11              0.160271             0.779225              0.060501   \n",
       "2021-04-12              0.145604             0.782375              0.072025   \n",
       "2021-04-13              0.152661             0.777448              0.069901   \n",
       "2021-04-14              0.163355             0.771861              0.064788   \n",
       "2021-04-15              0.136856             0.784787              0.078388   \n",
       "2021-04-16              0.161041             0.768184              0.070772   \n",
       "2021-04-17              0.158035             0.773922              0.068060   \n",
       "2021-04-18              0.142699             0.786109              0.071199   \n",
       "2021-04-19              0.126561             0.800015              0.073421   \n",
       "2021-04-20              0.139778             0.784210              0.076022   \n",
       "2021-04-21              0.152679             0.786363              0.060969   \n",
       "2021-04-22              0.159474             0.773061              0.067462   \n",
       "2021-04-23              0.162006             0.779434              0.058553   \n",
       "2021-04-24              0.155885             0.782416              0.061699   \n",
       "2021-04-25              0.139577             0.807943              0.052469   \n",
       "2021-04-26              0.157735             0.774627              0.067642   \n",
       "2021-04-27              0.164916             0.760759              0.074333   \n",
       "2021-04-28              0.147379             0.792042              0.060569   \n",
       "2021-04-29              0.155607             0.779777              0.064615   \n",
       "2021-04-30              0.134400             0.778308              0.087300   \n",
       "2021-05-01              0.155880             0.774097              0.070034   \n",
       "2021-05-02              0.156154             0.773100              0.070725   \n",
       "2021-05-03              0.152322             0.792322              0.055353   \n",
       "2021-05-04              0.152882             0.773908              0.073189   \n",
       "2021-05-05              0.151701             0.781043              0.067263   \n",
       "2021-05-06              0.144985             0.775855              0.079130   \n",
       "\n",
       "            Compound Tweet Score  Compound Followers Percent Change Trend  \\\n",
       "Datetime                                                                    \n",
       "2021-04-06              0.249122         7252.298951       Negative_Trend   \n",
       "2021-04-07              0.293148        77247.872900       Negative_Trend   \n",
       "2021-04-08              0.286585       460692.027239       Negative_Trend   \n",
       "2021-04-09              0.166755       104136.467043       Negative_Trend   \n",
       "2021-04-10              0.240049        38576.458571       Negative_Trend   \n",
       "2021-04-11              0.318485         8768.075056       Negative_Trend   \n",
       "2021-04-12              0.209973       126763.857919       Negative_Trend   \n",
       "2021-04-13              0.247932        28645.620404       Negative_Trend   \n",
       "2021-04-14              0.257537       231979.366698       Positive_Trend   \n",
       "2021-04-15              0.156381      -119603.513979       Negative_Trend   \n",
       "2021-04-16              0.275712        24904.761687       Negative_Trend   \n",
       "2021-04-17              0.269819        40540.254603       Negative_Trend   \n",
       "2021-04-18              0.223783         5994.461518       Negative_Trend   \n",
       "2021-04-19              0.187605      -152336.696295       Negative_Trend   \n",
       "2021-04-20              0.226071        15977.452585       Negative_Trend   \n",
       "2021-04-21              0.261916        61923.863002       Positive_Trend   \n",
       "2021-04-22              0.273367       110843.020998       Negative_Trend   \n",
       "2021-04-23              0.338833        34899.259439       Positive_Trend   \n",
       "2021-04-24              0.275385        38426.815083       Positive_Trend   \n",
       "2021-04-25              0.304390       104050.051857       Positive_Trend   \n",
       "2021-04-26              0.259875        98080.215227       Positive_Trend   \n",
       "2021-04-27              0.263164        77885.756117       Negative_Trend   \n",
       "2021-04-28              0.298469         9872.455582       Positive_Trend   \n",
       "2021-04-29              0.253364        67668.720759       Negative_Trend   \n",
       "2021-04-30              0.143363       -23979.338256       Negative_Trend   \n",
       "2021-05-01              0.266293        22766.414299       Negative_Trend   \n",
       "2021-05-02              0.271118        57731.971099       Negative_Trend   \n",
       "2021-05-03              0.248049        34863.439462       Negative_Trend   \n",
       "2021-05-04              0.217368        67029.637682       Positive_Trend   \n",
       "2021-05-05              0.238233       298726.681225       Negative_Trend   \n",
       "2021-05-06              0.183827        43404.830529       Positive_Trend   \n",
       "\n",
       "           Closing Price Trend       PCT Label       CPT Label  \n",
       "Datetime                                                        \n",
       "2021-04-06      Negative_Trend             NaN             NaN  \n",
       "2021-04-07      Negative_Trend  Negative_Trend  Negative_Trend  \n",
       "2021-04-08      Negative_Trend  Positive_Trend  Positive_Trend  \n",
       "2021-04-09      Negative_Trend  Negative_Trend  Negative_Trend  \n",
       "2021-04-10      Negative_Trend  Negative_Trend  Negative_Trend  \n",
       "2021-04-11      Negative_Trend  Negative_Trend  Positive_Trend  \n",
       "2021-04-12      Negative_Trend  Negative_Trend  Positive_Trend  \n",
       "2021-04-13      Negative_Trend  Negative_Trend  Positive_Trend  \n",
       "2021-04-14      Positive_Trend  Negative_Trend  Negative_Trend  \n",
       "2021-04-15      Negative_Trend  Positive_Trend  Negative_Trend  \n",
       "2021-04-16      Negative_Trend  Negative_Trend  Negative_Trend  \n",
       "2021-04-17      Positive_Trend  Positive_Trend  Positive_Trend  \n",
       "2021-04-18      Positive_Trend  Positive_Trend  Positive_Trend  \n",
       "2021-04-19      Positive_Trend  Positive_Trend  Positive_Trend  \n",
       "2021-04-20      Negative_Trend  Positive_Trend  Positive_Trend  \n",
       "2021-04-21      Negative_Trend  Negative_Trend  Positive_Trend  \n",
       "2021-04-22      Negative_Trend  Positive_Trend  Positive_Trend  \n",
       "2021-04-23      Positive_Trend  Negative_Trend  Negative_Trend  \n",
       "2021-04-24      Positive_Trend  Negative_Trend  Negative_Trend  \n",
       "2021-04-25      Positive_Trend  Negative_Trend  Negative_Trend  \n",
       "2021-04-26      Positive_Trend  Negative_Trend  Negative_Trend  \n",
       "2021-04-27      Positive_Trend  Negative_Trend  Negative_Trend  \n",
       "2021-04-28      Positive_Trend  Positive_Trend  Negative_Trend  \n",
       "2021-04-29      Negative_Trend  Negative_Trend  Negative_Trend  \n",
       "2021-04-30      Negative_Trend  Positive_Trend  Positive_Trend  \n",
       "2021-05-01      Negative_Trend  Positive_Trend  Positive_Trend  \n",
       "2021-05-02      Negative_Trend  Negative_Trend  Negative_Trend  \n",
       "2021-05-03      Negative_Trend  Negative_Trend  Negative_Trend  \n",
       "2021-05-04      Negative_Trend  Negative_Trend  Negative_Trend  \n",
       "2021-05-05      Negative_Trend  Positive_Trend  Positive_Trend  \n",
       "2021-05-06      Positive_Trend  Negative_Trend  Negative_Trend  "
      ]
     },
     "execution_count": 275,
     "metadata": {},
     "output_type": "execute_result"
    }
   ],
   "source": [
    "df_merged_gme.loc[\"2021-4-6\":\"2021-5-6\"]"
   ]
  },
  {
   "cell_type": "code",
   "execution_count": 273,
   "id": "53ff7df2",
   "metadata": {
    "ExecuteTime": {
     "end_time": "2022-01-25T20:49:26.014597Z",
     "start_time": "2022-01-25T20:49:25.993673Z"
    },
    "collapsed": true,
    "hidden": true
   },
   "outputs": [
    {
     "data": {
      "text/html": [
       "<div>\n",
       "<style scoped>\n",
       "    .dataframe tbody tr th:only-of-type {\n",
       "        vertical-align: middle;\n",
       "    }\n",
       "\n",
       "    .dataframe tbody tr th {\n",
       "        vertical-align: top;\n",
       "    }\n",
       "\n",
       "    .dataframe thead th {\n",
       "        text-align: right;\n",
       "    }\n",
       "</style>\n",
       "<table border=\"1\" class=\"dataframe\">\n",
       "  <thead>\n",
       "    <tr style=\"text-align: right;\">\n",
       "      <th></th>\n",
       "      <th>Volume</th>\n",
       "      <th>Closing Differences</th>\n",
       "      <th>Percent Change</th>\n",
       "      <th>Tweet Id</th>\n",
       "      <th>Followers Count</th>\n",
       "      <th>Retweet Count</th>\n",
       "      <th>Likes Count</th>\n",
       "      <th>Reply Count</th>\n",
       "      <th>Positive Tweet Score</th>\n",
       "      <th>Neutral Tweet Score</th>\n",
       "      <th>Negative Tweet Score</th>\n",
       "      <th>Compound Tweet Score</th>\n",
       "      <th>Compound Followers</th>\n",
       "      <th>Percent Change Trend</th>\n",
       "      <th>Closing Price Trend</th>\n",
       "      <th>PCT Label</th>\n",
       "      <th>CPT Label</th>\n",
       "    </tr>\n",
       "    <tr>\n",
       "      <th>Datetime</th>\n",
       "      <th></th>\n",
       "      <th></th>\n",
       "      <th></th>\n",
       "      <th></th>\n",
       "      <th></th>\n",
       "      <th></th>\n",
       "      <th></th>\n",
       "      <th></th>\n",
       "      <th></th>\n",
       "      <th></th>\n",
       "      <th></th>\n",
       "      <th></th>\n",
       "      <th></th>\n",
       "      <th></th>\n",
       "      <th></th>\n",
       "      <th></th>\n",
       "      <th></th>\n",
       "    </tr>\n",
       "  </thead>\n",
       "  <tbody>\n",
       "    <tr>\n",
       "      <th>2021-01-01</th>\n",
       "      <td>10022500.0</td>\n",
       "      <td>0.120001</td>\n",
       "      <td>-9.210526</td>\n",
       "      <td>1.344979e+18</td>\n",
       "      <td>62086.130963</td>\n",
       "      <td>0.949696</td>\n",
       "      <td>10.635733</td>\n",
       "      <td>1.125759</td>\n",
       "      <td>0.160056</td>\n",
       "      <td>0.777298</td>\n",
       "      <td>0.062647</td>\n",
       "      <td>0.269853</td>\n",
       "      <td>34364.360617</td>\n",
       "      <td>Negative_Trend</td>\n",
       "      <td>Positive_Trend</td>\n",
       "      <td>Negative_Trend</td>\n",
       "      <td>Positive_Trend</td>\n",
       "    </tr>\n",
       "    <tr>\n",
       "      <th>2021-01-02</th>\n",
       "      <td>10022500.0</td>\n",
       "      <td>0.120001</td>\n",
       "      <td>-9.210526</td>\n",
       "      <td>1.345359e+18</td>\n",
       "      <td>101770.186290</td>\n",
       "      <td>68.192742</td>\n",
       "      <td>57.750000</td>\n",
       "      <td>3.098387</td>\n",
       "      <td>0.161263</td>\n",
       "      <td>0.786141</td>\n",
       "      <td>0.052595</td>\n",
       "      <td>0.327639</td>\n",
       "      <td>44249.406987</td>\n",
       "      <td>Negative_Trend</td>\n",
       "      <td>Positive_Trend</td>\n",
       "      <td>Positive_Trend</td>\n",
       "      <td>Positive_Trend</td>\n",
       "    </tr>\n",
       "    <tr>\n",
       "      <th>2021-01-03</th>\n",
       "      <td>10022500.0</td>\n",
       "      <td>0.120001</td>\n",
       "      <td>-9.210526</td>\n",
       "      <td>1.345734e+18</td>\n",
       "      <td>101301.291471</td>\n",
       "      <td>1.685695</td>\n",
       "      <td>25.027535</td>\n",
       "      <td>2.658831</td>\n",
       "      <td>0.156467</td>\n",
       "      <td>0.778779</td>\n",
       "      <td>0.064760</td>\n",
       "      <td>0.273965</td>\n",
       "      <td>25993.188582</td>\n",
       "      <td>Negative_Trend</td>\n",
       "      <td>Positive_Trend</td>\n",
       "      <td>Positive_Trend</td>\n",
       "      <td>Positive_Trend</td>\n",
       "    </tr>\n",
       "    <tr>\n",
       "      <th>2021-01-04</th>\n",
       "      <td>10022500.0</td>\n",
       "      <td>0.120001</td>\n",
       "      <td>-9.210526</td>\n",
       "      <td>1.346104e+18</td>\n",
       "      <td>93561.129870</td>\n",
       "      <td>1.246163</td>\n",
       "      <td>15.107438</td>\n",
       "      <td>2.065525</td>\n",
       "      <td>0.149979</td>\n",
       "      <td>0.791347</td>\n",
       "      <td>0.058672</td>\n",
       "      <td>0.258476</td>\n",
       "      <td>40531.963996</td>\n",
       "      <td>Negative_Trend</td>\n",
       "      <td>Positive_Trend</td>\n",
       "      <td>Negative_Trend</td>\n",
       "      <td>Negative_Trend</td>\n",
       "    </tr>\n",
       "    <tr>\n",
       "      <th>2021-01-05</th>\n",
       "      <td>4961500.0</td>\n",
       "      <td>0.120001</td>\n",
       "      <td>0.115276</td>\n",
       "      <td>1.346466e+18</td>\n",
       "      <td>29511.414783</td>\n",
       "      <td>0.873913</td>\n",
       "      <td>9.100870</td>\n",
       "      <td>0.984348</td>\n",
       "      <td>0.162212</td>\n",
       "      <td>0.780561</td>\n",
       "      <td>0.057242</td>\n",
       "      <td>0.313195</td>\n",
       "      <td>8266.200468</td>\n",
       "      <td>Positive_Trend</td>\n",
       "      <td>Positive_Trend</td>\n",
       "      <td>Negative_Trend</td>\n",
       "      <td>Negative_Trend</td>\n",
       "    </tr>\n",
       "    <tr>\n",
       "      <th>...</th>\n",
       "      <td>...</td>\n",
       "      <td>...</td>\n",
       "      <td>...</td>\n",
       "      <td>...</td>\n",
       "      <td>...</td>\n",
       "      <td>...</td>\n",
       "      <td>...</td>\n",
       "      <td>...</td>\n",
       "      <td>...</td>\n",
       "      <td>...</td>\n",
       "      <td>...</td>\n",
       "      <td>...</td>\n",
       "      <td>...</td>\n",
       "      <td>...</td>\n",
       "      <td>...</td>\n",
       "      <td>...</td>\n",
       "      <td>...</td>\n",
       "    </tr>\n",
       "    <tr>\n",
       "      <th>2021-04-02</th>\n",
       "      <td>10518350.0</td>\n",
       "      <td>0.097492</td>\n",
       "      <td>1.591023</td>\n",
       "      <td>1.378073e+18</td>\n",
       "      <td>161116.231076</td>\n",
       "      <td>4.191733</td>\n",
       "      <td>34.119522</td>\n",
       "      <td>2.113048</td>\n",
       "      <td>0.144751</td>\n",
       "      <td>0.773458</td>\n",
       "      <td>0.081795</td>\n",
       "      <td>0.252129</td>\n",
       "      <td>71315.322294</td>\n",
       "      <td>Positive_Trend</td>\n",
       "      <td>Positive_Trend</td>\n",
       "      <td>Positive_Trend</td>\n",
       "      <td>Negative_Trend</td>\n",
       "    </tr>\n",
       "    <tr>\n",
       "      <th>2021-04-03</th>\n",
       "      <td>11702400.0</td>\n",
       "      <td>-1.435005</td>\n",
       "      <td>4.169843</td>\n",
       "      <td>1.378430e+18</td>\n",
       "      <td>45834.822128</td>\n",
       "      <td>2.941239</td>\n",
       "      <td>24.801482</td>\n",
       "      <td>2.030704</td>\n",
       "      <td>0.157101</td>\n",
       "      <td>0.771647</td>\n",
       "      <td>0.071274</td>\n",
       "      <td>0.317955</td>\n",
       "      <td>25936.872098</td>\n",
       "      <td>Positive_Trend</td>\n",
       "      <td>Negative_Trend</td>\n",
       "      <td>Negative_Trend</td>\n",
       "      <td>Negative_Trend</td>\n",
       "    </tr>\n",
       "    <tr>\n",
       "      <th>2021-04-04</th>\n",
       "      <td>12886450.0</td>\n",
       "      <td>-2.967503</td>\n",
       "      <td>6.748664</td>\n",
       "      <td>1.378781e+18</td>\n",
       "      <td>72166.222334</td>\n",
       "      <td>1.385815</td>\n",
       "      <td>13.961268</td>\n",
       "      <td>1.127767</td>\n",
       "      <td>0.152070</td>\n",
       "      <td>0.776227</td>\n",
       "      <td>0.071702</td>\n",
       "      <td>0.277361</td>\n",
       "      <td>25383.782364</td>\n",
       "      <td>Positive_Trend</td>\n",
       "      <td>Negative_Trend</td>\n",
       "      <td>NaN</td>\n",
       "      <td>NaN</td>\n",
       "    </tr>\n",
       "    <tr>\n",
       "      <th>2021-04-05</th>\n",
       "      <td>14070500.0</td>\n",
       "      <td>-4.500000</td>\n",
       "      <td>9.327484</td>\n",
       "      <td>1.379183e+18</td>\n",
       "      <td>973148.037682</td>\n",
       "      <td>2.486629</td>\n",
       "      <td>26.314019</td>\n",
       "      <td>2.820502</td>\n",
       "      <td>0.160708</td>\n",
       "      <td>0.784462</td>\n",
       "      <td>0.054829</td>\n",
       "      <td>0.307028</td>\n",
       "      <td>475982.215018</td>\n",
       "      <td>Positive_Trend</td>\n",
       "      <td>Negative_Trend</td>\n",
       "      <td>NaN</td>\n",
       "      <td>NaN</td>\n",
       "    </tr>\n",
       "    <tr>\n",
       "      <th>2021-04-06</th>\n",
       "      <td>6218300.0</td>\n",
       "      <td>-2.449997</td>\n",
       "      <td>-0.383352</td>\n",
       "      <td>1.379546e+18</td>\n",
       "      <td>46062.599559</td>\n",
       "      <td>1.435742</td>\n",
       "      <td>12.407612</td>\n",
       "      <td>1.309983</td>\n",
       "      <td>0.135548</td>\n",
       "      <td>0.792430</td>\n",
       "      <td>0.072039</td>\n",
       "      <td>0.249122</td>\n",
       "      <td>7252.298951</td>\n",
       "      <td>Negative_Trend</td>\n",
       "      <td>Negative_Trend</td>\n",
       "      <td>NaN</td>\n",
       "      <td>NaN</td>\n",
       "    </tr>\n",
       "  </tbody>\n",
       "</table>\n",
       "<p>96 rows × 17 columns</p>\n",
       "</div>"
      ],
      "text/plain": [
       "                Volume  Closing Differences  Percent Change      Tweet Id  \\\n",
       "Datetime                                                                    \n",
       "2021-01-01  10022500.0             0.120001       -9.210526  1.344979e+18   \n",
       "2021-01-02  10022500.0             0.120001       -9.210526  1.345359e+18   \n",
       "2021-01-03  10022500.0             0.120001       -9.210526  1.345734e+18   \n",
       "2021-01-04  10022500.0             0.120001       -9.210526  1.346104e+18   \n",
       "2021-01-05   4961500.0             0.120001        0.115276  1.346466e+18   \n",
       "...                ...                  ...             ...           ...   \n",
       "2021-04-02  10518350.0             0.097492        1.591023  1.378073e+18   \n",
       "2021-04-03  11702400.0            -1.435005        4.169843  1.378430e+18   \n",
       "2021-04-04  12886450.0            -2.967503        6.748664  1.378781e+18   \n",
       "2021-04-05  14070500.0            -4.500000        9.327484  1.379183e+18   \n",
       "2021-04-06   6218300.0            -2.449997       -0.383352  1.379546e+18   \n",
       "\n",
       "            Followers Count  Retweet Count  Likes Count  Reply Count  \\\n",
       "Datetime                                                               \n",
       "2021-01-01     62086.130963       0.949696    10.635733     1.125759   \n",
       "2021-01-02    101770.186290      68.192742    57.750000     3.098387   \n",
       "2021-01-03    101301.291471       1.685695    25.027535     2.658831   \n",
       "2021-01-04     93561.129870       1.246163    15.107438     2.065525   \n",
       "2021-01-05     29511.414783       0.873913     9.100870     0.984348   \n",
       "...                     ...            ...          ...          ...   \n",
       "2021-04-02    161116.231076       4.191733    34.119522     2.113048   \n",
       "2021-04-03     45834.822128       2.941239    24.801482     2.030704   \n",
       "2021-04-04     72166.222334       1.385815    13.961268     1.127767   \n",
       "2021-04-05    973148.037682       2.486629    26.314019     2.820502   \n",
       "2021-04-06     46062.599559       1.435742    12.407612     1.309983   \n",
       "\n",
       "            Positive Tweet Score  Neutral Tweet Score  Negative Tweet Score  \\\n",
       "Datetime                                                                      \n",
       "2021-01-01              0.160056             0.777298              0.062647   \n",
       "2021-01-02              0.161263             0.786141              0.052595   \n",
       "2021-01-03              0.156467             0.778779              0.064760   \n",
       "2021-01-04              0.149979             0.791347              0.058672   \n",
       "2021-01-05              0.162212             0.780561              0.057242   \n",
       "...                          ...                  ...                   ...   \n",
       "2021-04-02              0.144751             0.773458              0.081795   \n",
       "2021-04-03              0.157101             0.771647              0.071274   \n",
       "2021-04-04              0.152070             0.776227              0.071702   \n",
       "2021-04-05              0.160708             0.784462              0.054829   \n",
       "2021-04-06              0.135548             0.792430              0.072039   \n",
       "\n",
       "            Compound Tweet Score  Compound Followers Percent Change Trend  \\\n",
       "Datetime                                                                    \n",
       "2021-01-01              0.269853        34364.360617       Negative_Trend   \n",
       "2021-01-02              0.327639        44249.406987       Negative_Trend   \n",
       "2021-01-03              0.273965        25993.188582       Negative_Trend   \n",
       "2021-01-04              0.258476        40531.963996       Negative_Trend   \n",
       "2021-01-05              0.313195         8266.200468       Positive_Trend   \n",
       "...                          ...                 ...                  ...   \n",
       "2021-04-02              0.252129        71315.322294       Positive_Trend   \n",
       "2021-04-03              0.317955        25936.872098       Positive_Trend   \n",
       "2021-04-04              0.277361        25383.782364       Positive_Trend   \n",
       "2021-04-05              0.307028       475982.215018       Positive_Trend   \n",
       "2021-04-06              0.249122         7252.298951       Negative_Trend   \n",
       "\n",
       "           Closing Price Trend       PCT Label       CPT Label  \n",
       "Datetime                                                        \n",
       "2021-01-01      Positive_Trend  Negative_Trend  Positive_Trend  \n",
       "2021-01-02      Positive_Trend  Positive_Trend  Positive_Trend  \n",
       "2021-01-03      Positive_Trend  Positive_Trend  Positive_Trend  \n",
       "2021-01-04      Positive_Trend  Negative_Trend  Negative_Trend  \n",
       "2021-01-05      Positive_Trend  Negative_Trend  Negative_Trend  \n",
       "...                        ...             ...             ...  \n",
       "2021-04-02      Positive_Trend  Positive_Trend  Negative_Trend  \n",
       "2021-04-03      Negative_Trend  Negative_Trend  Negative_Trend  \n",
       "2021-04-04      Negative_Trend             NaN             NaN  \n",
       "2021-04-05      Negative_Trend             NaN             NaN  \n",
       "2021-04-06      Negative_Trend             NaN             NaN  \n",
       "\n",
       "[96 rows x 17 columns]"
      ]
     },
     "execution_count": 273,
     "metadata": {},
     "output_type": "execute_result"
    }
   ],
   "source": [
    "df"
   ]
  },
  {
   "cell_type": "code",
   "execution_count": 300,
   "id": "9b29a137",
   "metadata": {
    "ExecuteTime": {
     "end_time": "2022-01-25T21:07:22.350297Z",
     "start_time": "2022-01-25T21:07:22.328327Z"
    },
    "hidden": true
   },
   "outputs": [
    {
     "data": {
      "text/plain": [
       "array([[0.79, 0.21],\n",
       "       [0.28, 0.72],\n",
       "       [0.31, 0.69],\n",
       "       [0.63, 0.37],\n",
       "       [0.49, 0.51],\n",
       "       [0.56, 0.44],\n",
       "       [0.48, 0.52],\n",
       "       [0.41, 0.59],\n",
       "       [0.45, 0.55],\n",
       "       [0.68, 0.32],\n",
       "       [0.4 , 0.6 ],\n",
       "       [0.49, 0.51],\n",
       "       [0.7 , 0.3 ],\n",
       "       [0.54, 0.46],\n",
       "       [0.62, 0.38],\n",
       "       [0.35, 0.65],\n",
       "       [0.28, 0.72],\n",
       "       [0.38, 0.62],\n",
       "       [0.31, 0.69],\n",
       "       [0.43, 0.57],\n",
       "       [0.18, 0.82],\n",
       "       [0.38, 0.62],\n",
       "       [0.64, 0.36],\n",
       "       [0.31, 0.69],\n",
       "       [0.69, 0.31],\n",
       "       [0.55, 0.45],\n",
       "       [0.38, 0.62],\n",
       "       [0.44, 0.56],\n",
       "       [0.41, 0.59],\n",
       "       [0.29, 0.71],\n",
       "       [0.58, 0.42]])"
      ]
     },
     "execution_count": 300,
     "metadata": {},
     "output_type": "execute_result"
    }
   ],
   "source": [
    "pipe_rfc_fit.predict_proba(df_merged_gme.loc[\"2021-4-6\":\"2021-5-6\"])"
   ]
  },
  {
   "cell_type": "code",
   "execution_count": 301,
   "id": "2b87a9e6",
   "metadata": {
    "ExecuteTime": {
     "end_time": "2022-01-25T21:07:36.417363Z",
     "start_time": "2022-01-25T21:07:36.404380Z"
    },
    "hidden": true
   },
   "outputs": [
    {
     "data": {
      "text/plain": [
       "Datetime\n",
       "2021-04-06    Negative_Trend\n",
       "2021-04-07    Negative_Trend\n",
       "2021-04-08    Negative_Trend\n",
       "2021-04-09    Negative_Trend\n",
       "2021-04-10    Negative_Trend\n",
       "2021-04-11    Negative_Trend\n",
       "2021-04-12    Positive_Trend\n",
       "2021-04-13    Negative_Trend\n",
       "2021-04-14    Positive_Trend\n",
       "2021-04-15    Positive_Trend\n",
       "2021-04-16    Positive_Trend\n",
       "2021-04-17    Positive_Trend\n",
       "2021-04-18    Negative_Trend\n",
       "2021-04-19    Positive_Trend\n",
       "2021-04-20    Negative_Trend\n",
       "2021-04-21    Negative_Trend\n",
       "2021-04-22    Negative_Trend\n",
       "2021-04-23    Negative_Trend\n",
       "2021-04-24    Negative_Trend\n",
       "2021-04-25    Positive_Trend\n",
       "2021-04-26    Negative_Trend\n",
       "2021-04-27    Positive_Trend\n",
       "2021-04-28    Positive_Trend\n",
       "2021-04-29    Negative_Trend\n",
       "2021-04-30    Negative_Trend\n",
       "2021-05-01    Negative_Trend\n",
       "2021-05-02    Positive_Trend\n",
       "2021-05-03    Negative_Trend\n",
       "2021-05-04    Positive_Trend\n",
       "2021-05-05    Negative_Trend\n",
       "2021-05-06    Positive_Trend\n",
       "Name: PCT Label, dtype: object"
      ]
     },
     "execution_count": 301,
     "metadata": {},
     "output_type": "execute_result"
    }
   ],
   "source": [
    "y_testo"
   ]
  },
  {
   "cell_type": "code",
   "execution_count": 302,
   "id": "b17b0e17",
   "metadata": {
    "ExecuteTime": {
     "end_time": "2022-01-25T21:08:49.730699Z",
     "start_time": "2022-01-25T21:08:49.715741Z"
    },
    "hidden": true
   },
   "outputs": [],
   "source": [
    "from sklearn.metrics import confusion_matrix"
   ]
  },
  {
   "cell_type": "code",
   "execution_count": 303,
   "id": "f243a365",
   "metadata": {
    "ExecuteTime": {
     "end_time": "2022-01-25T21:09:37.980009Z",
     "start_time": "2022-01-25T21:09:37.956073Z"
    },
    "hidden": true
   },
   "outputs": [
    {
     "data": {
      "text/plain": [
       "array([[ 7, 12],\n",
       "       [ 4,  8]], dtype=int64)"
      ]
     },
     "execution_count": 303,
     "metadata": {},
     "output_type": "execute_result"
    }
   ],
   "source": [
    "confusion_matrix(y_true=y_testo, y_pred=pipe_rfc_fit.predict(df_merged_gme.loc[\"2021-4-6\":\"2021-5-6\"]))"
   ]
  },
  {
   "cell_type": "code",
   "execution_count": 298,
   "id": "88ca41eb",
   "metadata": {
    "ExecuteTime": {
     "end_time": "2022-01-25T21:02:54.462352Z",
     "start_time": "2022-01-25T21:02:54.431430Z"
    },
    "hidden": true
   },
   "outputs": [
    {
     "data": {
      "text/plain": [
       "{'accuracy': 0.4839,\n",
       " 'precision': 0.4,\n",
       " 'recall': 0.6667,\n",
       " 'area under precision-recall curve': 0.3088,\n",
       " 'f1 score': 0.5}"
      ]
     },
     "execution_count": 298,
     "metadata": {},
     "output_type": "execute_result"
    }
   ],
   "source": [
    "# Shift of -3 REAL\n",
    "model_evaluation(pipe_rfc_fit, X_testo, y_testo, positive_label='Positive_Trend')"
   ]
  },
  {
   "cell_type": "code",
   "execution_count": 276,
   "id": "59088fd6",
   "metadata": {
    "ExecuteTime": {
     "end_time": "2022-01-25T20:51:26.759406Z",
     "start_time": "2022-01-25T20:51:26.716147Z"
    },
    "hidden": true
   },
   "outputs": [
    {
     "data": {
      "text/plain": [
       "{'accuracy': 0.7222,\n",
       " 'precision': 0.6667,\n",
       " 'recall': 0.3333,\n",
       " 'area under precision-recall curve': 0.6039,\n",
       " 'f1 score': 0.4444}"
      ]
     },
     "execution_count": 276,
     "metadata": {},
     "output_type": "execute_result"
    }
   ],
   "source": [
    "# Shift of -3\n",
    "model_evaluation(pipe_rfc_fit, df_merged_gme.loc[\"2021-4-6\":\"2021-5-6\"], df_merged_gme.loc[\"2021-4-6\":\"2021-5-6\"][, positive_label='Positive_Trend')"
   ]
  },
  {
   "cell_type": "code",
   "execution_count": 151,
   "id": "0dd2b985",
   "metadata": {
    "ExecuteTime": {
     "end_time": "2022-01-25T19:19:12.780672Z",
     "start_time": "2022-01-25T19:19:12.645612Z"
    },
    "hidden": true
   },
   "outputs": [
    {
     "data": {
      "image/png": "[encoded data removed]",
      "text/plain": [
       "<Figure size 432x288 with 1 Axes>"
      ]
     },
     "metadata": {},
     "output_type": "display_data"
    }
   ],
   "source": [
    "PrecisionRecallDisplay.from_estimator(pipe_rfc_fit, X_test, y_test)\n",
    "\n",
    "plt.xlabel('Recall')\n",
    "plt.ylabel('Precision')\n",
    "plt.title('Precision/Recall Curve');"
   ]
  },
  {
   "cell_type": "markdown",
   "id": "1a7cbb2d",
   "metadata": {},
   "source": [
    "#### Logistic Regression (Baseline)"
   ]
  },
  {
   "cell_type": "code",
   "execution_count": 337,
   "id": "50802564",
   "metadata": {
    "ExecuteTime": {
     "end_time": "2022-01-25T21:42:21.058335Z",
     "start_time": "2022-01-25T21:42:21.048361Z"
    }
   },
   "outputs": [],
   "source": [
    "transformer_logit = ColumnTransformer([\n",
    "    ('scaler', StandardScaler(), ['Followers Count', 'Retweet Count', 'Likes Count', 'Reply Count',\n",
    "                                  'Positive Tweet Score', 'Negative Tweet Score', 'Neutral Tweet Score',\n",
    "                                  'Compound Followers', 'Volume'])\n",
    "])"
   ]
  },
  {
   "cell_type": "code",
   "execution_count": 338,
   "id": "e6982a10",
   "metadata": {
    "ExecuteTime": {
     "end_time": "2022-01-25T21:42:33.635484Z",
     "start_time": "2022-01-25T21:42:33.627505Z"
    }
   },
   "outputs": [],
   "source": [
    "pipe_logit = Pipeline([\n",
    "    ('ohe', transformer_logit),\n",
    "    ('logit', LogisticRegression())\n",
    "])"
   ]
  },
  {
   "cell_type": "code",
   "execution_count": 340,
   "id": "01c2551d",
   "metadata": {
    "ExecuteTime": {
     "end_time": "2022-01-25T21:42:41.918332Z",
     "start_time": "2022-01-25T21:42:41.903375Z"
    }
   },
   "outputs": [
    {
     "data": {
      "text/plain": [
       "Datetime\n",
       "2021-01-01    Negative_Trend\n",
       "2021-01-02    Positive_Trend\n",
       "2021-01-03    Positive_Trend\n",
       "2021-01-04    Negative_Trend\n",
       "2021-01-05    Negative_Trend\n",
       "                   ...      \n",
       "2021-03-30    Positive_Trend\n",
       "2021-03-31    Positive_Trend\n",
       "2021-04-01    Positive_Trend\n",
       "2021-04-02    Positive_Trend\n",
       "2021-04-03    Negative_Trend\n",
       "Name: PCT Label, Length: 93, dtype: object"
      ]
     },
     "execution_count": 340,
     "metadata": {},
     "output_type": "execute_result"
    }
   ],
   "source": [
    "y"
   ]
  },
  {
   "cell_type": "code",
   "execution_count": 343,
   "id": "5d8468a3",
   "metadata": {
    "ExecuteTime": {
     "end_time": "2022-01-25T21:43:03.065655Z",
     "start_time": "2022-01-25T21:43:03.042686Z"
    }
   },
   "outputs": [],
   "source": [
    "pipe_logit_fit = pipe_logit.fit(X.dropna(), y)"
   ]
  },
  {
   "cell_type": "code",
   "execution_count": 344,
   "id": "8e18a5e4",
   "metadata": {
    "ExecuteTime": {
     "end_time": "2022-01-25T21:43:13.947293Z",
     "start_time": "2022-01-25T21:43:13.933332Z"
    }
   },
   "outputs": [
    {
     "data": {
      "text/plain": [
       "{'accuracy': 0.4194,\n",
       " 'precision': 0.3125,\n",
       " 'recall': 0.4167,\n",
       " 'area under precision-recall curve': 0.371,\n",
       " 'f1 score': 0.3571}"
      ]
     },
     "execution_count": 344,
     "metadata": {},
     "output_type": "execute_result"
    }
   ],
   "source": [
    "model_evaluation(pipe_logit, X_testo, y_testo, positive_label='Positive_Trend')"
   ]
  },
  {
   "cell_type": "code",
   "execution_count": 345,
   "id": "2d8d7af8",
   "metadata": {
    "ExecuteTime": {
     "end_time": "2022-01-25T21:43:18.716666Z",
     "start_time": "2022-01-25T21:43:18.695721Z"
    }
   },
   "outputs": [
    {
     "data": {
      "text/plain": [
       "array([[0.38150739, 0.61849261],\n",
       "       [0.84071646, 0.15928354],\n",
       "       [0.47308669, 0.52691331],\n",
       "       [0.59166055, 0.40833945],\n",
       "       [0.4394202 , 0.5605798 ],\n",
       "       [0.90766538, 0.09233462],\n",
       "       [0.38408909, 0.61591091],\n",
       "       [0.58019247, 0.41980753],\n",
       "       [0.57084401, 0.42915599],\n",
       "       [0.51744713, 0.48255287],\n",
       "       [0.70100076, 0.29899924],\n",
       "       [0.84054068, 0.15945932],\n",
       "       [0.54794139, 0.45205861],\n",
       "       [0.52383588, 0.47616412],\n",
       "       [0.54014473, 0.45985527],\n",
       "       [0.39809021, 0.60190979],\n",
       "       [0.16523788, 0.83476212],\n",
       "       [0.83071609, 0.16928391]])"
      ]
     },
     "execution_count": 345,
     "metadata": {},
     "output_type": "execute_result"
    }
   ],
   "source": [
    "pipe_logit_fit.predict_proba(X_test)"
   ]
  },
  {
   "cell_type": "code",
   "execution_count": null,
   "id": "b1afe10b",
   "metadata": {},
   "outputs": [],
   "source": []
  }
 ],
 "metadata": {
  "kernelspec": {
   "display_name": "capstone_kernel",
   "language": "python",
   "name": "capstone_kernel"
  },
  "language_info": {
   "codemirror_mode": {
    "name": "ipython",
    "version": 3
   },
   "file_extension": ".py",
   "mimetype": "text/x-python",
   "name": "python",
   "nbconvert_exporter": "python",
   "pygments_lexer": "ipython3",
   "version": "3.9.7"
  },
  "varInspector": {
   "cols": {
    "lenName": 16,
    "lenType": 16,
    "lenVar": 40
   },
   "kernels_config": {
    "python": {
     "delete_cmd_postfix": "",
     "delete_cmd_prefix": "del ",
     "library": "var_list.py",
     "varRefreshCmd": "print(var_dic_list())"
    },
    "r": {
     "delete_cmd_postfix": ") ",
     "delete_cmd_prefix": "rm(",
     "library": "var_list.r",
     "varRefreshCmd": "cat(var_dic_list()) "
    }
   },
   "types_to_exclude": [
    "module",
    "function",
    "builtin_function_or_method",
    "instance",
    "_Feature"
   ],
   "window_display": false
  }
 },
 "nbformat": 4,
 "nbformat_minor": 5
}
